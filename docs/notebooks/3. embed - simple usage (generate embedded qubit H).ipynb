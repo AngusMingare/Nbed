{
 "cells": [
  {
   "cell_type": "markdown",
   "metadata": {},
   "source": [
    "# Simple Usagen\n",
    "\n",
    "The main functionality is accessible through `nbed.nbed()`.\n",
    "\n",
    "This function outputs a hamiltonian in one of several formats, controlled by the function argument `output` with possible options being: \"openfermion\", \"qiskit\" or \"pennylane\"."
   ]
  },
  {
   "cell_type": "code",
   "execution_count": 1,
   "metadata": {},
   "outputs": [],
   "source": [
    "from nbed import nbed\n",
    "\n",
    "\n",
    "water_xyz = \"\"\"3\n",
    "\n",
    "H\\t0.7493682\\t0.0\\t0.4424329\n",
    "O\\t0.0\\t0.0\\t-0.1653507\n",
    "H\\t-0.7493682\\t0.0\\t0.4424329\n",
    "#     \"\"\"\n",
    "\n",
    "\n",
    "methane = \"\"\"5\n",
    "\n",
    "C\\t0.0\\t0.0\\t0.0\n",
    "H\\t0.5288\\t0.1610\\t0.9359\n",
    "H\\t0.2051\\t0.8240\\t-0.6786\n",
    "H\\t0.3345\\t-0.9314\\t-0.4496\n",
    "H\\t-1.0685\\t-0.0537\\t0.1921\n",
    "#     \"\"\"\n",
    "\n",
    "geometry = methane"
   ]
  },
  {
   "cell_type": "markdown",
   "metadata": {},
   "source": [
    "## Huzinaga Embedding"
   ]
  },
  {
   "cell_type": "code",
   "execution_count": 3,
   "metadata": {},
   "outputs": [
    {
     "name": "stdout",
     "output_type": "stream",
     "text": [
      " Iterative localization: IB/P4/2x2, 6 iter; Final gradient 5.56e-10\n",
      "********************************************************************************\n",
      "                         Summary of Embedded Calculation                        \n",
      "********************************************************************************\n",
      "global (cheap) DFT calculation -40.03862884062185\n",
      "********************************************************************************\n",
      "  Huzinaga calculation\n",
      "Total energy - active system at RHF level: -39.95101466810585\n",
      "length of huzinaga embedded fermionic Hamiltonian: 1815\n",
      "number of qubits required: 12\n",
      "********************************************************************************\n",
      "                         Summary of reference Calculation                       \n",
      "********************************************************************************\n",
      "length of full system fermionic Hamiltonian: 9028\n",
      "number of qubits required: 18\n"
     ]
    }
   ],
   "source": [
    "n_active_atoms = 2\n",
    "basis = \"STO-3G\"\n",
    "xc_functional = \"B3LYP\"  # 'lda, vwn' #'B3LYP'\n",
    "convergence = 1e-10\n",
    "charge = 0\n",
    "mu_level_shift = 1e6\n",
    "run_ccsd = True\n",
    "run_fci = True\n",
    "max_ram = 8_000\n",
    "output = \"qiskit\"  # \"openfermion\", \"qiskit\", \"pennylane\"\n",
    "loc_method = \"ibo\"  # \"spade\" #\"pipekmezey\" \"ibo\" \"boys\"\n",
    "transform = \"jordan_wigner\"\n",
    "projector = \"huzinaga\"  # \"huzinaga\",\"mu\",\n",
    "\n",
    "embedded_H = nbed(\n",
    "    geometry,\n",
    "    n_active_atoms,\n",
    "    basis,\n",
    "    xc_functional,\n",
    "    projector,\n",
    "    output,\n",
    "    transform,\n",
    "    qubits=None,\n",
    "    localization=loc_method,\n",
    "    convergence=convergence,\n",
    "    charge=0,\n",
    "    mu_level_shift=1e6,\n",
    "    run_ccsd_emb=False,\n",
    "    run_fci_emb=False,\n",
    "    max_ram_memory=max_ram,\n",
    "    pyscf_print_level=1,\n",
    "    savefile=None,\n",
    "    unit=\"angstrom\",\n",
    "    occupied_threshold=0.95,\n",
    "    virtual_threshold=0.95,\n",
    "    max_hf_cycles=50,\n",
    "    max_dft_cycles=50,\n",
    ")"
   ]
  },
  {
   "cell_type": "markdown",
   "metadata": {},
   "source": [
    "## Unrestricted Huzinaga Embedding\n",
    "\n",
    "In the example below we enforce the use of unrestricted SCF methods."
   ]
  },
  {
   "cell_type": "code",
   "execution_count": 6,
   "metadata": {},
   "outputs": [
    {
     "name": "stdout",
     "output_type": "stream",
     "text": [
      " Iterative localization: IB/P4/2x2, 6 iter; Final gradient 5.56e-10\n",
      " Iterative localization: IB/P4/2x2, 6 iter; Final gradient 5.56e-10\n",
      "********************************************************************************\n",
      "                         Summary of Embedded Calculation                        \n",
      "********************************************************************************\n",
      "global (cheap) DFT calculation -40.038628840672814\n",
      "********************************************************************************\n",
      "  Huzinaga calculation\n",
      "Total energy - active system at RHF level: -39.95101466812913\n",
      "length of huzinaga embedded fermionic Hamiltonian: 1815\n",
      "number of qubits required: 12\n",
      "********************************************************************************\n",
      "                         Summary of reference Calculation                       \n",
      "********************************************************************************\n",
      "length of full system fermionic Hamiltonian: 9012\n",
      "number of qubits required: 18\n"
     ]
    }
   ],
   "source": [
    "n_active_atoms = 2\n",
    "basis = \"STO-3G\"\n",
    "xc_functional = \"B3LYP\"  # 'lda, vwn' #'B3LYP'\n",
    "convergence = 1e-10\n",
    "charge = 0\n",
    "mu_level_shift = 1e6\n",
    "run_ccsd = True\n",
    "run_fci = True\n",
    "max_ram = 8_000\n",
    "output = \"qiskit\"  # \"openfermion\", \"qiskit\", \"pennylane\"\n",
    "\n",
    "loc_method = \"ibo\"  # \"spade\" #\"pipekmezey\" \"ibo\" \"boys\"\n",
    "transform = \"jordan_wigner\"\n",
    "\n",
    "projector = \"huzinaga\"  # \"huzinaga\",\"mu\",\n",
    "\n",
    "embedded_H = nbed(\n",
    "    geometry,\n",
    "    n_active_atoms,\n",
    "    basis,\n",
    "    xc_functional,\n",
    "    projector,\n",
    "    output,\n",
    "    transform,\n",
    "    qubits=None,\n",
    "    localization=loc_method,\n",
    "    convergence=convergence,\n",
    "    charge=0,\n",
    "    mu_level_shift=1e6,\n",
    "    run_ccsd_emb=False,\n",
    "    run_fci_emb=False,\n",
    "    max_ram_memory=max_ram,\n",
    "    pyscf_print_level=1,\n",
    "    savefile=None,\n",
    "    unit=\"angstrom\",\n",
    "    occupied_threshold=0.95,\n",
    "    virtual_threshold=0.95,\n",
    "    max_hf_cycles=50,\n",
    "    max_dft_cycles=50,\n",
    "    unrestricted=True,\n",
    ")"
   ]
  }
 ],
 "metadata": {
  "interpreter": {
   "hash": "fe514aa320be100644bbd958a3f38aa9f15de9075cf36cc4d239ea0f19dcd868"
  },
  "kernelspec": {
   "display_name": "Python 3 (ipykernel)",
   "language": "python",
   "name": "python3"
  },
  "language_info": {
   "codemirror_mode": {
    "name": "ipython",
    "version": 3
   },
   "file_extension": ".py",
   "mimetype": "text/x-python",
   "name": "python",
   "nbconvert_exporter": "python",
   "pygments_lexer": "ipython3",
   "version": "3.8.10"
  }
 },
 "nbformat": 4,
 "nbformat_minor": 4
}
