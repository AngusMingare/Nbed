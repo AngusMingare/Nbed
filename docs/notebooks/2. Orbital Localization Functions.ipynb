{
 "cells": [
  {
   "cell_type": "code",
   "execution_count": 1,
   "metadata": {},
   "outputs": [],
   "source": [
    "import numpy as np\n",
    "import os"
   ]
  },
  {
   "cell_type": "markdown",
   "metadata": {},
   "source": [
    "# Background\n",
    "\n",
    "The overlap matrix is:\n",
    "\n",
    "$$S_{\\mu \\nu} =  \\int d\\vec{r}_{1} \\phi_{\\mu}(1)^{*}\\phi_{\\nu}(1)$$\n",
    "\n",
    "- $\\phi_{\\mu}$ are basis functions (defined in basis set)\n",
    "\n",
    "\n",
    "The unknown molecular orbitals $\\psi_{i}$ are expanded as a linear expansion of the $K$ known basis functions $\\{ \\phi_{i} | i=1,2,..., K \\}$:\n",
    "\n",
    "$$ \\psi_{i} =  \\sum_{\\mu=1}^{K} C_{\\mu i} \\phi_{\\mu}$$\n",
    "\n",
    "\n",
    "$C$ is a $K \\times K$ matrix of expansion coefficients $C_{\\mu i}$. The columns of $C$ describe the molecular orbitals!\n",
    "\n",
    "\n",
    "We can find the total number of electrons $N$ in the system by:\n",
    "\n",
    "$$ N =  2 \\sum_{a}^{N/2}\\int d\\vec{r}  \\bigg( \\psi_{a}(\\vec{r})^{*} \\psi_{i}(\\vec{r}) \\bigg) =  2 \\sum_{a}^{N/2} 1$$\n",
    "\n",
    "- integral gives probablity of finding electron $a$ over all space (must be 1)\n",
    "- summing over all electrons will give the total number of electrons"
   ]
  },
  {
   "cell_type": "markdown",
   "metadata": {},
   "source": [
    "The charge density has the following definition:\n",
    "\n",
    "$$\\rho(\\vec{r}) = 2 \\sum_{a}^{N/2} \\bigg( \\psi_{a}(\\vec{r})^{*} \\psi_{i}(\\vec{r}) \\bigg)$$\n",
    "\n",
    "- re-write using definition of $\\psi_{i}=  \\sum_{\\mu=1}^{K} C_{\\mu i} \\phi_{\\mu}$\n",
    "\n",
    "$$\\rho(\\vec{r}) = 2 \\sum_{a}^{N/2} \\Bigg( \\bigg[ \\sum_{\\nu}^{K} C_{\\nu a}^{*} \\phi_{\\nu}(\\vec{r})^{*} \\bigg] \\bigg[ \\sum_{\\mu}^{K} C_{\\mu a}\\phi_{\\mu}(\\vec{r}) \\bigg] \\Bigg)$$\n",
    "\n",
    "- move things around\n",
    "\n",
    "$$\\rho(\\vec{r}) = \\sum_{\\nu}^{K} \\sum_{\\mu}^{K} \\Big( 2 \\sum_{a}^{N/2} C_{\\mu a} C_{\\nu a}^{*} \\Big) \\phi_{\\mu}(\\vec{r}) \\phi_{\\nu}(\\vec{r})^{*} $$\n",
    "\n",
    "- which is \n",
    "\n",
    "$$\\rho(\\vec{r}) = \\sum_{\\mu, \\nu}^{K} P_{\\mu \\nu} \\phi_{\\mu}(\\vec{r}) \\phi_{\\nu}(\\vec{r})^{*} $$\n",
    "\n",
    "\n",
    "- $P_{\\mu \\nu}$ is known as the density matrix and is:\n",
    "\n",
    "$$P_{\\mu \\nu} = 2 \\sum_{a}^{N/2} C_{\\mu a} C_{\\nu a}^{*}$$"
   ]
  },
  {
   "cell_type": "markdown",
   "metadata": {},
   "source": [
    "Therefore we can also find the total number of electrons in the system by:\n",
    "\n",
    "$$ N =  2 \\sum_{a}^{N/2}\\int d\\vec{r}  \\bigg( \\psi_{a}(\\vec{r})^{*} \\psi_{i}(\\vec{r}) \\bigg) =  \\sum_{\\nu}^{K} \\sum_{\\mu}^{K} \\Big( 2 \\sum_{a}^{N/2} C_{\\mu a} C_{\\nu a}^{*} \\Big) \\int d\\vec{r} \\phi_{\\mu}(\\vec{r})  \\phi_{\\nu}(\\vec{r})^{*}$$\n",
    "\n",
    "- This is simply:\n",
    "\n",
    "$$N =  \\sum_{\\nu}^{K} \\sum_{\\mu}^{K} P_{\\mu \\nu} S_{\\nu \\mu}= \\sum_{\\mu}^{K} PS_{\\mu \\mu} = \\mathcal{Tr}(PS)$$"
   ]
  },
  {
   "cell_type": "markdown",
   "metadata": {},
   "source": [
    "- One can interpret $ PS_{\\mu \\mu}$ in the above equation as the number of electrons associated with $ \\phi_{\\mu}$\n",
    "- This is a **Mulliken population analysis**"
   ]
  },
  {
   "cell_type": "markdown",
   "metadata": {},
   "source": [
    "# Orbital Localization"
   ]
  },
  {
   "cell_type": "markdown",
   "metadata": {},
   "source": [
    "- When we perform a SCF calculation, one gets an optimized C matrix\n",
    "    - $C$ is a $K \\times K$ matrix of expansion coefficients $C_{\\mu i}$\n",
    "    - The columns of $C$ describe the molecular orbitals!\n",
    "    - MO i: $ \\psi_{i} =  \\sum_{\\mu=1}^{K} C_{\\mu i} \\phi_{\\mu}$\n",
    "    \n",
    "    \n",
    "- These molecular orbitals are usually **delocalized**\n",
    "    - non-negligible amplitude over the whole system, rather than only around some atom(s) or bond(s)\n",
    "\n",
    "- But we know in QM that a given basis choice is NOT unique\n",
    "\n",
    "\n",
    "- We can therefore perform a unitary rotation on molecular orbitals\n",
    "\n",
    "$$ \\psi_{i} U_{rot} =  \\Big( \\sum_{\\mu=1}^{K} C_{\\mu i} \\phi_{\\mu} \\Big) U_{rot} = \\psi_{i}^{new}$$\n",
    "    \n",
    "    \n",
    "The idea is to use a rotation such that the resulting orbitals $\\psi_{i}^{new}$ are as spatially localized as possible. \n",
    "\n",
    "\n",
    "The Pipek-Mezey (PM) [localization](https://notendur.hi.is/hj/papers/paperPipekmezey8.pdf) **maximizes the population charges on the atoms**:\n",
    "\n",
    "$$ f (U_{rot}) = \\sum_{A}^{N_{atoms}} \\Bigg( Z_{A} -  \\sum_{\\mu \\text{ on atom } A} PS_{\\mu \\mu} \\Bigg)$$"
   ]
  },
  {
   "cell_type": "markdown",
   "metadata": {},
   "source": [
    "### Method 1\n",
    "- Given optimized $C$ coefficient matrix\n",
    "    - which has been rotated to localize orbitals\n",
    "    - (used to build localized density matrix)\n",
    "\n",
    "\n",
    "- **Look through basis functions $\\phi_{\\mu}$ of the ACTIVE atoms**\n",
    "\n",
    "    \n",
    "- check the mulliken charge // mulliken population of the orbital\n",
    "    - if above a certain threshold associate it to active system\n",
    "    - otherwise put in the environment\n",
    " \n",
    "\n",
    "\n",
    "To choose the active and enviroment subsystems we do the following:\n",
    "\n",
    "1. Given a localized molecular orbs (localized C matrix), we take the absolute mag squared of the coefficients of the active part for a given localized orb and divide by the absolute mag squared of all the coefficents of a that orb... THis will give a value of how much the active system contributes to that orb.\n",
    "\n",
    "2. Mathematically, for orbital $j$ \n",
    "    - remember MO orbs given by columns of C matrix\n",
    "    - In equation below C matrix is the LOCALIZED form!\n",
    "\n",
    "\n",
    "$$ \\text{threshold} =  \\frac{\\sum_{\\mu\\in \\text{active AO}}^{K} |C_{\\mu j}|^{2}}{\\sum_{\\mu =1}^{K} |C_{\\mu j}|^{2}}$$"
   ]
  },
  {
   "cell_type": "markdown",
   "metadata": {},
   "source": [
    "## METHOD 2 - SPADE\n",
    "\n",
    "    "
   ]
  },
  {
   "cell_type": "markdown",
   "metadata": {},
   "source": [
    "Subsytem Projected Atomic orbital DEcomposition (SPADE) begins by orthogonalising the occupied MOs\n",
    "\n",
    "$$ \\bar{C}_{occ} = S^{-1/2}C_{occ}$$\n",
    "\n",
    "We project these onto the active atomic orbitals (erasing the contribution from the environment AOs to the MO matrix).\n",
    "\n",
    "$$ \\bar{C}_{occ}^A = P_A\\bar{C}_{occ}$$\n",
    "\n",
    "A singlular value decomposition of these is then taken\n",
    "\n",
    "$$ \\bar{C}_{occ}^A = U \\Sigma V^{T}$$\n",
    "\n",
    "The singular values $\\{\\sigma\\}$ given as the diagonal elements of $\\Sigma$, are then used to define the subsytem decomposition by locating the maximum change in singluar value\n",
    "\n",
    "$$ m = max_{i} \\bigg(\\sigma_{i} - \\sigma_{i+1} \\bigg)$$\n",
    "\n",
    "The occupied MOs are then rotated into the SPADE basis using the right singular vectors of the SVD\n",
    "\n",
    "$$ \\bar{C}_{occ}^{SPADE} = \\bar{C}_{occ} V_{m}$$\n",
    "\n",
    "The SPADE basis is then used to define the active and environment subsystems, taking the first m orbitals as the active subsystem and the remaining as the environment."
   ]
  },
  {
   "cell_type": "markdown",
   "metadata": {},
   "source": [
    "Let's start by building a molucule and SCF object."
   ]
  },
  {
   "cell_type": "code",
   "execution_count": 2,
   "metadata": {},
   "outputs": [
    {
     "name": "stdout",
     "output_type": "stream",
     "text": [
      "/home/mwilliams/Code/Nbed/docs/notebooks/molecular_structures/acetonitrile.xyz\n"
     ]
    }
   ],
   "source": [
    "from pathlib import Path\n",
    "\n",
    "water_filepath = Path(\"molecular_structures/acetonitrile.xyz\").absolute()\n",
    "print(water_filepath)\n",
    "\n",
    "basis = \"STO-3G\"\n",
    "charge = 0\n",
    "xc_functional = \"b3lyp\"\n",
    "convergence = 1e-6\n",
    "pyscf_print_level = 1\n",
    "max_ram_memory = 4_000\n",
    "n_active_atoms = 2\n",
    "occ_cutoff = 0.95\n",
    "virt_cutoff = 0.95\n",
    "run_virtual_localization = False"
   ]
  },
  {
   "cell_type": "code",
   "execution_count": 3,
   "metadata": {},
   "outputs": [
    {
     "name": "stderr",
     "output_type": "stream",
     "text": [
      "/home/mwilliams/.cache/pypoetry/virtualenvs/nbed-g8dV7HW4-py3.8/lib/python3.8/site-packages/pyscf/dft/libxc.py:772: UserWarning: Since PySCF-2.3, B3LYP (and B3P86) are changed to the VWN-RPA variant, the same to the B3LYP functional in Gaussian and ORCA (issue 1480). To restore the VWN5 definition, you can put the setting \"B3LYP_WITH_VWN5 = True\" in pyscf_conf.py\n",
      "  warnings.warn('Since PySCF-2.3, B3LYP (and B3P86) are changed to the VWN-RPA variant, '\n"
     ]
    },
    {
     "data": {
      "text/plain": [
       "-131.0653251835816"
      ]
     },
     "execution_count": 3,
     "metadata": {},
     "output_type": "execute_result"
    }
   ],
   "source": [
    "from pyscf import gto, scf\n",
    "\n",
    "full_mol = gto.Mole(\n",
    "    atom=str(water_filepath),\n",
    "    basis=basis,\n",
    "    charge=charge,\n",
    ").build()\n",
    "\n",
    "global_ks = scf.RKS(full_mol)\n",
    "global_ks.conv_tol = convergence\n",
    "global_ks.xc = xc_functional\n",
    "global_ks.max_memory = max_ram_memory\n",
    "global_ks.verbose = pyscf_print_level\n",
    "global_ks.kernel()"
   ]
  },
  {
   "cell_type": "code",
   "execution_count": 4,
   "metadata": {},
   "outputs": [],
   "source": [
    "from scipy import linalg\n",
    "import numpy as np\n",
    "\n",
    "# Locate he occupied orbitals\n",
    "occupancy = global_ks.mo_occ\n",
    "n_occupied_orbitals = np.count_nonzero(occupancy)\n",
    "occupied_orbitals = global_ks.mo_coeff[:, :n_occupied_orbitals]\n",
    "\n",
    "# Project onto the active AOs\n",
    "# Do this by erasing rows of the C matrix\n",
    "# that correspond to contributions from the environment\n",
    "# this only works because we have placed our active atoms at the start of the file.\n",
    "n_act_aos = global_ks.mol.aoslice_by_atom()[n_active_atoms - 1][-1]\n",
    "\n",
    "# Orthogonalise the MOs\n",
    "ao_overlap = global_ks.get_ovlp()\n",
    "\n",
    "rotated_orbitals = linalg.fractional_matrix_power(ao_overlap, 0.5) @ occupied_orbitals\n",
    "\n",
    "# Take the SVD of the rotated and projected orbitals\n",
    "_, sigma, right_vectors = linalg.svd(rotated_orbitals[:n_act_aos, :])\n",
    "\n",
    "\n",
    "# Prevents an error with argmax\n",
    "if len(sigma) == 1:\n",
    "    n_act_mos = 1\n",
    "else:\n",
    "    value_diffs = sigma[:-1] - sigma[1:]\n",
    "    n_act_mos = np.argmax(value_diffs) + 1\n",
    "\n",
    "n_env_mos = n_occupied_orbitals - n_act_mos\n",
    "\n",
    "# get active and enviro indices\n",
    "active_MO_inds = np.arange(n_act_mos)\n",
    "enviro_MO_inds = np.arange(n_act_mos, n_act_mos + n_env_mos)\n",
    "\n",
    "# Defining active and environment orbitals and density\n",
    "c_active = occupied_orbitals @ right_vectors.T[:, :n_act_mos]\n",
    "c_enviro = occupied_orbitals @ right_vectors.T[:, n_act_mos:]\n",
    "c_loc_occ = occupied_orbitals @ right_vectors.T"
   ]
  },
  {
   "cell_type": "code",
   "execution_count": 5,
   "metadata": {},
   "outputs": [
    {
     "data": {
      "text/plain": [
       "array([ 7,  8,  9, 10])"
      ]
     },
     "execution_count": 5,
     "metadata": {},
     "output_type": "execute_result"
    }
   ],
   "source": [
    "enviro_MO_inds"
   ]
  },
  {
   "cell_type": "code",
   "execution_count": 6,
   "metadata": {},
   "outputs": [
    {
     "name": "stdout",
     "output_type": "stream",
     "text": [
      "n_act_mos=7\n",
      "n_env_mos=4\n",
      "active_MO_inds=array([0, 1, 2, 3, 4, 5, 6])\n",
      "enviro_MO_inds=array([ 7,  8,  9, 10])\n",
      "c_active.shape=(18, 7)\n",
      "c_enviro.shape=(18, 4)\n"
     ]
    }
   ],
   "source": [
    "print(f\"{n_act_mos=}\")\n",
    "print(f\"{n_env_mos=}\")\n",
    "\n",
    "print(f\"{active_MO_inds=}\")\n",
    "print(f\"{enviro_MO_inds=}\")\n",
    "\n",
    "print(f\"{c_active.shape=}\")\n",
    "print(f\"{c_enviro.shape=}\")"
   ]
  },
  {
   "cell_type": "markdown",
   "metadata": {},
   "source": [
    "### Virtual Orbital Localization via Concentric Localization\n",
    "\n",
    "[1] D. Claudino and N. J. Mayhall, \"Simple and Efficient Truncation of Virtual Spaces in Embedded Wave Functions via Concentric Localization\", Journal of Chemical Theory and Computation, vol. 15, no. 11, pp. 6085-6096, Nov. 2019, doi: 10.1021/ACS.JCTC.9B00682."
   ]
  },
  {
   "cell_type": "markdown",
   "metadata": {},
   "source": [
    "Concentric localization is an extension of SPADE which allows for virtual orbitals to be localized. \n",
    "\n",
    "This procedure is carried out after projection based embedding is complete, as this allows for selection of virtual orbitals which are most suitable for the embedded system. Virtual orbital selection does not impact the projection based embedding procedure, until the calculation of the embedded energy term.\n",
    "\n",
    "Beginning with the occupied orbitals of the active region, the procedure is carried out iteratively.In the first iteration, the procedure allows for a change of basis from embedding to Concentric Localization. The virtual orbitals which overlap to the greatest extent with the occupied orbitals of the active region are selected. These are then used to define the first shell of the Concentric Localization basis. Further iterations find the overlap of remaining virtual MOs with all previous shells (including occupied MOs), under the action of the fock operator. The virtual MOs which interact with the active region are then used to define the next shell of the Concentric Localization basis.\n",
    "\n",
    "We begin by projecting the MOs onto the active region.\n",
    "\n",
    "$$ \\bar{C}^A = P_A\\bar{C}$$\n",
    "\n",
    "The first step of the iterative process requires finding the virtual orbitals in the projected basis. Note that these virtual orbitals should not include those which have been projected out of the active space.\n",
    "\n",
    "$$ C^A_{vir} = S^{-1}_A S_{PB,WB} C_{vir} $$\n",
    "\n",
    "Where $S_{PB,WB}$ gives the overlap matrix between the projected basis and the `working basis` (the basis set used in the projection procedure with occupied environment orbitals removed).\n",
    "\n",
    "$$ [S_{PB,WB}]_{i,j} = \\langle a_i | u_j \\rangle \\ \\{a_i \\in C^A, u_j \\in C\\}$$\n",
    "\n",
    "We can then begin to build up a set of localized orbitals iteratively. For the initial step, we find the overlap of the two sets of orbitals and singlular value decompose this.\n",
    "\n",
    "$$ C^A_{vir} S_{PB,WB} C_{vir} = U \\Sigma V^{T}$$\n",
    "\n",
    "By splitting the $V$ matrix into its span and kernel, we can define two sets of orbitals for the $1st$ shell.\n",
    "\n",
    "Let $T: V \\to W$ we a linear transformation, then the image and kernel of $T$ are defined as\n",
    "\n",
    "$$ im\\ T = T(V) = \\{T(v) | v \\in V\\}$$\n",
    "$$ ker\\ T = \\{v \\in V | T(v) = 0\\}$$\n",
    "\n",
    "The span and kernel can be found by taking the singular value decomposition of $T = L\\Sigma R$.\n",
    "\n",
    "$$ C_{span} = \\{r_i \\in R | \\Sigma_i \\neq 0\\}$$\n",
    "$$ C_{ker} = \\{r_i \\in R | \\Sigma_i = 0\\}$$\n",
    "\n",
    "Finally, we can define the two sets of orbitals for the $1st$ shell.\n",
    "\n",
    "$$ C_0 = C_{vir} V_{span}$$\n",
    "$$ C_{0,k} = C_{vir} V_{ker}$$\n",
    "\n",
    "Subesquent iterations are found using the overlap of these two sets of orbitals under the action of the Fock operator $F$.\n",
    "\n",
    "$$ C_n^{\\dagger} F C_{n,k} = U_n \\Sigma_n V_n^{T}$$\n",
    "\n",
    "$$ C_{n+1} = C_{n,k} V_{n,span}$$\n",
    "$$ C_{n+1,k} = C_{n,k} V_{n,ker}$$\n",
    "\n",
    "Note the code associated with the original paper `PsiEmbed` defines the span matrix slighly differently.\n",
    "$$ C_{n+1} = \\{C_0|...|C_{n-1}|C_{n,k} V_{n,span}\\}$$\n",
    "\n",
    "Ultimately, the active space is constructed from the occupied orbitals of the active region and the first $n$ shells.\n",
    "\n",
    "$$ C_{active\\ space} \\to \\{C_{act, occ}|C_0| C_1| \\dots| C_{n}\\}"
   ]
  },
  {
   "cell_type": "markdown",
   "metadata": {},
   "source": [
    "# NOTE\n",
    "\n",
    "This section will be added at the end of the driver method. So to work it out we'll run the driver first."
   ]
  },
  {
   "cell_type": "code",
   "execution_count": 2,
   "metadata": {},
   "outputs": [
    {
     "name": "stdout",
     "output_type": "stream",
     "text": [
      "/home/mwilliams/Code/Nbed/docs/notebooks/molecular_structures/ethanamine.xyz\n"
     ]
    }
   ],
   "source": [
    "from pathlib import Path\n",
    "\n",
    "mol_filepath = Path(\"molecular_structures/ethanamine.xyz\").absolute()\n",
    "print(mol_filepath)"
   ]
  },
  {
   "cell_type": "code",
   "execution_count": 215,
   "metadata": {},
   "outputs": [],
   "source": [
    "from nbed.driver import NbedDriver\n",
    "\n",
    "driver = NbedDriver(\n",
    "    geometry=str(mol_filepath),\n",
    "    n_active_atoms=3,\n",
    "    basis=\"STO-3G\",\n",
    "    xc_functional=\"b3lyp\",\n",
    "    projector=\"mu\",\n",
    "    localization=\"spade\",\n",
    "    convergence=1e-6,\n",
    "    savefile=None,\n",
    "    charge=0,\n",
    "    spin=0,\n",
    "    mu_level_shift=1e6,\n",
    "    run_ccsd_emb=None,\n",
    "    run_fci_emb=None,\n",
    "    run_virtual_localization=False,\n",
    "    max_ram_memory=4_000,\n",
    "    pyscf_print_level=1,\n",
    "    unit=\"angstrom\",\n",
    "    occupied_threshold=0.95,\n",
    "    virtual_threshold=0.95,\n",
    "    max_hf_cycles=100,\n",
    "    max_dft_cycles=100,\n",
    "    force_unrestricted=False,\n",
    ")"
   ]
  },
  {
   "cell_type": "code",
   "execution_count": 211,
   "metadata": {},
   "outputs": [
    {
     "ename": "AssertionError",
     "evalue": "",
     "output_type": "error",
     "traceback": [
      "\u001b[0;31m---------------------------------------------------------------------------\u001b[0m",
      "\u001b[0;31mAssertionError\u001b[0m                            Traceback (most recent call last)",
      "\u001b[1;32m/home/mwilliams/Code/Nbed/docs/notebooks/2. Orbital Localization Functions.ipynb Cell 22\u001b[0m line \u001b[0;36m3\n\u001b[1;32m      <a href='vscode-notebook-cell:/home/mwilliams/Code/Nbed/docs/notebooks/2.%20Orbital%20Localization%20Functions.ipynb#Y102sZmlsZQ%3D%3D?line=0'>1</a>\u001b[0m \u001b[39mfrom\u001b[39;00m \u001b[39mpyscf\u001b[39;00m\u001b[39m.\u001b[39;00m\u001b[39mcc\u001b[39;00m \u001b[39mimport\u001b[39;00m CCSD\n\u001b[0;32m----> <a href='vscode-notebook-cell:/home/mwilliams/Code/Nbed/docs/notebooks/2.%20Orbital%20Localization%20Functions.ipynb#Y102sZmlsZQ%3D%3D?line=2'>3</a>\u001b[0m e_ccsd \u001b[39m=\u001b[39m CCSD(driver\u001b[39m.\u001b[39;49membedded_scf\u001b[39m.\u001b[39;49mmo_coeff[:,:\u001b[39m-\u001b[39;49m\u001b[39m2\u001b[39;49m])\u001b[39m.\u001b[39mrun()\n\u001b[1;32m      <a href='vscode-notebook-cell:/home/mwilliams/Code/Nbed/docs/notebooks/2.%20Orbital%20Localization%20Functions.ipynb#Y102sZmlsZQ%3D%3D?line=3'>4</a>\u001b[0m driver_ccsd \u001b[39m=\u001b[39m e_ccsd\u001b[39m.\u001b[39me_tot\n\u001b[1;32m      <a href='vscode-notebook-cell:/home/mwilliams/Code/Nbed/docs/notebooks/2.%20Orbital%20Localization%20Functions.ipynb#Y102sZmlsZQ%3D%3D?line=4'>5</a>\u001b[0m \u001b[39mprint\u001b[39m(driver_ccsd)\n",
      "File \u001b[0;32m~/.cache/pypoetry/virtualenvs/nbed-g8dV7HW4-py3.8/lib/python3.8/site-packages/pyscf/cc/__init__.py:87\u001b[0m, in \u001b[0;36mCCSD\u001b[0;34m(mf, frozen, mo_coeff, mo_occ)\u001b[0m\n\u001b[1;32m     85\u001b[0m     \u001b[39mreturn\u001b[39;00m GCCSD(mf, frozen, mo_coeff, mo_occ)\n\u001b[1;32m     86\u001b[0m \u001b[39melse\u001b[39;00m:\n\u001b[0;32m---> 87\u001b[0m     \u001b[39mreturn\u001b[39;00m RCCSD(mf, frozen, mo_coeff, mo_occ)\n",
      "File \u001b[0;32m~/.cache/pypoetry/virtualenvs/nbed-g8dV7HW4-py3.8/lib/python3.8/site-packages/pyscf/cc/__init__.py:108\u001b[0m, in \u001b[0;36mRCCSD\u001b[0;34m(mf, frozen, mo_coeff, mo_occ)\u001b[0m\n\u001b[1;32m    105\u001b[0m     \u001b[39mreturn\u001b[39;00m UCCSD(mf, frozen, mo_coeff, mo_occ)\n\u001b[1;32m    107\u001b[0m \u001b[39mif\u001b[39;00m \u001b[39misinstance\u001b[39m(mf, newton_ah\u001b[39m.\u001b[39m_CIAH_SOSCF) \u001b[39mor\u001b[39;00m \u001b[39mnot\u001b[39;00m \u001b[39misinstance\u001b[39m(mf, scf\u001b[39m.\u001b[39mhf\u001b[39m.\u001b[39mRHF):\n\u001b[0;32m--> 108\u001b[0m     mf \u001b[39m=\u001b[39m scf\u001b[39m.\u001b[39;49maddons\u001b[39m.\u001b[39;49mconvert_to_rhf(mf)\n\u001b[1;32m    110\u001b[0m \u001b[39mif\u001b[39;00m \u001b[39mgetattr\u001b[39m(mf, \u001b[39m'\u001b[39m\u001b[39mwith_df\u001b[39m\u001b[39m'\u001b[39m, \u001b[39mNone\u001b[39;00m):\n\u001b[1;32m    111\u001b[0m     \u001b[39mreturn\u001b[39;00m dfccsd\u001b[39m.\u001b[39mRCCSD(mf, frozen, mo_coeff, mo_occ)\n",
      "File \u001b[0;32m~/.cache/pypoetry/virtualenvs/nbed-g8dV7HW4-py3.8/lib/python3.8/site-packages/pyscf/scf/addons.py:716\u001b[0m, in \u001b[0;36mconvert_to_rhf\u001b[0;34m(mf, out, remove_df)\u001b[0m\n\u001b[1;32m    714\u001b[0m \u001b[39mfrom\u001b[39;00m \u001b[39mpyscf\u001b[39;00m \u001b[39mimport\u001b[39;00m scf\n\u001b[1;32m    715\u001b[0m \u001b[39mfrom\u001b[39;00m \u001b[39mpyscf\u001b[39;00m \u001b[39mimport\u001b[39;00m dft\n\u001b[0;32m--> 716\u001b[0m \u001b[39massert\u001b[39;00m (\u001b[39misinstance\u001b[39m(mf, hf\u001b[39m.\u001b[39mSCF))\n\u001b[1;32m    718\u001b[0m logger\u001b[39m.\u001b[39mdebug(mf, \u001b[39m'\u001b[39m\u001b[39mConverting \u001b[39m\u001b[39m%s\u001b[39;00m\u001b[39m to RHF\u001b[39m\u001b[39m'\u001b[39m, mf\u001b[39m.\u001b[39m\u001b[39m__class__\u001b[39m)\n\u001b[1;32m    720\u001b[0m \u001b[39mdef\u001b[39;00m \u001b[39mupdate_mo_\u001b[39m(mf, mf1):\n",
      "\u001b[0;31mAssertionError\u001b[0m: "
     ]
    }
   ],
   "source": [
    "from pyscf.cc import CCSD\n",
    "\n",
    "e_ccsd = CCSD(driver.embedded_scf.mo_coeff[:, :-2]).run()\n",
    "driver_ccsd = e_ccsd.e_tot\n",
    "print(driver_ccsd)"
   ]
  },
  {
   "cell_type": "code",
   "execution_count": 200,
   "metadata": {},
   "outputs": [
    {
     "data": {
      "text/plain": [
       "-68.96706795272537"
      ]
     },
     "execution_count": 200,
     "metadata": {},
     "output_type": "execute_result"
    }
   ],
   "source": [
    "driver_fci"
   ]
  },
  {
   "cell_type": "code",
   "execution_count": 201,
   "metadata": {},
   "outputs": [
    {
     "data": {
      "text/plain": [
       "(13, 11)"
      ]
     },
     "execution_count": 201,
     "metadata": {},
     "output_type": "execute_result"
    }
   ],
   "source": [
    "driver.embedded_scf.mo_coeff.shape"
   ]
  },
  {
   "cell_type": "code",
   "execution_count": 225,
   "metadata": {},
   "outputs": [],
   "source": [
    "# First lets define how many total orbitals we want to have\n",
    "max_orbs = 15\n",
    "max_shells = 4"
   ]
  },
  {
   "cell_type": "markdown",
   "metadata": {},
   "source": [
    "Create a molecule object for the active region using an arbitrary basis."
   ]
  },
  {
   "cell_type": "code",
   "execution_count": 226,
   "metadata": {},
   "outputs": [
    {
     "name": "stdout",
     "output_type": "stream",
     "text": [
      "6\n"
     ]
    },
    {
     "name": "stderr",
     "output_type": "stream",
     "text": [
      "Warning: <pyscf.gto.mole.Mole object at 0x7feae670f160> must be initialized before calling SCF.\n",
      "Initialize <pyscf.gto.mole.Mole object at 0x7feae670f160> in RKS object of <class 'pyscf.dft.rks.RKS'>\n"
     ]
    }
   ],
   "source": [
    "projected_mol = gto.mole.Mole()\n",
    "projected_mol.atom = driver.embedded_scf.mol.atom\n",
    "projected_mol.basis = driver.embedded_scf.mol.basis  # can be anything\n",
    "projected_mf = scf.RKS(projected_mol)\n",
    "n_act_proj_aos = projected_mol.aoslice_by_atom()[n_active_atoms - 1][-1]\n",
    "print(n_act_proj_aos)"
   ]
  },
  {
   "cell_type": "code",
   "execution_count": 227,
   "metadata": {},
   "outputs": [
    {
     "name": "stdout",
     "output_type": "stream",
     "text": [
      "(22, 14)\n",
      "virtual_mos=array([ 5,  6,  7,  8,  9, 10, 11, 12, 13])\n",
      "effective_virt.shape=(22, 9)\n",
      "Using active MOs for CL: [0 1 2 3 4]\n",
      "Singular values: [9.92114450e-01 2.15317656e-01 1.25377129e-01 4.21956180e-03\n",
      " 2.30330116e-04 6.54799681e-08 6.12886237e-17 4.22035219e-17\n",
      " 1.81871384e-17]\n",
      "shell_size=6\n",
      "v_span.shape=(9, 6)\n",
      "Beginning Concentric Localization Iteration\n",
      "c_ispan.shape=(72, 20), fock_operator.shape=(22, 22), c_iker.shape=(22, 3)\n",
      "Singular values: [0.08731975 0.05055638 0.0414595 ]\n",
      "right_vectors.shape=(3, 3)\n",
      "shell_size=3\n",
      "v_span.shape=(3, 3)\n",
      "c_total.shape=(22, 14)\n",
      "Not reached max orbs, continuing CL.\n",
      "dim_ker=0\n",
      "No kernel, ending CL.\n"
     ]
    }
   ],
   "source": [
    "projected_overlap = projected_mf.get_ovlp(driver.embedded_scf.mol)[\n",
    "    :n_act_proj_aos, :n_act_proj_aos\n",
    "]\n",
    "overlap_two_basis = gto.intor_cross(\n",
    "    \"int1e_ovlp_sph\", driver.embedded_scf.mol, projected_mol\n",
    ")[:n_act_proj_aos, :]\n",
    "# for effective virtuals it seems they have occ_env_aos shifted by this point\n",
    "# print(projected_overlap.shape)\n",
    "# print(overlap_two_basis.shape)\n",
    "\n",
    "print(driver.embedded_scf.mo_coeff.shape)\n",
    "occupancy = driver.embedded_scf.mo_occ\n",
    "virtual_mos = np.where(occupancy == 0)[0]\n",
    "print(f\"{virtual_mos=}\")\n",
    "effective_virt = driver.embedded_scf.mo_coeff[:, virtual_mos]\n",
    "print(f\"{effective_virt.shape=}\")\n",
    "\n",
    "left = np.linalg.inv(projected_overlap) @ overlap_two_basis @ effective_virt\n",
    "\n",
    "_, sigma, right_vectors = np.linalg.svd(left.T @ overlap_two_basis @ effective_virt)\n",
    "\n",
    "# We'll iteratively build up the total C matrix\n",
    "active_mos = np.where(occupancy > 0)[0]\n",
    "c_total = driver.embedded_scf.mo_coeff[:, active_mos]\n",
    "print(f\"Using active MOs for CL: {active_mos}\")\n",
    "\n",
    "shell_size = np.sum(sigma[:n_act_proj_aos] >= 1e-15)\n",
    "print(f\"Singular values: {sigma}\")\n",
    "print(f\"{shell_size=}\")\n",
    "\n",
    "v_span = right_vectors.T[:, :shell_size]  # 0 but instability\n",
    "v_ker = right_vectors.T[:, shell_size:]\n",
    "print(f\"{v_span.shape=}\")\n",
    "\n",
    "\n",
    "c_span = effective_virt @ v_span\n",
    "c_iker = effective_virt @ v_ker\n",
    "\n",
    "c_total = np.hstack((c_total, c_span))\n",
    "\n",
    "fock_operator = driver.embedded_scf.get_fock()\n",
    "# why use the overlap for the first shell and then the fock for the rest?\n",
    "\n",
    "ishell = 1\n",
    "while ishell <= max_shells:\n",
    "    ishell += 1\n",
    "\n",
    "    print(\"Beginning Concentric Localization Iteration\")\n",
    "    print(f\"{c_ispan.shape=}, {fock_operator.shape=}, {c_iker.shape=}\")\n",
    "    _, sigma, right_vectors = linalg.svd(c_span.T @ fock_operator @ c_iker)\n",
    "    print(f\"Singular values: {sigma}\")\n",
    "    print(f\"{right_vectors.shape=}\")\n",
    "\n",
    "    shell_size = np.sum(sigma[:n_act_proj_aos] >= 1e-15)\n",
    "    print(f\"{shell_size=}\")\n",
    "\n",
    "    v_span = right_vectors.T[:, :shell_size]  # 0 but instability\n",
    "    v_ker = right_vectors.T[:, shell_size:]\n",
    "\n",
    "    print(f\"{v_span.shape=}\")\n",
    "\n",
    "    # c_span = np.hstack((c_span, c_iker @ v_span))\n",
    "    c_total = np.hstack((c_total, c_iker @ v_span))\n",
    "\n",
    "    print(f\"{c_total.shape=}\")\n",
    "    if c_total.shape[1] > max_orbs:\n",
    "        print(f\"Exceeded max orbs, cutting to {max_orbs} MOs.\")\n",
    "        c_total = c_total[:, :max_orbs]\n",
    "        break\n",
    "\n",
    "    elif c_total.shape[1] == max_orbs:\n",
    "        print(\"Reached maximum number of MOs. Ending CL.\")\n",
    "        break\n",
    "\n",
    "    elif c_total.shape[1] < max_orbs:\n",
    "        print(\"Not reached max orbs, continuing CL.\")\n",
    "\n",
    "    dim_ker = v_ker.shape[1]\n",
    "    print(f\"{dim_ker=}\")\n",
    "\n",
    "    if dim_ker > 0:\n",
    "        c_iker = c_iker @ v_ker\n",
    "    else:\n",
    "        # This means that all virtual orbitals have been included.\n",
    "        print(\"No kernel, ending CL.\")\n",
    "        break"
   ]
  },
  {
   "cell_type": "markdown",
   "metadata": {},
   "source": [
    "Canonicalize orbitals - This removes degeneracies which may result in instability of SCF procedures."
   ]
  },
  {
   "cell_type": "code",
   "execution_count": null,
   "metadata": {},
   "outputs": [],
   "source": []
  },
  {
   "cell_type": "markdown",
   "metadata": {},
   "source": [
    "### Relative accuracy of the embedding energy\n",
    "\n",
    "- Find the full system reference\n",
    "- Perform localization\n",
    "- Compare energy errors with increasing MOs "
   ]
  },
  {
   "cell_type": "code",
   "execution_count": null,
   "metadata": {},
   "outputs": [],
   "source": [
    "from nbed.driver import NbedDriver\n",
    "\n",
    "driver = NbedDriver(\n",
    "    geometry=str(mol_filepath),\n",
    "    n_active_atoms=3,\n",
    "    basis=\"STO-3G\",\n",
    "    xc_functional=\"b3lyp\",\n",
    "    projector=\"mu\",\n",
    "    localization=\"spade\",\n",
    "    convergence=1e-6,\n",
    "    savefile=None,\n",
    "    charge=0,\n",
    "    spin=0,\n",
    "    mu_level_shift=1e6,\n",
    "    run_ccsd_emb=None,\n",
    "    run_fci_emb=None,\n",
    "    run_virtual_localization=True,\n",
    "    max_ram_memory=4_000,\n",
    "    pyscf_print_level=1,\n",
    "    unit=\"angstrom\",\n",
    "    occupied_threshold=0.95,\n",
    "    virtual_threshold=0.95,\n",
    "    max_hf_cycles=100,\n",
    "    max_dft_cycles=100,\n",
    "    force_unrestricted=False,\n",
    ")"
   ]
  },
  {
   "cell_type": "code",
   "execution_count": 228,
   "metadata": {},
   "outputs": [
    {
     "name": "stdout",
     "output_type": "stream",
     "text": [
      "Running FCI with 6 MOs.\n",
      "fci.e_tot - driver_fci =8.865267414224576\n",
      "\n",
      "Running FCI with 7 MOs.\n",
      "fci.e_tot - driver_fci =7.379004189721826\n",
      "\n",
      "Running FCI with 8 MOs.\n",
      "fci.e_tot - driver_fci =5.595936670237506\n",
      "\n",
      "Running FCI with 9 MOs.\n",
      "fci.e_tot - driver_fci =2.0144142289922655\n",
      "\n",
      "Running FCI with 10 MOs.\n",
      "fci.e_tot - driver_fci =1.817443743563274\n",
      "\n",
      "Running FCI with 11 MOs.\n",
      "fci.e_tot - driver_fci =0.4778847571823377\n",
      "\n",
      "Running FCI with 12 MOs.\n",
      "fci.e_tot - driver_fci =0.09909626723153053\n",
      "\n",
      "Running FCI with 13 MOs.\n",
      "fci.e_tot - driver_fci =0.04263303585814526\n",
      "\n",
      "Running FCI with 14 MOs.\n",
      "fci.e_tot - driver_fci =-1.3330721856164018e-05\n",
      "\n"
     ]
    }
   ],
   "source": [
    "fci_vals = []\n",
    "for i in range(n_act_proj_aos, c_total.shape[1] + 1):\n",
    "    print(f\"Running FCI with {i} MOs.\")\n",
    "    fci = FCI(driver.embedded_scf.mol, c_total[:, :i])\n",
    "    fci.kernel()\n",
    "    fci_vals.append(fci.e_tot)\n",
    "    print(f\"{fci.e_tot - driver_fci =}\\n\")"
   ]
  },
  {
   "cell_type": "code",
   "execution_count": 232,
   "metadata": {},
   "outputs": [
    {
     "name": "stdout",
     "output_type": "stream",
     "text": [
      "Running FCI with 6 MOs.\n",
      "fci.e_tot - driver_fci =6.0545915585804835\n",
      "\n",
      "Running FCI with 7 MOs.\n",
      "fci.e_tot - driver_fci =5.003956359782364\n",
      "\n",
      "Running FCI with 8 MOs.\n",
      "fci.e_tot - driver_fci =4.833976567447934\n",
      "\n",
      "Running FCI with 9 MOs.\n",
      "fci.e_tot - driver_fci =4.191806246957881\n",
      "\n",
      "Running FCI with 10 MOs.\n",
      "fci.e_tot - driver_fci =4.021091975253398\n",
      "\n",
      "Running FCI with 11 MOs.\n",
      "fci.e_tot - driver_fci =2.0564511351042256\n",
      "\n",
      "Running FCI with 12 MOs.\n",
      "fci.e_tot - driver_fci =0.4732845655141773\n",
      "\n",
      "Running FCI with 13 MOs.\n",
      "fci.e_tot - driver_fci =0.09202388247550175\n",
      "\n"
     ]
    }
   ],
   "source": [
    "raw_fci_vals = []\n",
    "for i in range(n_act_proj_aos, c_total.shape[1]):\n",
    "    print(f\"Running FCI with {i} MOs.\")\n",
    "    fci = FCI(driver.embedded_scf.mol, driver.embedded_scf.mo_coeff[:, :i])\n",
    "    fci.kernel()\n",
    "    raw_fci_vals.append(fci.e_tot)\n",
    "    print(f\"{fci.e_tot - driver_fci =}\\n\")"
   ]
  },
  {
   "cell_type": "code",
   "execution_count": 242,
   "metadata": {},
   "outputs": [],
   "source": [
    "cl_fci_error = fci_vals[:9] - driver_fci\n",
    "raw_fci_error = fci_vals[9:] - driver_fci"
   ]
  },
  {
   "cell_type": "code",
   "execution_count": 244,
   "metadata": {},
   "outputs": [
    {
     "data": {
      "text/plain": [
       "<matplotlib.legend.Legend at 0x7feae64a3e50>"
      ]
     },
     "execution_count": 244,
     "metadata": {},
     "output_type": "execute_result"
    },
    {
     "data": {
      "image/png": "[encoded data removed]",
      "text/plain": [
       "<Figure size 640x480 with 1 Axes>"
      ]
     },
     "metadata": {},
     "output_type": "display_data"
    }
   ],
   "source": [
    "from matplotlib import pyplot as plt\n",
    "\n",
    "plt.semilogy(np.arange(6, 15), np.abs(cl_fci_error))\n",
    "plt.semilogy(np.arange(6, 14), np.abs(raw_fci_error))\n",
    "plt.title(\"Ethanamine (3act) STO-3G\")\n",
    "plt.ylabel(\"FCI Energy (Hartree)\")\n",
    "plt.xlabel(\"Number of MOs\")\n",
    "plt.legend([\"Concentric Localization\", \"Raw MOs\"])"
   ]
  },
  {
   "cell_type": "code",
   "execution_count": null,
   "metadata": {},
   "outputs": [],
   "source": [
    "from pyscf.cc import CCSD\n"
   ]
  },
  {
   "cell_type": "markdown",
   "metadata": {},
   "source": [
    "### PySCF methods"
   ]
  },
  {
   "cell_type": "code",
   "execution_count": null,
   "metadata": {},
   "outputs": [],
   "source": [
    "# get xyz file for water\n",
    "\n",
    "notebook_dir = os.getcwd()\n",
    "docs_dir = os.path.dirname(notebook_dir)\n",
    "NBed_dir = os.path.dirname(docs_dir)\n",
    "Test_dir = os.path.join(NBed_dir, \"tests\")\n",
    "mol_dir = os.path.join(Test_dir, \"molecules\")\n",
    "\n",
    "water_xyz_path = os.path.join(mol_dir, \"water.xyz\")"
   ]
  },
  {
   "cell_type": "code",
   "execution_count": null,
   "metadata": {},
   "outputs": [],
   "source": [
    "### inputs\n",
    "from pyscf import gto, scf\n",
    "\n",
    "basis = \"STO-3G\"\n",
    "charge = 0\n",
    "spin = 0\n",
    "full_system_mol = gto.Mole(\n",
    "    atom=water_xyz_path,\n",
    "    basis=basis,\n",
    "    charge=charge,\n",
    "    spin=spin,\n",
    ")\n",
    "full_system_mol.build()\n",
    "\n",
    "HF_scf = scf.RHF(full_system_mol)\n",
    "HF_scf.verbose = 1\n",
    "HF_scf.conv_tol = 1e-6\n",
    "HF_scf.kernel()\n",
    "###"
   ]
  },
  {
   "cell_type": "code",
   "execution_count": null,
   "metadata": {},
   "outputs": [],
   "source": [
    "from nbed.localizers import (\n",
    "    BOYSLocalizer,\n",
    "    IBOLocalizer,\n",
    "    Localizer,\n",
    "    PMLocalizer,\n",
    "    SPADELocalizer,\n",
    ")"
   ]
  },
  {
   "cell_type": "code",
   "execution_count": null,
   "metadata": {},
   "outputs": [],
   "source": [
    "localizers = {\n",
    "    \"spade\": SPADELocalizer,\n",
    "    \"boys\": BOYSLocalizer,\n",
    "    \"ibo\": IBOLocalizer,\n",
    "    \"pipek-mezey\": PMLocalizer,\n",
    "}"
   ]
  },
  {
   "cell_type": "code",
   "execution_count": null,
   "metadata": {},
   "outputs": [],
   "source": [
    "n_active_atoms = 2  # (first n rows are active in xyz file)\n",
    "loc_str = \"boys\"  # <--- change to perform different localization\n",
    "threshold = 0.95\n",
    "\n",
    "\n",
    "## object runs localization when initialized!\n",
    "loc_system = localizers[loc_str](\n",
    "    HF_scf,\n",
    "    n_active_atoms,\n",
    ")"
   ]
  },
  {
   "cell_type": "code",
   "execution_count": null,
   "metadata": {},
   "outputs": [],
   "source": [
    "print(f\"active MO inds: {loc_system.active_MO_inds}\")\n",
    "print(f\"enviro MO inds: {loc_system.enviro_MO_inds}\")\n",
    "\n",
    "\n",
    "# orb threshold\n",
    "if loc_str != \"spade\":\n",
    "    print(\"Localized MO threshold:\", loc_system.enviro_selection_condition)\n",
    "    print(f\"indices above {threshold} set active\")\n",
    "    # indices above threshold (usually 95%) set to active"
   ]
  },
  {
   "cell_type": "code",
   "execution_count": null,
   "metadata": {},
   "outputs": [],
   "source": [
    "dm_localised_full_system = 2 * loc_system._c_loc_occ @ loc_system._c_loc_occ.conj().T\n",
    "dm_active = loc_system.dm_active\n",
    "dm_enviro = loc_system.dm_enviro\n",
    "\n",
    "# check act and env density give the full density\n",
    "print(\n",
    "    f\"does: y_full = y_act + y_env ... {np.allclose(dm_localised_full_system, dm_active + dm_enviro)}\"\n",
    ")\n",
    "\n",
    "\n",
    "# check number of electrons is still the same after orbitals have been localized (change of basis)\n",
    "s_ovlp = loc_system._global_ks.get_ovlp()\n",
    "n_active_electrons = np.trace(dm_active @ s_ovlp)\n",
    "n_enviro_electrons = np.trace(dm_enviro @ s_ovlp)\n",
    "\n",
    "\n",
    "# check number of electrons is correct\n",
    "print(\n",
    "    f\"does: n_elec_full = n_elec_act + n_elec_env ... {np.allclose(HF_scf.mol.nelectron, n_active_electrons+n_enviro_electrons)}\"\n",
    ")"
   ]
  },
  {
   "cell_type": "code",
   "execution_count": null,
   "metadata": {},
   "outputs": [],
   "source": [
    "# active MOs\n",
    "loc_system.c_active"
   ]
  },
  {
   "cell_type": "code",
   "execution_count": null,
   "metadata": {},
   "outputs": [],
   "source": [
    "# enviro MOs\n",
    "loc_system.c_enviro"
   ]
  },
  {
   "cell_type": "code",
   "execution_count": null,
   "metadata": {},
   "outputs": [],
   "source": [
    "# full localized C matrix\n",
    "loc_system."
   ]
  },
  {
   "cell_type": "code",
   "execution_count": null,
   "metadata": {},
   "outputs": [],
   "source": [
    "# to get active and environment C matrix slice this array using active_MO_inds and enviro_MO_inds\n",
    "\n",
    "## e.g. for environment\n",
    "np.allclose(\n",
    "    loc_system.c_loc_occ_and_virt[:, loc_system.enviro_MO_inds], loc_system.c_enviro\n",
    ")"
   ]
  },
  {
   "cell_type": "markdown",
   "metadata": {},
   "source": [
    "See notebook 1 on how to plot these LOCALIZED orbitals\n",
    "\n",
    "use c_loc_occ_and_virt / c_active / c_enviroment to plot localized orbitals"
   ]
  }
 ],
 "metadata": {
  "kernelspec": {
   "display_name": "Python 3 (ipykernel)",
   "language": "python",
   "name": "python3"
  },
  "language_info": {
   "codemirror_mode": {
    "name": "ipython",
    "version": 3
   },
   "file_extension": ".py",
   "mimetype": "text/x-python",
   "name": "python",
   "nbconvert_exporter": "python",
   "pygments_lexer": "ipython3",
   "version": "3.8.10"
  }
 },
 "nbformat": 4,
 "nbformat_minor": 4
}
