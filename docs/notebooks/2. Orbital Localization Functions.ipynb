{
 "cells": [
  {
   "cell_type": "code",
   "execution_count": 1,
   "metadata": {},
   "outputs": [],
   "source": [
    "import numpy as np\n",
    "import os"
   ]
  },
  {
   "cell_type": "markdown",
   "metadata": {},
   "source": [
    "# Background\n",
    "\n",
    "The overlap matrix is:\n",
    "\n",
    "$$S_{\\mu \\nu} =  \\int d\\vec{r}_{1} \\phi_{\\mu}(1)^{*}\\phi_{\\nu}(1)$$\n",
    "\n",
    "- $\\phi_{\\mu}$ are basis functions (defined in basis set)\n",
    "\n",
    "\n",
    "The unknown molecular orbitals $\\psi_{i}$ are expanded as a linear expansion of the $K$ known basis functions $\\{ \\phi_{i} | i=1,2,..., K \\}$:\n",
    "\n",
    "$$ \\psi_{i} =  \\sum_{\\mu=1}^{K} C_{\\mu i} \\phi_{\\mu}$$\n",
    "\n",
    "\n",
    "$C$ is a $K \\times K$ matrix of expansion coefficients $C_{\\mu i}$. The columns of $C$ describe the molecular orbitals!\n",
    "\n",
    "\n",
    "We can find the total number of electrons $N$ in the system by:\n",
    "\n",
    "$$ N =  2 \\sum_{a}^{N/2}\\int d\\vec{r}  \\bigg( \\psi_{a}(\\vec{r})^{*} \\psi_{i}(\\vec{r}) \\bigg) =  2 \\sum_{a}^{N/2} 1$$\n",
    "\n",
    "- integral gives probablity of finding electron $a$ over all space (must be 1)\n",
    "- summing over all electrons will give the total number of electrons"
   ]
  },
  {
   "cell_type": "markdown",
   "metadata": {},
   "source": [
    "The charge density has the following definition:\n",
    "\n",
    "$$\\rho(\\vec{r}) = 2 \\sum_{a}^{N/2} \\bigg( \\psi_{a}(\\vec{r})^{*} \\psi_{i}(\\vec{r}) \\bigg)$$\n",
    "\n",
    "- re-write using definition of $\\psi_{i}=  \\sum_{\\mu=1}^{K} C_{\\mu i} \\phi_{\\mu}$\n",
    "\n",
    "$$\\rho(\\vec{r}) = 2 \\sum_{a}^{N/2} \\Bigg( \\bigg[ \\sum_{\\nu}^{K} C_{\\nu a}^{*} \\phi_{\\nu}(\\vec{r})^{*} \\bigg] \\bigg[ \\sum_{\\mu}^{K} C_{\\mu a}\\phi_{\\mu}(\\vec{r}) \\bigg] \\Bigg)$$\n",
    "\n",
    "- move things around\n",
    "\n",
    "$$\\rho(\\vec{r}) = \\sum_{\\nu}^{K} \\sum_{\\mu}^{K} \\Big( 2 \\sum_{a}^{N/2} C_{\\mu a} C_{\\nu a}^{*} \\Big) \\phi_{\\mu}(\\vec{r}) \\phi_{\\nu}(\\vec{r})^{*} $$\n",
    "\n",
    "- which is \n",
    "\n",
    "$$\\rho(\\vec{r}) = \\sum_{\\mu, \\nu}^{K} P_{\\mu \\nu} \\phi_{\\mu}(\\vec{r}) \\phi_{\\nu}(\\vec{r})^{*} $$\n",
    "\n",
    "\n",
    "- $P_{\\mu \\nu}$ is known as the density matrix and is:\n",
    "\n",
    "$$P_{\\mu \\nu} = 2 \\sum_{a}^{N/2} C_{\\mu a} C_{\\nu a}^{*}$$"
   ]
  },
  {
   "cell_type": "markdown",
   "metadata": {},
   "source": [
    "Therefore we can also find the total number of electrons in the system by:\n",
    "\n",
    "$$ N =  2 \\sum_{a}^{N/2}\\int d\\vec{r}  \\bigg( \\psi_{a}(\\vec{r})^{*} \\psi_{i}(\\vec{r}) \\bigg) =  \\sum_{\\nu}^{K} \\sum_{\\mu}^{K} \\Big( 2 \\sum_{a}^{N/2} C_{\\mu a} C_{\\nu a}^{*} \\Big) \\int d\\vec{r} \\phi_{\\mu}(\\vec{r})  \\phi_{\\nu}(\\vec{r})^{*}$$\n",
    "\n",
    "- This is simply:\n",
    "\n",
    "$$N =  \\sum_{\\nu}^{K} \\sum_{\\mu}^{K} P_{\\mu \\nu} S_{\\nu \\mu}= \\sum_{\\mu}^{K} PS_{\\mu \\mu} = \\mathcal{Tr}(PS)$$"
   ]
  },
  {
   "cell_type": "markdown",
   "metadata": {},
   "source": [
    "- One can interpret $ PS_{\\mu \\mu}$ in the above equation as the number of electrons associated with $ \\phi_{\\mu}$\n",
    "- This is a **Mulliken population analysis**"
   ]
  },
  {
   "cell_type": "markdown",
   "metadata": {},
   "source": [
    "# Orbital Localization"
   ]
  },
  {
   "cell_type": "markdown",
   "metadata": {},
   "source": [
    "- When we perform a SCF calculation, one gets an optimized C matrix\n",
    "    - $C$ is a $K \\times K$ matrix of expansion coefficients $C_{\\mu i}$\n",
    "    - The columns of $C$ describe the molecular orbitals!\n",
    "    - MO i: $ \\psi_{i} =  \\sum_{\\mu=1}^{K} C_{\\mu i} \\phi_{\\mu}$\n",
    "    \n",
    "    \n",
    "- These molecular orbitals are usually **delocalized**\n",
    "    - non-negligible amplitude over the whole system, rather than only around some atom(s) or bond(s)\n",
    "\n",
    "- But we know in QM that a given basis choice is NOT unique\n",
    "\n",
    "\n",
    "- We can therefore perform a unitary rotation on molecular orbitals\n",
    "\n",
    "$$ \\psi_{i} U_{rot} =  \\Big( \\sum_{\\mu=1}^{K} C_{\\mu i} \\phi_{\\mu} \\Big) U_{rot} = \\psi_{i}^{new}$$\n",
    "    \n",
    "    \n",
    "The idea is to use a rotation such that the resulting orbitals $\\psi_{i}^{new}$ are as spatially localized as possible. \n",
    "\n",
    "\n",
    "The Pipek-Mezey (PM) [localization](https://notendur.hi.is/hj/papers/paperPipekmezey8.pdf) **maximizes the population charges on the atoms**:\n",
    "\n",
    "$$ f (U_{rot}) = \\sum_{A}^{N_{atoms}} \\Bigg( Z_{A} -  \\sum_{\\mu \\text{ on atom } A} PS_{\\mu \\mu} \\Bigg)$$"
   ]
  },
  {
   "cell_type": "markdown",
   "metadata": {},
   "source": [
    "### Method 1\n",
    "- Given optimized $C$ coefficient matrix\n",
    "    - which has been rotated to localize orbitals\n",
    "    - (used to build localized density matrix)\n",
    "\n",
    "\n",
    "- **Look through basis functions $\\phi_{\\mu}$ of the ACTIVE atoms**\n",
    "\n",
    "    \n",
    "- check the mulliken charge // mulliken population of the orbital\n",
    "    - if above a certain threshold associate it to active system\n",
    "    - otherwise put in the environment\n",
    " \n",
    "\n",
    "\n",
    "To choose the active and enviroment subsystems we do the following:\n",
    "\n",
    "1. Given a localized molecular orbs (localized C matrix), we take the absolute mag squared of the coefficients of the active part for a given localized orb and divide by the absolute mag squared of all the coefficents of a that orb... THis will give a value of how much the active system contributes to that orb.\n",
    "\n",
    "2. Mathematically, for orbital $j$ \n",
    "    - remember MO orbs given by columns of C matrix\n",
    "    - In equation below C matrix is the LOCALIZED form!\n",
    "\n",
    "\n",
    "$$ \\text{threshold} =  \\frac{\\sum_{\\mu\\in \\text{active AO}}^{K} |C_{\\mu j}|^{2}}{\\sum_{\\mu =1}^{K} |C_{\\mu j}|^{2}}$$"
   ]
  },
  {
   "cell_type": "markdown",
   "metadata": {},
   "source": [
    "## METHOD 2 - SPADE\n",
    "\n",
    "see https://pubs.acs.org/doi/10.1021/acs.jctc.8b01112 for further info"
   ]
  },
  {
   "cell_type": "code",
   "execution_count": null,
   "metadata": {},
   "outputs": [],
   "source": []
  },
  {
   "cell_type": "code",
   "execution_count": 2,
   "metadata": {},
   "outputs": [],
   "source": [
    "# get xyz file for water\n",
    "\n",
    "notebook_dir = os.getcwd()\n",
    "docs_dir = os.path.dirname(notebook_dir)\n",
    "NBed_dir = os.path.dirname(docs_dir)\n",
    "Test_dir = os.path.join(NBed_dir, \"tests\")\n",
    "mol_dir = os.path.join(Test_dir, \"molecules\")\n",
    "\n",
    "water_xyz_path = os.path.join(mol_dir, \"water.xyz\")"
   ]
  },
  {
   "cell_type": "code",
   "execution_count": 3,
   "metadata": {},
   "outputs": [
    {
     "data": {
      "text/plain": [
       "-74.96099960300506"
      ]
     },
     "execution_count": 3,
     "metadata": {},
     "output_type": "execute_result"
    }
   ],
   "source": [
    "### inputs\n",
    "from pyscf import gto, scf\n",
    "\n",
    "basis = \"STO-3G\"\n",
    "charge = 0\n",
    "spin = 0\n",
    "full_system_mol = gto.Mole(\n",
    "    atom=water_xyz_path,\n",
    "    basis=basis,\n",
    "    charge=charge,\n",
    "    spin=spin,\n",
    ")\n",
    "full_system_mol.build()\n",
    "\n",
    "HF_scf = scf.RHF(full_system_mol)\n",
    "HF_scf.verbose = 1\n",
    "HF_scf.conv_tol = 1e-6\n",
    "HF_scf.kernel()\n",
    "###"
   ]
  },
  {
   "cell_type": "code",
   "execution_count": null,
   "metadata": {},
   "outputs": [],
   "source": []
  },
  {
   "cell_type": "code",
   "execution_count": 4,
   "metadata": {},
   "outputs": [
    {
     "name": "stderr",
     "output_type": "stream",
     "text": [
      "/home/mwilliams/.cache/pypoetry/virtualenvs/nbed-g8dV7HW4-py3.8/lib/python3.8/site-packages/pyscf/dft/libxc.py:772: UserWarning: Since PySCF-2.3, B3LYP (and B3P86) are changed to the VWN-RPA variant, the same to the B3LYP functional in Gaussian and ORCA (issue 1480). To restore the VWN5 definition, you can put the setting \"B3LYP_WITH_VWN5 = True\" in pyscf_conf.py\n",
      "  warnings.warn('Since PySCF-2.3, B3LYP (and B3P86) are changed to the VWN-RPA variant, '\n",
      "/home/mwilliams/.cache/pypoetry/virtualenvs/nbed-g8dV7HW4-py3.8/lib/python3.8/site-packages/_distutils_hack/__init__.py:33: UserWarning: Setuptools is replacing distutils.\n",
      "  warnings.warn(\"Setuptools is replacing distutils.\")\n"
     ]
    }
   ],
   "source": [
    "from nbed.localizers import (\n",
    "    BOYSLocalizer,\n",
    "    IBOLocalizer,\n",
    "    Localizer,\n",
    "    PMLocalizer,\n",
    "    SPADELocalizer,\n",
    ")"
   ]
  },
  {
   "cell_type": "code",
   "execution_count": 5,
   "metadata": {},
   "outputs": [],
   "source": [
    "localizers = {\n",
    "    \"spade\": SPADELocalizer,\n",
    "    \"boys\": BOYSLocalizer,\n",
    "    \"ibo\": IBOLocalizer,\n",
    "    \"pipek-mezey\": PMLocalizer,\n",
    "}"
   ]
  },
  {
   "cell_type": "code",
   "execution_count": 6,
   "metadata": {},
   "outputs": [],
   "source": [
    "n_active_atoms = 2  # (first n rows are active in xyz file)\n",
    "loc_str = \"boys\"  # <--- change to perform different localization\n",
    "threshold = 0.95\n",
    "\n",
    "\n",
    "## object runs localization when initialized!\n",
    "loc_system = localizers[loc_str](\n",
    "    HF_scf,\n",
    "    n_active_atoms,\n",
    "    occ_cutoff=threshold,\n",
    "    # virt_cutoff=0.95,\n",
    "    # run_virtual_localization=False\n",
    ")"
   ]
  },
  {
   "cell_type": "code",
   "execution_count": 7,
   "metadata": {},
   "outputs": [
    {
     "name": "stdout",
     "output_type": "stream",
     "text": [
      "active MO inds: [0 3 4]\n",
      "enviro MO inds: [1 2]\n",
      "Localized MO threshold: [0.99988767 0.86614158 0.74106956 0.98629906 1.        ]\n",
      "indices above 0.95 set active\n"
     ]
    }
   ],
   "source": [
    "print(f\"active MO inds: {loc_system.active_MO_inds}\")\n",
    "print(f\"enviro MO inds: {loc_system.enviro_MO_inds}\")\n",
    "\n",
    "\n",
    "# orb threshold\n",
    "if loc_str != \"spade\":\n",
    "    print(\"Localized MO threshold:\", loc_system.enviro_selection_condition)\n",
    "    print(f\"indices above {threshold} set active\")\n",
    "    # indices above threshold (usually 95%) set to active"
   ]
  },
  {
   "cell_type": "code",
   "execution_count": 9,
   "metadata": {},
   "outputs": [
    {
     "name": "stdout",
     "output_type": "stream",
     "text": [
      "does: y_full = y_act + y_env ... True\n",
      "does: n_elec_full = n_elec_act + n_elec_env ... True\n"
     ]
    }
   ],
   "source": [
    "dm_localised_full_system = 2 * loc_system._c_loc_occ @ loc_system._c_loc_occ.conj().T\n",
    "dm_active = loc_system.dm_active\n",
    "dm_enviro = loc_system.dm_enviro\n",
    "\n",
    "# check act and env density give the full density\n",
    "print(\n",
    "    f\"does: y_full = y_act + y_env ... {np.allclose(dm_localised_full_system, dm_active + dm_enviro)}\"\n",
    ")\n",
    "\n",
    "\n",
    "# check number of electrons is still the same after orbitals have been localized (change of basis)\n",
    "s_ovlp = loc_system._global_ks.get_ovlp()\n",
    "n_active_electrons = np.trace(dm_active @ s_ovlp)\n",
    "n_enviro_electrons = np.trace(dm_enviro @ s_ovlp)\n",
    "\n",
    "\n",
    "# check number of electrons is correct\n",
    "print(\n",
    "    f\"does: n_elec_full = n_elec_act + n_elec_env ... {np.allclose(HF_scf.mol.nelectron, n_active_electrons+n_enviro_electrons)}\"\n",
    ")"
   ]
  },
  {
   "cell_type": "code",
   "execution_count": 10,
   "metadata": {},
   "outputs": [
    {
     "data": {
      "text/plain": [
       "array([[ 1.01008671e+00, -1.59054590e-01,  4.26034555e-15],\n",
       "       [-4.40640993e-02,  9.19996115e-01, -3.13826758e-16],\n",
       "       [-4.16468573e-15, -2.40346266e-16,  1.00000000e+00],\n",
       "       [ 9.15040240e-14, -4.37684418e-13,  3.35362240e-16],\n",
       "       [-1.37893210e-02,  5.57339367e-01,  2.95082195e-16],\n",
       "       [-1.07176792e-02, -1.29055262e-01, -2.75257096e-16],\n",
       "       [-1.07176792e-02, -1.29055262e-01, -2.74736379e-16]])"
      ]
     },
     "execution_count": 10,
     "metadata": {},
     "output_type": "execute_result"
    }
   ],
   "source": [
    "# active MOs\n",
    "loc_system.c_active"
   ]
  },
  {
   "cell_type": "code",
   "execution_count": 11,
   "metadata": {},
   "outputs": [
    {
     "data": {
      "text/plain": [
       "array([[ 8.56924393e-02, -2.56089624e-13],\n",
       "       [-3.60493326e-01,  6.23136670e-13],\n",
       "       [-5.32230746e-16, -9.18734758e-17],\n",
       "       [-8.16432016e-14,  6.05580236e-01],\n",
       "       [ 5.63722485e-01,  4.81741489e-13],\n",
       "       [-2.88421742e-01,  4.43789533e-01],\n",
       "       [-2.88421742e-01, -4.43789533e-01]])"
      ]
     },
     "execution_count": 11,
     "metadata": {},
     "output_type": "execute_result"
    }
   ],
   "source": [
    "# enviro MOs\n",
    "loc_system.c_enviro"
   ]
  },
  {
   "cell_type": "code",
   "execution_count": 12,
   "metadata": {},
   "outputs": [
    {
     "ename": "AttributeError",
     "evalue": "'BOYSLocalizer' object has no attribute 'c_loc_occ_and_virt'",
     "output_type": "error",
     "traceback": [
      "\u001b[0;31m---------------------------------------------------------------------------\u001b[0m",
      "\u001b[0;31mAttributeError\u001b[0m                            Traceback (most recent call last)",
      "\u001b[1;32m/home/mwilliams/Code/Nbed/docs/notebooks/2. Orbital Localization Functions.ipynb Cell 21\u001b[0m line \u001b[0;36m2\n\u001b[1;32m      <a href='vscode-notebook-cell:/home/mwilliams/Code/Nbed/docs/notebooks/2.%20Orbital%20Localization%20Functions.ipynb#X33sZmlsZQ%3D%3D?line=0'>1</a>\u001b[0m \u001b[39m# full localized C matrix\u001b[39;00m\n\u001b[0;32m----> <a href='vscode-notebook-cell:/home/mwilliams/Code/Nbed/docs/notebooks/2.%20Orbital%20Localization%20Functions.ipynb#X33sZmlsZQ%3D%3D?line=1'>2</a>\u001b[0m loc_system\u001b[39m.\u001b[39;49mc_loc_occ_and_virt\n",
      "\u001b[0;31mAttributeError\u001b[0m: 'BOYSLocalizer' object has no attribute 'c_loc_occ_and_virt'"
     ]
    }
   ],
   "source": [
    "# full localized C matrix\n",
    "loc_system."
   ]
  },
  {
   "cell_type": "code",
   "execution_count": 13,
   "metadata": {},
   "outputs": [
    {
     "ename": "AttributeError",
     "evalue": "'BOYSLocalizer' object has no attribute 'c_loc_occ_and_virt'",
     "output_type": "error",
     "traceback": [
      "\u001b[0;31m---------------------------------------------------------------------------\u001b[0m",
      "\u001b[0;31mAttributeError\u001b[0m                            Traceback (most recent call last)",
      "\u001b[1;32m/home/mwilliams/Code/Nbed/docs/notebooks/2. Orbital Localization Functions.ipynb Cell 22\u001b[0m line \u001b[0;36m5\n\u001b[1;32m      <a href='vscode-notebook-cell:/home/mwilliams/Code/Nbed/docs/notebooks/2.%20Orbital%20Localization%20Functions.ipynb#X34sZmlsZQ%3D%3D?line=0'>1</a>\u001b[0m \u001b[39m# to get active and environment C matrix slice this array using active_MO_inds and enviro_MO_inds\u001b[39;00m\n\u001b[1;32m      <a href='vscode-notebook-cell:/home/mwilliams/Code/Nbed/docs/notebooks/2.%20Orbital%20Localization%20Functions.ipynb#X34sZmlsZQ%3D%3D?line=1'>2</a>\u001b[0m \n\u001b[1;32m      <a href='vscode-notebook-cell:/home/mwilliams/Code/Nbed/docs/notebooks/2.%20Orbital%20Localization%20Functions.ipynb#X34sZmlsZQ%3D%3D?line=2'>3</a>\u001b[0m \u001b[39m## e.g. for environment\u001b[39;00m\n\u001b[1;32m      <a href='vscode-notebook-cell:/home/mwilliams/Code/Nbed/docs/notebooks/2.%20Orbital%20Localization%20Functions.ipynb#X34sZmlsZQ%3D%3D?line=3'>4</a>\u001b[0m np\u001b[39m.\u001b[39mallclose(\n\u001b[0;32m----> <a href='vscode-notebook-cell:/home/mwilliams/Code/Nbed/docs/notebooks/2.%20Orbital%20Localization%20Functions.ipynb#X34sZmlsZQ%3D%3D?line=4'>5</a>\u001b[0m     loc_system\u001b[39m.\u001b[39;49mc_loc_occ_and_virt[:, loc_system\u001b[39m.\u001b[39menviro_MO_inds], loc_system\u001b[39m.\u001b[39mc_enviro\n\u001b[1;32m      <a href='vscode-notebook-cell:/home/mwilliams/Code/Nbed/docs/notebooks/2.%20Orbital%20Localization%20Functions.ipynb#X34sZmlsZQ%3D%3D?line=5'>6</a>\u001b[0m )\n",
      "\u001b[0;31mAttributeError\u001b[0m: 'BOYSLocalizer' object has no attribute 'c_loc_occ_and_virt'"
     ]
    }
   ],
   "source": [
    "# to get active and environment C matrix slice this array using active_MO_inds and enviro_MO_inds\n",
    "\n",
    "## e.g. for environment\n",
    "np.allclose(\n",
    "    loc_system.c_loc_occ_and_virt[:, loc_system.enviro_MO_inds], loc_system.c_enviro\n",
    ")"
   ]
  },
  {
   "cell_type": "markdown",
   "metadata": {},
   "source": [
    "See notebook 1 on how to plot these LOCALIZED orbitals\n",
    "\n",
    "use c_loc_occ_and_virt / c_active / c_enviroment to plot localized orbitals"
   ]
  }
 ],
 "metadata": {
  "kernelspec": {
   "display_name": "Python 3 (ipykernel)",
   "language": "python",
   "name": "python3"
  },
  "language_info": {
   "codemirror_mode": {
    "name": "ipython",
    "version": 3
   },
   "file_extension": ".py",
   "mimetype": "text/x-python",
   "name": "python",
   "nbconvert_exporter": "python",
   "pygments_lexer": "ipython3",
   "version": "3.8.10"
  }
 },
 "nbformat": 4,
 "nbformat_minor": 4
}
