{
 "cells": [
  {
   "cell_type": "code",
   "execution_count": 1,
   "metadata": {},
   "outputs": [],
   "source": [
    "import numpy as np\n",
    "import os"
   ]
  },
  {
   "cell_type": "markdown",
   "metadata": {},
   "source": [
    "# Background\n",
    "\n",
    "The overlap matrix is:\n",
    "\n",
    "$$S_{\\mu \\nu} =  \\int d\\vec{r}_{1} \\phi_{\\mu}(1)^{*}\\phi_{\\nu}(1)$$\n",
    "\n",
    "- $\\phi_{\\mu}$ are basis functions (defined in basis set)\n",
    "\n",
    "\n",
    "The unknown molecular orbitals $\\psi_{i}$ are expanded as a linear expansion of the $K$ known basis functions $\\{ \\phi_{i} | i=1,2,..., K \\}$:\n",
    "\n",
    "$$ \\psi_{i} =  \\sum_{\\mu=1}^{K} C_{\\mu i} \\phi_{\\mu}$$\n",
    "\n",
    "\n",
    "$C$ is a $K \\times K$ matrix of expansion coefficients $C_{\\mu i}$. The columns of $C$ describe the molecular orbitals!\n",
    "\n",
    "\n",
    "We can find the total number of electrons $N$ in the system by:\n",
    "\n",
    "$$ N =  2 \\sum_{a}^{N/2}\\int d\\vec{r}  \\bigg( \\psi_{a}(\\vec{r})^{*} \\psi_{i}(\\vec{r}) \\bigg) =  2 \\sum_{a}^{N/2} 1$$\n",
    "\n",
    "- integral gives probablity of finding electron $a$ over all space (must be 1)\n",
    "- summing over all electrons will give the total number of electrons"
   ]
  },
  {
   "cell_type": "markdown",
   "metadata": {},
   "source": [
    "The charge density has the following definition:\n",
    "\n",
    "$$\\rho(\\vec{r}) = 2 \\sum_{a}^{N/2} \\bigg( \\psi_{a}(\\vec{r})^{*} \\psi_{i}(\\vec{r}) \\bigg)$$\n",
    "\n",
    "- re-write using definition of $\\psi_{i}=  \\sum_{\\mu=1}^{K} C_{\\mu i} \\phi_{\\mu}$\n",
    "\n",
    "$$\\rho(\\vec{r}) = 2 \\sum_{a}^{N/2} \\Bigg( \\bigg[ \\sum_{\\nu}^{K} C_{\\nu a}^{*} \\phi_{\\nu}(\\vec{r})^{*} \\bigg] \\bigg[ \\sum_{\\mu}^{K} C_{\\mu a}\\phi_{\\mu}(\\vec{r}) \\bigg] \\Bigg)$$\n",
    "\n",
    "- move things around\n",
    "\n",
    "$$\\rho(\\vec{r}) = \\sum_{\\nu}^{K} \\sum_{\\mu}^{K} \\Big( 2 \\sum_{a}^{N/2} C_{\\mu a} C_{\\nu a}^{*} \\Big) \\phi_{\\mu}(\\vec{r}) \\phi_{\\nu}(\\vec{r})^{*} $$\n",
    "\n",
    "- which is \n",
    "\n",
    "$$\\rho(\\vec{r}) = \\sum_{\\mu, \\nu}^{K} P_{\\mu \\nu} \\phi_{\\mu}(\\vec{r}) \\phi_{\\nu}(\\vec{r})^{*} $$\n",
    "\n",
    "\n",
    "- $P_{\\mu \\nu}$ is known as the density matrix and is:\n",
    "\n",
    "$$P_{\\mu \\nu} = 2 \\sum_{a}^{N/2} C_{\\mu a} C_{\\nu a}^{*}$$"
   ]
  },
  {
   "cell_type": "markdown",
   "metadata": {},
   "source": [
    "Therefore we can also find the total number of electrons in the system by:\n",
    "\n",
    "$$ N =  2 \\sum_{a}^{N/2}\\int d\\vec{r}  \\bigg( \\psi_{a}(\\vec{r})^{*} \\psi_{i}(\\vec{r}) \\bigg) =  \\sum_{\\nu}^{K} \\sum_{\\mu}^{K} \\Big( 2 \\sum_{a}^{N/2} C_{\\mu a} C_{\\nu a}^{*} \\Big) \\int d\\vec{r} \\phi_{\\mu}(\\vec{r})  \\phi_{\\nu}(\\vec{r})^{*}$$\n",
    "\n",
    "- This is simply:\n",
    "\n",
    "$$N =  \\sum_{\\nu}^{K} \\sum_{\\mu}^{K} P_{\\mu \\nu} S_{\\nu \\mu}= \\sum_{\\mu}^{K} PS_{\\mu \\mu} = \\mathcal{Tr}(PS)$$"
   ]
  },
  {
   "cell_type": "markdown",
   "metadata": {},
   "source": [
    "- One can interpret $ PS_{\\mu \\mu}$ in the above equation as the number of electrons associated with $ \\phi_{\\mu}$\n",
    "- This is a **Mulliken population analysis**"
   ]
  },
  {
   "cell_type": "markdown",
   "metadata": {},
   "source": [
    "# Orbital Localization"
   ]
  },
  {
   "cell_type": "markdown",
   "metadata": {},
   "source": [
    "- When we perform a SCF calculation, one gets an optimized C matrix\n",
    "    - $C$ is a $K \\times K$ matrix of expansion coefficients $C_{\\mu i}$\n",
    "    - The columns of $C$ describe the molecular orbitals!\n",
    "    - MO i: $ \\psi_{i} =  \\sum_{\\mu=1}^{K} C_{\\mu i} \\phi_{\\mu}$\n",
    "    \n",
    "    \n",
    "- These molecular orbitals are usually **delocalized**\n",
    "    - non-negligible amplitude over the whole system, rather than only around some atom(s) or bond(s)\n",
    "\n",
    "- But we know in QM that a given basis choice is NOT unique\n",
    "\n",
    "\n",
    "- We can therefore perform a unitary rotation on molecular orbitals\n",
    "\n",
    "$$ \\psi_{i} U_{rot} =  \\Big( \\sum_{\\mu=1}^{K} C_{\\mu i} \\phi_{\\mu} \\Big) U_{rot} = \\psi_{i}^{new}$$\n",
    "    \n",
    "    \n",
    "The idea is to use a rotation such that the resulting orbitals $\\psi_{i}^{new}$ are as spatially localized as possible. \n",
    "\n",
    "\n",
    "The Pipek-Mezey (PM) [localization](https://notendur.hi.is/hj/papers/paperPipekmezey8.pdf) **maximizes the population charges on the atoms**:\n",
    "\n",
    "$$ f (U_{rot}) = \\sum_{A}^{N_{atoms}} \\Bigg( Z_{A} -  \\sum_{\\mu \\text{ on atom } A} PS_{\\mu \\mu} \\Bigg)$$"
   ]
  },
  {
   "cell_type": "markdown",
   "metadata": {},
   "source": [
    "### Method 1\n",
    "- Given optimized $C$ coefficient matrix\n",
    "    - which has been rotated to localize orbitals\n",
    "    - (used to build localized density matrix)\n",
    "\n",
    "\n",
    "- **Look through basis functions $\\phi_{\\mu}$ of the ACTIVE atoms**\n",
    "\n",
    "    \n",
    "- check the mulliken charge // mulliken population of the orbital\n",
    "    - if above a certain threshold associate it to active system\n",
    "    - otherwise put in the environment\n",
    " \n",
    "\n",
    "\n",
    "To choose the active and enviroment subsystems we do the following:\n",
    "\n",
    "1. Given a localized molecular orbs (localized C matrix), we take the absolute mag squared of the coefficients of the active part for a given localized orb and divide by the absolute mag squared of all the coefficents of a that orb... THis will give a value of how much the active system contributes to that orb.\n",
    "\n",
    "2. Mathematically, for orbital $j$ \n",
    "    - remember MO orbs given by columns of C matrix\n",
    "    - In equation below C matrix is the LOCALIZED form!\n",
    "\n",
    "\n",
    "$$ \\text{threshold} =  \\frac{\\sum_{\\mu\\in \\text{active AO}}^{K} |C_{\\mu j}|^{2}}{\\sum_{\\mu =1}^{K} |C_{\\mu j}|^{2}}$$"
   ]
  },
  {
   "cell_type": "markdown",
   "metadata": {},
   "source": [
    "## METHOD 2 - SPADE\n",
    "\n",
    "    "
   ]
  },
  {
   "cell_type": "markdown",
   "metadata": {},
   "source": [
    "Subsytem Projected Atomic orbital DEcomposition (SPADE) begins by orthogonalising the occupied MOs\n",
    "\n",
    "$$ \\bar{C}_{occ} = S^{-1/2}C_{occ}$$\n",
    "\n",
    "We project these onto the active atomic orbitals (erasing the contribution from the environment AOs to the MO matrix).\n",
    "\n",
    "$$ \\bar{C}_{occ}^A = P_A\\bar{C}_{occ}$$\n",
    "\n",
    "A singlular value decomposition of these is then taken\n",
    "\n",
    "$$ \\bar{C}_{occ}^A = U \\Sigma V^{T}$$\n",
    "\n",
    "The singular values $\\{\\sigma\\}$ given as the diagonal elements of $\\Sigma$, are then used to define the subsytem decomposition by locating the maximum change in singluar value\n",
    "\n",
    "$$ m = max_{i} \\bigg(\\sigma_{i} - \\sigma_{i+1} \\bigg)$$\n",
    "\n",
    "The occupied MOs are then rotated into the SPADE basis using the right singular vectors of the SVD\n",
    "\n",
    "$$ \\bar{C}_{occ}^{SPADE} = \\bar{C}_{occ} V_{m}$$\n",
    "\n",
    "The SPADE basis is then used to define the active and environment subsystems, taking the first m orbitals as the active subsystem and the remaining as the environment."
   ]
  },
  {
   "cell_type": "markdown",
   "metadata": {},
   "source": [
    "Let's start by building a molucule and SCF object."
   ]
  },
  {
   "cell_type": "code",
   "execution_count": 2,
   "metadata": {},
   "outputs": [
    {
     "name": "stdout",
     "output_type": "stream",
     "text": [
      "/home/mwilliams/Code/Nbed/docs/notebooks/molecular_structures/acetonitrile.xyz\n"
     ]
    }
   ],
   "source": [
    "from pathlib import Path\n",
    "\n",
    "water_filepath = Path(\"molecular_structures/acetonitrile.xyz\").absolute()\n",
    "print(water_filepath)\n",
    "\n",
    "basis = \"STO-3G\"\n",
    "charge = 0\n",
    "xc_functional = \"b3lyp\"\n",
    "convergence = 1e-6\n",
    "pyscf_print_level = 1\n",
    "max_ram_memory = 4_000\n",
    "n_active_atoms = 2\n",
    "occ_cutoff = 0.95\n",
    "virt_cutoff = 0.95\n",
    "run_virtual_localization = False\n"
   ]
  },
  {
   "cell_type": "code",
   "execution_count": 3,
   "metadata": {},
   "outputs": [
    {
     "name": "stderr",
     "output_type": "stream",
     "text": [
      "/home/mwilliams/.cache/pypoetry/virtualenvs/nbed-g8dV7HW4-py3.8/lib/python3.8/site-packages/pyscf/dft/libxc.py:772: UserWarning: Since PySCF-2.3, B3LYP (and B3P86) are changed to the VWN-RPA variant, the same to the B3LYP functional in Gaussian and ORCA (issue 1480). To restore the VWN5 definition, you can put the setting \"B3LYP_WITH_VWN5 = True\" in pyscf_conf.py\n",
      "  warnings.warn('Since PySCF-2.3, B3LYP (and B3P86) are changed to the VWN-RPA variant, '\n"
     ]
    },
    {
     "data": {
      "text/plain": [
       "-131.06532518358154"
      ]
     },
     "execution_count": 3,
     "metadata": {},
     "output_type": "execute_result"
    }
   ],
   "source": [
    "from pyscf import gto, scf\n",
    "\n",
    "full_mol = gto.Mole(\n",
    "    atom=str(water_filepath),\n",
    "    basis=basis,\n",
    "    charge=charge,\n",
    ").build()\n",
    "\n",
    "global_ks = scf.RKS(full_mol)\n",
    "global_ks.conv_tol = convergence\n",
    "global_ks.xc = xc_functional\n",
    "global_ks.max_memory = max_ram_memory\n",
    "global_ks.verbose = pyscf_print_level\n",
    "global_ks.kernel()"
   ]
  },
  {
   "cell_type": "code",
   "execution_count": 4,
   "metadata": {},
   "outputs": [],
   "source": [
    "from scipy import linalg\n",
    "import numpy as np\n",
    "\n",
    "# Locate he occupied orbitals\n",
    "occupancy = global_ks.mo_occ\n",
    "n_occupied_orbitals = np.count_nonzero(occupancy)\n",
    "occupied_orbitals = global_ks.mo_coeff[:, :n_occupied_orbitals]\n",
    "\n",
    "# Project onto the active AOs\n",
    "# Do this by erasing rows of the C matrix \n",
    "# that correspond to contributions from the environment\n",
    "# this only works because we have placed our active atoms at the start of the file.\n",
    "n_act_aos = global_ks.mol.aoslice_by_atom()[n_active_atoms - 1][-1]\n",
    "\n",
    "# Orthogonalise the MOs\n",
    "ao_overlap = global_ks.get_ovlp()\n",
    "\n",
    "rotated_orbitals = (\n",
    "    linalg.fractional_matrix_power(ao_overlap, 0.5) @ occupied_orbitals\n",
    ")\n",
    "\n",
    "# Take the SVD of the rotated and projected orbitals\n",
    "_, sigma, right_vectors = linalg.svd(rotated_orbitals[:n_act_aos, :])\n",
    "\n",
    "\n",
    "# Prevents an error with argmax\n",
    "if len(sigma) == 1:\n",
    "    n_act_mos = 1\n",
    "else:\n",
    "    value_diffs = sigma[:-1] - sigma[1:]\n",
    "    n_act_mos = np.argmax(value_diffs) + 1\n",
    "\n",
    "n_env_mos = n_occupied_orbitals - n_act_mos\n",
    "\n",
    "# get active and enviro indices\n",
    "active_MO_inds = np.arange(n_act_mos)\n",
    "enviro_MO_inds = np.arange(n_act_mos, n_act_mos + n_env_mos)\n",
    "\n",
    "# Defining active and environment orbitals and density\n",
    "c_active = occupied_orbitals @ right_vectors.T[:, :n_act_mos]\n",
    "c_enviro = occupied_orbitals @ right_vectors.T[:, n_act_mos:]\n",
    "c_loc_occ = occupied_orbitals @ right_vectors.T"
   ]
  },
  {
   "cell_type": "code",
   "execution_count": 5,
   "metadata": {},
   "outputs": [
    {
     "name": "stdout",
     "output_type": "stream",
     "text": [
      "n_act_mos=7\n",
      "n_env_mos=4\n",
      "active_MO_inds=array([0, 1, 2, 3, 4, 5, 6])\n",
      "enviro_MO_inds=array([ 7,  8,  9, 10])\n",
      "c_active.shape=(18, 7)\n",
      "c_enviro.shape=(18, 4)\n"
     ]
    }
   ],
   "source": [
    "print(f\"{n_act_mos=}\")\n",
    "print(f\"{n_env_mos=}\")\n",
    "\n",
    "print(f\"{active_MO_inds=}\")\n",
    "print(f\"{enviro_MO_inds=}\")\n",
    "\n",
    "print(f\"{c_active.shape=}\")\n",
    "print(f\"{c_enviro.shape=}\")"
   ]
  },
  {
   "cell_type": "markdown",
   "metadata": {},
   "source": [
    "### Virtual Orbital Localization via Concentric Localization\n",
    "\n",
    "[1] D. Claudino and N. J. Mayhall, \"Simple and Efficient Truncation of Virtual Spaces in Embedded Wave Functions via Concentric Localization\", Journal of Chemical Theory and Computation, vol. 15, no. 11, pp. 6085-6096, Nov. 2019, doi: 10.1021/ACS.JCTC.9B00682."
   ]
  },
  {
   "cell_type": "markdown",
   "metadata": {},
   "source": [
    "Concentric localization is an extension of SPADE which allows for virtual orbitals to be localized.\n",
    "\n",
    "We begin by projecting the MOs onto the active region as before.\n",
    "\n",
    "$$ \\bar{C}^A = P_A\\bar{C}$$\n",
    "\n",
    "The first step of the iterative process requires finding the virtual orbitals in the projected basis. Note that these virtual orbitals should not include those which have been projected out of the active space.\n",
    "\n",
    "$$ C^A_{vir} = S^{-1}_A S_{PB,WB} C_{vir} $$\n",
    "\n",
    "Where the overlap matrix between the projected basis and the `working basis` is given by\n",
    "\n",
    "$$ [S_{PB,WB}]_{i,j} = \\langle a_i | u_j \\rangle \\ \\{a_i \\in C^A, u_j \\in C\\}$$\n",
    "\n",
    "We can then begin to build up a set of localized orbitals iteratively. For the initial step, we find the overlap of the two sets of orbitals and singlular value decompose this.\n",
    "\n",
    "$$ C^A_{vir} S_{PB,WB} C_{vir} = U \\Sigma V^{T}$$\n",
    "\n",
    "By splitting the $V$ matrix into its image and kernel, we can define two sets of orbitals for the $0th$ iteration.\n",
    "\n",
    "Let $T: V \\to W$ we a linear transformation, then the image and kernel of $T$ are defined as\n",
    "\n",
    "$$ im\\ T = T(V) = \\{T(v) | v \\in V\\}$$\n",
    "$$ ker\\ T = \\{v \\in V | T(v) = 0\\}$$\n",
    "\n",
    "$$ C_0 = C_{vir} V_{image}$$\n",
    "$$ C_{0,k} = C_{vir} V_{ker}$$\n",
    "\n",
    "Subesquent iterations are found using the overlap of these two sets of orbitals under the action of the Fock operator $F$.\n",
    "\n",
    "$$ C_n^{\\dagger} F C_{n,k} = U_n \\Sigma_n V_n^{T}$$\n",
    "\n",
    "$$ C_{n+1} = C_{n} V_{n,image}$$\n",
    "$$ C_{n+1,k} = C_{n} V_{n,ker}$$\n",
    "\n",
    "$$ C_{active\\ space} \\to \\{C_0, C_1, \\dots, C_{n+1}\\}"
   ]
  },
  {
   "cell_type": "code",
   "execution_count": 6,
   "metadata": {},
   "outputs": [
    {
     "data": {
      "text/plain": [
       "10"
      ]
     },
     "execution_count": 6,
     "metadata": {},
     "output_type": "execute_result"
    }
   ],
   "source": [
    "n_act_aos"
   ]
  },
  {
   "cell_type": "code",
   "execution_count": 7,
   "metadata": {},
   "outputs": [],
   "source": [
    "# First lets define how many total orbitals we want to have\n",
    "max_orbs = 15"
   ]
  },
  {
   "cell_type": "code",
   "execution_count": 8,
   "metadata": {},
   "outputs": [],
   "source": [
    "c_initial = global_ks.mo_coeff\n",
    "c_active = c_initial[:, :n_act_aos]\n",
    "\n",
    "virtual_orbs = np.where(global_ks.mo_occ == 0)[0]\n",
    "c_virtual = c_initial[:, virtual_orbs]"
   ]
  },
  {
   "cell_type": "code",
   "execution_count": 11,
   "metadata": {},
   "outputs": [
    {
     "ename": "ValueError",
     "evalue": "expected square array_like input",
     "output_type": "error",
     "traceback": [
      "\u001b[0;31m---------------------------------------------------------------------------\u001b[0m",
      "\u001b[0;31mValueError\u001b[0m                                Traceback (most recent call last)",
      "\u001b[1;32m/home/mwilliams/Code/Nbed/docs/notebooks/2. Orbital Localization Functions.ipynb Cell 21\u001b[0m line \u001b[0;36m4\n\u001b[1;32m      <a href='vscode-notebook-cell:/home/mwilliams/Code/Nbed/docs/notebooks/2.%20Orbital%20Localization%20Functions.ipynb#X25sZmlsZQ%3D%3D?line=0'>1</a>\u001b[0m s_active \u001b[39m=\u001b[39m c_active\u001b[39m.\u001b[39mT \u001b[39m@\u001b[39m c_active \u001b[39m# This doesnt seem right\u001b[39;00m\n\u001b[1;32m      <a href='vscode-notebook-cell:/home/mwilliams/Code/Nbed/docs/notebooks/2.%20Orbital%20Localization%20Functions.ipynb#X25sZmlsZQ%3D%3D?line=1'>2</a>\u001b[0m s_pbwb \u001b[39m=\u001b[39m c_active\u001b[39m.\u001b[39mT \u001b[39m@\u001b[39m c_initial\n\u001b[0;32m----> <a href='vscode-notebook-cell:/home/mwilliams/Code/Nbed/docs/notebooks/2.%20Orbital%20Localization%20Functions.ipynb#X25sZmlsZQ%3D%3D?line=3'>4</a>\u001b[0m left \u001b[39m=\u001b[39m linalg\u001b[39m.\u001b[39;49mfractional_matrix_power(\u001b[39m-\u001b[39;49m\u001b[39m1\u001b[39;49m, s_active)\n\u001b[1;32m      <a href='vscode-notebook-cell:/home/mwilliams/Code/Nbed/docs/notebooks/2.%20Orbital%20Localization%20Functions.ipynb#X25sZmlsZQ%3D%3D?line=4'>5</a>\u001b[0m operator \u001b[39m=\u001b[39m s_pbwb\n\u001b[1;32m      <a href='vscode-notebook-cell:/home/mwilliams/Code/Nbed/docs/notebooks/2.%20Orbital%20Localization%20Functions.ipynb#X25sZmlsZQ%3D%3D?line=5'>6</a>\u001b[0m right \u001b[39m=\u001b[39m c_virtual\n",
      "File \u001b[0;32m~/.cache/pypoetry/virtualenvs/nbed-g8dV7HW4-py3.8/lib/python3.8/site-packages/scipy/linalg/_matfuncs.py:139\u001b[0m, in \u001b[0;36mfractional_matrix_power\u001b[0;34m(A, t)\u001b[0m\n\u001b[1;32m     99\u001b[0m \u001b[39m\u001b[39m\u001b[39m\"\"\"\u001b[39;00m\n\u001b[1;32m    100\u001b[0m \u001b[39mCompute the fractional power of a matrix.\u001b[39;00m\n\u001b[1;32m    101\u001b[0m \n\u001b[0;32m   (...)\u001b[0m\n\u001b[1;32m    135\u001b[0m \n\u001b[1;32m    136\u001b[0m \u001b[39m\"\"\"\u001b[39;00m\n\u001b[1;32m    137\u001b[0m \u001b[39m# This fixes some issue with imports;\u001b[39;00m\n\u001b[1;32m    138\u001b[0m \u001b[39m# this function calls onenormest which is in scipy.sparse.\u001b[39;00m\n\u001b[0;32m--> 139\u001b[0m A \u001b[39m=\u001b[39m _asarray_square(A)\n\u001b[1;32m    140\u001b[0m \u001b[39mimport\u001b[39;00m \u001b[39mscipy\u001b[39;00m\u001b[39m.\u001b[39;00m\u001b[39mlinalg\u001b[39;00m\u001b[39m.\u001b[39;00m\u001b[39m_matfuncs_inv_ssq\u001b[39;00m\n\u001b[1;32m    141\u001b[0m \u001b[39mreturn\u001b[39;00m scipy\u001b[39m.\u001b[39mlinalg\u001b[39m.\u001b[39m_matfuncs_inv_ssq\u001b[39m.\u001b[39m_fractional_matrix_power(A, t)\n",
      "File \u001b[0;32m~/.cache/pypoetry/virtualenvs/nbed-g8dV7HW4-py3.8/lib/python3.8/site-packages/scipy/linalg/_matfuncs.py:56\u001b[0m, in \u001b[0;36m_asarray_square\u001b[0;34m(A)\u001b[0m\n\u001b[1;32m     54\u001b[0m A \u001b[39m=\u001b[39m np\u001b[39m.\u001b[39masarray(A)\n\u001b[1;32m     55\u001b[0m \u001b[39mif\u001b[39;00m \u001b[39mlen\u001b[39m(A\u001b[39m.\u001b[39mshape) \u001b[39m!=\u001b[39m \u001b[39m2\u001b[39m \u001b[39mor\u001b[39;00m A\u001b[39m.\u001b[39mshape[\u001b[39m0\u001b[39m] \u001b[39m!=\u001b[39m A\u001b[39m.\u001b[39mshape[\u001b[39m1\u001b[39m]:\n\u001b[0;32m---> 56\u001b[0m     \u001b[39mraise\u001b[39;00m \u001b[39mValueError\u001b[39;00m(\u001b[39m'\u001b[39m\u001b[39mexpected square array_like input\u001b[39m\u001b[39m'\u001b[39m)\n\u001b[1;32m     57\u001b[0m \u001b[39mreturn\u001b[39;00m A\n",
      "\u001b[0;31mValueError\u001b[0m: expected square array_like input"
     ]
    }
   ],
   "source": [
    "s_active = c_active.T @ c_active # This doesnt seem right\n",
    "s_pbwb = c_active.T @ c_initial # This is incorrect, they use a pyscf intor in psiembd\n",
    "\n",
    "left = np.linalg.inv(s_active)\n",
    "operator = s_pbwb\n",
    "right = c_virtual\n",
    "\n",
    "_, sigma, right_vectors = linalg.svd(left @ s_pbwb @ right)\n",
    "\n",
    "# We'll iteratively build up the total C matrix\n",
    "c_total = c_active\n",
    "\n",
    "while True:\n",
    "\n",
    "    # how to get the span and kernel of v?\n",
    "    print(sigma)\n",
    "\n",
    "    v_span = right[:, np.where(sigma >= 1e-15)] # 0 but instability\n",
    "    v_ker = right[:, np.where(sigma < 1e-15)]\n",
    "\n",
    "    c_i = right @ v_span\n",
    "\n",
    "    if np.np.where(abs(sigma) >= 1e-15).shape[1] == 0:\n",
    "        c_iker = right ## or goes to 0 matrix?\n",
    "    else:\n",
    "        c_iker = right @ v_ker\n",
    "\n",
    "    c_total = np.hstack((c_total, c_i))\n",
    "\n",
    "    if c_total.shape[1] >= max_orbs:\n",
    "        break\n",
    "\n",
    "    _, sigma, right_vectors = linalg.svd(c_i.T @ global_ks.get_hcore() @ c_iker)"
   ]
  },
  {
   "cell_type": "markdown",
   "metadata": {},
   "source": [
    "### PySCF methods"
   ]
  },
  {
   "cell_type": "code",
   "execution_count": null,
   "metadata": {},
   "outputs": [],
   "source": [
    "# get xyz file for water\n",
    "\n",
    "notebook_dir = os.getcwd()\n",
    "docs_dir = os.path.dirname(notebook_dir)\n",
    "NBed_dir = os.path.dirname(docs_dir)\n",
    "Test_dir = os.path.join(NBed_dir, \"tests\")\n",
    "mol_dir = os.path.join(Test_dir, \"molecules\")\n",
    "\n",
    "water_xyz_path = os.path.join(mol_dir, \"water.xyz\")"
   ]
  },
  {
   "cell_type": "code",
   "execution_count": null,
   "metadata": {},
   "outputs": [],
   "source": [
    "### inputs\n",
    "from pyscf import gto, scf\n",
    "\n",
    "basis = \"STO-3G\"\n",
    "charge = 0\n",
    "spin = 0\n",
    "full_system_mol = gto.Mole(\n",
    "    atom=water_xyz_path,\n",
    "    basis=basis,\n",
    "    charge=charge,\n",
    "    spin=spin,\n",
    ")\n",
    "full_system_mol.build()\n",
    "\n",
    "HF_scf = scf.RHF(full_system_mol)\n",
    "HF_scf.verbose = 1\n",
    "HF_scf.conv_tol = 1e-6\n",
    "HF_scf.kernel()\n",
    "###"
   ]
  },
  {
   "cell_type": "code",
   "execution_count": null,
   "metadata": {},
   "outputs": [],
   "source": [
    "from nbed.localizers import (\n",
    "    BOYSLocalizer,\n",
    "    IBOLocalizer,\n",
    "    Localizer,\n",
    "    PMLocalizer,\n",
    "    SPADELocalizer,\n",
    ")"
   ]
  },
  {
   "cell_type": "code",
   "execution_count": null,
   "metadata": {},
   "outputs": [],
   "source": [
    "localizers = {\n",
    "    \"spade\": SPADELocalizer,\n",
    "    \"boys\": BOYSLocalizer,\n",
    "    \"ibo\": IBOLocalizer,\n",
    "    \"pipek-mezey\": PMLocalizer,\n",
    "}"
   ]
  },
  {
   "cell_type": "code",
   "execution_count": null,
   "metadata": {},
   "outputs": [],
   "source": [
    "n_active_atoms = 2  # (first n rows are active in xyz file)\n",
    "loc_str = \"boys\"  # <--- change to perform different localization\n",
    "threshold = 0.95\n",
    "\n",
    "\n",
    "## object runs localization when initialized!\n",
    "loc_system = localizers[loc_str](\n",
    "    HF_scf,\n",
    "    n_active_atoms,\n",
    "    occ_cutoff=threshold,\n",
    "    # virt_cutoff=0.95,\n",
    "    # run_virtual_localization=False\n",
    ")"
   ]
  },
  {
   "cell_type": "code",
   "execution_count": null,
   "metadata": {},
   "outputs": [],
   "source": [
    "print(f\"active MO inds: {loc_system.active_MO_inds}\")\n",
    "print(f\"enviro MO inds: {loc_system.enviro_MO_inds}\")\n",
    "\n",
    "\n",
    "# orb threshold\n",
    "if loc_str != \"spade\":\n",
    "    print(\"Localized MO threshold:\", loc_system.enviro_selection_condition)\n",
    "    print(f\"indices above {threshold} set active\")\n",
    "    # indices above threshold (usually 95%) set to active"
   ]
  },
  {
   "cell_type": "code",
   "execution_count": null,
   "metadata": {},
   "outputs": [],
   "source": [
    "dm_localised_full_system = 2 * loc_system._c_loc_occ @ loc_system._c_loc_occ.conj().T\n",
    "dm_active = loc_system.dm_active\n",
    "dm_enviro = loc_system.dm_enviro\n",
    "\n",
    "# check act and env density give the full density\n",
    "print(\n",
    "    f\"does: y_full = y_act + y_env ... {np.allclose(dm_localised_full_system, dm_active + dm_enviro)}\"\n",
    ")\n",
    "\n",
    "\n",
    "# check number of electrons is still the same after orbitals have been localized (change of basis)\n",
    "s_ovlp = loc_system._global_ks.get_ovlp()\n",
    "n_active_electrons = np.trace(dm_active @ s_ovlp)\n",
    "n_enviro_electrons = np.trace(dm_enviro @ s_ovlp)\n",
    "\n",
    "\n",
    "# check number of electrons is correct\n",
    "print(\n",
    "    f\"does: n_elec_full = n_elec_act + n_elec_env ... {np.allclose(HF_scf.mol.nelectron, n_active_electrons+n_enviro_electrons)}\"\n",
    ")"
   ]
  },
  {
   "cell_type": "code",
   "execution_count": null,
   "metadata": {},
   "outputs": [],
   "source": [
    "# active MOs\n",
    "loc_system.c_active"
   ]
  },
  {
   "cell_type": "code",
   "execution_count": null,
   "metadata": {},
   "outputs": [],
   "source": [
    "# enviro MOs\n",
    "loc_system.c_enviro"
   ]
  },
  {
   "cell_type": "code",
   "execution_count": null,
   "metadata": {},
   "outputs": [],
   "source": [
    "# full localized C matrix\n",
    "loc_system."
   ]
  },
  {
   "cell_type": "code",
   "execution_count": null,
   "metadata": {},
   "outputs": [],
   "source": [
    "# to get active and environment C matrix slice this array using active_MO_inds and enviro_MO_inds\n",
    "\n",
    "## e.g. for environment\n",
    "np.allclose(\n",
    "    loc_system.c_loc_occ_and_virt[:, loc_system.enviro_MO_inds], loc_system.c_enviro\n",
    ")"
   ]
  },
  {
   "cell_type": "markdown",
   "metadata": {},
   "source": [
    "See notebook 1 on how to plot these LOCALIZED orbitals\n",
    "\n",
    "use c_loc_occ_and_virt / c_active / c_enviroment to plot localized orbitals"
   ]
  }
 ],
 "metadata": {
  "kernelspec": {
   "display_name": "Python 3 (ipykernel)",
   "language": "python",
   "name": "python3"
  },
  "language_info": {
   "codemirror_mode": {
    "name": "ipython",
    "version": 3
   },
   "file_extension": ".py",
   "mimetype": "text/x-python",
   "name": "python",
   "nbconvert_exporter": "python",
   "pygments_lexer": "ipython3",
   "version": "3.8.10"
  }
 },
 "nbformat": 4,
 "nbformat_minor": 4
}
