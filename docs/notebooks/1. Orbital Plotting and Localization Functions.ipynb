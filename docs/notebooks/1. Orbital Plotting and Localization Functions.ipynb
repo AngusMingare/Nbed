{
 "cells": [
  {
   "cell_type": "markdown",
   "metadata": {},
   "source": [
    "Note requires py3Dmol:\n",
    "\n",
    "```pip install py3Dmol```"
   ]
  },
  {
   "cell_type": "code",
   "execution_count": null,
   "metadata": {},
   "outputs": [],
   "source": [
    "import os"
   ]
  },
  {
   "cell_type": "code",
   "execution_count": null,
   "metadata": {},
   "outputs": [],
   "source": [
    "# get xyz file for water\n",
    "\n",
    "notebook_dir = os.getcwd()\n",
    "NBed_dir = os.path.dirname(notebook_dir)\n",
    "Test_dir = os.path.join(NBed_dir, 'tests')\n",
    "mol_dir = os.path.join(Test_dir, 'molecules')\n",
    "\n",
    "water_xyz_path = os.path.join(mol_dir, 'water.xyz')"
   ]
  },
  {
   "cell_type": "code",
   "execution_count": null,
   "metadata": {},
   "outputs": [],
   "source": [
    "with open(water_xyz_path, 'r') as infile:\n",
    "    water_xyz = infile.read()\n",
    "    \n",
    "print(water_xyz)"
   ]
  },
  {
   "cell_type": "code",
   "execution_count": null,
   "metadata": {},
   "outputs": [],
   "source": [
    "from nbed.mol_plot import Draw_molecule\n",
    "##### \n",
    "\n",
    "mol_viewer = Draw_molecule(water_xyz,\n",
    "                           width=400,\n",
    "                           height=400,\n",
    "                           style='sphere') # <--- sphere style\n",
    "\n",
    "mol_viewer.show()"
   ]
  },
  {
   "cell_type": "code",
   "execution_count": null,
   "metadata": {},
   "outputs": [],
   "source": [
    "mol_viewer = Draw_molecule(water_xyz,\n",
    "                           width=400,\n",
    "                           height=400,\n",
    "                           style='stick') # <--- stick style\n",
    "\n",
    "mol_viewer.show()"
   ]
  },
  {
   "cell_type": "code",
   "execution_count": null,
   "metadata": {},
   "outputs": [],
   "source": [
    "from nbed.mol_plot import Draw_cube_orbital\n",
    "from pyscf import gto, scf\n",
    "\n",
    "### inputs\n",
    "basis = 'STO-3G'\n",
    "charge=0\n",
    "spin=0\n",
    "full_system_mol = gto.Mole(atom=water_xyz_path,\n",
    "                      basis=basis,\n",
    "                       charge=charge,\n",
    "                       spin=spin,\n",
    "                      )\n",
    "full_system_mol.build()\n",
    "\n",
    "HF_scf = scf.RHF(full_system_mol)\n",
    "HF_scf.verbose=1\n",
    "HF_scf.conv_tol = 1e-6\n",
    "HF_scf.kernel()\n",
    "\n",
    "\n",
    "C_matrix = HF_scf.mo_coeff\n",
    "index_list = list(range(C_matrix.shape[1]))\n",
    "###\n",
    "\n",
    "orbital_list = Draw_cube_orbital(full_system_mol,\n",
    "                  water_xyz,\n",
    "                  C_matrix,\n",
    "                  index_list,\n",
    "                  width=400,\n",
    "                  height=400,\n",
    "                  style='sphere')"
   ]
  },
  {
   "cell_type": "code",
   "execution_count": null,
   "metadata": {},
   "outputs": [],
   "source": [
    "orbital_list = Draw_cube_orbital(full_system_mol,\n",
    "                  water_xyz,\n",
    "                  C_matrix,\n",
    "                  index_list,\n",
    "                  width=400,\n",
    "                  height=400,\n",
    "                  style='sphere')\n",
    "\n",
    "orbital_list[0].show()"
   ]
  },
  {
   "cell_type": "code",
   "execution_count": null,
   "metadata": {},
   "outputs": [],
   "source": [
    "orbital_list = Draw_cube_orbital(full_system_mol,\n",
    "                  water_xyz,\n",
    "                  C_matrix,\n",
    "                  index_list,\n",
    "                  width=400,\n",
    "                  height=400,\n",
    "                  style='stick')\n",
    "\n",
    "orbital_list[0].show()"
   ]
  },
  {
   "cell_type": "code",
   "execution_count": null,
   "metadata": {},
   "outputs": [],
   "source": [
    "## run to plot each orbital in list!\n",
    "\n",
    "# for MO in orbital_list:\n",
    "#     MO.show()"
   ]
  },
  {
   "cell_type": "code",
   "execution_count": null,
   "metadata": {},
   "outputs": [],
   "source": []
  },
  {
   "cell_type": "markdown",
   "metadata": {},
   "source": [
    "# Edge case - unreal molecules (like H4)"
   ]
  },
  {
   "cell_type": "code",
   "execution_count": null,
   "metadata": {},
   "outputs": [],
   "source": [
    "H4_xyz = '4\\n \\nH\\t0.0\\t0.0\\t0.0\\nH\\t2.45366053071732\\t0.0\\t0.0\\nH\\t2.45366053071732\\t2.45366053071732\\t0.0\\nH\\t0.0\\t2.45366053071732\\t0.0\\n'\n",
    "\n",
    "mol_viewer = Draw_molecule(H4_xyz,\n",
    "                           width=400,\n",
    "                           height=400,\n",
    "                           style='sphere') # <--- sphere style\n",
    "\n",
    "mol_viewer.show()"
   ]
  },
  {
   "cell_type": "code",
   "execution_count": null,
   "metadata": {},
   "outputs": [],
   "source": [
    "# stick will not work - as H4 cannot have bonding shown\n",
    "\n",
    "mol_viewer = Draw_molecule(H4_xyz,\n",
    "                           width=400,\n",
    "                           height=400,\n",
    "                           style='stick') # <--- stick style\n",
    "\n",
    "mol_viewer.show()"
   ]
  }
 ],
 "metadata": {
  "kernelspec": {
   "display_name": "Python 3 (ipykernel)",
   "language": "python",
   "name": "python3"
  },
  "language_info": {
   "codemirror_mode": {
    "name": "ipython",
    "version": 3
   },
   "file_extension": ".py",
   "mimetype": "text/x-python",
   "name": "python",
   "nbconvert_exporter": "python",
   "pygments_lexer": "ipython3",
   "version": "3.8.12"
  }
 },
 "nbformat": 4,
 "nbformat_minor": 4
}
