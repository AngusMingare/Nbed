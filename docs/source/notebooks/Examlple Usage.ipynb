{
 "cells": [
  {
   "cell_type": "markdown",
   "metadata": {},
   "source": [
    "# Example Usage\n",
    "\n",
    "It's very simple to use this pacakge. You can either import it directly into a python script with `from nbed import nbed`, or run the command `nbed` from the terminal.\n",
    "\n",
    "## Importing\n",
    "Here's an example where we've imported the package and pointed it at a `.xyz` file."
   ]
  },
  {
   "cell_type": "code",
   "execution_count": 2,
   "metadata": {},
   "outputs": [
    {
     "name": "stderr",
     "output_type": "stream",
     "text": [
      "/home/mwilliams/.cache/pypoetry/virtualenvs/nbed-g8dV7HW4-py3.8/lib/python3.8/site-packages/pyscf/lib/misc.py:46: H5pyDeprecationWarning: Using default_file_mode other than 'r' is deprecated. Pass the mode to h5py.File() instead.\n",
      "  h5py.get_config().default_file_mode = 'a'\n",
      "/home/mwilliams/.cache/pypoetry/virtualenvs/nbed-g8dV7HW4-py3.8/lib/python3.8/site-packages/_distutils_hack/__init__.py:30: UserWarning: Setuptools is replacing distutils.\n",
      "  warnings.warn(\"Setuptools is replacing distutils.\")\n"
     ]
    },
    {
     "name": "stdout",
     "output_type": "stream",
     "text": [
      "********************************************************************************\n",
      "                         Summary of Embedded Calculation                        \n",
      "********************************************************************************\n",
      "global (cheap) DFT calculation -75.27788483409813\n",
      "********************************************************************************\n",
      "  Huzinaga calculation\n",
      "Total energy - active system at RHF level: -75.03730126290125\n",
      "length of huzinaga embedded fermionic Hamiltonian: 1079\n",
      "number of qubits required: 12\n",
      "********************************************************************************\n",
      "                         Summary of reference Calculation                       \n",
      "********************************************************************************\n",
      "length of full system fermionic Hamiltonian: 1086\n",
      "number of qubits required: 14\n"
     ]
    }
   ],
   "source": [
    "from nbed import nbed\n",
    "from pathlib import Path\n",
    "\n",
    "geometry= str(Path('water.xyz').absolute())\n",
    "n_active_atoms= 2\n",
    "basis= 'STO-3G'\n",
    "xc_functional= 'b3lyp'\n",
    "output= 'openfermion'\n",
    "projector= 'huzinaga'\n",
    "localization= 'spade'\n",
    "convergence= 1e-9\n",
    "transform= 'jordan_wigner'\n",
    "\n",
    "\n",
    "qham = nbed(\n",
    "    geometry=geometry ,\n",
    "    n_active_atoms=n_active_atoms,\n",
    "    basis=basis,\n",
    "    xc_functional=xc_functional,\n",
    "    output=output,\n",
    "    projector=projector,\n",
    "    convergence=convergence,\n",
    "    localization= localization,\n",
    "    transform=transform,\n",
    "    )"
   ]
  },
  {
   "cell_type": "code",
   "execution_count": null,
   "metadata": {},
   "outputs": [],
   "source": []
  }
 ],
 "metadata": {
  "interpreter": {
   "hash": "a3b0afeda412b33580d0c562b08afe4289f87970ec13d9cac154381d67636116"
  },
  "kernelspec": {
   "display_name": "Julia 1.7.1",
   "language": "python",
   "name": "python3"
  },
  "language_info": {
   "codemirror_mode": {
    "name": "ipython",
    "version": 3
   },
   "file_extension": ".py",
   "mimetype": "text/x-python",
   "name": "python",
   "nbconvert_exporter": "python",
   "pygments_lexer": "ipython3",
   "version": "3.8.8"
  }
 },
 "nbformat": 4,
 "nbformat_minor": 4
}
