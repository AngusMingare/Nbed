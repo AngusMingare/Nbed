{
 "cells": [
  {
   "cell_type": "markdown",
   "metadata": {},
   "source": [
    "# VQE in DFT with PsiEmbed and Qiskit\n",
    "\n",
    "Here we define the inputs as required by PsiEmbed. Note that we'll follow the logic of `embedding_module/run_open_shell`."
   ]
  },
  {
   "cell_type": "markdown",
   "metadata": {},
   "source": [
    "We can think of this procedure are requiring three steps:\n",
    "\n",
    "1. Pre-embedding\n",
    "\n",
    "    Here we define the problem, and run a low-level calculation of the whole system. From this we obtain the pre-embedded density matrices $\\gamma^A$ and $\\gamma^B$\n",
    "\n",
    "    We then define the level-shift projector $P$ and embedding potential $V_{emb}$.\n",
    "\n",
    "2. Embedding\n",
    "\n",
    "    Using $V_{emb}$ we run a high-level method simulation of the active region to get the embedded density matrix $\\gamma^A_{emb}$.\n",
    "\n",
    "    We calculate the correction term $tr[V_{emb}(\\gamma^A_{emb}-\\gamma^A)]$\n",
    "\n",
    "3. Post-embedding\n",
    "\n",
    "    Finally we calculate the embedded energy, by removing $V_{emb}$ from the Hamiltonian, and using density matrix $\\gamma^A_{emb}$.\n",
    "\n",
    "    The total energy is then given by: $E = E[\\gamma^A_{emb}] + E[\\gamma^B] + g[\\gamma^A, \\gamma^B] + E_{nuclear} + tr[V_{emb}(\\gamma^A_{emb}-\\gamma^A)]$"
   ]
  },
  {
   "cell_type": "markdown",
   "metadata": {},
   "source": [
    "# 0. Set Parameters\n",
    "\n",
    "First we'll set the parameters "
   ]
  },
  {
   "cell_type": "code",
   "execution_count": 1,
   "metadata": {},
   "outputs": [],
   "source": [
    "from copy import copy\n",
    "import numpy as np\n",
    "from scipy import linalg\n",
    "from scipy.linalg import LinAlgError\n",
    "from typing import Dict\n",
    "\n",
    "ethane = \"\"\"\n",
    "C      0.7516     -0.0225     -0.0209\n",
    "C     -0.7516      0.0225      0.0209\n",
    "H      1.1851     -0.0039      0.9875\n",
    "H      1.1669      0.8330     -0.5693\n",
    "H      1.1155     -0.9329     -0.5145\n",
    "H     -1.1669     -0.8334      0.5687  \n",
    "H     -1.1157      0.9326      0.5151\n",
    "H     -1.1850      0.0044     -0.9875\n",
    "    \"\"\"\n",
    "\n",
    "ethylene = \"\"\"\n",
    "C    3.402   0.773  -9.252\n",
    "H    2.933  -0.150  -9.521\n",
    "H    2.837   1.682  -9.258\n",
    "C    4.697   0.791  -8.909\n",
    "H    5.262  -0.118  -8.904\n",
    "H    5.167   1.714  -8.641\n",
    "    \"\"\"\n",
    "\n",
    "methanol = \"\"\"\n",
    "O     -0.6582     -0.0067      0.1730 \n",
    "H     -1.1326     -0.0311     -0.6482\n",
    "C      0.7031      0.0083     -0.1305\n",
    "H      1.2001      0.0363      0.8431\n",
    "H      0.9877      0.8943     -0.7114\n",
    "H      1.0155     -0.8918     -0.6742\n",
    "  \"\"\"\n",
    "# H     -1.1326     -0.0311     -0.6482 <--- this goes with the oxygen\n",
    "\n",
    "\n",
    "formaldehyde = \"\"\"\n",
    "C      0.5979      0.0151      0.0688\n",
    "H      1.0686     -0.1411      1.0408\n",
    "H      1.2687      0.2002     -0.7717\n",
    "O     -0.5960     -0.0151     -0.0686\n",
    "  \"\"\"\n",
    "\n",
    "water = \"\"\"\n",
    "O          0.00000        0.000      0.115\n",
    "H          0.00000        0.754     -0.459\n",
    "H          0.00000       -0.754     -0.459\n",
    "    \"\"\"\n",
    "\n",
    "oxygen = \"\"\"\n",
    "O          0.3451        0.000      0.000\n",
    "O         -0.3451        0.000      0.000\n",
    "    \"\"\"\n",
    "\n",
    "h_peroxide = \"\"\"\n",
    "O          0.00000        0.00000        0.00000\n",
    "O          1.00000        0.00000        0.00000\n",
    "H          0.00000        0.50000        0.00000\n",
    "H          1.00000       -0.50000        0.00000\n",
    "\"\"\"\n",
    "\n",
    "LiH = \"\"\"\n",
    "Li 0.0 0.0 0.0\n",
    "H  0.0 0.0 1.541\n",
    "\"\"\"\n",
    "\n",
    "Li2 = \"\"\"\n",
    "Li 0.0 0.0 0.0\n",
    "Li  0.0 0.0 2.627\n",
    "\"\"\"\n",
    "\n",
    "glycine = \"\"\"\n",
    "O     1.916  -0.760  -0.740 \n",
    "H    -1.736  -0.252  -0.592\n",
    "N    -1.476   0.232   0.252 \n",
    "C    -0.012   0.296   0.348 \n",
    "C     0.596  -0.652  -0.648 \n",
    "O    -0.124  -1.320  -1.368 \n",
    "H     0.292   0.020   1.364 \n",
    "H     0.320   1.320   0.132 \n",
    "H    -1.636  -0.236   1.132 \n",
    "H    -1.916   1.136   0.272\n",
    "  \"\"\"\n",
    "\n",
    "pyridine = \"\"\"\n",
    "  N      0.6816      1.1960      0.0000\n",
    "  C      1.3603      0.0256      0.0000\n",
    "  C      0.6971     -1.2020      0.0000\n",
    "  C     -0.6944     -1.2184      0.0000\n",
    "  C     -1.3895     -0.0129      0.0000\n",
    "  C     -0.6712      1.1834      0.0000\n",
    "  H      2.4530      0.1083      0.0000\n",
    "  H      1.2665     -2.1365      0.0000\n",
    "  H     -1.2365     -2.1696      0.0000\n",
    "  H     -2.4837      0.0011      0.0000\n",
    "  H     -1.1569      2.1657      0.0000\n",
    "\"\"\"\n",
    "\n",
    "options = {}\n",
    "options['geometry'] = oxygen\n",
    "options['n_active_atoms'] = 1 # number of active atoms (first n atoms in the geometry string)\n",
    "\n",
    "run_fci = True\n",
    "run_vqe = True\n",
    "mos_to_use = 10\n",
    "\n",
    "options['basis'] = 'STO-3G' # basis set \n",
    "options['low_level'] = 'b3lyp' # level of theory of the environment \n",
    "options['high_level'] = 'mp2' # level of theory of the embedded system\n",
    "options['low_level_reference'] = 'rhf'\n",
    "options['high_level_reference'] = 'rhf'\n",
    "options['package'] = 'pyscf'\n",
    "options['e_convergence'] = 1e-10\n",
    "\n",
    "def fill_defaults(keywords) -> Dict[str, str]:\n",
    "    \"Fills in the default keyword values\"\n",
    "    # Default keywords\n",
    "    default_keywords = {}\n",
    "    default_keywords[\"package\"] = \"pyscf\"\n",
    "    default_keywords[\"num_threads\"] = 1\n",
    "    default_keywords[\"memory\"] = 1000\n",
    "    default_keywords[\"charge\"] = 0\n",
    "    default_keywords[\"multiplicity\"] = 1\n",
    "    default_keywords[\"low_level_reference\"] = \"rhf\"\n",
    "    default_keywords[\"high_level_reference\"] = \"rhf\"\n",
    "    default_keywords[\"partition_method\"] = \"spade\"\n",
    "    default_keywords[\"e_convergence\"] = 1e-6\n",
    "    default_keywords[\"d_convergence\"] = 1e-6\n",
    "    default_keywords[\"eri\"] = \"df\"\n",
    "    default_keywords[\"ints_tolerance\"] = 1e-10\n",
    "    default_keywords[\"driver_output\"] = \"output.dat\"\n",
    "    default_keywords[\"embedding_output\"] = \"embedding.log\"\n",
    "    default_keywords[\"operator\"] = \"F\"\n",
    "    default_keywords[\"level_shift\"] = 1.0e6\n",
    "    default_keywords[\"low_level_damping_percentage\"] = 0\n",
    "    default_keywords[\"high_level_damping_percentage\"] = 0\n",
    "    default_keywords[\"low_level_soscf\"] = \"False\"\n",
    "    default_keywords[\"high_level_soscf\"] = \"False\"\n",
    "    default_keywords[\"molden\"] = False\n",
    "    default_keywords[\"print_level\"] = 1\n",
    "    default_keywords[\"cc_type\"] = \"df\"\n",
    "    default_keywords[\"save_embedding_potential\"] = False\n",
    "    default_keywords[\"save_embedded_h_core\"] = False\n",
    "    default_keywords[\"save_embedded_orbitals\"] = False\n",
    "    default_keywords[\"run_high_level\"] = True\n",
    "\n",
    "    # Checking if the necessary keywords have been defined\n",
    "    required = [\"low_level\", \"high_level\", \"basis\", \"n_active_atoms\"]\n",
    "    if not all([key in keywords for key in required]):\n",
    "        raise KeyError(\"You must include keys for each of:\\n%s\", required)\n",
    "    # assert 'low_level' in keywords, ('\\n Choose level of theory',\n",
    "    #                                 'for the environment')\n",
    "    # assert 'high_level' in keywords, ('\\n Choose level of theory',\n",
    "    #                                 'for the active region')\n",
    "    # assert 'basis' in keywords, '\\n Choose a basis set'\n",
    "    # assert 'n_active_atoms' in keywords, ('\\n Provide the number of active',\n",
    "    #     'atoms, which the first atoms in your coordinates string')\n",
    "\n",
    "    for key in default_keywords.keys():\n",
    "        if key not in keywords:\n",
    "            keywords[key] = default_keywords[key]\n",
    "\n",
    "    if \"n_cl_shell\" in keywords and \"virtual_projection_basis\" not in keywords:\n",
    "        keywords[\"virtual_projection_basis\"] = keywords[\"basis\"]\n",
    "\n",
    "    return keywords\n",
    "\n",
    "keywords = fill_defaults(options)\n",
    "\n",
    "#run_closed_shell(keywords)"
   ]
  },
  {
   "cell_type": "markdown",
   "metadata": {},
   "source": [
    "# 1. Low-level whole system calculation\n",
    "\n",
    "The first step is to run a mean field caluclation of the whole system.    \n",
    "\n",
    "We also run a high-precision method, Full Configuration Interaction or Coupled Cluster Single Double to determine a reference value."
   ]
  },
  {
   "cell_type": "code",
   "execution_count": 2,
   "metadata": {},
   "outputs": [
    {
     "name": "stderr",
     "output_type": "stream",
     "text": [
      "/usr/local/lib/python3.9/site-packages/pyscf/lib/misc.py:46: H5pyDeprecationWarning: Using default_file_mode other than 'r' is deprecated. Pass the mode to h5py.File() instead.\n",
      "  h5py.get_config().default_file_mode = 'a'\n"
     ]
    },
    {
     "name": "stdout",
     "output_type": "stream",
     "text": [
      "converged SCF energy = -145.445487667616  <S^2> = 0.75007078  2S+1 = 2.0000708\n",
      "converged SCF energy = -144.970106374748  <S^2> = 0.75030323  2S+1 = 2.0003032\n"
     ]
    }
   ],
   "source": [
    "from pyscf import gto, scf, cc, ao2mo, fci\n",
    "\n",
    "mol = gto.Mole(atom=keywords['geometry'], basis=keywords['basis'], charge=1, spin=1).build()\n",
    "\n",
    "ks = scf.UKS(mol)\n",
    "ks.conv_tol = keywords[\"e_convergence\"]\n",
    "ks.xc = keywords[\"low_level\"]\n",
    "e_initial = ks.kernel()\n",
    "\n",
    "# Store the initial value of h core as this is needed later,\n",
    "# but is overwritten\n",
    "\n",
    "initial_h_core = ks.get_hcore()\n",
    "\n",
    "# Calulate a reference value\n",
    "mol_copy = copy(mol)\n",
    "hf = mol_copy.UHF().run()"
   ]
  },
  {
   "cell_type": "code",
   "execution_count": 3,
   "metadata": {},
   "outputs": [
    {
     "name": "stdout",
     "output_type": "stream",
     "text": [
      "e_initial=-145.4454876676164, expected_energy=-145.02679234730462\n"
     ]
    }
   ],
   "source": [
    "if run_fci:\n",
    "    ref_fci = fci.FCI(hf)\n",
    "    ref_fci.conv_tol = keywords[\"e_convergence\"]\n",
    "    fci_result = ref_fci.kernel()\n",
    "\n",
    "    # This DOES have nuclear energy included!\n",
    "    expected_energy = fci_result[0]\n",
    "\n",
    "else:\n",
    "    ref_cc = cc.CCSD(hf)\n",
    "    ref_cc.conv_tol = keywords[\"e_convergence\"]\n",
    "    cc_result = ref_cc.kernel()\n",
    "\n",
    "    expected_energy = hf.energy_tot() + cc_result[0]\n",
    "\n",
    "print(f\"{e_initial=}, {expected_energy=}\")"
   ]
  },
  {
   "cell_type": "code",
   "execution_count": null,
   "metadata": {},
   "outputs": [
    {
     "name": "stdout",
     "output_type": "stream",
     "text": [
      "n_act_mos_alpha=3, n_act_mos_beta=2, n_env_mos_alpha=5, n_env_mos_beta=5\n"
     ]
    }
   ],
   "source": [
    "n_occupied_mos_alpha = np.count_nonzero(ks.mo_occ[0] == 1)\n",
    "n_occupied_mos_beta = np.count_nonzero(ks.mo_occ[1] == 1)\n",
    "\n",
    "occupied_orbitals_alpha = ks.mo_coeff[0][:, :n_occupied_mos_alpha]\n",
    "occupied_orbitals_beta = ks.mo_coeff[1][:, :n_occupied_mos_beta]\n",
    "\n",
    "n_act_aos = mol.aoslice_by_atom()[keywords['n_active_atoms']-1][-1]\n",
    "\n",
    "# Rotate orbitals so that they're orthogonal\n",
    "ao_overlap = ks.get_ovlp()\n",
    "rotated_orbitals_alpha = linalg.fractional_matrix_power(ao_overlap, 0.5) @ occupied_orbitals_alpha\n",
    "rotated_orbitals_beta = linalg.fractional_matrix_power(ao_overlap, 0.5) @ occupied_orbitals_beta\n",
    "_alpha, sigma_alpha, right_vectors_alpha = linalg.svd(rotated_orbitals_alpha[:n_act_aos, :])\n",
    "_beta, sigma_beta, right_vectors_beta = linalg.svd(rotated_orbitals_beta[:n_act_aos, :])\n",
    "\n",
    "if len(sigma_alpha) == 1:\n",
    "    n_act_mos_alpha = 1\n",
    "elif len(sigma_beta) == 1:\n",
    "    n_act_mos_beta = 1\n",
    "else:\n",
    "    value_diffs_alpha = sigma_alpha[:-1]-sigma_alpha[1:]\n",
    "    value_diffs_beta = sigma_beta[:-1]-sigma_beta[1:]\n",
    "    n_act_mos_alpha = np.argmax(value_diffs_alpha) + 1\n",
    "    n_act_mos_beta = np.argmax(value_diffs_beta) + 1\n",
    "\n",
    "\n",
    "n_env_mos_alpha = n_occupied_mos_alpha - n_act_mos_alpha\n",
    "n_env_mos_beta = n_occupied_mos_beta - n_act_mos_beta\n",
    "\n",
    "# get active and enviro indices\n",
    "active_MO_inds_alpha = np.arange(n_act_mos_alpha)\n",
    "active_MO_inds_beta = np.arange(n_act_mos_beta)\n",
    "enviro_MO_inds_alpha = np.arange(n_act_mos_alpha, n_act_mos_alpha+n_env_mos_alpha)\n",
    "enviro_MO_inds_beta = np.arange(n_act_mos_beta, n_act_mos_beta+n_env_mos_beta)\n",
    "\n",
    "# Defining active and environment orbitals and \n",
    "act_orbitals_alpha = occupied_orbitals_alpha @ right_vectors_alpha.T[:, :n_act_mos_alpha]\n",
    "act_orbitals_beta = occupied_orbitals_beta @ right_vectors_beta.T[:, :n_act_mos_beta]\n",
    "env_orbitals_alpha = occupied_orbitals_alpha @ right_vectors_alpha.T[:, n_act_mos_alpha:]\n",
    "env_orbitals_beta = occupied_orbitals_beta @ right_vectors_beta.T[:, n_act_mos_beta:]\n",
    "\n",
    "act_density_alpha = act_orbitals_alpha @ act_orbitals_alpha.T\n",
    "act_density_beta = act_orbitals_beta @ act_orbitals_beta.T\n",
    "env_density_alpha = env_orbitals_alpha @ env_orbitals_alpha.T\n",
    "env_density_beta = env_orbitals_beta @ env_orbitals_beta.T\n",
    "\n",
    "print(f\"{n_act_mos_alpha=}, {n_act_mos_beta=}, {n_env_mos_alpha=}, {n_env_mos_beta=}\")"
   ]
  },
  {
   "cell_type": "markdown",
   "metadata": {},
   "source": [
    "# 3. Calculate the cross subsytem terms"
   ]
  },
  {
   "cell_type": "code",
   "execution_count": null,
   "metadata": {},
   "outputs": [
    {
     "name": "stdout",
     "output_type": "stream",
     "text": [
      "e_act=-94.14719925876803, e_env=-133.2581848538522, two_e_cross=32.94608188719165\n"
     ]
    }
   ],
   "source": [
    "# Retrieving the subsytem energy terms and potential matrices\n",
    "\n",
    "# The function called looks like this\n",
    "def open_shell_subsystem(scf, densities):\n",
    "        #It seems that PySCF lumps J and K in the J array \n",
    "        j = ks.get_j(dm = densities)\n",
    "        two_e_term =  ks.get_veff(dm = densities)\n",
    "\n",
    "        e_xc = two_e_term.exc\n",
    "        v_xc = two_e_term - j\n",
    "\n",
    "        j_total = j[0] + j[1]\n",
    "        dm_total = densities[0] + densities[1]\n",
    "\n",
    "        #energy\n",
    "        e = (\n",
    "            np.einsum(\"ij,ji->\", ks.get_hcore(), dm_total)\n",
    "            + 0.5 * (np.einsum(\"ij,ji->\", j_total, dm_total))\n",
    "            + e_xc\n",
    "        )\n",
    "\n",
    "        return e, two_e_term, j, v_xc\n",
    "\n",
    "dm_active = np.array([act_density_alpha, act_density_beta])\n",
    "dm_enviro = np.array([env_density_alpha, env_density_beta])\n",
    "\n",
    "total_dm = act_density_alpha + act_density_beta + env_density_alpha + env_density_beta\n",
    "two_e_term_total = ks.get_veff(dm=total_dm)\n",
    "e_xc_total = two_e_term_total.exc\n",
    "\n",
    "e_act, two_e_act, j_act, v_xc_act  = open_shell_subsystem(mol, dm_active)\n",
    "e_env, two_e_env, j_env, v_xc_env = open_shell_subsystem(mol, dm_enviro)\n",
    "\n",
    "j_cross = 0.5 * (\n",
    "    np.einsum(\"ij,ij\", dm_active[0], j_env[0])\n",
    "    + np.einsum(\"ij,ij\", dm_enviro[0], j_act[0])\n",
    "    + np.einsum(\"ij,ij\", dm_active[0], j_env[1])\n",
    "    + np.einsum(\"ij,ij\", dm_enviro[0], j_act[1])\n",
    "    + np.einsum(\"ij,ij\", dm_active[1], j_env[1])\n",
    "    + np.einsum(\"ij,ij\", dm_enviro[1], j_act[1])\n",
    "    + np.einsum(\"ij,ij\", dm_active[1], j_env[0])\n",
    "    + np.einsum(\"ij,ij\", dm_enviro[1], j_act[0])\n",
    ")\n",
    "\n",
    "# Because of projection we expect kinetic term to be zero\n",
    "k_cross = 0.0\n",
    "\n",
    "xc_cross = e_xc_total - two_e_act.exc - two_e_env.exc\n",
    "\n",
    "# overall two_electron cross energy\n",
    "two_e_cross = j_cross + k_cross + xc_cross\n",
    "\n",
    "print(f\"{e_act=}, {e_env=}, {two_e_cross=}\")"
   ]
  },
  {
   "cell_type": "code",
   "execution_count": null,
   "metadata": {},
   "outputs": [
    {
     "data": {
      "text/plain": [
       "array([ 2.10909519e+00, -4.58365491e-01, -6.12172912e-17, -2.22044605e-16,\n",
       "       -7.81456099e-02, -2.75739139e-02, -2.75739139e-02])"
      ]
     },
     "execution_count": 34,
     "metadata": {},
     "output_type": "execute_result"
    }
   ],
   "source": [
    "dm = localizer.dm_active + localizer.dm_enviro +localizer.beta_dm_active + localizer.beta_dm_enviro\n",
    "dm[0]"
   ]
  },
  {
   "cell_type": "code",
   "execution_count": null,
   "metadata": {},
   "outputs": [
    {
     "data": {
      "text/plain": [
       "array([ 2.13032101e+00, -3.64361310e-01, -5.60087653e-02,  1.73472348e-16,\n",
       "       -4.16333634e-17,  3.69937333e-02, -3.75521349e-02, -2.23046450e-01,\n",
       "        2.77555756e-17, -1.11022302e-16])"
      ]
     },
     "execution_count": 35,
     "metadata": {},
     "output_type": "execute_result"
    }
   ],
   "source": [
    "total_dm[0]"
   ]
  },
  {
   "cell_type": "code",
   "execution_count": null,
   "metadata": {},
   "outputs": [
    {
     "data": {
      "text/plain": [
       "array([ 2.10909519e+00, -4.58365488e-01, -8.36885435e-17,  1.94289029e-16,\n",
       "       -7.81455810e-02, -2.75739204e-02, -2.75739204e-02])"
      ]
     },
     "execution_count": 36,
     "metadata": {},
     "output_type": "execute_result"
    }
   ],
   "source": [
    "driver.total_dm[0]"
   ]
  },
  {
   "cell_type": "markdown",
   "metadata": {},
   "source": [
    "# 4. Define $V_{emb}$\n",
    "\n",
    "We can now define the projector used to orthogonalise the Molecular and Atomic orbitals. From this we calculate the embedding potential.\n",
    "\n",
    "$P_{\\alpha, \\beta} = S\\gamma^BS$\n",
    "\n",
    "From this we can now also define the embedding potential.\n",
    "\n",
    "$V_{emb} = g[\\gamma^A, \\gamma^B] - g[\\gamma^A] + \\mu P$"
   ]
  },
  {
   "cell_type": "code",
   "execution_count": null,
   "metadata": {},
   "outputs": [
    {
     "name": "stdout",
     "output_type": "stream",
     "text": [
      "keywords['level_shift']=1000000.0\n"
     ]
    }
   ],
   "source": [
    "# Define the mu-projector\n",
    "projector = keywords['level_shift'] * (ks.get_ovlp() @ dm_enviro @ ks.get_ovlp())\n",
    "\n",
    "v_xc_total = ks.get_veff() - ks.get_j()\n",
    "\n",
    "dft_potential = two_e_term_total - two_e_act\n",
    "\n",
    "v_emb =  dft_potential + projector\n",
    "\n",
    "print(f\"{keywords['level_shift']=}\")"
   ]
  },
  {
   "cell_type": "markdown",
   "metadata": {},
   "source": [
    "# 5A Run HF of full system with $V_{emb}$ to get $\\gamma^A_{emb}$\n",
    "\n",
    "Here, PsiEmbed gives us the option to stop, outputting values for calculation by other means.\n",
    "\n",
    "To continue, we run the mean field method, but with the embedding potentials as calulated."
   ]
  },
  {
   "cell_type": "code",
   "execution_count": null,
   "metadata": {},
   "outputs": [
    {
     "name": "stderr",
     "output_type": "stream",
     "text": [
      "/usr/local/lib/python3.9/site-packages/pyscf/gto/mole.py:1089: UserWarning: Function mol.dumps drops attribute _nelectron because it is not JSON-serializable\n",
      "  warnings.warn(msg)\n"
     ]
    },
    {
     "name": "stdout",
     "output_type": "stream",
     "text": [
      "converged SCF energy = -11.8755981898724  <S^2> = 0.75006955  2S+1 = 2.0000696\n"
     ]
    },
    {
     "data": {
      "text/plain": [
       "-60.94447894744996"
      ]
     },
     "execution_count": 59,
     "metadata": {},
     "output_type": "execute_result"
    }
   ],
   "source": [
    "from nbed.scf import energy_elec\n",
    "embedded_scf = scf.UHF(mol_copy)\n",
    "embedded_scf.conv_tol = keywords[\"e_convergence\"]\n",
    "embedded_scf.mol.nelectron = n_act_mos_alpha + n_act_mos_beta\n",
    "\n",
    "h_core = ks.get_hcore()\n",
    "\n",
    "embedded_scf.energy_elec = lambda *args: energy_elec(embedded_scf, *args)\n",
    "embedded_scf.get_hcore = lambda *args, **kwargs: np.array([h_core, h_core]) + v_emb\n",
    "\n",
    "embedded_scf.kernel()\n",
    "\n",
    "embedded_occ_orbs_alpha = embedded_scf.mo_coeff[0][:, embedded_scf.mo_occ[0]>0]\n",
    "embedded_occ_orbs_beta = embedded_scf.mo_coeff[1][:, embedded_scf.mo_occ[1]>0]\n",
    "embedded_density_alpha = embedded_occ_orbs_alpha @ embedded_occ_orbs_alpha.T\n",
    "embedded_density_beta = embedded_occ_orbs_beta @ embedded_occ_orbs_beta.T\n",
    "\n",
    "vhf1 =embedded_scf.get_veff( dm = [embedded_density_alpha, embedded_density_beta])\n",
    "hcore= embedded_scf.get_hcore()\n",
    "e_emb = energy_elec(embedded_scf, dm = [embedded_density_alpha, embedded_density_beta], vhf = vhf1)[0]\n",
    "e_emb"
   ]
  },
  {
   "cell_type": "markdown",
   "metadata": {},
   "source": [
    "# 6 Calculate correction term"
   ]
  },
  {
   "cell_type": "code",
   "execution_count": null,
   "metadata": {},
   "outputs": [
    {
     "name": "stdout",
     "output_type": "stream",
     "text": [
      "wf_correction=33.06754676589418\n",
      "dm_correction=-0.0020462210071512587\n"
     ]
    }
   ],
   "source": [
    "# Compute the correction\n",
    "# - There are two versions used for different embeddings\n",
    "act_density_total = act_density_alpha + act_density_beta\n",
    "\n",
    "dm_correction_alpha = np.einsum(\"ij,ij\", v_emb[0], embedded_density_alpha - act_density_alpha)\n",
    "dm_correction_beta = np.einsum(\"ij,ij\", v_emb[1], embedded_density_beta - act_density_beta)\n",
    "dm_correction = dm_correction_alpha + dm_correction_beta\n",
    "\n",
    "wf_correction_alpha = np.einsum(\"ij,ij\", act_density_alpha, v_emb[0])\n",
    "wf_correction_beta = np.einsum(\"ij,ij\", act_density_beta, v_emb[1])\n",
    "wf_correction = wf_correction_alpha + wf_correction_beta\n",
    "\n",
    "print(f\"{wf_correction=}\")\n",
    "print(f\"{dm_correction=}\")"
   ]
  },
  {
   "cell_type": "markdown",
   "metadata": {},
   "source": [
    "# 7 Calculate $E[\\gamma^{A,\\{\\alpha,\\beta\\}}_{emb}]$\n",
    "\n",
    "## Classical Method - CCSD"
   ]
  },
  {
   "cell_type": "code",
   "execution_count": null,
   "metadata": {},
   "outputs": [
    {
     "name": "stdout",
     "output_type": "stream",
     "text": [
      "E_HF = -60.94447894744996\n"
     ]
    },
    {
     "ename": "RuntimeError",
     "evalue": "Input vector is GCCSD vecotr",
     "output_type": "error",
     "traceback": [
      "\u001b[0;31m---------------------------------------------------------------------------\u001b[0m",
      "\u001b[0;31mRuntimeError\u001b[0m                              Traceback (most recent call last)",
      "\u001b[0;32m/var/folders/m_/ny0b3t9s6_bfxv36277px02r0000gp/T/ipykernel_11031/3848337040.py\u001b[0m in \u001b[0;36m<module>\u001b[0;34m\u001b[0m\n\u001b[1;32m     23\u001b[0m     \u001b[0mfos\u001b[0m \u001b[0;34m=\u001b[0m \u001b[0;34m[\u001b[0m\u001b[0mi\u001b[0m \u001b[0;32mfor\u001b[0m \u001b[0mi\u001b[0m \u001b[0;32min\u001b[0m \u001b[0mrange\u001b[0m\u001b[0;34m(\u001b[0m\u001b[0mshift\u001b[0m\u001b[0;34m,\u001b[0m \u001b[0mmol\u001b[0m\u001b[0;34m.\u001b[0m\u001b[0mnao\u001b[0m\u001b[0;34m)\u001b[0m\u001b[0;34m]\u001b[0m\u001b[0;34m\u001b[0m\u001b[0;34m\u001b[0m\u001b[0m\n\u001b[1;32m     24\u001b[0m     \u001b[0mccsd\u001b[0m\u001b[0;34m.\u001b[0m\u001b[0mfrozen\u001b[0m \u001b[0;34m=\u001b[0m \u001b[0mfos\u001b[0m\u001b[0;34m\u001b[0m\u001b[0;34m\u001b[0m\u001b[0m\n\u001b[0;32m---> 25\u001b[0;31m     \u001b[0mccsd\u001b[0m\u001b[0;34m.\u001b[0m\u001b[0mrun\u001b[0m\u001b[0;34m(\u001b[0m\u001b[0;34m)\u001b[0m\u001b[0;34m\u001b[0m\u001b[0;34m\u001b[0m\u001b[0m\n\u001b[0m\u001b[1;32m     26\u001b[0m     \u001b[0me_wf_act\u001b[0m \u001b[0;34m+=\u001b[0m \u001b[0mccsd\u001b[0m\u001b[0;34m.\u001b[0m\u001b[0me_corr\u001b[0m\u001b[0;34m\u001b[0m\u001b[0;34m\u001b[0m\u001b[0m\n\u001b[1;32m     27\u001b[0m \u001b[0;34m\u001b[0m\u001b[0m\n",
      "\u001b[0;32m/usr/local/lib/python3.9/site-packages/pyscf/lib/misc.py\u001b[0m in \u001b[0;36mrun\u001b[0;34m(self, *args, **kwargs)\u001b[0m\n\u001b[1;32m    515\u001b[0m         '''\n\u001b[1;32m    516\u001b[0m         \u001b[0mself\u001b[0m\u001b[0;34m.\u001b[0m\u001b[0mset\u001b[0m\u001b[0;34m(\u001b[0m\u001b[0;34m**\u001b[0m\u001b[0mkwargs\u001b[0m\u001b[0;34m)\u001b[0m\u001b[0;34m\u001b[0m\u001b[0;34m\u001b[0m\u001b[0m\n\u001b[0;32m--> 517\u001b[0;31m         \u001b[0mself\u001b[0m\u001b[0;34m.\u001b[0m\u001b[0mkernel\u001b[0m\u001b[0;34m(\u001b[0m\u001b[0;34m*\u001b[0m\u001b[0margs\u001b[0m\u001b[0;34m)\u001b[0m\u001b[0;34m\u001b[0m\u001b[0;34m\u001b[0m\u001b[0m\n\u001b[0m\u001b[1;32m    518\u001b[0m         \u001b[0;32mreturn\u001b[0m \u001b[0mself\u001b[0m\u001b[0;34m\u001b[0m\u001b[0;34m\u001b[0m\u001b[0m\n\u001b[1;32m    519\u001b[0m \u001b[0;34m\u001b[0m\u001b[0m\n",
      "\u001b[0;32m/usr/local/lib/python3.9/site-packages/pyscf/cc/uccsd.py\u001b[0m in \u001b[0;36mkernel\u001b[0;34m(self, t1, t2, eris, mbpt2)\u001b[0m\n\u001b[1;32m    594\u001b[0m \u001b[0;34m\u001b[0m\u001b[0m\n\u001b[1;32m    595\u001b[0m     \u001b[0;32mdef\u001b[0m \u001b[0mkernel\u001b[0m\u001b[0;34m(\u001b[0m\u001b[0mself\u001b[0m\u001b[0;34m,\u001b[0m \u001b[0mt1\u001b[0m\u001b[0;34m=\u001b[0m\u001b[0;32mNone\u001b[0m\u001b[0;34m,\u001b[0m \u001b[0mt2\u001b[0m\u001b[0;34m=\u001b[0m\u001b[0;32mNone\u001b[0m\u001b[0;34m,\u001b[0m \u001b[0meris\u001b[0m\u001b[0;34m=\u001b[0m\u001b[0;32mNone\u001b[0m\u001b[0;34m,\u001b[0m \u001b[0mmbpt2\u001b[0m\u001b[0;34m=\u001b[0m\u001b[0;32mFalse\u001b[0m\u001b[0;34m)\u001b[0m\u001b[0;34m:\u001b[0m\u001b[0;34m\u001b[0m\u001b[0;34m\u001b[0m\u001b[0m\n\u001b[0;32m--> 596\u001b[0;31m         \u001b[0;32mreturn\u001b[0m \u001b[0mself\u001b[0m\u001b[0;34m.\u001b[0m\u001b[0mccsd\u001b[0m\u001b[0;34m(\u001b[0m\u001b[0mt1\u001b[0m\u001b[0;34m,\u001b[0m \u001b[0mt2\u001b[0m\u001b[0;34m,\u001b[0m \u001b[0meris\u001b[0m\u001b[0;34m,\u001b[0m \u001b[0mmbpt2\u001b[0m\u001b[0;34m)\u001b[0m\u001b[0;34m\u001b[0m\u001b[0;34m\u001b[0m\u001b[0m\n\u001b[0m\u001b[1;32m    597\u001b[0m     \u001b[0;32mdef\u001b[0m \u001b[0mccsd\u001b[0m\u001b[0;34m(\u001b[0m\u001b[0mself\u001b[0m\u001b[0;34m,\u001b[0m \u001b[0mt1\u001b[0m\u001b[0;34m=\u001b[0m\u001b[0;32mNone\u001b[0m\u001b[0;34m,\u001b[0m \u001b[0mt2\u001b[0m\u001b[0;34m=\u001b[0m\u001b[0;32mNone\u001b[0m\u001b[0;34m,\u001b[0m \u001b[0meris\u001b[0m\u001b[0;34m=\u001b[0m\u001b[0;32mNone\u001b[0m\u001b[0;34m,\u001b[0m \u001b[0mmbpt2\u001b[0m\u001b[0;34m=\u001b[0m\u001b[0;32mFalse\u001b[0m\u001b[0;34m)\u001b[0m\u001b[0;34m:\u001b[0m\u001b[0;34m\u001b[0m\u001b[0;34m\u001b[0m\u001b[0m\n\u001b[1;32m    598\u001b[0m         '''Ground-state unrestricted (U)CCSD.\n",
      "\u001b[0;32m/usr/local/lib/python3.9/site-packages/pyscf/cc/uccsd.py\u001b[0m in \u001b[0;36mccsd\u001b[0;34m(self, t1, t2, eris, mbpt2)\u001b[0m\n\u001b[1;32m    610\u001b[0m             \u001b[0;32mreturn\u001b[0m \u001b[0mself\u001b[0m\u001b[0;34m.\u001b[0m\u001b[0me_corr\u001b[0m\u001b[0;34m,\u001b[0m \u001b[0mself\u001b[0m\u001b[0;34m.\u001b[0m\u001b[0mt1\u001b[0m\u001b[0;34m,\u001b[0m \u001b[0mself\u001b[0m\u001b[0;34m.\u001b[0m\u001b[0mt2\u001b[0m\u001b[0;34m\u001b[0m\u001b[0;34m\u001b[0m\u001b[0m\n\u001b[1;32m    611\u001b[0m \u001b[0;34m\u001b[0m\u001b[0m\n\u001b[0;32m--> 612\u001b[0;31m         \u001b[0;32mreturn\u001b[0m \u001b[0mccsd\u001b[0m\u001b[0;34m.\u001b[0m\u001b[0mCCSD\u001b[0m\u001b[0;34m.\u001b[0m\u001b[0mccsd\u001b[0m\u001b[0;34m(\u001b[0m\u001b[0mself\u001b[0m\u001b[0;34m,\u001b[0m \u001b[0mt1\u001b[0m\u001b[0;34m,\u001b[0m \u001b[0mt2\u001b[0m\u001b[0;34m,\u001b[0m \u001b[0meris\u001b[0m\u001b[0;34m)\u001b[0m\u001b[0;34m\u001b[0m\u001b[0;34m\u001b[0m\u001b[0m\n\u001b[0m\u001b[1;32m    613\u001b[0m \u001b[0;34m\u001b[0m\u001b[0m\n\u001b[1;32m    614\u001b[0m     def solve_lambda(self, t1=None, t2=None, l1=None, l2=None,\n",
      "\u001b[0;32m/usr/local/lib/python3.9/site-packages/pyscf/cc/ccsd.py\u001b[0m in \u001b[0;36mccsd\u001b[0;34m(self, t1, t2, eris)\u001b[0m\n\u001b[1;32m   1050\u001b[0m \u001b[0;34m\u001b[0m\u001b[0m\n\u001b[1;32m   1051\u001b[0m         \u001b[0mself\u001b[0m\u001b[0;34m.\u001b[0m\u001b[0mconverged\u001b[0m\u001b[0;34m,\u001b[0m \u001b[0mself\u001b[0m\u001b[0;34m.\u001b[0m\u001b[0me_corr\u001b[0m\u001b[0;34m,\u001b[0m \u001b[0mself\u001b[0m\u001b[0;34m.\u001b[0m\u001b[0mt1\u001b[0m\u001b[0;34m,\u001b[0m \u001b[0mself\u001b[0m\u001b[0;34m.\u001b[0m\u001b[0mt2\u001b[0m \u001b[0;34m=\u001b[0m\u001b[0;31m \u001b[0m\u001b[0;31m\\\u001b[0m\u001b[0;34m\u001b[0m\u001b[0;34m\u001b[0m\u001b[0m\n\u001b[0;32m-> 1052\u001b[0;31m                 kernel(self, eris, t1, t2, max_cycle=self.max_cycle,\n\u001b[0m\u001b[1;32m   1053\u001b[0m                        \u001b[0mtol\u001b[0m\u001b[0;34m=\u001b[0m\u001b[0mself\u001b[0m\u001b[0;34m.\u001b[0m\u001b[0mconv_tol\u001b[0m\u001b[0;34m,\u001b[0m \u001b[0mtolnormt\u001b[0m\u001b[0;34m=\u001b[0m\u001b[0mself\u001b[0m\u001b[0;34m.\u001b[0m\u001b[0mconv_tol_normt\u001b[0m\u001b[0;34m,\u001b[0m\u001b[0;34m\u001b[0m\u001b[0;34m\u001b[0m\u001b[0m\n\u001b[1;32m   1054\u001b[0m                        verbose=self.verbose)\n",
      "\u001b[0;32m/usr/local/lib/python3.9/site-packages/pyscf/cc/ccsd.py\u001b[0m in \u001b[0;36mkernel\u001b[0;34m(mycc, eris, t1, t2, max_cycle, tol, tolnormt, verbose)\u001b[0m\n\u001b[1;32m     79\u001b[0m         \u001b[0mt1\u001b[0m\u001b[0;34m,\u001b[0m \u001b[0mt2\u001b[0m \u001b[0;34m=\u001b[0m \u001b[0mt1new\u001b[0m\u001b[0;34m,\u001b[0m \u001b[0mt2new\u001b[0m\u001b[0;34m\u001b[0m\u001b[0;34m\u001b[0m\u001b[0m\n\u001b[1;32m     80\u001b[0m         \u001b[0mt1new\u001b[0m \u001b[0;34m=\u001b[0m \u001b[0mt2new\u001b[0m \u001b[0;34m=\u001b[0m \u001b[0;32mNone\u001b[0m\u001b[0;34m\u001b[0m\u001b[0;34m\u001b[0m\u001b[0m\n\u001b[0;32m---> 81\u001b[0;31m         \u001b[0mt1\u001b[0m\u001b[0;34m,\u001b[0m \u001b[0mt2\u001b[0m \u001b[0;34m=\u001b[0m \u001b[0mmycc\u001b[0m\u001b[0;34m.\u001b[0m\u001b[0mrun_diis\u001b[0m\u001b[0;34m(\u001b[0m\u001b[0mt1\u001b[0m\u001b[0;34m,\u001b[0m \u001b[0mt2\u001b[0m\u001b[0;34m,\u001b[0m \u001b[0mistep\u001b[0m\u001b[0;34m,\u001b[0m \u001b[0mnormt\u001b[0m\u001b[0;34m,\u001b[0m \u001b[0meccsd\u001b[0m\u001b[0;34m-\u001b[0m\u001b[0meold\u001b[0m\u001b[0;34m,\u001b[0m \u001b[0madiis\u001b[0m\u001b[0;34m)\u001b[0m\u001b[0;34m\u001b[0m\u001b[0;34m\u001b[0m\u001b[0m\n\u001b[0m\u001b[1;32m     82\u001b[0m         \u001b[0meold\u001b[0m\u001b[0;34m,\u001b[0m \u001b[0meccsd\u001b[0m \u001b[0;34m=\u001b[0m \u001b[0meccsd\u001b[0m\u001b[0;34m,\u001b[0m \u001b[0mmycc\u001b[0m\u001b[0;34m.\u001b[0m\u001b[0menergy\u001b[0m\u001b[0;34m(\u001b[0m\u001b[0mt1\u001b[0m\u001b[0;34m,\u001b[0m \u001b[0mt2\u001b[0m\u001b[0;34m,\u001b[0m \u001b[0meris\u001b[0m\u001b[0;34m)\u001b[0m\u001b[0;34m\u001b[0m\u001b[0;34m\u001b[0m\u001b[0m\n\u001b[1;32m     83\u001b[0m         log.info('cycle = %d  E_corr(CCSD) = %.15g  dE = %.9g  norm(t1,t2) = %.6g',\n",
      "\u001b[0;32m/usr/local/lib/python3.9/site-packages/pyscf/cc/ccsd.py\u001b[0m in \u001b[0;36mrun_diis\u001b[0;34m(self, t1, t2, istep, normt, de, adiis)\u001b[0m\n\u001b[1;32m   1198\u001b[0m             abs(de) < self.diis_start_energy_diff):\n\u001b[1;32m   1199\u001b[0m             \u001b[0mvec\u001b[0m \u001b[0;34m=\u001b[0m \u001b[0mself\u001b[0m\u001b[0;34m.\u001b[0m\u001b[0mamplitudes_to_vector\u001b[0m\u001b[0;34m(\u001b[0m\u001b[0mt1\u001b[0m\u001b[0;34m,\u001b[0m \u001b[0mt2\u001b[0m\u001b[0;34m)\u001b[0m\u001b[0;34m\u001b[0m\u001b[0;34m\u001b[0m\u001b[0m\n\u001b[0;32m-> 1200\u001b[0;31m             \u001b[0mt1\u001b[0m\u001b[0;34m,\u001b[0m \u001b[0mt2\u001b[0m \u001b[0;34m=\u001b[0m \u001b[0mself\u001b[0m\u001b[0;34m.\u001b[0m\u001b[0mvector_to_amplitudes\u001b[0m\u001b[0;34m(\u001b[0m\u001b[0madiis\u001b[0m\u001b[0;34m.\u001b[0m\u001b[0mupdate\u001b[0m\u001b[0;34m(\u001b[0m\u001b[0mvec\u001b[0m\u001b[0;34m)\u001b[0m\u001b[0;34m)\u001b[0m\u001b[0;34m\u001b[0m\u001b[0;34m\u001b[0m\u001b[0m\n\u001b[0m\u001b[1;32m   1201\u001b[0m             \u001b[0mlogger\u001b[0m\u001b[0;34m.\u001b[0m\u001b[0mdebug1\u001b[0m\u001b[0;34m(\u001b[0m\u001b[0mself\u001b[0m\u001b[0;34m,\u001b[0m \u001b[0;34m'DIIS for step %d'\u001b[0m\u001b[0;34m,\u001b[0m \u001b[0mistep\u001b[0m\u001b[0;34m)\u001b[0m\u001b[0;34m\u001b[0m\u001b[0;34m\u001b[0m\u001b[0m\n\u001b[1;32m   1202\u001b[0m         \u001b[0;32mreturn\u001b[0m \u001b[0mt1\u001b[0m\u001b[0;34m,\u001b[0m \u001b[0mt2\u001b[0m\u001b[0;34m\u001b[0m\u001b[0;34m\u001b[0m\u001b[0m\n",
      "\u001b[0;32m/usr/local/lib/python3.9/site-packages/pyscf/cc/uccsd.py\u001b[0m in \u001b[0;36mvector_to_amplitudes\u001b[0;34m(self, vector, nmo, nocc)\u001b[0m\n\u001b[1;32m    740\u001b[0m         \u001b[0;32mif\u001b[0m \u001b[0mnocc\u001b[0m \u001b[0;32mis\u001b[0m \u001b[0;32mNone\u001b[0m\u001b[0;34m:\u001b[0m \u001b[0mnocc\u001b[0m \u001b[0;34m=\u001b[0m \u001b[0mself\u001b[0m\u001b[0;34m.\u001b[0m\u001b[0mnocc\u001b[0m\u001b[0;34m\u001b[0m\u001b[0;34m\u001b[0m\u001b[0m\n\u001b[1;32m    741\u001b[0m         \u001b[0;32mif\u001b[0m \u001b[0mnmo\u001b[0m \u001b[0;32mis\u001b[0m \u001b[0;32mNone\u001b[0m\u001b[0;34m:\u001b[0m \u001b[0mnmo\u001b[0m \u001b[0;34m=\u001b[0m \u001b[0mself\u001b[0m\u001b[0;34m.\u001b[0m\u001b[0mnmo\u001b[0m\u001b[0;34m\u001b[0m\u001b[0;34m\u001b[0m\u001b[0m\n\u001b[0;32m--> 742\u001b[0;31m         \u001b[0;32mreturn\u001b[0m \u001b[0mvector_to_amplitudes\u001b[0m\u001b[0;34m(\u001b[0m\u001b[0mvector\u001b[0m\u001b[0;34m,\u001b[0m \u001b[0mnmo\u001b[0m\u001b[0;34m,\u001b[0m \u001b[0mnocc\u001b[0m\u001b[0;34m)\u001b[0m\u001b[0;34m\u001b[0m\u001b[0;34m\u001b[0m\u001b[0m\n\u001b[0m\u001b[1;32m    743\u001b[0m \u001b[0;34m\u001b[0m\u001b[0m\n\u001b[1;32m    744\u001b[0m     \u001b[0;32mdef\u001b[0m \u001b[0mvector_size\u001b[0m\u001b[0;34m(\u001b[0m\u001b[0mself\u001b[0m\u001b[0;34m,\u001b[0m \u001b[0mnmo\u001b[0m\u001b[0;34m=\u001b[0m\u001b[0;32mNone\u001b[0m\u001b[0;34m,\u001b[0m \u001b[0mnocc\u001b[0m\u001b[0;34m=\u001b[0m\u001b[0;32mNone\u001b[0m\u001b[0;34m)\u001b[0m\u001b[0;34m:\u001b[0m\u001b[0;34m\u001b[0m\u001b[0;34m\u001b[0m\u001b[0m\n",
      "\u001b[0;32m/usr/local/lib/python3.9/site-packages/pyscf/cc/uccsd.py\u001b[0m in \u001b[0;36mvector_to_amplitudes\u001b[0;34m(vector, nmo, nocc)\u001b[0m\n\u001b[1;32m    399\u001b[0m     \u001b[0;32mif\u001b[0m \u001b[0mvector\u001b[0m\u001b[0;34m.\u001b[0m\u001b[0msize\u001b[0m \u001b[0;34m==\u001b[0m \u001b[0msize\u001b[0m\u001b[0;34m:\u001b[0m\u001b[0;34m\u001b[0m\u001b[0;34m\u001b[0m\u001b[0m\n\u001b[1;32m    400\u001b[0m         \u001b[0;31m#return ccsd.vector_to_amplitudes_s4(vector, nmo, nocc)\u001b[0m\u001b[0;34m\u001b[0m\u001b[0;34m\u001b[0m\u001b[0m\n\u001b[0;32m--> 401\u001b[0;31m         \u001b[0;32mraise\u001b[0m \u001b[0mRuntimeError\u001b[0m\u001b[0;34m(\u001b[0m\u001b[0;34m'Input vector is GCCSD vecotr'\u001b[0m\u001b[0;34m)\u001b[0m\u001b[0;34m\u001b[0m\u001b[0;34m\u001b[0m\u001b[0m\n\u001b[0m\u001b[1;32m    402\u001b[0m     \u001b[0;32melse\u001b[0m\u001b[0;34m:\u001b[0m\u001b[0;34m\u001b[0m\u001b[0;34m\u001b[0m\u001b[0m\n\u001b[1;32m    403\u001b[0m         \u001b[0msizea\u001b[0m \u001b[0;34m=\u001b[0m \u001b[0mnocca\u001b[0m \u001b[0;34m*\u001b[0m \u001b[0mnvira\u001b[0m \u001b[0;34m+\u001b[0m \u001b[0mnocca\u001b[0m\u001b[0;34m*\u001b[0m\u001b[0;34m(\u001b[0m\u001b[0mnocca\u001b[0m\u001b[0;34m-\u001b[0m\u001b[0;36m1\u001b[0m\u001b[0;34m)\u001b[0m\u001b[0;34m//\u001b[0m\u001b[0;36m2\u001b[0m\u001b[0;34m*\u001b[0m\u001b[0mnvira\u001b[0m\u001b[0;34m*\u001b[0m\u001b[0;34m(\u001b[0m\u001b[0mnvira\u001b[0m\u001b[0;34m-\u001b[0m\u001b[0;36m1\u001b[0m\u001b[0;34m)\u001b[0m\u001b[0;34m//\u001b[0m\u001b[0;36m2\u001b[0m\u001b[0;34m\u001b[0m\u001b[0;34m\u001b[0m\u001b[0m\n",
      "\u001b[0;31mRuntimeError\u001b[0m: Input vector is GCCSD vecotr"
     ]
    }
   ],
   "source": [
    "from scipy.linalg import LinAlgError\n",
    "\n",
    "# Can use either of these methods \n",
    "# This needs to change if we're not using PySCFEmbed\n",
    "# The j and k matrices are defined differently in PySCF and Psi4\n",
    "\n",
    "e_wf_act = energy_elec(embedded_scf, dm=[embedded_density_alpha, embedded_density_beta], vhf=embedded_scf.get_veff())[0]\n",
    "#e_act_emb_explicit = np.einsum(\"...ij,...ji->...\", [embedded_density_alpha, embedded_density_beta],  initial_h_core + 0.5 * embedded_scf.get_j() - 0.25 * embedded_scf.get_k())\n",
    "\n",
    "print(f\"E_HF = {e_wf_act}\")\n",
    "#print(f\"Difference between HF methods: {e_wf_act - e_act_emb_explicit}\")\n",
    "#print(f\"Difference between HF methods + corrections: {(e_wf_act - wf_correction) - (e_act_emb_explicit + dm_correction)}\")\n",
    "\n",
    "try:\n",
    "    # Run CCSD as WF method\n",
    "    ccsd = cc.CCSD(embedded_scf)\n",
    "    ccsd.conv_tol = keywords[\"e_convergence\"]\n",
    "\n",
    "    # Set which orbitals are to be frozen\n",
    "    # The environment orbitals energies have been increased by the projector\n",
    "    # so they are now at the end of the list, as orbitals are ordered by energy\n",
    "    shift = mol.nao - n_env_mos_alpha - n_env_mos_beta\n",
    "    fos = [i for i in range(shift, mol.nao)]\n",
    "    ccsd.frozen = fos\n",
    "    ccsd.run()\n",
    "    e_wf_act += ccsd.e_corr\n",
    "    \n",
    "except LinAlgError as e:\n",
    "    print(e)\n",
    "    print(\"Use the HF energy\")\n",
    "    pass\n",
    "\n",
    "f\"{e_wf_act=}\""
   ]
  },
  {
   "cell_type": "code",
   "execution_count": null,
   "metadata": {},
   "outputs": [
    {
     "name": "stdout",
     "output_type": "stream",
     "text": [
      "E(UCCSD) = -35.03667514722376  E_corr = -1.080527873346025e-22\n",
      "E_CCSD = -62.699443936461655\n"
     ]
    }
   ],
   "source": [
    "try:\n",
    "    # Run CCSD as WF method\n",
    "    ccsd = cc.CCSD(embedded_scf)\n",
    "    ccsd.conv_tol = keywords[\"e_convergence\"]\n",
    "\n",
    "    # Set which orbitals are to be frozen\n",
    "    # The environment orbitals energies have been increased by the projector\n",
    "    # so they are now at the end of the list, as orbitals are ordered by energy\n",
    "    shift = mol.nao - n_env_mos_alpha - n_env_mos_beta\n",
    "    fos = [i for i in range(shift, mol.nao)]\n",
    "    ccsd.frozen = fos\n",
    "    ccsd.run()\n",
    "    e_ccsd_act = ccsd.e_corr\n",
    "    \n",
    "except LinAlgError as e:\n",
    "    print(e)\n",
    "    print(\"Use the HF energy\")\n",
    "    pass\n",
    "\n",
    "e_wf_emb = e_ccsd_act + e_env + two_e_cross + e_nuc - wf_correction_alpha -  wf_correction_beta\n",
    "print(f\"E_CCSD = {e_wf_emb}\")"
   ]
  },
  {
   "cell_type": "markdown",
   "metadata": {},
   "source": [
    "## Classical Method - FCI"
   ]
  },
  {
   "cell_type": "code",
   "execution_count": null,
   "metadata": {},
   "outputs": [
    {
     "name": "stdout",
     "output_type": "stream",
     "text": [
      "e_fci_act=-35.03670364375475\n",
      "E_FCI = -62.69947243299264\n"
     ]
    }
   ],
   "source": [
    "try:\n",
    "    # Run FCI as WF method\n",
    "    fci_emb = fci.FCI(embedded_scf)\n",
    "    fci_emb.conv_tol = keywords[\"e_convergence\"]\n",
    "    fci_emb.run()\n",
    "    e_fci_act = fci_emb.e_tot\n",
    "\n",
    "\n",
    "except LinAlgError as e:\n",
    "    print(e)\n",
    "    print(\"Use the HF energy\")\n",
    "    pass\n",
    "\n",
    "print(f\"{e_fci_act=}\")\n",
    "\n",
    "e_wf_emb = e_fci_act + e_env + two_e_cross + e_nuc - wf_correction_alpha -  wf_correction_beta\n",
    "\n",
    "print(f\"E_FCI = {e_wf_emb}\")"
   ]
  },
  {
   "cell_type": "code",
   "execution_count": null,
   "metadata": {},
   "outputs": [],
   "source": []
  },
  {
   "cell_type": "markdown",
   "metadata": {},
   "source": [
    "## Quantum Method - VQE\n",
    "\n",
    "### Set active space\n",
    "\n",
    "Before setting up the VQE we'll get the active and occupied indices - this will be how we reduce the number of qubits needed.\n",
    "\n",
    "Active indices include: Occupied MOs assigned to the active region + All unoccupied MOs"
   ]
  },
  {
   "cell_type": "code",
   "execution_count": null,
   "metadata": {},
   "outputs": [
    {
     "name": "stdout",
     "output_type": "stream",
     "text": [
      "12, [-2.10956610e+01 -2.10685291e+01 -1.93282097e+00 -1.43071107e+00\n",
      " -1.40535446e+00 -1.06689975e+00 -9.38383281e-01  4.51054324e-01\n",
      "  5.28590263e-01  9.50629368e-01  9.99998258e+05  9.99998419e+05]\n",
      "12, [-2.10816066e+01 -2.10550781e+01 -1.90871629e+00 -1.35001952e+00\n",
      " -1.20762444e+00 -1.03083293e+00 -2.47970475e-01  4.93328228e-01\n",
      "  5.48115499e-01  9.76619442e-01  9.99998321e+05  9.99998487e+05]\n",
      "active_indices_alpha=[0, 1, 2, 3, 4] \n",
      " occupied_indices_alpha=[0, 1, 2, 3, 4, 5, 6]\n",
      "active_indices_beta=[0, 1, 2, 3, 4] \n",
      " occupied_indices_beta=[0, 1, 2, 3, 4, 5]\n"
     ]
    }
   ],
   "source": [
    "from openfermion.ops.representations import InteractionOperator, get_active_space_integrals\n",
    "from openfermion.linalg import eigenspectrum, expectation\n",
    "from openfermion.transforms import jordan_wigner\n",
    "\n",
    "occupied_indices = embedded_scf.mo_occ == 1\n",
    "occupied_indices_alpha = [i for i, val in enumerate(occupied_indices[0]) if val]\n",
    "occupied_indices_beta = [i for i, val in enumerate(occupied_indices[1]) if val]\n",
    "\n",
    "# Try using only active MOs\n",
    "active_indices_alpha = [i for i in range(len(embedded_scf.mo_occ[0])-n_env_mos_alpha)]\n",
    "active_indices_beta = [i for i in range(len(embedded_scf.mo_occ[1])-n_env_mos_beta)]\n",
    "\n",
    "if mos_to_use % 2 == 0:\n",
    "    active_indices_alpha = active_indices_alpha[:mos_to_use]\n",
    "    active_indices_beta = active_indices_beta[:mos_to_use]\n",
    "else: \n",
    "    active_indices_alpha = active_indices_alpha[:mos_to_use]\n",
    "    active_indices_beta = active_indices_beta[:mos_to_use]\n",
    "\n",
    "print(f\"{len(embedded_scf.mo_occ[0])}, {embedded_scf.mo_energy[0]}\")\n",
    "print(f\"{len(embedded_scf.mo_occ[1])}, {embedded_scf.mo_energy[1]}\")\n",
    "print(f\"{active_indices_alpha=} \\n {occupied_indices_alpha=}\")\n",
    "print(f\"{active_indices_beta=} \\n {occupied_indices_beta=}\")\n"
   ]
  },
  {
   "cell_type": "code",
   "execution_count": 4,
   "metadata": {},
   "outputs": [
    {
     "name": "stdout",
     "output_type": "stream",
     "text": [
      "2\n",
      "\n",
      "O   0.6160  0.0000  0.0000\n",
      "O   -0.6160  0.0000  0.0000\n"
     ]
    }
   ],
   "source": [
    "from pathlib import Path\n",
    "from nbed.driver import NbedDriver\n",
    "#Define all the variables of the molecule\n",
    "geometry= str(Path('/Users/mac/Desktop/Master/Project/Nbed/tests/molecules/O2.xyz').absolute())\n",
    "n_active_atoms= 1\n",
    "basis= 'STO-3G'\n",
    "xc_functional= 'b3lyp'\n",
    "output= 'openfermion'\n",
    "projector= 'huzinaga'\n",
    "localization= 'spade'\n",
    "convergence= 1e-10\n",
    "transform= 'jordan_wigner'\n",
    "name = 'O2'\n",
    "\n",
    "with open(geometry, 'r') as infile:\n",
    "    xyz_string = infile.read()\n",
    "print(xyz_string)\n",
    "\n",
    "run_virtual_localization = False\n",
    "run_fci_emb = False\n",
    "run_ccsd_emb = True\n",
    "run_dft_in_dft= False\n",
    "max_ram_memory = 8_000\n",
    "\n",
    "max_hf_cycles=5000\n",
    "\n",
    "charge= 1\n",
    "spin = 1\n",
    "\n",
    "occupied_threshold = 0.99\n",
    "virtual_threshold = 0.95\n",
    "\n",
    "#Run the NbedDriver class to get the energies and the nbed class to get the qubit hamiltonian\n",
    "driver = NbedDriver(geometry = xyz_string,\n",
    "                    n_active_atoms=n_active_atoms,\n",
    "                    basis = basis,\n",
    "                    charge = charge,\n",
    "                    spin = spin,\n",
    "                    xc_functional = xc_functional,\n",
    "                    run_virtual_localization = run_virtual_localization,\n",
    "                    run_fci_emb = run_fci_emb,\n",
    "                    run_ccsd_emb = run_ccsd_emb,\n",
    "                    run_dft_in_dft = run_dft_in_dft,\n",
    "                    max_ram_memory = max_ram_memory,\n",
    "                    max_hf_cycles=max_hf_cycles,\n",
    "                    occupied_threshold=occupied_threshold,\n",
    "                    projector = projector,\n",
    "                    localization = localization,\n",
    "                    return_dict = True)"
   ]
  },
  {
   "cell_type": "markdown",
   "metadata": {},
   "source": [
    "### Get Qubit Hamiltonian\n",
    "Now we'll calculate the one and two body integrals to create a fermionic Hamiltonian.\n",
    "\n",
    "We then cut out the contribution from the environment orbitals. (Note the reduction in the shape of the integrals!)"
   ]
  },
  {
   "cell_type": "code",
   "execution_count": 14,
   "metadata": {},
   "outputs": [
    {
     "name": "stdout",
     "output_type": "stream",
     "text": [
      "<pyscf.scf.uhf.UHF object at 0x130b7f670>\n",
      "one_body_integrals_alpha.shape=(5, 5), two_body_integrals_alpha.shape=(5, 5, 5, 5)\n",
      "one_body_integrals_beta.shape=(5, 5), two_body_integrals_beta.shape=(5, 5, 5, 5)\n"
     ]
    }
   ],
   "source": [
    "from functools import reduce\n",
    "from pyscf import ao2mo\n",
    "import numpy as np\n",
    "\n",
    "temp_scf = driver.embedded_scf\n",
    "temp_mol = temp_scf.mol\n",
    "c_matrix_active = temp_scf.mo_coeff\n",
    "active_indices_alpha = c_matrix_active[0].shape[1]\n",
    "active_indices_alpha = c_matrix_active[1].shape[1]\n",
    "\n",
    "hcore = driver.embedded_scf.get_hcore()\n",
    "\n",
    "# We only want the terms related to the active space\n",
    "coeff_alpha = temp_scf.mo_coeff[0]\n",
    "coeff_beta = temp_scf.mo_coeff[1]\n",
    "\n",
    "n_orbs_alpha = c_matrix_active[0].shape[1]\n",
    "n_orbs_beta = c_matrix_active[1].shape[1]\n",
    "\n",
    "# hamiltonian here includes Vemb\n",
    "one_body_integrals_alpha = coeff_alpha.T @ hcore[0] @ coeff_alpha\n",
    "one_body_integrals_beta = coeff_beta.T @ hcore[1] @ coeff_beta\n",
    "\n",
    "temp_mol.incore_anyway == True\n",
    "\n",
    "# Get two electron integrals in compressed format.\n",
    "two_body_compressed_alpha = ao2mo.kernel(temp_mol, coeff_alpha)\n",
    "two_body_compressed_beta = ao2mo.kernel(temp_mol, coeff_beta)\n",
    "\n",
    "two_body_integrals_alpha = ao2mo.restore(1, two_body_compressed_alpha, n_orbs_alpha)\n",
    "two_body_integrals_beta = ao2mo.restore(1, two_body_compressed_beta, n_orbs_beta)\n",
    "\n",
    "# Openfermion uses pysicist notation whereas pyscf uses chemists\n",
    "two_body_integrals_alpha = np.asarray(two_body_integrals_alpha.transpose(0, 2, 3, 1), order='C')\n",
    "two_body_integrals_beta = np.asarray(two_body_integrals_beta.transpose(0, 2, 3, 1), order='C')\n",
    "\n",
    "print(f\"{one_body_integrals_alpha.shape=}, {two_body_integrals_alpha.shape=}\")\n",
    "print(f\"{one_body_integrals_beta.shape=}, {two_body_integrals_beta.shape=}\")\n"
   ]
  },
  {
   "cell_type": "markdown",
   "metadata": {},
   "source": [
    "We have to transform this to spin-orbital coefficients to make a qubit operator in terms of the Pauli basis.\n",
    "\n",
    "Then we can find the ground state either by diagonalising the Hamiltonian directly, or by running the VQE algorithm."
   ]
  },
  {
   "cell_type": "code",
   "execution_count": null,
   "metadata": {},
   "outputs": [
    {
     "name": "stdout",
     "output_type": "stream",
     "text": [
      "<class 'openfermion.ops.representations.interaction_operator.InteractionOperator'>\n"
     ]
    },
    {
     "ename": "ValueError",
     "evalue": "Coefficient must be a numeric type.",
     "output_type": "error",
     "traceback": [
      "\u001b[0;31m---------------------------------------------------------------------------\u001b[0m",
      "\u001b[0;31mValueError\u001b[0m                                Traceback (most recent call last)",
      "\u001b[0;32m/var/folders/m_/ny0b3t9s6_bfxv36277px02r0000gp/T/ipykernel_6735/3601460816.py\u001b[0m in \u001b[0;36m<module>\u001b[0;34m\u001b[0m\n\u001b[1;32m     17\u001b[0m \u001b[0mQubit_Hamiltonian_alpha\u001b[0m \u001b[0;34m=\u001b[0m \u001b[0mjordan_wigner\u001b[0m\u001b[0;34m(\u001b[0m\u001b[0mmolecular_hamiltonian_alpha\u001b[0m\u001b[0;34m)\u001b[0m\u001b[0;34m\u001b[0m\u001b[0;34m\u001b[0m\u001b[0m\n\u001b[1;32m     18\u001b[0m \u001b[0mQubit_Hamiltonian_beta\u001b[0m \u001b[0;34m=\u001b[0m \u001b[0mjordan_wigner\u001b[0m\u001b[0;34m(\u001b[0m\u001b[0mmolecular_hamiltonian_beta\u001b[0m\u001b[0;34m)\u001b[0m\u001b[0;34m\u001b[0m\u001b[0;34m\u001b[0m\u001b[0m\n\u001b[0;32m---> 19\u001b[0;31m \u001b[0mQubit_Hamiltonian\u001b[0m \u001b[0;34m=\u001b[0m \u001b[0mjordan_wigner\u001b[0m\u001b[0;34m(\u001b[0m\u001b[0mmolecular_hamiltonian\u001b[0m\u001b[0;34m)\u001b[0m\u001b[0;34m\u001b[0m\u001b[0;34m\u001b[0m\u001b[0m\n\u001b[0m\u001b[1;32m     20\u001b[0m \u001b[0;34m\u001b[0m\u001b[0m\n\u001b[1;32m     21\u001b[0m \u001b[0me_vqe_act_alpha\u001b[0m \u001b[0;34m=\u001b[0m \u001b[0meigenspectrum\u001b[0m\u001b[0;34m(\u001b[0m\u001b[0mQubit_Hamiltonian_alpha\u001b[0m\u001b[0;34m)\u001b[0m\u001b[0;34m[\u001b[0m\u001b[0;36m0\u001b[0m\u001b[0;34m]\u001b[0m\u001b[0;34m\u001b[0m\u001b[0;34m\u001b[0m\u001b[0m\n",
      "\u001b[0;32m/usr/local/lib/python3.9/site-packages/openfermion/transforms/opconversions/jordan_wigner.py\u001b[0m in \u001b[0;36mjordan_wigner\u001b[0;34m(operator)\u001b[0m\n\u001b[1;32m     49\u001b[0m         \u001b[0;32mreturn\u001b[0m \u001b[0m_jordan_wigner_diagonal_coulomb_hamiltonian\u001b[0m\u001b[0;34m(\u001b[0m\u001b[0moperator\u001b[0m\u001b[0;34m)\u001b[0m\u001b[0;34m\u001b[0m\u001b[0;34m\u001b[0m\u001b[0m\n\u001b[1;32m     50\u001b[0m     \u001b[0;32mif\u001b[0m \u001b[0misinstance\u001b[0m\u001b[0;34m(\u001b[0m\u001b[0moperator\u001b[0m\u001b[0;34m,\u001b[0m \u001b[0mInteractionOperator\u001b[0m\u001b[0;34m)\u001b[0m\u001b[0;34m:\u001b[0m\u001b[0;34m\u001b[0m\u001b[0;34m\u001b[0m\u001b[0m\n\u001b[0;32m---> 51\u001b[0;31m         \u001b[0;32mreturn\u001b[0m \u001b[0m_jordan_wigner_interaction_op\u001b[0m\u001b[0;34m(\u001b[0m\u001b[0moperator\u001b[0m\u001b[0;34m)\u001b[0m\u001b[0;34m\u001b[0m\u001b[0;34m\u001b[0m\u001b[0m\n\u001b[0m\u001b[1;32m     52\u001b[0m     raise TypeError(\"Operator must be a FermionOperator, \"\n\u001b[1;32m     53\u001b[0m                     \u001b[0;34m\"MajoranaOperator, \"\u001b[0m\u001b[0;34m\u001b[0m\u001b[0;34m\u001b[0m\u001b[0m\n",
      "\u001b[0;32m/usr/local/lib/python3.9/site-packages/openfermion/transforms/opconversions/jordan_wigner.py\u001b[0m in \u001b[0;36m_jordan_wigner_interaction_op\u001b[0;34m(iop, n_qubits)\u001b[0m\n\u001b[1;32m    143\u001b[0m \u001b[0;34m\u001b[0m\u001b[0m\n\u001b[1;32m    144\u001b[0m     \u001b[0;31m# Initialize qubit operator as constant.\u001b[0m\u001b[0;34m\u001b[0m\u001b[0;34m\u001b[0m\u001b[0m\n\u001b[0;32m--> 145\u001b[0;31m     \u001b[0mqubit_operator\u001b[0m \u001b[0;34m=\u001b[0m \u001b[0mQubitOperator\u001b[0m\u001b[0;34m(\u001b[0m\u001b[0;34m(\u001b[0m\u001b[0;34m)\u001b[0m\u001b[0;34m,\u001b[0m \u001b[0miop\u001b[0m\u001b[0;34m.\u001b[0m\u001b[0mconstant\u001b[0m\u001b[0;34m)\u001b[0m\u001b[0;34m\u001b[0m\u001b[0;34m\u001b[0m\u001b[0m\n\u001b[0m\u001b[1;32m    146\u001b[0m \u001b[0;34m\u001b[0m\u001b[0m\n\u001b[1;32m    147\u001b[0m     \u001b[0;31m# Transform diagonal one-body terms\u001b[0m\u001b[0;34m\u001b[0m\u001b[0;34m\u001b[0m\u001b[0m\n",
      "\u001b[0;32m/usr/local/lib/python3.9/site-packages/openfermion/ops/operators/symbolic_operator.py\u001b[0m in \u001b[0;36m__init__\u001b[0;34m(self, term, coefficient)\u001b[0m\n\u001b[1;32m    122\u001b[0m     \u001b[0;32mdef\u001b[0m \u001b[0m__init__\u001b[0m\u001b[0;34m(\u001b[0m\u001b[0mself\u001b[0m\u001b[0;34m,\u001b[0m \u001b[0mterm\u001b[0m\u001b[0;34m=\u001b[0m\u001b[0;32mNone\u001b[0m\u001b[0;34m,\u001b[0m \u001b[0mcoefficient\u001b[0m\u001b[0;34m=\u001b[0m\u001b[0;36m1.\u001b[0m\u001b[0;34m)\u001b[0m\u001b[0;34m:\u001b[0m\u001b[0;34m\u001b[0m\u001b[0;34m\u001b[0m\u001b[0m\n\u001b[1;32m    123\u001b[0m         \u001b[0;32mif\u001b[0m \u001b[0;32mnot\u001b[0m \u001b[0misinstance\u001b[0m\u001b[0;34m(\u001b[0m\u001b[0mcoefficient\u001b[0m\u001b[0;34m,\u001b[0m \u001b[0mCOEFFICIENT_TYPES\u001b[0m\u001b[0;34m)\u001b[0m\u001b[0;34m:\u001b[0m\u001b[0;34m\u001b[0m\u001b[0;34m\u001b[0m\u001b[0m\n\u001b[0;32m--> 124\u001b[0;31m             \u001b[0;32mraise\u001b[0m \u001b[0mValueError\u001b[0m\u001b[0;34m(\u001b[0m\u001b[0;34m'Coefficient must be a numeric type.'\u001b[0m\u001b[0;34m)\u001b[0m\u001b[0;34m\u001b[0m\u001b[0;34m\u001b[0m\u001b[0m\n\u001b[0m\u001b[1;32m    125\u001b[0m \u001b[0;34m\u001b[0m\u001b[0m\n\u001b[1;32m    126\u001b[0m         \u001b[0;31m# Initialize the terms dictionary\u001b[0m\u001b[0;34m\u001b[0m\u001b[0;34m\u001b[0m\u001b[0m\n",
      "\u001b[0;31mValueError\u001b[0m: Coefficient must be a numeric type."
     ]
    }
   ],
   "source": [
    "from openfermion.chem.molecular_data import spinorb_from_spatial\n",
    "from openfermion.ops.representations import get_active_space_integrals\n",
    "\n",
    "one_body_coefficients_alpha, two_body_coefficients_alpha = spinorb_from_spatial(one_body_integrals_alpha, two_body_integrals_alpha)\n",
    "one_body_coefficients_beta, two_body_coefficients_beta = spinorb_from_spatial(one_body_integrals_beta, two_body_integrals_beta)\n",
    "\n",
    "\n",
    "molecular_hamiltonian_alpha = InteractionOperator(0,\n",
    "                                            0.5 * one_body_coefficients_alpha,\n",
    "                                            0.25 * two_body_coefficients_alpha,)\n",
    "molecular_hamiltonian_beta = InteractionOperator(0,\n",
    "                                            0.5 *one_body_coefficients_beta,\n",
    "                                            0.25 * two_body_coefficients_beta,)    \n",
    "\n",
    "print(type(molecular_hamiltonian_alpha))    \n",
    "\n",
    "Qubit_Hamiltonian_alpha = jordan_wigner(molecular_hamiltonian_alpha)\n",
    "Qubit_Hamiltonian_beta = jordan_wigner(molecular_hamiltonian_beta)\n",
    "\n",
    "e_vqe_act_alpha = eigenspectrum(Qubit_Hamiltonian_alpha)[0]\n",
    "e_vqe_act_beta = eigenspectrum(Qubit_Hamiltonian_beta)[0]\n",
    "\n",
    "print(f\"{e_vqe_act_alpha=}\")\n",
    "print(f\"{e_vqe_act_beta=}\")"
   ]
  },
  {
   "cell_type": "markdown",
   "metadata": {},
   "source": [
    "### Add up parts without running VQE\n",
    "\n",
    "e_act_emb : $\\epsilon[\\gamma^{A, \\{\\alpha, \\beta\\}}_{emb}]$\n",
    ">energy of the embedded region\n",
    "\n",
    "e_env : $E[\\gamma^B]$ \n",
    ">energy of the environment\n",
    "\n",
    "two_e_cross : $g[\\gamma^A, \\gamma^B]$\n",
    ">non-additive two electron term\n",
    "\n",
    "embed.nre\n",
    ">The Coulomb energy from nuclear repulsion.\n",
    "\n",
    "correction : $tr[(\\gamma^A_{emb} - \\gamma^A)(h^{A in B} - h)]$ (or $tr[\\gamma^A(h^{A in B} - h)]$ )\n",
    "> Correction for embedding"
   ]
  },
  {
   "cell_type": "code",
   "execution_count": null,
   "metadata": {},
   "outputs": [
    {
     "name": "stdout",
     "output_type": "stream",
     "text": [
      "Component contributions\n",
      "e_vqe_act_alpha=-69.66382573567859, e_vqe_act_beta=-77.42590638340619\n",
      "e_wf_act_alpha=-97.98809147644832, e_wf_act_beta=-93.20038650822833\n",
      "e_env=-44.77933200920436, two_e_cross=32.49450029395306, wf_correction=32.67750646640707, dm_correction=0.0008773967906563485, e_nuc=58.74816482348045\n",
      "occupied_indices_alpha=[0, 1, 2, 3, 4, 5, 6], occupied_indices_beta=[0, 1, 2, 3, 4, 5]\n",
      "active_indices_alpha=[0, 1, 2, 3, 4], active_indices_beta=[0, 1, 2, 3, 4]\n",
      "Total usable MOs:\t\t20.0000\n",
      "FCI Energy:\t\t-146.1044\n",
      "DFT Energy:\t\t-146.5950\n",
      "Error:\t\t\t-0.34%\n",
      "WF Embedding Energy:\t-177.4027\n",
      "Error:\t\t\t-21.42%\n",
      "VQE Embedding Energy:\t-133.3039\n",
      "Error:\t\t\t8.76%\n"
     ]
    }
   ],
   "source": [
    "e_nuc = mol.energy_nuc()\n",
    "\n",
    "e_vqe_emb = e_vqe_act_alpha + e_vqe_act_beta + e_env + two_e_cross + e_nuc - wf_correction_alpha - wf_correction_beta\n",
    "e_wf_emb = e_wf_act_alpha + e_wf_act_beta + e_env + two_e_cross + e_nuc - wf_correction_alpha -  wf_correction_beta\n",
    "print(\"Component contributions\")\n",
    "print(f\"{e_vqe_act_alpha=}, {e_vqe_act_beta=}\")\n",
    "print(f\"{e_wf_act_alpha=}, {e_wf_act_beta=}\")\n",
    "print(f\"{e_env=}, {two_e_cross=}, {wf_correction=}, {dm_correction=}, {e_nuc=}\")\n",
    "print(f\"{occupied_indices_alpha=}, {occupied_indices_beta=}\")\n",
    "print(f\"{active_indices_alpha=}, {active_indices_beta=}\")\n",
    "print(f\"Total usable MOs:\\t\\t{len(ks.mo_occ[0])+len(ks.mo_occ[1])-n_env_mos_alpha- n_env_mos_beta:.4f}\")\n",
    "\n",
    "# Print out the final value.\n",
    "print(f\"FCI Energy:\\t\\t{expected_energy:.4f}\")\n",
    "\n",
    "print(f\"DFT Energy:\\t\\t{e_initial:.4f}\")\n",
    "print(f\"Error:\\t\\t\\t{(expected_energy-e_initial)*100/expected_energy:.2f}%\")\n",
    "\n",
    "print(f\"WF Embedding Energy:\\t{e_wf_emb:.4f}\")\n",
    "print(f\"Error:\\t\\t\\t{(expected_energy-e_wf_emb)*100/expected_energy:.2f}%\")\n",
    "print(f\"VQE Embedding Energy:\\t{e_vqe_emb:.4f}\")\n",
    "print(f\"Error:\\t\\t\\t{(expected_energy-e_vqe_emb)*100/expected_energy:.2f}%\")"
   ]
  },
  {
   "cell_type": "markdown",
   "metadata": {},
   "source": []
  },
  {
   "cell_type": "code",
   "execution_count": null,
   "metadata": {},
   "outputs": [],
   "source": []
  },
  {
   "cell_type": "markdown",
   "metadata": {},
   "source": [
    "### Pennylane VQE\n",
    "\n",
    "Taking the qubit operator we defined with open fermion, we can perform VQE using the CCSD ansatz."
   ]
  },
  {
   "cell_type": "code",
   "execution_count": null,
   "metadata": {},
   "outputs": [
    {
     "name": "stdout",
     "output_type": "stream",
     "text": [
      "qubits=20\n"
     ]
    },
    {
     "ename": "NameError",
     "evalue": "name 'h' is not defined",
     "output_type": "error",
     "traceback": [
      "\u001b[0;31m---------------------------------------------------------------------------\u001b[0m",
      "\u001b[0;31mNameError\u001b[0m                                 Traceback (most recent call last)",
      "\u001b[0;32m/var/folders/m_/ny0b3t9s6_bfxv36277px02r0000gp/T/ipykernel_6735/428137254.py\u001b[0m in \u001b[0;36m<module>\u001b[0;34m\u001b[0m\n\u001b[1;32m     32\u001b[0m \u001b[0;34m\u001b[0m\u001b[0m\n\u001b[1;32m     33\u001b[0m \u001b[0;31m# Define the cost function\u001b[0m\u001b[0;34m\u001b[0m\u001b[0;34m\u001b[0m\u001b[0m\n\u001b[0;32m---> 34\u001b[0;31m \u001b[0mcost_fn\u001b[0m \u001b[0;34m=\u001b[0m \u001b[0mqml\u001b[0m\u001b[0;34m.\u001b[0m\u001b[0mExpvalCost\u001b[0m\u001b[0;34m(\u001b[0m\u001b[0mansatz\u001b[0m\u001b[0;34m,\u001b[0m \u001b[0mh\u001b[0m\u001b[0;34m,\u001b[0m \u001b[0mdev\u001b[0m\u001b[0;34m)\u001b[0m\u001b[0;34m\u001b[0m\u001b[0;34m\u001b[0m\u001b[0m\n\u001b[0m\u001b[1;32m     35\u001b[0m \u001b[0;34m\u001b[0m\u001b[0m\n\u001b[1;32m     36\u001b[0m \u001b[0mopt\u001b[0m \u001b[0;34m=\u001b[0m \u001b[0mqml\u001b[0m\u001b[0;34m.\u001b[0m\u001b[0mGradientDescentOptimizer\u001b[0m\u001b[0;34m(\u001b[0m\u001b[0mstepsize\u001b[0m\u001b[0;34m=\u001b[0m\u001b[0;36m1\u001b[0m\u001b[0;34m)\u001b[0m\u001b[0;34m\u001b[0m\u001b[0;34m\u001b[0m\u001b[0m\n",
      "\u001b[0;31mNameError\u001b[0m: name 'h' is not defined"
     ]
    }
   ],
   "source": [
    "import pennylane as qml\n",
    "from pennylane import qchem\n",
    "from pennylane.templates import UCCSD, ParticleConservingU2\n",
    "from functools import partial\n",
    "\n",
    "h_alpha = qchem.convert_observable(Qubit_Hamiltonian_alpha)\n",
    "h_beta = qchem.convert_observable(Qubit_Hamiltonian_beta)\n",
    "\n",
    "qubits_alpha = len(h_alpha.wires)\n",
    "qubits_beta = len(h_beta.wires)\n",
    "qubits = qubits_alpha + qubits_beta\n",
    "print(f\"{qubits=}\")\n",
    "\n",
    "electrons = n_act_mos_alpha + n_act_mos_beta\n",
    "\n",
    "ref_state = qchem.hf_state(electrons, qubits)\n",
    "\n",
    "# Generate single and double excitations\n",
    "singles, doubles = qchem.excitations(electrons, qubits)\n",
    "\n",
    "# Map excitations to the wires the UCCSD circuit will act on\n",
    "s_wires, d_wires = qchem.excitations_to_wires(singles, doubles)\n",
    "\n",
    "# Define the device\n",
    "#dev = qml.device('default.qubit', wires=qubits)\n",
    "dev = qml.device('default.qubit', wires=qubits)\n",
    "\n",
    "\n",
    "# Define the UCCSD ansatz\n",
    "#ansatz = partial(UCCSD, init_state=ref_state, s_wires=s_wires, d_wires=d_wires)\n",
    "ansatz = partial(ParticleConservingU2, init_state=ref_state)\n",
    "\n",
    "# Define the cost function\n",
    "cost_fn = qml.ExpvalCost(ansatz, h, dev)\n",
    "\n",
    "opt = qml.GradientDescentOptimizer(stepsize=1)\n",
    "\n",
    "# Compute the expectation value of 'h' for given set of parameters 'params'\n",
    "layers = 1\n"
   ]
  },
  {
   "cell_type": "code",
   "execution_count": null,
   "metadata": {},
   "outputs": [],
   "source": [
    "#UCCSD Params\n",
    "#params = np.random.normal(0, np.pi, len(singles) + len(doubles))\n",
    "\n",
    "params = qml.init.particle_conserving_u2_normal(layers, qubits)\n",
    "explicit_e_vqe_act = None\n",
    "\n",
    "if run_vqe:\n",
    "    max_iterations = 100\n",
    "    conv_tol = keywords[\"e_convergence\"]\n",
    "    energy = [cost_fn(params)]\n",
    "    param_vals = [params]\n",
    "\n",
    "    print(\"Beginning Iterations\")\n",
    "    print(f\"Step = 0,  Energy = {energy[-1]:.8f} Ha\")\n",
    "    for n in range(max_iterations):\n",
    "        params, prev_energy = opt.step_and_cost(cost_fn, params)\n",
    "\n",
    "        energy.append(cost_fn(params))\n",
    "        param_vals.append(params)\n",
    "\n",
    "        conv = np.abs(energy[-1] - prev_energy)\n",
    "\n",
    "        # if n % 2 == 0:\n",
    "        print(f\"Step = {n+1},  Energy = {energy[-1]:.8f} Ha\")\n",
    "\n",
    "        if conv <= conv_tol and conv != 0:\n",
    "            break\n",
    "\n",
    "    explicit_e_vqe_act = energy[-1]\n",
    "\n",
    "    print(\"\\n\" f\"Final value of the ground-state energy = {explicit_e_vqe_act:.8f} Ha\")\n",
    "    print(\"\\n\" f\"Optimal value of the circuit parameter = {param_vals[-1]}\")"
   ]
  },
  {
   "cell_type": "markdown",
   "metadata": {},
   "source": [
    "# 8. Add all the parts up with VQE\n",
    "\n",
    "e_act_emb : $\\epsilon[\\gamma^A_{emb}]$\n",
    ">energy of the embedded region\n",
    "\n",
    "e_env : $E[\\gamma^B]$ \n",
    ">energy of the environment\n",
    "\n",
    "two_e_cross : $g[\\gamma^A, \\gamma^B]$\n",
    ">non-additive two electron term\n",
    "\n",
    "embed.nre\n",
    ">The Coulomb energy from nuclear repulsion.\n",
    "\n",
    "correction : $tr[(\\gamma^A_{emb} - \\gamma^A)(h^{A in B} - h)]$ (or $tr[\\gamma^A(h^{A in B} - h)]$ )\n",
    "> Correction for embedding"
   ]
  },
  {
   "cell_type": "code",
   "execution_count": null,
   "metadata": {},
   "outputs": [
    {
     "ename": "NameError",
     "evalue": "name 'e_vqe_act' is not defined",
     "output_type": "error",
     "traceback": [
      "\u001b[0;31m---------------------------------------------------------------------------\u001b[0m",
      "\u001b[0;31mNameError\u001b[0m                                 Traceback (most recent call last)",
      "\u001b[0;32m/var/folders/m_/ny0b3t9s6_bfxv36277px02r0000gp/T/ipykernel_6735/952613412.py\u001b[0m in \u001b[0;36m<module>\u001b[0;34m\u001b[0m\n\u001b[1;32m      1\u001b[0m \u001b[0me_nuc\u001b[0m \u001b[0;34m=\u001b[0m \u001b[0mmol\u001b[0m\u001b[0;34m.\u001b[0m\u001b[0menergy_nuc\u001b[0m\u001b[0;34m(\u001b[0m\u001b[0;34m)\u001b[0m\u001b[0;34m\u001b[0m\u001b[0;34m\u001b[0m\u001b[0m\n\u001b[1;32m      2\u001b[0m \u001b[0;34m\u001b[0m\u001b[0m\n\u001b[0;32m----> 3\u001b[0;31m \u001b[0me_vqe_emb\u001b[0m \u001b[0;34m=\u001b[0m \u001b[0me_vqe_act\u001b[0m \u001b[0;34m+\u001b[0m \u001b[0me_env\u001b[0m \u001b[0;34m+\u001b[0m \u001b[0mtwo_e_cross\u001b[0m \u001b[0;34m+\u001b[0m \u001b[0me_nuc\u001b[0m \u001b[0;34m-\u001b[0m \u001b[0mwf_correction\u001b[0m\u001b[0;34m\u001b[0m\u001b[0;34m\u001b[0m\u001b[0m\n\u001b[0m\u001b[1;32m      4\u001b[0m \u001b[0me_wf_emb\u001b[0m \u001b[0;34m=\u001b[0m \u001b[0me_wf_act\u001b[0m \u001b[0;34m+\u001b[0m \u001b[0me_env\u001b[0m \u001b[0;34m+\u001b[0m \u001b[0mtwo_e_cross\u001b[0m \u001b[0;34m+\u001b[0m \u001b[0me_nuc\u001b[0m \u001b[0;34m-\u001b[0m \u001b[0mwf_correction\u001b[0m\u001b[0;34m\u001b[0m\u001b[0;34m\u001b[0m\u001b[0m\n\u001b[1;32m      5\u001b[0m \u001b[0mprint\u001b[0m\u001b[0;34m(\u001b[0m\u001b[0;34m\"Component contributions\"\u001b[0m\u001b[0;34m)\u001b[0m\u001b[0;34m\u001b[0m\u001b[0;34m\u001b[0m\u001b[0m\n",
      "\u001b[0;31mNameError\u001b[0m: name 'e_vqe_act' is not defined"
     ]
    }
   ],
   "source": [
    "e_nuc = mol.energy_nuc()\n",
    "\n",
    "e_vqe_emb = e_vqe_act + e_env + two_e_cross + e_nuc - wf_correction \n",
    "e_wf_emb = e_wf_act + e_env + two_e_cross + e_nuc - wf_correction \n",
    "print(\"Component contributions\")\n",
    "print(f\"{e_vqe_act=}, {e_wf_act=}\")\n",
    "print(f\"{e_env=}, {two_e_cross=}, {wf_correction=}, {dm_correction=}, {e_nuc=}\\n\")\n",
    "# Print out the final value.\n",
    "print(f\"FCI Energy:\\t\\t\\t{expected_energy:.4f}\")\n",
    "\n",
    "print(f\"Used MOs={len(active_indices_alpha) + len(active_indices_beta)}\")\n",
    "print(f\"Act MOs alpha={n_act_mos_alpha}\")\n",
    "print(f\"Act MOs beta={n_act_mos_beta}\")\n",
    "print(f\"Env MOs alpha={n_env_mos_alpha}\")\n",
    "print(f\"Env MOs beta={n_env_mos_beta}\")\n",
    "print(f\"Total MOs={len(ks.mo_occ[0])+len(ks.mo_occ[1])}\\n\")\n",
    "\n",
    "print(f\"DFT Energy:\\t\\t\\t{e_initial:.4f}\")\n",
    "print(f\"Error:\\t\\t\\t\\t{(expected_energy-e_initial)*100/expected_energy:.2f}%\\n\")\n",
    "\n",
    "print(f\"WF Embedding Energy:\\t\\t{e_wf_emb:.4f}\")\n",
    "print(f\"Error:\\t\\t\\t\\t{(expected_energy-e_wf_emb)*100/expected_energy:.2f}%\\n\")\n",
    "\n",
    "print(f\"VQE Embedding Energy:\\t\\t{e_vqe_emb:.4f}\")\n",
    "print(f\"Error:\\t\\t\\t\\t{(expected_energy-e_vqe_emb)*100/expected_energy:.2f}%\\n\")\n",
    "\n",
    "if explicit_e_vqe_act:\n",
    "    explicit_e_vqe_emb = explicit_e_vqe_act + e_env + two_e_cross + e_nuc - wf_correction \n",
    "    print(f\"Explicit VQE Embedding Energy:\\t{explicit_e_vqe_emb:.4f}\")\n",
    "    print(f\"Error:\\t\\t\\t\\t{(expected_energy-explicit_e_vqe_emb)*100/expected_energy:.2f}%\")\n"
   ]
  }
 ],
 "metadata": {
  "interpreter": {
   "hash": "aee8b7b246df8f9039afb4144a1f6fd8d2ca17a180786b69acc140d282b71a49"
  },
  "kernelspec": {
   "display_name": "Python 3.9.7 64-bit",
   "language": "python",
   "name": "python3"
  },
  "language_info": {
   "codemirror_mode": {
    "name": "ipython",
    "version": 3
   },
   "file_extension": ".py",
   "mimetype": "text/x-python",
   "name": "python",
   "nbconvert_exporter": "python",
   "pygments_lexer": "ipython3",
   "version": "3.9.7"
  }
 },
 "nbformat": 4,
 "nbformat_minor": 4
}
