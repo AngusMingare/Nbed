{
 "cells": [
  {
   "cell_type": "markdown",
   "metadata": {},
   "source": [
    "# VQE in DFT with PsiEmbed and Qiskit\n",
    "\n",
    "Here we define the inputs as required by PsiEmbed. Note that we'll follow the logic of `embedding_module/run_open_shell`."
   ]
  },
  {
   "cell_type": "markdown",
   "metadata": {},
   "source": [
    "We can think of this procedure are requiring three steps:\n",
    "\n",
    "1. Pre-embedding\n",
    "\n",
    "    Here we define the problem, and run a low-level calculation of the whole system. From this we obtain the pre-embedded density matrices $\\gamma^A$ and $\\gamma^B$\n",
    "\n",
    "    We then define the level-shift projector $P$ and embedding potential $V_{emb}$.\n",
    "\n",
    "2. Embedding\n",
    "\n",
    "    Using $V_{emb}$ we run a high-level method simulation of the active region to get the embedded density matrix $\\gamma^A_{emb}$.\n",
    "\n",
    "    We calculate the correction term $tr[V_{emb}(\\gamma^A_{emb}-\\gamma^A)]$\n",
    "\n",
    "3. Post-embedding\n",
    "\n",
    "    Finally we calculate the embedded energy, by removing $V_{emb}$ from the Hamiltonian, and using density matrix $\\gamma^A_{emb}$.\n",
    "\n",
    "    The total energy is then given by: $E = E[\\gamma^A_{emb}] + E[\\gamma^B] + g[\\gamma^A, \\gamma^B] + E_{nuclear} + tr[V_{emb}(\\gamma^A_{emb}-\\gamma^A)]$"
   ]
  },
  {
   "cell_type": "markdown",
   "metadata": {},
   "source": [
    "# 0. Set Parameters\n",
    "\n",
    "First we'll set the parameters "
   ]
  },
  {
   "cell_type": "code",
   "execution_count": 1,
   "metadata": {},
   "outputs": [],
   "source": [
    "from copy import copy\n",
    "import numpy as np\n",
    "from scipy import linalg\n",
    "from typing import Dict\n",
    "\n",
    "ethane = \"\"\"\n",
    "C      0.7516     -0.0225     -0.0209\n",
    "C     -0.7516      0.0225      0.0209\n",
    "H      1.1851     -0.0039      0.9875\n",
    "H      1.1669      0.8330     -0.5693\n",
    "H      1.1155     -0.9329     -0.5145\n",
    "H     -1.1669     -0.8334      0.5687  \n",
    "H     -1.1157      0.9326      0.5151\n",
    "H     -1.1850      0.0044     -0.9875\n",
    "    \"\"\"\n",
    "\n",
    "ethylene = \"\"\"\n",
    "C    3.402   0.773  -9.252\n",
    "H    2.933  -0.150  -9.521\n",
    "H    2.837   1.682  -9.258\n",
    "C    4.697   0.791  -8.909\n",
    "H    5.262  -0.118  -8.904\n",
    "H    5.167   1.714  -8.641\n",
    "    \"\"\"\n",
    "\n",
    "methanol = \"\"\"\n",
    "O     -0.6582     -0.0067      0.1730 \n",
    "H     -1.1326     -0.0311     -0.6482\n",
    "C      0.7031      0.0083     -0.1305\n",
    "H      1.2001      0.0363      0.8431\n",
    "H      0.9877      0.8943     -0.7114\n",
    "H      1.0155     -0.8918     -0.6742\n",
    "  \"\"\"\n",
    "# H     -1.1326     -0.0311     -0.6482 <--- this goes with the oxygen\n",
    "\n",
    "\n",
    "formaldehyde = \"\"\"\n",
    "C      0.5979      0.0151      0.0688\n",
    "H      1.0686     -0.1411      1.0408\n",
    "H      1.2687      0.2002     -0.7717\n",
    "O     -0.5960     -0.0151     -0.0686\n",
    "  \"\"\"\n",
    "\n",
    "water = \"\"\"\n",
    "O          0.00000        0.000      0.115\n",
    "H          0.00000        0.754     -0.459\n",
    "H          0.00000       -0.754     -0.459\n",
    "    \"\"\"\n",
    "\n",
    "h_peroxide = \"\"\"\n",
    "O          0.00000        0.00000        0.00000\n",
    "O          1.00000        0.00000        0.00000\n",
    "H          0.00000        0.50000        0.00000\n",
    "H          1.00000       -0.50000        0.00000\n",
    "\"\"\"\n",
    "\n",
    "LiH = \"\"\"\n",
    "Li 0.0 0.0 0.0\n",
    "H  0.0 0.0 1.541\n",
    "\"\"\"\n",
    "\n",
    "Li2 = \"\"\"\n",
    "Li 0.0 0.0 0.0\n",
    "Li  0.0 0.0 2.627\n",
    "\"\"\"\n",
    "\n",
    "glycine = \"\"\"\n",
    "O     1.916  -0.760  -0.740 \n",
    "H    -1.736  -0.252  -0.592\n",
    "N    -1.476   0.232   0.252 \n",
    "C    -0.012   0.296   0.348 \n",
    "C     0.596  -0.652  -0.648 \n",
    "O    -0.124  -1.320  -1.368 \n",
    "H     0.292   0.020   1.364 \n",
    "H     0.320   1.320   0.132 \n",
    "H    -1.636  -0.236   1.132 \n",
    "H    -1.916   1.136   0.272\n",
    "  \"\"\"\n",
    "\n",
    "pyridine = \"\"\"\n",
    "  N      0.6816      1.1960      0.0000\n",
    "  C      1.3603      0.0256      0.0000\n",
    "  C      0.6971     -1.2020      0.0000\n",
    "  C     -0.6944     -1.2184      0.0000\n",
    "  C     -1.3895     -0.0129      0.0000\n",
    "  C     -0.6712      1.1834      0.0000\n",
    "  H      2.4530      0.1083      0.0000\n",
    "  H      1.2665     -2.1365      0.0000\n",
    "  H     -1.2365     -2.1696      0.0000\n",
    "  H     -2.4837      0.0011      0.0000\n",
    "  H     -1.1569      2.1657      0.0000\n",
    "\"\"\"\n",
    "\n",
    "options = {}\n",
    "options['geometry'] = ethylene\n",
    "options['n_active_atoms'] = 2 # number of active atoms (first n atoms in the geometry string)\n",
    "\n",
    "run_fci = True\n",
    "run_vqe = False\n",
    "mos_to_use = 10\n",
    "\n",
    "options['basis'] = 'STO-3G' # basis set \n",
    "options['low_level'] = 'B3LYP' # level of theory of the environment \n",
    "options['high_level'] = 'mp2' # level of theory of the embedded system\n",
    "options['low_level_reference'] = 'rhf'\n",
    "options['high_level_reference'] = 'rhf'\n",
    "options['package'] = 'pyscf'\n",
    "options['e_convergence'] = 1e-10\n",
    "\n",
    "def fill_defaults(keywords) -> Dict[str, str]:\n",
    "    \"Fills in the default keyword values\"\n",
    "    # Default keywords\n",
    "    default_keywords = {}\n",
    "    default_keywords[\"package\"] = \"pyscf\"\n",
    "    default_keywords[\"num_threads\"] = 1\n",
    "    default_keywords[\"memory\"] = 1000\n",
    "    default_keywords[\"charge\"] = 0\n",
    "    default_keywords[\"multiplicity\"] = 1\n",
    "    default_keywords[\"low_level_reference\"] = \"rhf\"\n",
    "    default_keywords[\"high_level_reference\"] = \"rhf\"\n",
    "    default_keywords[\"partition_method\"] = \"spade\"\n",
    "    default_keywords[\"e_convergence\"] = 1e-6\n",
    "    default_keywords[\"d_convergence\"] = 1e-6\n",
    "    default_keywords[\"eri\"] = \"df\"\n",
    "    default_keywords[\"ints_tolerance\"] = 1e-10\n",
    "    default_keywords[\"driver_output\"] = \"output.dat\"\n",
    "    default_keywords[\"embedding_output\"] = \"embedding.log\"\n",
    "    default_keywords[\"operator\"] = \"F\"\n",
    "    default_keywords[\"level_shift\"] = 1.0e6\n",
    "    default_keywords[\"low_level_damping_percentage\"] = 0\n",
    "    default_keywords[\"high_level_damping_percentage\"] = 0\n",
    "    default_keywords[\"low_level_soscf\"] = \"False\"\n",
    "    default_keywords[\"high_level_soscf\"] = \"False\"\n",
    "    default_keywords[\"molden\"] = False\n",
    "    default_keywords[\"print_level\"] = 1\n",
    "    default_keywords[\"cc_type\"] = \"df\"\n",
    "    default_keywords[\"save_embedding_potential\"] = False\n",
    "    default_keywords[\"save_embedded_h_core\"] = False\n",
    "    default_keywords[\"save_embedded_orbitals\"] = False\n",
    "    default_keywords[\"run_high_level\"] = True\n",
    "\n",
    "    # Checking if the necessary keywords have been defined\n",
    "    required = [\"low_level\", \"high_level\", \"basis\", \"n_active_atoms\"]\n",
    "    if not all([key in keywords for key in required]):\n",
    "        raise KeyError(\"You must include keys for each of:\\n%s\", required)\n",
    "    # assert 'low_level' in keywords, ('\\n Choose level of theory',\n",
    "    #                                 'for the environment')\n",
    "    # assert 'high_level' in keywords, ('\\n Choose level of theory',\n",
    "    #                                 'for the active region')\n",
    "    # assert 'basis' in keywords, '\\n Choose a basis set'\n",
    "    # assert 'n_active_atoms' in keywords, ('\\n Provide the number of active',\n",
    "    #     'atoms, which the first atoms in your coordinates string')\n",
    "\n",
    "    for key in default_keywords.keys():\n",
    "        if key not in keywords:\n",
    "            keywords[key] = default_keywords[key]\n",
    "\n",
    "    if \"n_cl_shell\" in keywords and \"virtual_projection_basis\" not in keywords:\n",
    "        keywords[\"virtual_projection_basis\"] = keywords[\"basis\"]\n",
    "\n",
    "    return keywords\n",
    "\n",
    "keywords = fill_defaults(options)\n",
    "\n",
    "#run_closed_shell(keywords)"
   ]
  },
  {
   "cell_type": "markdown",
   "metadata": {},
   "source": [
    "# 1. Low-level whole system calculation\n",
    "\n",
    "The first step is to run a mean field caluclation of the whole system.    \n",
    "\n",
    "We also run a high-precision method, Full Configuration Interaction or Coupled Cluster Single Double to determine a reference value."
   ]
  },
  {
   "cell_type": "code",
   "execution_count": 2,
   "metadata": {},
   "outputs": [
    {
     "name": "stderr",
     "output_type": "stream",
     "text": [
      "/usr/local/lib/python3.9/site-packages/pyscf/lib/misc.py:46: H5pyDeprecationWarning: Using default_file_mode other than 'r' is deprecated. Pass the mode to h5py.File() instead.\n",
      "  h5py.get_config().default_file_mode = 'a'\n"
     ]
    },
    {
     "name": "stdout",
     "output_type": "stream",
     "text": [
      "converged SCF energy = -77.2093903345242  <S^2> = 0.75143351  2S+1 = 2.001433\n",
      "converged SCF energy = -76.7836066237678  <S^2> = 0.75380945  2S+1 = 2.0038058\n"
     ]
    }
   ],
   "source": [
    "from pyscf import gto, scf, cc, ao2mo, fci\n",
    "\n",
    "mol = gto.Mole(atom=keywords['geometry'], basis=keywords['basis'], charge=1, spin=1).build()\n",
    "\n",
    "ks = scf.UKS(mol)\n",
    "ks.conv_tol = keywords[\"e_convergence\"]\n",
    "ks.xc = keywords[\"low_level\"]\n",
    "e_initial = ks.kernel()\n",
    "\n",
    "# Store the initial value of h core as this is needed later,\n",
    "# but is overwritten\n",
    "\n",
    "initial_h_core = ks.get_hcore()\n",
    "\n",
    "# Calulate a reference value\n",
    "mol_copy = copy(mol)\n",
    "hf = mol_copy.UHF().run()"
   ]
  },
  {
   "cell_type": "code",
   "execution_count": 4,
   "metadata": {},
   "outputs": [
    {
     "name": "stdout",
     "output_type": "stream",
     "text": [
      "e_initial=-77.20939033452416, expected_energy=-76.89618023386566\n"
     ]
    }
   ],
   "source": [
    "run_fci = True\n",
    "if run_fci:\n",
    "    ref_fci = fci.FCI(hf)\n",
    "    ref_fci.conv_tol = keywords[\"e_convergence\"]\n",
    "    fci_result = ref_fci.kernel()\n",
    "\n",
    "    # This DOES have nuclear energy included!\n",
    "    expected_energy = fci_result[0]\n",
    "\n",
    "else:\n",
    "    ref_cc = cc.CCSD(hf)\n",
    "    ref_cc.conv_tol = keywords[\"e_convergence\"]\n",
    "    cc_result = ref_cc.kernel()\n",
    "\n",
    "    expected_energy = hf.energy_tot() + cc_result[0]\n",
    "\n",
    "print(f\"{e_initial=}, {expected_energy=}\")"
   ]
  },
  {
   "cell_type": "code",
   "execution_count": 5,
   "metadata": {},
   "outputs": [
    {
     "name": "stdout",
     "output_type": "stream",
     "text": [
      "n_act_mos_alpha=5, n_act_mos_beta=4, n_env_mos_alpha=3, n_env_mos_beta=3\n"
     ]
    }
   ],
   "source": [
    "n_occupied_mos_alpha = np.count_nonzero(ks.mo_occ[0] == 1)\n",
    "n_occupied_mos_beta = np.count_nonzero(ks.mo_occ[1] == 1)\n",
    "\n",
    "occupied_orbitals_alpha = ks.mo_coeff[0][:, :n_occupied_mos_alpha]\n",
    "occupied_orbitals_beta = ks.mo_coeff[1][:, :n_occupied_mos_beta]\n",
    "\n",
    "n_act_aos = mol.aoslice_by_atom()[keywords['n_active_atoms']-1][-1]\n",
    "\n",
    "# Rotate orbitals so that they're orthogonal\n",
    "ao_overlap = ks.get_ovlp()\n",
    "rotated_orbitals_alpha = linalg.fractional_matrix_power(ao_overlap, 0.5) @ occupied_orbitals_alpha\n",
    "rotated_orbitals_beta = linalg.fractional_matrix_power(ao_overlap, 0.5) @ occupied_orbitals_beta\n",
    "_alpha, sigma_alpha, right_vectors_alpha = linalg.svd(rotated_orbitals_alpha[:n_act_aos, :])\n",
    "_beta, sigma_beta, right_vectors_beta = linalg.svd(rotated_orbitals_beta[:n_act_aos, :])\n",
    "\n",
    "#n_act_mos, n_env_mos = embed.orbital_partition(sigma)\n",
    "value_diffs_alpha = sigma_alpha[:-1]-sigma_alpha[1:]\n",
    "value_diffs_beta = sigma_beta[:-1]-sigma_beta[1:]\n",
    "\n",
    "n_act_mos_alpha = np.argmax(value_diffs_alpha) + 1\n",
    "n_act_mos_beta = np.argmax(value_diffs_beta) + 1\n",
    "n_env_mos_alpha = n_occupied_mos_alpha - n_act_mos_alpha\n",
    "n_env_mos_beta = n_occupied_mos_beta - n_act_mos_beta\n",
    "\n",
    "# Defining active and environment orbitals and \n",
    "act_orbitals_alpha = occupied_orbitals_alpha @ right_vectors_alpha.T[:, :n_act_mos_alpha]\n",
    "act_orbitals_beta = occupied_orbitals_beta @ right_vectors_beta.T[:, :n_act_mos_beta]\n",
    "env_orbitals_alpha = occupied_orbitals_alpha @ right_vectors_alpha.T[:, n_act_mos_alpha:n_act_mos_alpha+n_env_mos_alpha]\n",
    "env_orbitals_beta = occupied_orbitals_beta @ right_vectors_beta.T[:, n_act_mos_beta:n_act_mos_beta+n_env_mos_beta]\n",
    "\n",
    "act_density_alpha = act_orbitals_alpha @ act_orbitals_alpha.T\n",
    "act_density_beta = act_orbitals_beta @ act_orbitals_beta.T\n",
    "env_density_alpha = env_orbitals_alpha @ env_orbitals_alpha.T\n",
    "env_density_beta = env_orbitals_beta @ env_orbitals_beta.T\n",
    "\n",
    "print(f\"{n_act_mos_alpha=}, {n_act_mos_beta=}, {n_env_mos_alpha=}, {n_env_mos_beta=}\")"
   ]
  },
  {
   "cell_type": "markdown",
   "metadata": {},
   "source": [
    "# 3. Calculate the cross subsytem terms"
   ]
  },
  {
   "cell_type": "code",
   "execution_count": 6,
   "metadata": {},
   "outputs": [
    {
     "name": "stdout",
     "output_type": "stream",
     "text": [
      "e_act=-71.73108954213181, e_env=-57.912884284654616, two_e_cross=18.95447374759548\n"
     ]
    }
   ],
   "source": [
    "# Retrieving the subsytem energy terms and potential matrices\n",
    "\n",
    "# The function called looks like this\n",
    "def open_shell_subsystem(scf, densities):\n",
    "        #It seems that PySCF lumps J and K in the J array \n",
    "        j = ks.get_j(dm = densities)\n",
    "        two_e_term =  ks.get_veff(dm = densities)\n",
    "\n",
    "        e_xc = two_e_term.exc\n",
    "        v_xc = two_e_term - j\n",
    "\n",
    "        j_total = j[0] + j[1]\n",
    "        dm_total = densities[0] + densities[1]\n",
    "\n",
    "        #energy\n",
    "        e = (\n",
    "            np.einsum(\"ij,ji->\", ks.get_hcore(), dm_total)\n",
    "            + 0.5 * (np.einsum(\"ij,ji->\", j_total, dm_total))\n",
    "            + e_xc\n",
    "        )\n",
    "\n",
    "        return e, two_e_term, j, v_xc\n",
    "\n",
    "dm_active = np.array([act_density_alpha, act_density_beta])\n",
    "dm_enviro = np.array([env_density_alpha, env_density_beta])\n",
    "total_dm = act_density_alpha + act_density_beta + env_density_alpha + env_density_beta\n",
    "two_e_term_total = ks.get_veff(dm=total_dm)\n",
    "e_xc_total = two_e_term_total.exc\n",
    "\n",
    "e_act, two_e_act, j_act, v_xc_act  = open_shell_subsystem(mol, dm_active)\n",
    "e_env, two_e_env, j_env, v_xc_env = open_shell_subsystem(mol, dm_enviro)\n",
    "\n",
    "j_cross = 0.5 * (\n",
    "    np.einsum(\"ij,ij\", dm_active[0], j_env[0])\n",
    "    + np.einsum(\"ij,ij\", dm_enviro[0], j_act[0])\n",
    "    + np.einsum(\"ij,ij\", dm_active[0], j_env[1])\n",
    "    + np.einsum(\"ij,ij\", dm_enviro[0], j_act[1])\n",
    "    + np.einsum(\"ij,ij\", dm_active[1], j_env[1])\n",
    "    + np.einsum(\"ij,ij\", dm_enviro[1], j_act[1])\n",
    "    + np.einsum(\"ij,ij\", dm_active[1], j_env[0])\n",
    "    + np.einsum(\"ij,ij\", dm_enviro[1], j_act[0])\n",
    ")\n",
    "\n",
    "# Because of projection we expect kinetic term to be zero\n",
    "k_cross = 0.0\n",
    "\n",
    "xc_cross = e_xc_total - two_e_act.exc - two_e_env.exc\n",
    "\n",
    "# overall two_electron cross energy\n",
    "two_e_cross = j_cross + k_cross + xc_cross\n",
    "\n",
    "print(f\"{e_act=}, {e_env=}, {two_e_cross=}\")"
   ]
  },
  {
   "cell_type": "markdown",
   "metadata": {},
   "source": [
    "# 4. Define $V_{emb}$\n",
    "\n",
    "We can now define the projector used to orthogonalise the Molecular and Atomic orbitals. From this we calculate the embedding potential.\n",
    "\n",
    "$P_{\\alpha, \\beta} = S\\gamma^BS$\n",
    "\n",
    "From this we can now also define the embedding potential.\n",
    "\n",
    "$V_{emb} = g[\\gamma^A, \\gamma^B] - g[\\gamma^A] + \\mu P$"
   ]
  },
  {
   "cell_type": "code",
   "execution_count": 7,
   "metadata": {},
   "outputs": [
    {
     "name": "stdout",
     "output_type": "stream",
     "text": [
      "keywords['level_shift']=1000000.0\n"
     ]
    }
   ],
   "source": [
    "# Define the mu-projector\n",
    "projector_alpha = keywords['level_shift'] * (ks.get_ovlp() @ env_density_alpha @ ks.get_ovlp())\n",
    "projector_beta = keywords['level_shift'] * (ks.get_ovlp() @ env_density_beta @ ks.get_ovlp())\n",
    "\n",
    "v_xc_total = ks.get_veff() - ks.get_j()\n",
    "\n",
    "# Defining the embedded core Hamiltonian\n",
    "v_emb_alpha = (j_env[0] + v_xc_total[0] - v_xc_act[0] + projector_alpha)\n",
    "v_emb_beta = (j_env[1] + v_xc_total[1] - v_xc_act[1] + projector_beta)\n",
    "\n",
    "print(f\"{keywords['level_shift']=}\")"
   ]
  },
  {
   "cell_type": "markdown",
   "metadata": {},
   "source": [
    "# 5A Run HF of full system with $V_{emb}$ to get $\\gamma^A_{emb}$\n",
    "\n",
    "Here, PsiEmbed gives us the option to stop, outputting values for calculation by other means.\n",
    "\n",
    "To continue, we run the mean field method, but with the embedding potentials as calulated."
   ]
  },
  {
   "cell_type": "code",
   "execution_count": 35,
   "metadata": {},
   "outputs": [
    {
     "name": "stdout",
     "output_type": "stream",
     "text": [
      "converged SCF energy = -18.7784860083775  <S^2> = 0.88684521  2S+1 = 2.1324589\n",
      "SCF not converged.\n",
      "SCF energy = -18.812320115341 after 50 cycles  <S^2> = 0.84381405  2S+1 = 2.0917113\n",
      "e_emb_alpha=-33.24597244897784\n",
      "e_emb_beta=-30.531372238506673\n"
     ]
    }
   ],
   "source": [
    "embedded_scf = scf.UHF(mol_copy)\n",
    "embedded_scf.conv_tol = keywords[\"e_convergence\"]\n",
    "embedded_scf.mol.nelectron = n_act_mos_alpha + n_act_mos_beta\n",
    "\n",
    "h_core = ks.get_hcore()\n",
    "\n",
    "#calculate values for alpha\n",
    "embedded_scf.get_hcore = lambda *args, **kwargs: h_core + v_emb_alpha\n",
    "\n",
    "embedded_scf.kernel()\n",
    "\n",
    "embedded_occ_orbs_alpha = embedded_scf.mo_coeff[0][:, embedded_scf.mo_occ[0]>0]\n",
    "embedded_density_alpha = embedded_occ_orbs_alpha @ embedded_occ_orbs_alpha.T\n",
    "vhf1_alpha =embedded_scf.get_veff( dm = embedded_density_alpha)\n",
    "hcore_alpha = embedded_scf.get_hcore()\n",
    "\n",
    "#calculate values for beta\n",
    "embedded_scf.get_hcore = lambda *args, **kwargs: h_core + v_emb_beta\n",
    "\n",
    "embedded_scf.kernel()\n",
    "\n",
    "embedded_occ_orbs_beta = embedded_scf.mo_coeff[1][:, embedded_scf.mo_occ[1]>0]\n",
    "embedded_density_beta = embedded_occ_orbs_beta @ embedded_occ_orbs_beta.T\n",
    "vhf1_beta =embedded_scf.get_veff( dm = embedded_density_beta)\n",
    "hcore_beta = embedded_scf.get_hcore()\n",
    "\n",
    "#Calculate embedding energies\n",
    "e_emb_alpha = embedded_scf.energy_elec(dm=embedded_density_alpha, h1e = hcore_alpha, vhf=vhf1_alpha)[0]\n",
    "e_emb_beta = embedded_scf.energy_elec(dm=embedded_density_beta, h1e = hcore_beta, vhf=vhf1_beta)[0]\n",
    "\n",
    "print(f\"{e_emb_alpha=}\")\n",
    "print(f\"{e_emb_beta=}\")"
   ]
  },
  {
   "cell_type": "markdown",
   "metadata": {},
   "source": [
    "# 6 Calculate correction term"
   ]
  },
  {
   "cell_type": "code",
   "execution_count": 45,
   "metadata": {},
   "outputs": [
    {
     "name": "stdout",
     "output_type": "stream",
     "text": [
      "wf_correction=18.963206252343554\n",
      "dm_correction=-0.16628592117945118\n"
     ]
    }
   ],
   "source": [
    "# Compute the correction\n",
    "# - There are two versions used for different embeddings\n",
    "dm_correction_alpha = np.einsum(\"ij,ij\", v_emb_alpha, embedded_density_alpha-act_density_alpha)\n",
    "dm_correction_beta = np.einsum(\"ij,ij\", v_emb_beta, embedded_density_beta-act_density_beta)\n",
    "dm_correction = dm_correction_alpha + dm_correction_beta\n",
    "\n",
    "wf_correction_alpha = np.einsum(\"ij,ij\", act_density_alpha, v_emb_alpha)\n",
    "wf_correction_beta = np.einsum(\"ij,ij\", act_density_beta, v_emb_beta)\n",
    "wf_correction = wf_correction_alpha + wf_correction_beta\n",
    "\n",
    "print(f\"{wf_correction=}\")\n",
    "print(f\"{dm_correction=}\")"
   ]
  },
  {
   "cell_type": "markdown",
   "metadata": {},
   "source": [
    "# 7 Calculate $E[\\gamma^A_{emb}]$\n",
    "\n",
    "## Classical Method - CCSD"
   ]
  },
  {
   "cell_type": "code",
   "execution_count": 46,
   "metadata": {},
   "outputs": [
    {
     "name": "stdout",
     "output_type": "stream",
     "text": [
      "E_HF alpha = -33.24597244897784\n",
      "E_HF beta = -30.531372238506673\n",
      "Difference between HF methods: 18.993945046920402\n",
      "Difference between HF methods + corrections: 0.19702471575629943\n",
      "E(UCCSD) = -18.87663635422832  E_corr = -0.06431623888728824\n"
     ]
    },
    {
     "data": {
      "text/plain": [
       "'e_wf_act=-63.8416609263718'"
      ]
     },
     "execution_count": 46,
     "metadata": {},
     "output_type": "execute_result"
    }
   ],
   "source": [
    "from scipy.linalg import LinAlgError\n",
    "\n",
    "# Can use either of these methods \n",
    "# This needs to change if we're not using PySCFEmbed\n",
    "# The j and k matrices are defined differently in PySCF and Psi4\n",
    "\n",
    "e_wf_act_alpha = embedded_scf.energy_elec(dm=embedded_density_alpha, h1e = hcore_alpha, vhf=vhf1_alpha)[0]\n",
    "e_wf_act_beta = embedded_scf.energy_elec(dm=embedded_density_beta, h1e = hcore_beta, vhf=vhf1_beta)[0]\n",
    "e_act_emb_explicit_alpha = np.einsum(\"ij,ij\", embedded_density_alpha,  initial_h_core + 0.5 * embedded_scf.get_j()[0] - 0.25 * embedded_scf.get_k()[0])\n",
    "e_act_emb_explicit_beta = np.einsum(\"ij,ij\", embedded_density_beta,  initial_h_core + 0.5 * embedded_scf.get_j()[1] - 0.25 * embedded_scf.get_k()[1])\n",
    "\n",
    "e_wf_act = e_wf_act_alpha + e_wf_act_beta\n",
    "e_act_emb_explicit = e_act_emb_explicit_alpha + e_act_emb_explicit_beta\n",
    "\n",
    "\n",
    "print(f\"E_HF alpha = {e_wf_act_alpha}\")\n",
    "print(f\"E_HF beta = {e_wf_act_beta}\")\n",
    "print(f\"Difference between HF methods: {e_wf_act - e_act_emb_explicit}\")\n",
    "print(f\"Difference between HF methods + corrections: {(e_wf_act - wf_correction) - (e_act_emb_explicit + dm_correction)}\")\n",
    "\n",
    "try:\n",
    "    # Run CCSD as WF method\n",
    "    ccsd = cc.CCSD(embedded_scf)\n",
    "    ccsd.conv_tol = keywords[\"e_convergence\"]\n",
    "\n",
    "    # Set which orbitals are to be frozen\n",
    "    # The environment orbitals energies have been increased by the projector\n",
    "    # so they are now at the end of the list, as orbitals are ordered by energy\n",
    "    shift = mol.nao - n_env_mos_alpha - n_env_mos_beta\n",
    "    fos = [i for i in range(shift, mol.nao)]\n",
    "    ccsd.frozen = fos\n",
    "    ccsd.run()\n",
    "    correlation = ccsd.e_corr\n",
    "    e_wf_act += correlation\n",
    "    \n",
    "except LinAlgError as e:\n",
    "    print(e)\n",
    "    print(\"Use the HF energy\")\n",
    "    pass\n",
    "\n",
    "f\"{e_wf_act=}\""
   ]
  },
  {
   "cell_type": "markdown",
   "metadata": {},
   "source": [
    "## Quantum Method - VQE\n",
    "\n",
    "### Set active space\n",
    "\n",
    "Before setting up the VQE we'll get the active and occupied indices - this will be how we reduce the number of qubits needed.\n",
    "\n",
    "Active indices include: Occupied MOs assigned to the active region + All unoccupied MOs"
   ]
  },
  {
   "cell_type": "code",
   "execution_count": 30,
   "metadata": {},
   "outputs": [
    {
     "name": "stdout",
     "output_type": "stream",
     "text": [
      "2, [[-1.14424908e+01 -1.31536528e+00 -1.00976823e+00 -9.98984323e-01\n",
      "  -6.84886644e-01 -5.84239483e-02  2.57292070e-01  2.79260816e-01\n",
      "   3.69261219e-01  5.81942331e-01  5.88280593e-01  9.99991435e+05\n",
      "   9.99999373e+05  9.99999525e+05]\n",
      " [-1.14476182e+01 -1.24111704e+00 -9.49221054e-01 -7.01143285e-01\n",
      "  -4.56098097e-01 -3.20540214e-02  3.34553646e-01  3.36332564e-01\n",
      "   3.85638854e-01  6.00349875e-01  6.36432559e-01  9.99991442e+05\n",
      "   9.99999392e+05  9.99999535e+05]]\n",
      "active_indices_alpha=[0, 1, 2, 3, 4] \n",
      " occupied_indices_alpha=[0, 1, 2, 3, 4]\n",
      "active_indices_beta=[0, 1, 2, 3, 4] \n",
      " occupied_indices_beta=[0, 1, 2, 3]\n"
     ]
    }
   ],
   "source": [
    "from openfermion.ops.representations import InteractionOperator, get_active_space_integrals\n",
    "from openfermion.linalg import eigenspectrum, expectation\n",
    "from openfermion.transforms import jordan_wigner\n",
    "\n",
    "occupied_indices = embedded_scf.mo_occ == 1\n",
    "occupied_indices_alpha = [i for i, val in enumerate(occupied_indices[0]) if val]\n",
    "occupied_indices_beta = [i for i, val in enumerate(occupied_indices[1]) if val]\n",
    "\n",
    "# Try using only active MOs\n",
    "active_indices_alpha = [i for i in range(len(embedded_scf.mo_occ[0])-n_env_mos_alpha)]\n",
    "active_indices_beta = [i for i in range(len(embedded_scf.mo_occ[1])-n_env_mos_beta)]\n",
    "\n",
    "if mos_to_use % 2 == 0:\n",
    "    active_indices_alpha = active_indices_alpha[:mos_to_use//2]\n",
    "    active_indices_beta = active_indices_beta[:mos_to_use//2]\n",
    "else: \n",
    "    active_indices_alpha = active_indices_alpha[:mos_to_use//2+1]\n",
    "    active_indices_beta = active_indices_beta[:mos_to_use//2]\n",
    "\n",
    "print(f\"{len(embedded_scf.mo_occ)}, {embedded_scf.mo_energy}\")\n",
    "print(f\"{active_indices_alpha=} \\n {occupied_indices_alpha=}\")\n",
    "print(f\"{active_indices_beta=} \\n {occupied_indices_beta=}\")\n"
   ]
  },
  {
   "cell_type": "markdown",
   "metadata": {},
   "source": [
    "### Get Qubit Hamiltonian\n",
    "Now we'll calculate the one and two body integrals to create a fermionic Hamiltonian.\n",
    "\n",
    "We then cut out the contribution from the environment orbitals. (Note the reduction in the shape of the integrals!)"
   ]
  },
  {
   "cell_type": "code",
   "execution_count": 17,
   "metadata": {},
   "outputs": [
    {
     "name": "stdout",
     "output_type": "stream",
     "text": [
      "one_body_integrals_alpha.shape=(5, 5), two_body_integrals_alpha.shape=(5, 5, 5, 5)\n",
      "one_body_integrals_beta.shape=(5, 5), two_body_integrals_beta.shape=(5, 5, 5, 5)\n"
     ]
    }
   ],
   "source": [
    "from functools import reduce\n",
    "from pyscf import ao2mo\n",
    "\n",
    "temp_scf = embedded_scf\n",
    "temp_mol = mol\n",
    "\n",
    "# We only want the terms related to the active space\n",
    "coeff_alpha = temp_scf.mo_coeff[0][:, active_indices_alpha]\n",
    "coeff_beta = temp_scf.mo_coeff[1][:, active_indices_beta]\n",
    "\n",
    "n_orbs_alpha = len(active_indices_alpha)\n",
    "n_orbs_beta = len(active_indices_beta)\n",
    "\n",
    "# hamiltonian here includes Vemb\n",
    "one_body_integrals_alpha = coeff_alpha.T @ hcore_alpha @ coeff_alpha\n",
    "one_body_integrals_beta = coeff_beta.T @ hcore_beta @ coeff_beta\n",
    "\n",
    "temp_mol.incore_anyway == True\n",
    "\n",
    "# Get two electron integrals in compressed format.\n",
    "two_body_compressed_alpha = ao2mo.kernel(temp_mol, coeff_alpha)\n",
    "two_body_compressed_beta = ao2mo.kernel(temp_mol, coeff_beta)\n",
    "\n",
    "two_body_integrals_alpha = ao2mo.restore(1, two_body_compressed_alpha, n_orbs_alpha)\n",
    "two_body_integrals_beta = ao2mo.restore(1, two_body_compressed_beta, n_orbs_beta)\n",
    "\n",
    "# Openfermion uses pysicist notation whereas pyscf uses chemists\n",
    "two_body_integrals_alpha = np.asarray(two_body_integrals_alpha.transpose(0, 2, 3, 1), order='C')\n",
    "two_body_integrals_beta = np.asarray(two_body_integrals_beta.transpose(0, 2, 3, 1), order='C')\n",
    "\n",
    "print(f\"{one_body_integrals_alpha.shape=}, {two_body_integrals_alpha.shape=}\")\n",
    "print(f\"{one_body_integrals_beta.shape=}, {two_body_integrals_beta.shape=}\")\n"
   ]
  },
  {
   "cell_type": "markdown",
   "metadata": {},
   "source": [
    "We have to transform this to spin-orbital coefficients to make a qubit operator in terms of the Pauli basis.\n",
    "\n",
    "Then we can find the ground state either by diagonalising the Hamiltonian directly, or by running the VQE algorithm."
   ]
  },
  {
   "cell_type": "code",
   "execution_count": 47,
   "metadata": {},
   "outputs": [
    {
     "name": "stdout",
     "output_type": "stream",
     "text": [
      "e_vqe_act_alpha=-46.93022642927296\n",
      "e_vqe_act_beta=-52.67996032287701\n"
     ]
    }
   ],
   "source": [
    "from openfermion.chem.molecular_data import spinorb_from_spatial\n",
    "from openfermion.ops.representations import get_active_space_integrals\n",
    "\n",
    "one_body_coefficients_alpha, two_body_coefficients_alpha = spinorb_from_spatial(one_body_integrals_alpha, two_body_integrals_alpha)\n",
    "one_body_coefficients_beta, two_body_coefficients_beta = spinorb_from_spatial(one_body_integrals_beta, two_body_integrals_beta)\n",
    "\n",
    "\n",
    "molecular_hamiltonian_alpha = InteractionOperator(0,\n",
    "                                            one_body_coefficients_alpha,\n",
    "                                            0.5 * two_body_coefficients_alpha,)\n",
    "molecular_hamiltonian_beta = InteractionOperator(0,\n",
    "                                            one_body_coefficients_beta,\n",
    "                                            0.5 * two_body_coefficients_beta,)                           \n",
    "\n",
    "Qubit_Hamiltonian_alpha = jordan_wigner(molecular_hamiltonian_alpha)\n",
    "Qubit_Hamiltonian_beta = jordan_wigner(molecular_hamiltonian_beta)\n",
    "\n",
    "e_vqe_act_alpha = eigenspectrum(Qubit_Hamiltonian_alpha)[0]\n",
    "e_vqe_act_beta = eigenspectrum(Qubit_Hamiltonian_beta)[0]\n",
    "print(f\"{e_vqe_act_alpha=}\")\n",
    "print(f\"{e_vqe_act_beta=}\")"
   ]
  },
  {
   "cell_type": "markdown",
   "metadata": {},
   "source": [
    "### Add up parts without running VQE\n",
    "\n",
    "e_act_emb : $\\epsilon[\\gamma^{A, \\{\\alpha, \\beta\\}}_{emb}]$\n",
    ">energy of the embedded region\n",
    "\n",
    "e_env : $E[\\gamma^B]$ \n",
    ">energy of the environment\n",
    "\n",
    "two_e_cross : $g[\\gamma^A, \\gamma^B]$\n",
    ">non-additive two electron term\n",
    "\n",
    "embed.nre\n",
    ">The Coulomb energy from nuclear repulsion.\n",
    "\n",
    "correction : $tr[(\\gamma^A_{emb} - \\gamma^A)(h^{A in B} - h)]$ (or $tr[\\gamma^A(h^{A in B} - h)]$ )\n",
    "> Correction for embedding"
   ]
  },
  {
   "cell_type": "code",
   "execution_count": 41,
   "metadata": {},
   "outputs": [
    {
     "name": "stdout",
     "output_type": "stream",
     "text": [
      "Component contributions\n",
      "e_vqe_act_alpha=-46.93022642927296, e_vqe_act_beta=-52.67996032287701\n",
      "e_env=-57.912884284654616, two_e_cross=18.95447374759548, wf_correction_alpha=10.861361895055865, dm_correction_alpha=-0.7400637021676175, wf_correction_beta=8.101844357287689, dm_correction_beta=0.5737777809881663, e_nuc=33.51898302939866\n",
      "occupied_indices=array([[ True,  True,  True,  True,  True, False, False, False, False,\n",
      "        False, False, False, False, False],\n",
      "       [ True,  True,  True,  True, False, False, False, False, False,\n",
      "        False, False, False, False, False]]), active_indices_alpha=[0, 1, 2, 3, 4], Total Usable MOs=-1\n",
      "\n",
      "FCI Energy:\t\t-76.8962\n",
      "DFT Energy:\t\t-77.2094\n",
      "Error:\t\t\t-0.41%\n",
      "WF Embedding Energy:\t-88.1800\n",
      "Error:\t\t\t-14.67%\n",
      "VQE Embedding Energy:\t-124.0128\n",
      "Error:\t\t\t-61.27%\n"
     ]
    }
   ],
   "source": [
    "e_nuc = mol.energy_nuc()\n",
    "\n",
    "e_vqe_emb = e_vqe_act_alpha + e_vqe_act_beta + e_env + two_e_cross + e_nuc - wf_correction_alpha - wf_correction_beta\n",
    "e_wf_emb = e_wf_act_alpha + e_wf_act_beta + e_env + two_e_cross + e_nuc - wf_correction_alpha -  wf_correction_beta\n",
    "print(\"Component contributions\")\n",
    "print(f\"{e_vqe_act_alpha=}, {e_vqe_act_beta=}\")\n",
    "print(f\"{e_env=}, {two_e_cross=}, {wf_correction=}, {dm_correction=}, {e_nuc=}\")\n",
    "print(f\"{occupied_indices=}, {active_indices_alpha=}, Total Usable MOs={len(ks.mo_occ)-n_env_mos_alpha}\\n\")\n",
    "# Print out the final value.\n",
    "print(f\"FCI Energy:\\t\\t{expected_energy:.4f}\")\n",
    "\n",
    "print(f\"Used MOs={len(active_indices)}\")\n",
    "print(f\"Act MOs={n_act_mos}\")\n",
    "print(f\"Env MOs={n_env_mos}\")\n",
    "print(f\"Total MOs={len(ks.mo_occ)}\\n\")\n",
    "\n",
    "print(f\"DFT Energy:\\t\\t{e_initial:.4f}\")\n",
    "print(f\"Error:\\t\\t\\t{(expected_energy-e_initial)*100/expected_energy:.2f}%\")\n",
    "\n",
    "print(f\"WF Embedding Energy:\\t{e_wf_emb:.4f}\")\n",
    "print(f\"Error:\\t\\t\\t{(expected_energy-e_wf_emb)*100/expected_energy:.2f}%\")\n",
    "print(f\"VQE Embedding Energy:\\t{e_vqe_emb:.4f}\")\n",
    "print(f\"Error:\\t\\t\\t{(expected_energy-e_vqe_emb)*100/expected_energy:.2f}%\")"
   ]
  },
  {
   "cell_type": "markdown",
   "metadata": {},
   "source": [
    "### Pennylane VQE\n",
    "\n",
    "Taking the qubit operator we defined with open fermion, we can perform VQE using the CCSD ansatz."
   ]
  },
  {
   "cell_type": "code",
   "execution_count": 18,
   "metadata": {},
   "outputs": [
    {
     "name": "stdout",
     "output_type": "stream",
     "text": [
      "qubits1=10\n",
      "qubits2=10\n"
     ]
    },
    {
     "ename": "NameError",
     "evalue": "name 'n_act_mos' is not defined",
     "output_type": "error",
     "traceback": [
      "\u001b[0;31m---------------------------------------------------------------------------\u001b[0m",
      "\u001b[0;31mNameError\u001b[0m                                 Traceback (most recent call last)",
      "\u001b[0;32m/var/folders/m_/ny0b3t9s6_bfxv36277px02r0000gp/T/ipykernel_2940/3174720061.py\u001b[0m in \u001b[0;36m<module>\u001b[0;34m\u001b[0m\n\u001b[1;32m     12\u001b[0m \u001b[0mprint\u001b[0m\u001b[0;34m(\u001b[0m\u001b[0;34mf\"{qubits2=}\"\u001b[0m\u001b[0;34m)\u001b[0m\u001b[0;34m\u001b[0m\u001b[0;34m\u001b[0m\u001b[0m\n\u001b[1;32m     13\u001b[0m \u001b[0;34m\u001b[0m\u001b[0m\n\u001b[0;32m---> 14\u001b[0;31m \u001b[0melectrons\u001b[0m \u001b[0;34m=\u001b[0m \u001b[0mn_act_mos\u001b[0m\u001b[0;34m*\u001b[0m\u001b[0;36m2\u001b[0m\u001b[0;34m\u001b[0m\u001b[0;34m\u001b[0m\u001b[0m\n\u001b[0m\u001b[1;32m     15\u001b[0m \u001b[0;34m\u001b[0m\u001b[0m\n\u001b[1;32m     16\u001b[0m \u001b[0mref_state\u001b[0m \u001b[0;34m=\u001b[0m \u001b[0mqchem\u001b[0m\u001b[0;34m.\u001b[0m\u001b[0mhf_state\u001b[0m\u001b[0;34m(\u001b[0m\u001b[0melectrons\u001b[0m\u001b[0;34m,\u001b[0m \u001b[0mqubits\u001b[0m\u001b[0;34m)\u001b[0m\u001b[0;34m\u001b[0m\u001b[0;34m\u001b[0m\u001b[0m\n",
      "\u001b[0;31mNameError\u001b[0m: name 'n_act_mos' is not defined"
     ]
    }
   ],
   "source": [
    "import pennylane as qml\n",
    "from pennylane import qchem\n",
    "from pennylane.templates import UCCSD, ParticleConservingU2\n",
    "from functools import partial\n",
    "\n",
    "h_alpha = qchem.convert_observable(Qubit_Hamiltonian_alpha)\n",
    "h_beta = qchem.convert_observable(Qubit_Hamiltonian_beta)\n",
    "\n",
    "qubits1 = len(h_alpha.wires)\n",
    "qubits2 = len(h_beta.wires)\n",
    "print(f\"{qubits1=}\")\n",
    "print(f\"{qubits2=}\")\n",
    "\n",
    "electrons = n_act_mos*2\n",
    "\n",
    "ref_state = qchem.hf_state(electrons, qubits)\n",
    "\n",
    "# Generate single and double excitations\n",
    "singles, doubles = qchem.excitations(electrons, qubits)\n",
    "\n",
    "# Map excitations to the wires the UCCSD circuit will act on\n",
    "s_wires, d_wires = qchem.excitations_to_wires(singles, doubles)\n",
    "\n",
    "# Define the device\n",
    "#dev = qml.device('default.qubit', wires=qubits)\n",
    "dev = qml.device('default.qubit', wires=qubits)\n",
    "\n",
    "\n",
    "# Define the UCCSD ansatz\n",
    "#ansatz = partial(UCCSD, init_state=ref_state, s_wires=s_wires, d_wires=d_wires)\n",
    "ansatz = partial(ParticleConservingU2, init_state=ref_state)\n",
    "\n",
    "# Define the cost function\n",
    "cost_fn = qml.ExpvalCost(ansatz, h, dev)\n",
    "\n",
    "opt = qml.GradientDescentOptimizer(stepsize=1)\n",
    "\n",
    "# Compute the expectation value of 'h' for given set of parameters 'params'\n",
    "layers = 1\n"
   ]
  },
  {
   "cell_type": "code",
   "execution_count": null,
   "metadata": {},
   "outputs": [],
   "source": [
    "#UCCSD Params\n",
    "#params = np.random.normal(0, np.pi, len(singles) + len(doubles))\n",
    "\n",
    "params = qml.init.particle_conserving_u2_normal(layers, qubits)\n",
    "explicit_e_vqe_act = None\n",
    "\n",
    "if run_vqe:\n",
    "    max_iterations = 100\n",
    "    conv_tol = keywords[\"e_convergence\"]\n",
    "    energy = [cost_fn(params)]\n",
    "    param_vals = [params]\n",
    "\n",
    "    print(\"Beginning Iterations\")\n",
    "    print(f\"Step = 0,  Energy = {energy[-1]:.8f} Ha\")\n",
    "    for n in range(max_iterations):\n",
    "        params, prev_energy = opt.step_and_cost(cost_fn, params)\n",
    "\n",
    "        energy.append(cost_fn(params))\n",
    "        param_vals.append(params)\n",
    "\n",
    "        conv = np.abs(energy[-1] - prev_energy)\n",
    "\n",
    "        # if n % 2 == 0:\n",
    "        print(f\"Step = {n+1},  Energy = {energy[-1]:.8f} Ha\")\n",
    "\n",
    "        if conv <= conv_tol and conv != 0:\n",
    "            break\n",
    "\n",
    "    explicit_e_vqe_act = energy[-1]\n",
    "\n",
    "    print(\"\\n\" f\"Final value of the ground-state energy = {explicit_e_vqe_act:.8f} Ha\")\n",
    "    print(\"\\n\" f\"Optimal value of the circuit parameter = {param_vals[-1]}\")"
   ]
  },
  {
   "cell_type": "markdown",
   "metadata": {},
   "source": [
    "# 8. Add all the parts up with VQE\n",
    "\n",
    "e_act_emb : $\\epsilon[\\gamma^A_{emb}]$\n",
    ">energy of the embedded region\n",
    "\n",
    "e_env : $E[\\gamma^B]$ \n",
    ">energy of the environment\n",
    "\n",
    "two_e_cross : $g[\\gamma^A, \\gamma^B]$\n",
    ">non-additive two electron term\n",
    "\n",
    "embed.nre\n",
    ">The Coulomb energy from nuclear repulsion.\n",
    "\n",
    "correction : $tr[(\\gamma^A_{emb} - \\gamma^A)(h^{A in B} - h)]$ (or $tr[\\gamma^A(h^{A in B} - h)]$ )\n",
    "> Correction for embedding"
   ]
  },
  {
   "cell_type": "code",
   "execution_count": null,
   "metadata": {},
   "outputs": [
    {
     "name": "stdout",
     "output_type": "stream",
     "text": [
      "Component contributions\n",
      "e_vqe_act=-61.69158831931323, e_wf_act=-61.75537237033033\n",
      "e_env=-21.7637520735885, two_e_cross=15.553595561079673, wf_correction=15.566037482763932, dm_correction=0.45640623149108706, e_nuc=9.285714221677825\n",
      "\n",
      "FCI Energy:\t\t\t-76.2060\n",
      "Used MOs=5\n",
      "Act MOs=3\n",
      "Env MOs=2\n",
      "Total MOs=18\n",
      "\n",
      "DFT Energy:\t\t\t-67.9422\n",
      "Error:\t\t\t\t10.84%\n",
      "\n",
      "WF Embedding Energy:\t\t-74.2459\n",
      "Error:\t\t\t\t2.57%\n",
      "\n",
      "VQE Embedding Energy:\t\t-74.1821\n",
      "Error:\t\t\t\t2.66%\n",
      "\n"
     ]
    }
   ],
   "source": [
    "e_nuc = mol.energy_nuc()\n",
    "\n",
    "e_vqe_emb = e_vqe_act + e_env + two_e_cross + e_nuc - wf_correction \n",
    "e_wf_emb = e_wf_act + e_env + two_e_cross + e_nuc - wf_correction \n",
    "print(\"Component contributions\")\n",
    "print(f\"{e_vqe_act=}, {e_wf_act=}\")\n",
    "print(f\"{e_env=}, {two_e_cross=}, {wf_correction=}, {dm_correction=}, {e_nuc=}\\n\")\n",
    "# Print out the final value.\n",
    "print(f\"FCI Energy:\\t\\t\\t{expected_energy:.4f}\")\n",
    "\n",
    "print(f\"Used MOs={len(active_indices)}\")\n",
    "print(f\"Act MOs={n_act_mos}\")\n",
    "print(f\"Env MOs={n_env_mos}\")\n",
    "print(f\"Total MOs={len(ks.mo_occ)}\\n\")\n",
    "\n",
    "print(f\"DFT Energy:\\t\\t\\t{e_initial:.4f}\")\n",
    "print(f\"Error:\\t\\t\\t\\t{(expected_energy-e_initial)*100/expected_energy:.2f}%\\n\")\n",
    "\n",
    "print(f\"WF Embedding Energy:\\t\\t{e_wf_emb:.4f}\")\n",
    "print(f\"Error:\\t\\t\\t\\t{(expected_energy-e_wf_emb)*100/expected_energy:.2f}%\\n\")\n",
    "\n",
    "print(f\"VQE Embedding Energy:\\t\\t{e_vqe_emb:.4f}\")\n",
    "print(f\"Error:\\t\\t\\t\\t{(expected_energy-e_vqe_emb)*100/expected_energy:.2f}%\\n\")\n",
    "\n",
    "if explicit_e_vqe_act:\n",
    "    explicit_e_vqe_emb = explicit_e_vqe_act + e_env + two_e_cross + e_nuc - wf_correction \n",
    "    print(f\"Explicit VQE Embedding Energy:\\t{explicit_e_vqe_emb:.4f}\")\n",
    "    print(f\"Error:\\t\\t\\t\\t{(expected_energy-explicit_e_vqe_emb)*100/expected_energy:.2f}%\")\n"
   ]
  }
 ],
 "metadata": {
  "interpreter": {
   "hash": "aee8b7b246df8f9039afb4144a1f6fd8d2ca17a180786b69acc140d282b71a49"
  },
  "kernelspec": {
   "display_name": "Python 3.9.7 64-bit",
   "language": "python",
   "name": "python3"
  },
  "language_info": {
   "codemirror_mode": {
    "name": "ipython",
    "version": 3
   },
   "file_extension": ".py",
   "mimetype": "text/x-python",
   "name": "python",
   "nbconvert_exporter": "python",
   "pygments_lexer": "ipython3",
   "version": "3.9.7"
  }
 },
 "nbformat": 4,
 "nbformat_minor": 4
}
