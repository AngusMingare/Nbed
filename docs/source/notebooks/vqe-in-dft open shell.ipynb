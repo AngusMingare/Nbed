{
 "cells": [
  {
   "cell_type": "markdown",
   "metadata": {},
   "source": [
    "# VQE in DFT with PsiEmbed and Qiskit\n",
    "\n",
    "Here we define the inputs as required by PsiEmbed. Note that we'll follow the logic of `embedding_module/run_open_shell`."
   ]
  },
  {
   "cell_type": "markdown",
   "metadata": {},
   "source": [
    "We can think of this procedure are requiring three steps:\n",
    "\n",
    "1. Pre-embedding\n",
    "\n",
    "    Here we define the problem, and run a low-level calculation of the whole system. From this we obtain the pre-embedded density matrices $\\gamma^A$ and $\\gamma^B$\n",
    "\n",
    "    We then define the level-shift projector $P$ and embedding potential $V_{emb}$.\n",
    "\n",
    "2. Embedding\n",
    "\n",
    "    Using $V_{emb}$ we run a high-level method simulation of the active region to get the embedded density matrix $\\gamma^A_{emb}$.\n",
    "\n",
    "    We calculate the correction term $tr[V_{emb}(\\gamma^A_{emb}-\\gamma^A)]$\n",
    "\n",
    "3. Post-embedding\n",
    "\n",
    "    Finally we calculate the embedded energy, by removing $V_{emb}$ from the Hamiltonian, and using density matrix $\\gamma^A_{emb}$.\n",
    "\n",
    "    The total energy is then given by: $E = E[\\gamma^A_{emb}] + E[\\gamma^B] + g[\\gamma^A, \\gamma^B] + E_{nuclear} + tr[V_{emb}(\\gamma^A_{emb}-\\gamma^A)]$"
   ]
  },
  {
   "cell_type": "markdown",
   "metadata": {},
   "source": [
    "# 0. Set Parameters\n",
    "\n",
    "First we'll set the parameters "
   ]
  },
  {
   "cell_type": "code",
   "execution_count": 1,
   "metadata": {},
   "outputs": [],
   "source": [
    "from copy import copy\n",
    "import numpy as np\n",
    "from scipy import linalg\n",
    "from scipy.linalg import LinAlgError\n",
    "from typing import Dict\n",
    "\n",
    "ethane = \"\"\"\n",
    "C      0.7516     -0.0225     -0.0209\n",
    "C     -0.7516      0.0225      0.0209\n",
    "H      1.1851     -0.0039      0.9875\n",
    "H      1.1669      0.8330     -0.5693\n",
    "H      1.1155     -0.9329     -0.5145\n",
    "H     -1.1669     -0.8334      0.5687  \n",
    "H     -1.1157      0.9326      0.5151\n",
    "H     -1.1850      0.0044     -0.9875\n",
    "    \"\"\"\n",
    "\n",
    "ethylene = \"\"\"\n",
    "C    3.402   0.773  -9.252\n",
    "H    2.933  -0.150  -9.521\n",
    "H    2.837   1.682  -9.258\n",
    "C    4.697   0.791  -8.909\n",
    "H    5.262  -0.118  -8.904\n",
    "H    5.167   1.714  -8.641\n",
    "    \"\"\"\n",
    "\n",
    "methanol = \"\"\"\n",
    "O     -0.6582     -0.0067      0.1730 \n",
    "H     -1.1326     -0.0311     -0.6482\n",
    "C      0.7031      0.0083     -0.1305\n",
    "H      1.2001      0.0363      0.8431\n",
    "H      0.9877      0.8943     -0.7114\n",
    "H      1.0155     -0.8918     -0.6742\n",
    "  \"\"\"\n",
    "# H     -1.1326     -0.0311     -0.6482 <--- this goes with the oxygen\n",
    "\n",
    "\n",
    "formaldehyde = \"\"\"\n",
    "C      0.5979      0.0151      0.0688\n",
    "H      1.0686     -0.1411      1.0408\n",
    "H      1.2687      0.2002     -0.7717\n",
    "O     -0.5960     -0.0151     -0.0686\n",
    "  \"\"\"\n",
    "\n",
    "water = \"\"\"\n",
    "O          0.00000        0.000      0.115\n",
    "H          0.00000        0.754     -0.459\n",
    "H          0.00000       -0.754     -0.459\n",
    "    \"\"\"\n",
    "\n",
    "oxygen = \"\"\"\n",
    "O          0.3451        0.000      0.000\n",
    "O         -0.3451        0.000      0.000\n",
    "    \"\"\"\n",
    "\n",
    "h_peroxide = \"\"\"\n",
    "O          0.00000        0.00000        0.00000\n",
    "O          1.00000        0.00000        0.00000\n",
    "H          0.00000        0.50000        0.00000\n",
    "H          1.00000       -0.50000        0.00000\n",
    "\"\"\"\n",
    "\n",
    "LiH = \"\"\"\n",
    "Li 0.0 0.0 0.0\n",
    "H  0.0 0.0 1.541\n",
    "\"\"\"\n",
    "\n",
    "Li2 = \"\"\"\n",
    "Li 0.0 0.0 0.0\n",
    "Li  0.0 0.0 2.627\n",
    "\"\"\"\n",
    "\n",
    "glycine = \"\"\"\n",
    "O     1.916  -0.760  -0.740 \n",
    "H    -1.736  -0.252  -0.592\n",
    "N    -1.476   0.232   0.252 \n",
    "C    -0.012   0.296   0.348 \n",
    "C     0.596  -0.652  -0.648 \n",
    "O    -0.124  -1.320  -1.368 \n",
    "H     0.292   0.020   1.364 \n",
    "H     0.320   1.320   0.132 \n",
    "H    -1.636  -0.236   1.132 \n",
    "H    -1.916   1.136   0.272\n",
    "  \"\"\"\n",
    "\n",
    "pyridine = \"\"\"\n",
    "  N      0.6816      1.1960      0.0000\n",
    "  C      1.3603      0.0256      0.0000\n",
    "  C      0.6971     -1.2020      0.0000\n",
    "  C     -0.6944     -1.2184      0.0000\n",
    "  C     -1.3895     -0.0129      0.0000\n",
    "  C     -0.6712      1.1834      0.0000\n",
    "  H      2.4530      0.1083      0.0000\n",
    "  H      1.2665     -2.1365      0.0000\n",
    "  H     -1.2365     -2.1696      0.0000\n",
    "  H     -2.4837      0.0011      0.0000\n",
    "  H     -1.1569      2.1657      0.0000\n",
    "\"\"\"\n",
    "\n",
    "options = {}\n",
    "options['geometry'] = oxygen\n",
    "options['n_active_atoms'] = 1 # number of active atoms (first n atoms in the geometry string)\n",
    "\n",
    "run_fci = True\n",
    "run_vqe = True\n",
    "mos_to_use = 10\n",
    "\n",
    "options['basis'] = 'STO-3G' # basis set \n",
    "options['low_level'] = 'b3lyp' # level of theory of the environment \n",
    "options['high_level'] = 'mp2' # level of theory of the embedded system\n",
    "options['low_level_reference'] = 'rhf'\n",
    "options['high_level_reference'] = 'rhf'\n",
    "options['package'] = 'pyscf'\n",
    "options['e_convergence'] = 1e-10\n",
    "\n",
    "def fill_defaults(keywords) -> Dict[str, str]:\n",
    "    \"Fills in the default keyword values\"\n",
    "    # Default keywords\n",
    "    default_keywords = {}\n",
    "    default_keywords[\"package\"] = \"pyscf\"\n",
    "    default_keywords[\"num_threads\"] = 1\n",
    "    default_keywords[\"memory\"] = 1000\n",
    "    default_keywords[\"charge\"] = 0\n",
    "    default_keywords[\"multiplicity\"] = 1\n",
    "    default_keywords[\"low_level_reference\"] = \"rhf\"\n",
    "    default_keywords[\"high_level_reference\"] = \"rhf\"\n",
    "    default_keywords[\"partition_method\"] = \"spade\"\n",
    "    default_keywords[\"e_convergence\"] = 1e-6\n",
    "    default_keywords[\"d_convergence\"] = 1e-6\n",
    "    default_keywords[\"eri\"] = \"df\"\n",
    "    default_keywords[\"ints_tolerance\"] = 1e-10\n",
    "    default_keywords[\"driver_output\"] = \"output.dat\"\n",
    "    default_keywords[\"embedding_output\"] = \"embedding.log\"\n",
    "    default_keywords[\"operator\"] = \"F\"\n",
    "    default_keywords[\"level_shift\"] = 1.0e6\n",
    "    default_keywords[\"low_level_damping_percentage\"] = 0\n",
    "    default_keywords[\"high_level_damping_percentage\"] = 0\n",
    "    default_keywords[\"low_level_soscf\"] = \"False\"\n",
    "    default_keywords[\"high_level_soscf\"] = \"False\"\n",
    "    default_keywords[\"molden\"] = False\n",
    "    default_keywords[\"print_level\"] = 1\n",
    "    default_keywords[\"cc_type\"] = \"df\"\n",
    "    default_keywords[\"save_embedding_potential\"] = False\n",
    "    default_keywords[\"save_embedded_h_core\"] = False\n",
    "    default_keywords[\"save_embedded_orbitals\"] = False\n",
    "    default_keywords[\"run_high_level\"] = True\n",
    "\n",
    "    # Checking if the necessary keywords have been defined\n",
    "    required = [\"low_level\", \"high_level\", \"basis\", \"n_active_atoms\"]\n",
    "    if not all([key in keywords for key in required]):\n",
    "        raise KeyError(\"You must include keys for each of:\\n%s\", required)\n",
    "    # assert 'low_level' in keywords, ('\\n Choose level of theory',\n",
    "    #                                 'for the environment')\n",
    "    # assert 'high_level' in keywords, ('\\n Choose level of theory',\n",
    "    #                                 'for the active region')\n",
    "    # assert 'basis' in keywords, '\\n Choose a basis set'\n",
    "    # assert 'n_active_atoms' in keywords, ('\\n Provide the number of active',\n",
    "    #     'atoms, which the first atoms in your coordinates string')\n",
    "\n",
    "    for key in default_keywords.keys():\n",
    "        if key not in keywords:\n",
    "            keywords[key] = default_keywords[key]\n",
    "\n",
    "    if \"n_cl_shell\" in keywords and \"virtual_projection_basis\" not in keywords:\n",
    "        keywords[\"virtual_projection_basis\"] = keywords[\"basis\"]\n",
    "\n",
    "    return keywords\n",
    "\n",
    "keywords = fill_defaults(options)\n",
    "\n",
    "#run_closed_shell(keywords)"
   ]
  },
  {
   "cell_type": "markdown",
   "metadata": {},
   "source": [
    "# 1. Low-level whole system calculation\n",
    "\n",
    "The first step is to run a mean field caluclation of the whole system.    \n",
    "\n",
    "We also run a high-precision method, Full Configuration Interaction or Coupled Cluster Single Double to determine a reference value."
   ]
  },
  {
   "cell_type": "code",
   "execution_count": 4,
   "metadata": {},
   "outputs": [
    {
     "ename": "NameError",
     "evalue": "name 'keywords' is not defined",
     "output_type": "error",
     "traceback": [
      "\u001b[0;31m---------------------------------------------------------------------------\u001b[0m",
      "\u001b[0;31mNameError\u001b[0m                                 Traceback (most recent call last)",
      "\u001b[0;32m/var/folders/m_/ny0b3t9s6_bfxv36277px02r0000gp/T/ipykernel_2031/941477743.py\u001b[0m in \u001b[0;36m<module>\u001b[0;34m\u001b[0m\n\u001b[1;32m      1\u001b[0m \u001b[0;32mfrom\u001b[0m \u001b[0mpyscf\u001b[0m \u001b[0;32mimport\u001b[0m \u001b[0mgto\u001b[0m\u001b[0;34m,\u001b[0m \u001b[0mscf\u001b[0m\u001b[0;34m,\u001b[0m \u001b[0mcc\u001b[0m\u001b[0;34m,\u001b[0m \u001b[0mao2mo\u001b[0m\u001b[0;34m,\u001b[0m \u001b[0mfci\u001b[0m\u001b[0;34m\u001b[0m\u001b[0;34m\u001b[0m\u001b[0m\n\u001b[1;32m      2\u001b[0m \u001b[0;34m\u001b[0m\u001b[0m\n\u001b[0;32m----> 3\u001b[0;31m \u001b[0mmol\u001b[0m \u001b[0;34m=\u001b[0m \u001b[0mgto\u001b[0m\u001b[0;34m.\u001b[0m\u001b[0mMole\u001b[0m\u001b[0;34m(\u001b[0m\u001b[0matom\u001b[0m\u001b[0;34m=\u001b[0m\u001b[0mkeywords\u001b[0m\u001b[0;34m[\u001b[0m\u001b[0;34m'geometry'\u001b[0m\u001b[0;34m]\u001b[0m\u001b[0;34m,\u001b[0m \u001b[0mbasis\u001b[0m\u001b[0;34m=\u001b[0m\u001b[0mkeywords\u001b[0m\u001b[0;34m[\u001b[0m\u001b[0;34m'basis'\u001b[0m\u001b[0;34m]\u001b[0m\u001b[0;34m,\u001b[0m \u001b[0mcharge\u001b[0m\u001b[0;34m=\u001b[0m\u001b[0;36m0\u001b[0m\u001b[0;34m,\u001b[0m \u001b[0mspin\u001b[0m\u001b[0;34m=\u001b[0m\u001b[0;36m0\u001b[0m\u001b[0;34m)\u001b[0m\u001b[0;34m.\u001b[0m\u001b[0mbuild\u001b[0m\u001b[0;34m(\u001b[0m\u001b[0;34m)\u001b[0m\u001b[0;34m\u001b[0m\u001b[0;34m\u001b[0m\u001b[0m\n\u001b[0m\u001b[1;32m      4\u001b[0m \u001b[0;34m\u001b[0m\u001b[0m\n\u001b[1;32m      5\u001b[0m \u001b[0mks\u001b[0m \u001b[0;34m=\u001b[0m \u001b[0mscf\u001b[0m\u001b[0;34m.\u001b[0m\u001b[0mUKS\u001b[0m\u001b[0;34m(\u001b[0m\u001b[0mmol\u001b[0m\u001b[0;34m)\u001b[0m\u001b[0;34m\u001b[0m\u001b[0;34m\u001b[0m\u001b[0m\n",
      "\u001b[0;31mNameError\u001b[0m: name 'keywords' is not defined"
     ]
    }
   ],
   "source": [
    "from pyscf import gto, scf, cc, ao2mo, fci\n",
    "\n",
    "mol = gto.Mole(atom=keywords['geometry'], basis=keywords['basis'], charge=0, spin=0).build()\n",
    "\n",
    "ks = scf.UKS(mol)\n",
    "ks.conv_tol = keywords[\"e_convergence\"]\n",
    "ks.xc = keywords[\"low_level\"]\n",
    "e_initial = ks.kernel()\n",
    "\n",
    "# Store the initial value of h core as this is needed later,\n",
    "# but is overwritten\n",
    "\n",
    "initial_h_core = ks.get_hcore()\n",
    "\n",
    "# Calulate a reference value\n",
    "mol_copy = copy(mol)\n",
    "hf = mol_copy.UHF().run()"
   ]
  },
  {
   "cell_type": "code",
   "execution_count": 16,
   "metadata": {},
   "outputs": [
    {
     "name": "stdout",
     "output_type": "stream",
     "text": [
      "e_initial=-145.61292893436527, expected_energy=-145.15596797954345\n"
     ]
    }
   ],
   "source": [
    "if run_fci:\n",
    "    ref_fci = fci.FCI(hf)\n",
    "    ref_fci.conv_tol = keywords[\"e_convergence\"]\n",
    "    fci_result = ref_fci.kernel()\n",
    "\n",
    "    # This DOES have nuclear energy included!\n",
    "    expected_energy = fci_result[0]\n",
    "\n",
    "else:\n",
    "    ref_cc = cc.CCSD(hf)\n",
    "    ref_cc.conv_tol = keywords[\"e_convergence\"]\n",
    "    cc_result = ref_cc.kernel()\n",
    "\n",
    "    expected_energy = hf.energy_tot() + cc_result[0]\n",
    "\n",
    "print(f\"{e_initial=}, {expected_energy=}\")"
   ]
  },
  {
   "cell_type": "code",
   "execution_count": 17,
   "metadata": {},
   "outputs": [
    {
     "name": "stdout",
     "output_type": "stream",
     "text": [
      "n_act_mos_alpha=3, n_act_mos_beta=3, n_env_mos_alpha=5, n_env_mos_beta=5\n"
     ]
    }
   ],
   "source": [
    "n_occupied_mos_alpha = np.count_nonzero(ks.mo_occ[0] == 1)\n",
    "n_occupied_mos_beta = np.count_nonzero(ks.mo_occ[1] == 1)\n",
    "\n",
    "occupied_orbitals_alpha = ks.mo_coeff[0][:, :n_occupied_mos_alpha]\n",
    "occupied_orbitals_beta = ks.mo_coeff[1][:, :n_occupied_mos_beta]\n",
    "\n",
    "n_act_aos = mol.aoslice_by_atom()[keywords['n_active_atoms']-1][-1]\n",
    "\n",
    "# Rotate orbitals so that they're orthogonal\n",
    "ao_overlap = ks.get_ovlp()\n",
    "rotated_orbitals_alpha = linalg.fractional_matrix_power(ao_overlap, 0.5) @ occupied_orbitals_alpha\n",
    "rotated_orbitals_beta = linalg.fractional_matrix_power(ao_overlap, 0.5) @ occupied_orbitals_beta\n",
    "_alpha, sigma_alpha, right_vectors_alpha = linalg.svd(rotated_orbitals_alpha[:n_act_aos, :])\n",
    "_beta, sigma_beta, right_vectors_beta = linalg.svd(rotated_orbitals_beta[:n_act_aos, :])\n",
    "\n",
    "if len(sigma_alpha) == 1:\n",
    "    n_act_mos_alpha = 1\n",
    "elif len(sigma_beta) == 1:\n",
    "    n_act_mos_beta = 1\n",
    "else:\n",
    "    value_diffs_alpha = sigma_alpha[:-1]-sigma_alpha[1:]\n",
    "    value_diffs_beta = sigma_beta[:-1]-sigma_beta[1:]\n",
    "    n_act_mos_alpha = np.argmax(value_diffs_alpha) + 1\n",
    "    n_act_mos_beta = np.argmax(value_diffs_beta) + 1\n",
    "\n",
    "\n",
    "n_env_mos_alpha = n_occupied_mos_alpha - n_act_mos_alpha\n",
    "n_env_mos_beta = n_occupied_mos_beta - n_act_mos_beta\n",
    "\n",
    "# get active and enviro indices\n",
    "active_MO_inds_alpha = np.arange(n_act_mos_alpha)\n",
    "active_MO_inds_beta = np.arange(n_act_mos_beta)\n",
    "enviro_MO_inds_alpha = np.arange(n_act_mos_alpha, n_act_mos_alpha+n_env_mos_alpha)\n",
    "enviro_MO_inds_beta = np.arange(n_act_mos_beta, n_act_mos_beta+n_env_mos_beta)\n",
    "\n",
    "# Defining active and environment orbitals and \n",
    "act_orbitals_alpha = occupied_orbitals_alpha @ right_vectors_alpha.T[:, :n_act_mos_alpha]\n",
    "act_orbitals_beta = occupied_orbitals_beta @ right_vectors_beta.T[:, :n_act_mos_beta]\n",
    "env_orbitals_alpha = occupied_orbitals_alpha @ right_vectors_alpha.T[:, n_act_mos_alpha:]\n",
    "env_orbitals_beta = occupied_orbitals_beta @ right_vectors_beta.T[:, n_act_mos_beta:]\n",
    "\n",
    "act_density_alpha = act_orbitals_alpha @ act_orbitals_alpha.T\n",
    "act_density_beta = act_orbitals_beta @ act_orbitals_beta.T\n",
    "env_density_alpha = env_orbitals_alpha @ env_orbitals_alpha.T\n",
    "env_density_beta = env_orbitals_beta @ env_orbitals_beta.T\n",
    "\n",
    "print(f\"{n_act_mos_alpha=}, {n_act_mos_beta=}, {n_env_mos_alpha=}, {n_env_mos_beta=}\")"
   ]
  },
  {
   "cell_type": "markdown",
   "metadata": {},
   "source": [
    "# 3. Calculate the cross subsytem terms"
   ]
  },
  {
   "cell_type": "code",
   "execution_count": 18,
   "metadata": {},
   "outputs": [
    {
     "name": "stdout",
     "output_type": "stream",
     "text": [
      "e_act=-100.97040895694738, e_env=-131.80868679006812, two_e_cross=38.19554244085319\n"
     ]
    }
   ],
   "source": [
    "# Retrieving the subsytem energy terms and potential matrices\n",
    "\n",
    "# The function called looks like this\n",
    "def open_shell_subsystem(scf, densities):\n",
    "        #It seems that PySCF lumps J and K in the J array \n",
    "        j = ks.get_j(dm = densities)\n",
    "        two_e_term =  ks.get_veff(dm = densities)\n",
    "\n",
    "        e_xc = two_e_term.exc\n",
    "        v_xc = two_e_term - j\n",
    "\n",
    "        j_total = j[0] + j[1]\n",
    "        dm_total = densities[0] + densities[1]\n",
    "\n",
    "        #energy\n",
    "        e = (\n",
    "            np.einsum(\"ij,ji->\", ks.get_hcore(), dm_total)\n",
    "            + 0.5 * (np.einsum(\"ij,ji->\", j_total, dm_total))\n",
    "            + e_xc\n",
    "        )\n",
    "\n",
    "        return e, two_e_term, j, v_xc\n",
    "\n",
    "dm_active = np.array([act_density_alpha, act_density_beta])\n",
    "dm_enviro = np.array([env_density_alpha, env_density_beta])\n",
    "\n",
    "total_dm = act_density_alpha + act_density_beta + env_density_alpha + env_density_beta\n",
    "two_e_term_total = ks.get_veff(dm=total_dm)\n",
    "e_xc_total = two_e_term_total.exc\n",
    "\n",
    "e_act, two_e_act, j_act, v_xc_act  = open_shell_subsystem(mol, dm_active)\n",
    "e_env, two_e_env, j_env, v_xc_env = open_shell_subsystem(mol, dm_enviro)\n",
    "\n",
    "j_cross = 0.5 * (\n",
    "    np.einsum(\"ij,ij\", dm_active[0], j_env[0])\n",
    "    + np.einsum(\"ij,ij\", dm_enviro[0], j_act[0])\n",
    "    + np.einsum(\"ij,ij\", dm_active[0], j_env[1])\n",
    "    + np.einsum(\"ij,ij\", dm_enviro[0], j_act[1])\n",
    "    + np.einsum(\"ij,ij\", dm_active[1], j_env[1])\n",
    "    + np.einsum(\"ij,ij\", dm_enviro[1], j_act[1])\n",
    "    + np.einsum(\"ij,ij\", dm_active[1], j_env[0])\n",
    "    + np.einsum(\"ij,ij\", dm_enviro[1], j_act[0])\n",
    ")\n",
    "\n",
    "# Because of projection we expect kinetic term to be zero\n",
    "k_cross = 0.0\n",
    "\n",
    "xc_cross = e_xc_total - two_e_act.exc - two_e_env.exc\n",
    "\n",
    "# overall two_electron cross energy\n",
    "two_e_cross = j_cross + k_cross + xc_cross\n",
    "\n",
    "print(f\"{e_act=}, {e_env=}, {two_e_cross=}\")"
   ]
  },
  {
   "cell_type": "code",
   "execution_count": 21,
   "metadata": {},
   "outputs": [
    {
     "data": {
      "text/plain": [
       "16.83689094069377"
      ]
     },
     "execution_count": 21,
     "metadata": {},
     "output_type": "execute_result"
    }
   ],
   "source": [
    "np.trace(total_dm)"
   ]
  },
  {
   "cell_type": "markdown",
   "metadata": {},
   "source": [
    "# 4. Define $V_{emb}$\n",
    "\n",
    "We can now define the projector used to orthogonalise the Molecular and Atomic orbitals. From this we calculate the embedding potential.\n",
    "\n",
    "$P_{\\alpha, \\beta} = S\\gamma^BS$\n",
    "\n",
    "From this we can now also define the embedding potential.\n",
    "\n",
    "$V_{emb} = g[\\gamma^A, \\gamma^B] - g[\\gamma^A] + \\mu P$"
   ]
  },
  {
   "cell_type": "code",
   "execution_count": 5,
   "metadata": {},
   "outputs": [
    {
     "name": "stdout",
     "output_type": "stream",
     "text": [
      "keywords['level_shift']=1000000.0\n"
     ]
    }
   ],
   "source": [
    "# Define the mu-projector\n",
    "projector = keywords['level_shift'] * (ks.get_ovlp() @ dm_enviro @ ks.get_ovlp())\n",
    "\n",
    "v_xc_total = ks.get_veff() - ks.get_j()\n",
    "\n",
    "dft_potential = two_e_term_total - two_e_act\n",
    "\n",
    "v_emb =  dft_potential + projector\n",
    "\n",
    "print(f\"{keywords['level_shift']=}\")"
   ]
  },
  {
   "cell_type": "markdown",
   "metadata": {},
   "source": [
    "# 5A Run HF of full system with $V_{emb}$ to get $\\gamma^A_{emb}$\n",
    "\n",
    "Here, PsiEmbed gives us the option to stop, outputting values for calculation by other means.\n",
    "\n",
    "To continue, we run the mean field method, but with the embedding potentials as calulated."
   ]
  },
  {
   "cell_type": "code",
   "execution_count": 6,
   "metadata": {},
   "outputs": [
    {
     "name": "stderr",
     "output_type": "stream",
     "text": [
      "/Users/mac/Library/Caches/pypoetry/virtualenvs/nbed-V87YptuY-py3.9/lib/python3.9/site-packages/_distutils_hack/__init__.py:30: UserWarning: Setuptools is replacing distutils.\n",
      "  warnings.warn(\"Setuptools is replacing distutils.\")\n",
      "Overwritten attributes  get_hcore energy_elec  of <class 'pyscf.scf.uhf.UHF'>\n",
      "/Users/mac/Library/Caches/pypoetry/virtualenvs/nbed-V87YptuY-py3.9/lib/python3.9/site-packages/pyscf/gto/mole.py:1089: UserWarning: Function mol.dumps drops attribute _nelectron because it is not JSON-serializable\n",
      "  warnings.warn(msg)\n"
     ]
    },
    {
     "name": "stdout",
     "output_type": "stream",
     "text": [
      "converged SCF energy = -11.8755981898724  <S^2> = 0.75006955  2S+1 = 2.0000696\n"
     ]
    },
    {
     "data": {
      "text/plain": [
       "-60.94447894744996"
      ]
     },
     "execution_count": 6,
     "metadata": {},
     "output_type": "execute_result"
    }
   ],
   "source": [
    "from nbed.scf import energy_elec\n",
    "embedded_scf = scf.UHF(mol_copy)\n",
    "embedded_scf.conv_tol = keywords[\"e_convergence\"]\n",
    "embedded_scf.mol.nelectron = n_act_mos_alpha + n_act_mos_beta\n",
    "\n",
    "h_core = ks.get_hcore()\n",
    "\n",
    "embedded_scf.energy_elec = lambda *args,**kwargs: energy_elec(embedded_scf, *args, **kwargs)\n",
    "embedded_scf.get_hcore = lambda *args, **kwargs: np.array([h_core, h_core]) + v_emb\n",
    "\n",
    "embedded_scf.kernel()\n",
    "\n",
    "embedded_occ_orbs_alpha = embedded_scf.mo_coeff[0][:, embedded_scf.mo_occ[0]>0]\n",
    "embedded_occ_orbs_beta = embedded_scf.mo_coeff[1][:, embedded_scf.mo_occ[1]>0]\n",
    "embedded_density_alpha = embedded_occ_orbs_alpha @ embedded_occ_orbs_alpha.T\n",
    "embedded_density_beta = embedded_occ_orbs_beta @ embedded_occ_orbs_beta.T\n",
    "\n",
    "vhf1 =embedded_scf.get_veff( dm = [embedded_density_alpha, embedded_density_beta])\n",
    "hcore= embedded_scf.get_hcore()\n",
    "e_emb = energy_elec(embedded_scf, dm = [embedded_density_alpha, embedded_density_beta], vhf = vhf1)[0]\n",
    "e_emb = embedded_scf.energy_elec(dm = [embedded_density_alpha, embedded_density_beta], vhf = vhf1)[0]\n",
    "e_emb"
   ]
  },
  {
   "cell_type": "markdown",
   "metadata": {},
   "source": [
    "# 6 Calculate correction term"
   ]
  },
  {
   "cell_type": "code",
   "execution_count": 7,
   "metadata": {},
   "outputs": [
    {
     "name": "stdout",
     "output_type": "stream",
     "text": [
      "wf_correction=33.067546765947476\n",
      "dm_correction=-0.0020462210074879694\n"
     ]
    }
   ],
   "source": [
    "# Compute the correction\n",
    "# - There are two versions used for different embeddings\n",
    "act_density_total = act_density_alpha + act_density_beta\n",
    "\n",
    "dm_correction_alpha = np.einsum(\"ij,ij\", v_emb[0], embedded_density_alpha - act_density_alpha)\n",
    "dm_correction_beta = np.einsum(\"ij,ij\", v_emb[1], embedded_density_beta - act_density_beta)\n",
    "dm_correction = dm_correction_alpha + dm_correction_beta\n",
    "\n",
    "wf_correction_alpha = np.einsum(\"ij,ij\", act_density_alpha, v_emb[0])\n",
    "wf_correction_beta = np.einsum(\"ij,ij\", act_density_beta, v_emb[1])\n",
    "wf_correction = wf_correction_alpha + wf_correction_beta\n",
    "\n",
    "print(f\"{wf_correction=}\")\n",
    "print(f\"{dm_correction=}\")"
   ]
  },
  {
   "cell_type": "markdown",
   "metadata": {},
   "source": [
    "# 7 Calculate $E[\\gamma^{A,\\{\\alpha,\\beta\\}}_{emb}]$\n",
    "\n",
    "## Classical Method - CCSD"
   ]
  },
  {
   "cell_type": "code",
   "execution_count": 16,
   "metadata": {},
   "outputs": [
    {
     "name": "stdout",
     "output_type": "stream",
     "text": [
      "E_HF = -60.94447894744996\n",
      "E(UCCSD) = -11.87988131659681  E_corr = -0.004283126724359696\n"
     ]
    },
    {
     "data": {
      "text/plain": [
       "'e_wf_act=-60.94876207417432'"
      ]
     },
     "execution_count": 16,
     "metadata": {},
     "output_type": "execute_result"
    }
   ],
   "source": [
    "from scipy.linalg import LinAlgError\n",
    "\n",
    "# Can use either of these methods \n",
    "# This needs to change if we're not using PySCFEmbed\n",
    "# The j and k matrices are defined differently in PySCF and Psi4\n",
    "\n",
    "e_wf_act = embedded_scf.energy_elec(dm=[embedded_density_alpha, embedded_density_beta], vhf=embedded_scf.get_veff())[0]\n",
    "#e_act_emb_explicit = np.einsum(\"...ij,...ji->...\", [embedded_density_alpha, embedded_density_beta],  initial_h_core + 0.5 * embedded_scf.get_j() - 0.25 * embedded_scf.get_k())\n",
    "\n",
    "print(f\"E_HF = {e_wf_act}\")\n",
    "#print(f\"Difference between HF methods: {e_wf_act - e_act_emb_explicit}\")\n",
    "#print(f\"Difference between HF methods + corrections: {(e_wf_act - wf_correction) - (e_act_emb_explicit + dm_correction)}\")\n",
    "\n",
    "try:\n",
    "    # Run CCSD as WF method\n",
    "    ccsd = cc.CCSD(embedded_scf)\n",
    "    ccsd.conv_tol = keywords[\"e_convergence\"]\n",
    "\n",
    "    # Set which orbitals are to be frozen\n",
    "    # The environment orbitals energies have been increased by the projector\n",
    "    # so they are now at the end of the list, as orbitals are ordered by energy\n",
    "    shift = mol.nao - n_env_mos_alpha - n_env_mos_beta\n",
    "    fos = [i for i in range(shift, mol.nao)]\n",
    "    ccsd.frozen = None\n",
    "    ccsd.run()\n",
    "    e_wf_act += ccsd.e_corr\n",
    "    \n",
    "except LinAlgError as e:\n",
    "    print(e)\n",
    "    print(\"Use the HF energy\")\n",
    "    pass\n",
    "\n",
    "f\"{e_wf_act=}\""
   ]
  },
  {
   "cell_type": "markdown",
   "metadata": {},
   "source": [
    "## Classical Method - FCI"
   ]
  },
  {
   "cell_type": "code",
   "execution_count": 15,
   "metadata": {},
   "outputs": [
    {
     "ename": "ValueError",
     "evalue": "operands could not be broadcast together with shapes (10,2,10) (10,10) ",
     "output_type": "error",
     "traceback": [
      "\u001b[0;31m---------------------------------------------------------------------------\u001b[0m",
      "\u001b[0;31mValueError\u001b[0m                                Traceback (most recent call last)",
      "\u001b[0;32m/var/folders/m_/ny0b3t9s6_bfxv36277px02r0000gp/T/ipykernel_5205/3135852480.py\u001b[0m in \u001b[0;36m<module>\u001b[0;34m\u001b[0m\n\u001b[1;32m      3\u001b[0m     \u001b[0mfci_emb\u001b[0m \u001b[0;34m=\u001b[0m \u001b[0mfci\u001b[0m\u001b[0;34m.\u001b[0m\u001b[0mFCI\u001b[0m\u001b[0;34m(\u001b[0m\u001b[0membedded_scf\u001b[0m\u001b[0;34m)\u001b[0m\u001b[0;34m\u001b[0m\u001b[0;34m\u001b[0m\u001b[0m\n\u001b[1;32m      4\u001b[0m     \u001b[0mfci_emb\u001b[0m\u001b[0;34m.\u001b[0m\u001b[0mconv_tol\u001b[0m \u001b[0;34m=\u001b[0m \u001b[0mkeywords\u001b[0m\u001b[0;34m[\u001b[0m\u001b[0;34m\"e_convergence\"\u001b[0m\u001b[0;34m]\u001b[0m\u001b[0;34m\u001b[0m\u001b[0;34m\u001b[0m\u001b[0m\n\u001b[0;32m----> 5\u001b[0;31m     \u001b[0mfci_emb\u001b[0m\u001b[0;34m.\u001b[0m\u001b[0mrun\u001b[0m\u001b[0;34m(\u001b[0m\u001b[0;34m)\u001b[0m\u001b[0;34m\u001b[0m\u001b[0;34m\u001b[0m\u001b[0m\n\u001b[0m\u001b[1;32m      6\u001b[0m     \u001b[0me_fci_act\u001b[0m \u001b[0;34m=\u001b[0m \u001b[0mfci_emb\u001b[0m\u001b[0;34m.\u001b[0m\u001b[0me_tot\u001b[0m\u001b[0;34m\u001b[0m\u001b[0;34m\u001b[0m\u001b[0m\n\u001b[1;32m      7\u001b[0m \u001b[0;34m\u001b[0m\u001b[0m\n",
      "\u001b[0;32m~/Library/Caches/pypoetry/virtualenvs/nbed-V87YptuY-py3.9/lib/python3.9/site-packages/pyscf/lib/misc.py\u001b[0m in \u001b[0;36mrun\u001b[0;34m(self, *args, **kwargs)\u001b[0m\n\u001b[1;32m    515\u001b[0m         '''\n\u001b[1;32m    516\u001b[0m         \u001b[0mself\u001b[0m\u001b[0;34m.\u001b[0m\u001b[0mset\u001b[0m\u001b[0;34m(\u001b[0m\u001b[0;34m**\u001b[0m\u001b[0mkwargs\u001b[0m\u001b[0;34m)\u001b[0m\u001b[0;34m\u001b[0m\u001b[0;34m\u001b[0m\u001b[0m\n\u001b[0;32m--> 517\u001b[0;31m         \u001b[0mself\u001b[0m\u001b[0;34m.\u001b[0m\u001b[0mkernel\u001b[0m\u001b[0;34m(\u001b[0m\u001b[0;34m*\u001b[0m\u001b[0margs\u001b[0m\u001b[0;34m)\u001b[0m\u001b[0;34m\u001b[0m\u001b[0;34m\u001b[0m\u001b[0m\n\u001b[0m\u001b[1;32m    518\u001b[0m         \u001b[0;32mreturn\u001b[0m \u001b[0mself\u001b[0m\u001b[0;34m\u001b[0m\u001b[0;34m\u001b[0m\u001b[0m\n\u001b[1;32m    519\u001b[0m \u001b[0;34m\u001b[0m\u001b[0m\n",
      "\u001b[0;32m~/Library/Caches/pypoetry/virtualenvs/nbed-V87YptuY-py3.9/lib/python3.9/site-packages/pyscf/fci/__init__.py\u001b[0m in \u001b[0;36mkernel\u001b[0;34m(self, h1e, eri, norb, nelec, ci0, ecore, **kwargs)\u001b[0m\n\u001b[1;32m    164\u001b[0m         def kernel(self, h1e=h1e, eri=eri, norb=norb, nelec=nelec, ci0=None,\n\u001b[1;32m    165\u001b[0m                    ecore=ecore, **kwargs):\n\u001b[0;32m--> 166\u001b[0;31m             return fcisolver_class.kernel(self, h1e, eri, norb, nelec, ci0,\n\u001b[0m\u001b[1;32m    167\u001b[0m                                           ecore=ecore, **kwargs)\n\u001b[1;32m    168\u001b[0m     \u001b[0mcisolver\u001b[0m \u001b[0;34m=\u001b[0m \u001b[0mCISolver\u001b[0m\u001b[0;34m(\u001b[0m\u001b[0mmol\u001b[0m\u001b[0;34m)\u001b[0m\u001b[0;34m\u001b[0m\u001b[0;34m\u001b[0m\u001b[0m\n",
      "\u001b[0;32m~/Library/Caches/pypoetry/virtualenvs/nbed-V87YptuY-py3.9/lib/python3.9/site-packages/pyscf/fci/direct_spin1.py\u001b[0m in \u001b[0;36mkernel\u001b[0;34m(self, h1e, eri, norb, nelec, ci0, tol, lindep, max_cycle, max_space, nroots, davidson_only, pspace_size, orbsym, wfnsym, ecore, **kwargs)\u001b[0m\n\u001b[1;32m    777\u001b[0m         \u001b[0mself\u001b[0m\u001b[0;34m.\u001b[0m\u001b[0mnelec\u001b[0m \u001b[0;34m=\u001b[0m \u001b[0mnelec\u001b[0m\u001b[0;34m\u001b[0m\u001b[0;34m\u001b[0m\u001b[0m\n\u001b[1;32m    778\u001b[0m         \u001b[0mself\u001b[0m\u001b[0;34m.\u001b[0m\u001b[0meci\u001b[0m\u001b[0;34m,\u001b[0m \u001b[0mself\u001b[0m\u001b[0;34m.\u001b[0m\u001b[0mci\u001b[0m \u001b[0;34m=\u001b[0m\u001b[0;31m \u001b[0m\u001b[0;31m\\\u001b[0m\u001b[0;34m\u001b[0m\u001b[0;34m\u001b[0m\u001b[0m\n\u001b[0;32m--> 779\u001b[0;31m                 kernel_ms1(self, h1e, eri, norb, nelec, ci0, None,\n\u001b[0m\u001b[1;32m    780\u001b[0m                            \u001b[0mtol\u001b[0m\u001b[0;34m,\u001b[0m \u001b[0mlindep\u001b[0m\u001b[0;34m,\u001b[0m \u001b[0mmax_cycle\u001b[0m\u001b[0;34m,\u001b[0m \u001b[0mmax_space\u001b[0m\u001b[0;34m,\u001b[0m \u001b[0mnroots\u001b[0m\u001b[0;34m,\u001b[0m\u001b[0;34m\u001b[0m\u001b[0;34m\u001b[0m\u001b[0m\n\u001b[1;32m    781\u001b[0m                            davidson_only, pspace_size, ecore=ecore, **kwargs)\n",
      "\u001b[0;32m~/Library/Caches/pypoetry/virtualenvs/nbed-V87YptuY-py3.9/lib/python3.9/site-packages/pyscf/fci/direct_spin1.py\u001b[0m in \u001b[0;36mkernel_ms1\u001b[0;34m(fci, h1e, eri, norb, nelec, ci0, link_index, tol, lindep, max_cycle, max_space, nroots, davidson_only, pspace_size, max_memory, verbose, ecore, **kwargs)\u001b[0m\n\u001b[1;32m    511\u001b[0m     \u001b[0mprecond\u001b[0m \u001b[0;34m=\u001b[0m \u001b[0mfci\u001b[0m\u001b[0;34m.\u001b[0m\u001b[0mmake_precond\u001b[0m\u001b[0;34m(\u001b[0m\u001b[0mhdiag\u001b[0m\u001b[0;34m,\u001b[0m \u001b[0mpw\u001b[0m\u001b[0;34m,\u001b[0m \u001b[0mpv\u001b[0m\u001b[0;34m,\u001b[0m \u001b[0maddr\u001b[0m\u001b[0;34m)\u001b[0m\u001b[0;34m\u001b[0m\u001b[0;34m\u001b[0m\u001b[0m\n\u001b[1;32m    512\u001b[0m \u001b[0;34m\u001b[0m\u001b[0m\n\u001b[0;32m--> 513\u001b[0;31m     \u001b[0mh2e\u001b[0m \u001b[0;34m=\u001b[0m \u001b[0mfci\u001b[0m\u001b[0;34m.\u001b[0m\u001b[0mabsorb_h1e\u001b[0m\u001b[0;34m(\u001b[0m\u001b[0mh1e\u001b[0m\u001b[0;34m,\u001b[0m \u001b[0meri\u001b[0m\u001b[0;34m,\u001b[0m \u001b[0mnorb\u001b[0m\u001b[0;34m,\u001b[0m \u001b[0mnelec\u001b[0m\u001b[0;34m,\u001b[0m \u001b[0;36m.5\u001b[0m\u001b[0;34m)\u001b[0m\u001b[0;34m\u001b[0m\u001b[0;34m\u001b[0m\u001b[0m\n\u001b[0m\u001b[1;32m    514\u001b[0m     \u001b[0;32mdef\u001b[0m \u001b[0mhop\u001b[0m\u001b[0;34m(\u001b[0m\u001b[0mc\u001b[0m\u001b[0;34m)\u001b[0m\u001b[0;34m:\u001b[0m\u001b[0;34m\u001b[0m\u001b[0;34m\u001b[0m\u001b[0m\n\u001b[1;32m    515\u001b[0m         \u001b[0mhc\u001b[0m \u001b[0;34m=\u001b[0m \u001b[0mfci\u001b[0m\u001b[0;34m.\u001b[0m\u001b[0mcontract_2e\u001b[0m\u001b[0;34m(\u001b[0m\u001b[0mh2e\u001b[0m\u001b[0;34m,\u001b[0m \u001b[0mc\u001b[0m\u001b[0;34m,\u001b[0m \u001b[0mnorb\u001b[0m\u001b[0;34m,\u001b[0m \u001b[0mnelec\u001b[0m\u001b[0;34m,\u001b[0m \u001b[0;34m(\u001b[0m\u001b[0mlink_indexa\u001b[0m\u001b[0;34m,\u001b[0m\u001b[0mlink_indexb\u001b[0m\u001b[0;34m)\u001b[0m\u001b[0;34m)\u001b[0m\u001b[0;34m\u001b[0m\u001b[0;34m\u001b[0m\u001b[0m\n",
      "\u001b[0;32m~/Library/Caches/pypoetry/virtualenvs/nbed-V87YptuY-py3.9/lib/python3.9/site-packages/pyscf/fci/direct_uhf.py\u001b[0m in \u001b[0;36mabsorb_h1e\u001b[0;34m(self, h1e, eri, norb, nelec, fac)\u001b[0m\n\u001b[1;32m    263\u001b[0m \u001b[0;34m\u001b[0m\u001b[0m\n\u001b[1;32m    264\u001b[0m     \u001b[0;32mdef\u001b[0m \u001b[0mabsorb_h1e\u001b[0m\u001b[0;34m(\u001b[0m\u001b[0mself\u001b[0m\u001b[0;34m,\u001b[0m \u001b[0mh1e\u001b[0m\u001b[0;34m,\u001b[0m \u001b[0meri\u001b[0m\u001b[0;34m,\u001b[0m \u001b[0mnorb\u001b[0m\u001b[0;34m,\u001b[0m \u001b[0mnelec\u001b[0m\u001b[0;34m,\u001b[0m \u001b[0mfac\u001b[0m\u001b[0;34m=\u001b[0m\u001b[0;36m1\u001b[0m\u001b[0;34m)\u001b[0m\u001b[0;34m:\u001b[0m\u001b[0;34m\u001b[0m\u001b[0;34m\u001b[0m\u001b[0m\n\u001b[0;32m--> 265\u001b[0;31m         \u001b[0;32mreturn\u001b[0m \u001b[0mabsorb_h1e\u001b[0m\u001b[0;34m(\u001b[0m\u001b[0mh1e\u001b[0m\u001b[0;34m,\u001b[0m \u001b[0meri\u001b[0m\u001b[0;34m,\u001b[0m \u001b[0mnorb\u001b[0m\u001b[0;34m,\u001b[0m \u001b[0mnelec\u001b[0m\u001b[0;34m,\u001b[0m \u001b[0mfac\u001b[0m\u001b[0;34m)\u001b[0m\u001b[0;34m\u001b[0m\u001b[0;34m\u001b[0m\u001b[0m\n\u001b[0m\u001b[1;32m    266\u001b[0m \u001b[0;34m\u001b[0m\u001b[0m\n\u001b[1;32m    267\u001b[0m     \u001b[0;32mdef\u001b[0m \u001b[0mmake_hdiag\u001b[0m\u001b[0;34m(\u001b[0m\u001b[0mself\u001b[0m\u001b[0;34m,\u001b[0m \u001b[0mh1e\u001b[0m\u001b[0;34m,\u001b[0m \u001b[0meri\u001b[0m\u001b[0;34m,\u001b[0m \u001b[0mnorb\u001b[0m\u001b[0;34m,\u001b[0m \u001b[0mnelec\u001b[0m\u001b[0;34m)\u001b[0m\u001b[0;34m:\u001b[0m\u001b[0;34m\u001b[0m\u001b[0;34m\u001b[0m\u001b[0m\n",
      "\u001b[0;32m~/Library/Caches/pypoetry/virtualenvs/nbed-V87YptuY-py3.9/lib/python3.9/site-packages/pyscf/fci/direct_uhf.py\u001b[0m in \u001b[0;36mabsorb_h1e\u001b[0;34m(h1e, eri, norb, nelec, fac)\u001b[0m\n\u001b[1;32m    165\u001b[0m     \u001b[0mh2e_ab\u001b[0m \u001b[0;34m=\u001b[0m \u001b[0mao2mo\u001b[0m\u001b[0;34m.\u001b[0m\u001b[0mrestore\u001b[0m\u001b[0;34m(\u001b[0m\u001b[0;36m1\u001b[0m\u001b[0;34m,\u001b[0m \u001b[0meri\u001b[0m\u001b[0;34m[\u001b[0m\u001b[0;36m1\u001b[0m\u001b[0;34m]\u001b[0m\u001b[0;34m,\u001b[0m \u001b[0mnorb\u001b[0m\u001b[0;34m)\u001b[0m\u001b[0;34m.\u001b[0m\u001b[0mcopy\u001b[0m\u001b[0;34m(\u001b[0m\u001b[0;34m)\u001b[0m\u001b[0;34m\u001b[0m\u001b[0;34m\u001b[0m\u001b[0m\n\u001b[1;32m    166\u001b[0m     \u001b[0mh2e_bb\u001b[0m \u001b[0;34m=\u001b[0m \u001b[0mao2mo\u001b[0m\u001b[0;34m.\u001b[0m\u001b[0mrestore\u001b[0m\u001b[0;34m(\u001b[0m\u001b[0;36m1\u001b[0m\u001b[0;34m,\u001b[0m \u001b[0meri\u001b[0m\u001b[0;34m[\u001b[0m\u001b[0;36m2\u001b[0m\u001b[0;34m]\u001b[0m\u001b[0;34m,\u001b[0m \u001b[0mnorb\u001b[0m\u001b[0;34m)\u001b[0m\u001b[0;34m.\u001b[0m\u001b[0mcopy\u001b[0m\u001b[0;34m(\u001b[0m\u001b[0;34m)\u001b[0m\u001b[0;34m\u001b[0m\u001b[0;34m\u001b[0m\u001b[0m\n\u001b[0;32m--> 167\u001b[0;31m     \u001b[0mf1e_a\u001b[0m \u001b[0;34m=\u001b[0m \u001b[0mh1e_a\u001b[0m \u001b[0;34m-\u001b[0m \u001b[0mnumpy\u001b[0m\u001b[0;34m.\u001b[0m\u001b[0meinsum\u001b[0m\u001b[0;34m(\u001b[0m\u001b[0;34m'jiik->jk'\u001b[0m\u001b[0;34m,\u001b[0m \u001b[0mh2e_aa\u001b[0m\u001b[0;34m)\u001b[0m \u001b[0;34m*\u001b[0m \u001b[0;36m.5\u001b[0m\u001b[0;34m\u001b[0m\u001b[0;34m\u001b[0m\u001b[0m\n\u001b[0m\u001b[1;32m    168\u001b[0m     \u001b[0mf1e_b\u001b[0m \u001b[0;34m=\u001b[0m \u001b[0mh1e_b\u001b[0m \u001b[0;34m-\u001b[0m \u001b[0mnumpy\u001b[0m\u001b[0;34m.\u001b[0m\u001b[0meinsum\u001b[0m\u001b[0;34m(\u001b[0m\u001b[0;34m'jiik->jk'\u001b[0m\u001b[0;34m,\u001b[0m \u001b[0mh2e_bb\u001b[0m\u001b[0;34m)\u001b[0m \u001b[0;34m*\u001b[0m \u001b[0;36m.5\u001b[0m\u001b[0;34m\u001b[0m\u001b[0;34m\u001b[0m\u001b[0m\n\u001b[1;32m    169\u001b[0m     \u001b[0mf1e_a\u001b[0m \u001b[0;34m*=\u001b[0m \u001b[0;36m1.\u001b[0m\u001b[0;34m/\u001b[0m\u001b[0;34m(\u001b[0m\u001b[0mnelec\u001b[0m\u001b[0;34m+\u001b[0m\u001b[0;36m1e-100\u001b[0m\u001b[0;34m)\u001b[0m\u001b[0;34m\u001b[0m\u001b[0;34m\u001b[0m\u001b[0m\n",
      "\u001b[0;31mValueError\u001b[0m: operands could not be broadcast together with shapes (10,2,10) (10,10) "
     ]
    }
   ],
   "source": [
    "try:\n",
    "    # Run FCI as WF method\n",
    "    fci_emb = fci.FCI(embedded_scf)\n",
    "    fci_emb.conv_tol = keywords[\"e_convergence\"]\n",
    "    fci_emb.run()\n",
    "    e_fci_act = fci_emb.e_tot\n",
    "\n",
    "\n",
    "except LinAlgError as e:\n",
    "    print(e)\n",
    "    print(\"Use the HF energy\")\n",
    "    pass\n",
    "\n",
    "print(f\"{e_fci_act=}\")\n",
    "\n",
    "e_wf_emb = e_fci_act + e_env + two_e_cross + e_nuc - wf_correction_alpha -  wf_correction_beta\n",
    "\n",
    "print(f\"E_FCI = {e_wf_emb}\")"
   ]
  },
  {
   "cell_type": "markdown",
   "metadata": {},
   "source": [
    "## Quantum Method - VQE\n",
    "\n",
    "### Set active space\n",
    "\n",
    "Before setting up the VQE we'll get the active and occupied indices - this will be how we reduce the number of qubits needed.\n",
    "\n",
    "Active indices include: Occupied MOs assigned to the active region + All unoccupied MOs"
   ]
  },
  {
   "cell_type": "code",
   "execution_count": null,
   "metadata": {},
   "outputs": [],
   "source": [
    "from openfermion.ops.representations import InteractionOperator, get_active_space_integrals\n",
    "from openfermion.linalg import eigenspectrum, expectation\n",
    "from openfermion.transforms import jordan_wigner\n",
    "\n",
    "occupied_indices = embedded_scf.mo_occ == 1\n",
    "occupied_indices_alpha = [i for i, val in enumerate(occupied_indices[0]) if val]\n",
    "occupied_indices_beta = [i for i, val in enumerate(occupied_indices[1]) if val]\n",
    "\n",
    "# Try using only active MOs\n",
    "active_indices_alpha = [i for i in range(len(embedded_scf.mo_occ[0])-n_env_mos_alpha)]\n",
    "active_indices_beta = [i for i in range(len(embedded_scf.mo_occ[1])-n_env_mos_beta)]\n",
    "\n",
    "if mos_to_use % 2 == 0:\n",
    "    active_indices_alpha = active_indices_alpha[:mos_to_use]\n",
    "    active_indices_beta = active_indices_beta[:mos_to_use]\n",
    "else: \n",
    "    active_indices_alpha = active_indices_alpha[:mos_to_use]\n",
    "    active_indices_beta = active_indices_beta[:mos_to_use]\n",
    "\n",
    "print(f\"{len(embedded_scf.mo_occ[0])}, {embedded_scf.mo_energy[0]}\")\n",
    "print(f\"{len(embedded_scf.mo_occ[1])}, {embedded_scf.mo_energy[1]}\")\n",
    "print(f\"{active_indices_alpha=} \\n {occupied_indices_alpha=}\")\n",
    "print(f\"{active_indices_beta=} \\n {occupied_indices_beta=}\")\n"
   ]
  },
  {
   "cell_type": "code",
   "execution_count": 1,
   "metadata": {},
   "outputs": [
    {
     "name": "stderr",
     "output_type": "stream",
     "text": [
      "/Users/mac/Library/Caches/pypoetry/virtualenvs/nbed-V87YptuY-py3.9/lib/python3.9/site-packages/pyscf/lib/misc.py:46: H5pyDeprecationWarning: Using default_file_mode other than 'r' is deprecated. Pass the mode to h5py.File() instead.\n",
      "  h5py.get_config().default_file_mode = 'a'\n",
      "/Users/mac/Library/Caches/pypoetry/virtualenvs/nbed-V87YptuY-py3.9/lib/python3.9/site-packages/_distutils_hack/__init__.py:30: UserWarning: Setuptools is replacing distutils.\n",
      "  warnings.warn(\"Setuptools is replacing distutils.\")\n"
     ]
    },
    {
     "name": "stdout",
     "output_type": "stream",
     "text": [
      "2\n",
      "\n",
      "O   0.6160  0.0000  0.0000\n",
      "O   -0.6160  0.0000  0.0000\n"
     ]
    }
   ],
   "source": [
    "from pathlib import Path\n",
    "from nbed.driver import NbedDriver\n",
    "#Define all the variables of the molecule\n",
    "geometry= str(Path('/Users/mac/Desktop/Master/Project/Nbed/tests/molecules/O2.xyz').absolute())\n",
    "n_active_atoms= 1\n",
    "basis= 'STO-3G'\n",
    "xc_functional= 'b3lyp'\n",
    "output= 'openfermion'\n",
    "projector= 'huzinaga'\n",
    "localization= 'spade'\n",
    "convergence= 1e-10\n",
    "transform= 'jordan_wigner'\n",
    "name = 'O2'\n",
    "\n",
    "with open(geometry, 'r') as infile:\n",
    "    xyz_string = infile.read()\n",
    "print(xyz_string)\n",
    "\n",
    "run_virtual_localization = False\n",
    "run_fci_emb = False\n",
    "run_ccsd_emb = True\n",
    "run_dft_in_dft= False\n",
    "max_ram_memory = 8_000\n",
    "\n",
    "max_hf_cycles=5000\n",
    "\n",
    "charge= 0\n",
    "spin = 0\n",
    "\n",
    "occupied_threshold = 0.99\n",
    "virtual_threshold = 0.95\n",
    "\n",
    "#Run the NbedDriver class to get the energies and the nbed class to get the qubit hamiltonian\n",
    "driver = NbedDriver(geometry = xyz_string,\n",
    "                    n_active_atoms=n_active_atoms,\n",
    "                    basis = basis,\n",
    "                    charge = charge,\n",
    "                    spin = spin,\n",
    "                    xc_functional = xc_functional,\n",
    "                    run_virtual_localization = run_virtual_localization,\n",
    "                    run_fci_emb = run_fci_emb,\n",
    "                    run_ccsd_emb = run_ccsd_emb,\n",
    "                    run_dft_in_dft = run_dft_in_dft,\n",
    "                    max_ram_memory = max_ram_memory,\n",
    "                    max_hf_cycles=max_hf_cycles,\n",
    "                    occupied_threshold=occupied_threshold,\n",
    "                    projector = projector,\n",
    "                    localization = localization,\n",
    "                    return_dict = True)"
   ]
  },
  {
   "cell_type": "markdown",
   "metadata": {},
   "source": [
    "### Get Qubit Hamiltonian\n",
    "Now we'll calculate the one and two body integrals to create a fermionic Hamiltonian.\n",
    "\n",
    "We then cut out the contribution from the environment orbitals. (Note the reduction in the shape of the integrals!)"
   ]
  },
  {
   "cell_type": "code",
   "execution_count": null,
   "metadata": {},
   "outputs": [],
   "source": [
    "from functools import reduce\n",
    "from pyscf import ao2mo\n",
    "import numpy as np\n",
    "\n",
    "temp_scf = driver.embedded_scf\n",
    "temp_mol = temp_scf.mol\n",
    "c_matrix_active = temp_scf.mo_coeff\n",
    "active_indices_alpha = c_matrix_active[0].shape[1]\n",
    "active_indices_alpha = c_matrix_active[1].shape[1]\n",
    "\n",
    "hcore = driver.embedded_scf.get_hcore()\n",
    "\n",
    "# We only want the terms related to the active space\n",
    "coeff_alpha = temp_scf.mo_coeff[0]\n",
    "coeff_beta = temp_scf.mo_coeff[1]\n",
    "\n",
    "n_orbs_alpha = c_matrix_active[0].shape[1]\n",
    "n_orbs_beta = c_matrix_active[1].shape[1]\n",
    "\n",
    "# hamiltonian here includes Vemb\n",
    "one_body_integrals_alpha = coeff_alpha.T @ hcore[0] @ coeff_alpha\n",
    "one_body_integrals_beta = coeff_beta.T @ hcore[1] @ coeff_beta\n",
    "\n",
    "temp_mol.incore_anyway == True\n",
    "\n",
    "# Get two electron integrals in compressed format.\n",
    "two_body_compressed_alpha = ao2mo.kernel(temp_mol, coeff_alpha)\n",
    "two_body_compressed_beta = ao2mo.kernel(temp_mol, coeff_beta)\n",
    "\n",
    "two_body_integrals_alpha = ao2mo.restore(1, two_body_compressed_alpha, n_orbs_alpha)\n",
    "two_body_integrals_beta = ao2mo.restore(1, two_body_compressed_beta, n_orbs_beta)\n",
    "\n",
    "# Openfermion uses pysicist notation whereas pyscf uses chemists\n",
    "two_body_integrals_alpha = np.asarray(two_body_integrals_alpha.transpose(0, 2, 3, 1), order='C')\n",
    "two_body_integrals_beta = np.asarray(two_body_integrals_beta.transpose(0, 2, 3, 1), order='C')\n",
    "\n",
    "print(f\"{one_body_integrals_alpha.shape=}, {two_body_integrals_alpha.shape=}\")\n",
    "print(f\"{one_body_integrals_beta.shape=}, {two_body_integrals_beta.shape=}\")\n"
   ]
  },
  {
   "cell_type": "markdown",
   "metadata": {},
   "source": [
    "We have to transform this to spin-orbital coefficients to make a qubit operator in terms of the Pauli basis.\n",
    "\n",
    "Then we can find the ground state either by diagonalising the Hamiltonian directly, or by running the VQE algorithm."
   ]
  },
  {
   "cell_type": "code",
   "execution_count": null,
   "metadata": {},
   "outputs": [],
   "source": [
    "from openfermion.chem.molecular_data import spinorb_from_spatial\n",
    "from openfermion.ops.representations import get_active_space_integrals\n",
    "from nbed.ham_builder import HamiltonianBuilder\n",
    "\n",
    "one_body_coefficients_alpha, two_body_coefficients_alpha = HamiltonianBuilder._spinorb_from_spatial(one_body_integrals, two_body_integrals)\n",
    "\n",
    "\n",
    "molecular_hamiltonian_alpha = InteractionOperator(0,\n",
    "                                            0.5 * one_body_coefficients_alpha,\n",
    "                                            0.25 * two_body_coefficients_alpha,)\n",
    "molecular_hamiltonian_beta = InteractionOperator(0,\n",
    "                                            0.5 *one_body_coefficients_beta,\n",
    "                                            0.25 * two_body_coefficients_beta,)    \n",
    "\n",
    "print(type(molecular_hamiltonian_alpha))    \n",
    "\n",
    "Qubit_Hamiltonian_alpha = jordan_wigner(molecular_hamiltonian_alpha)\n",
    "Qubit_Hamiltonian_beta = jordan_wigner(molecular_hamiltonian_beta)\n",
    "\n",
    "e_vqe_act_alpha = eigenspectrum(Qubit_Hamiltonian_alpha)[0]\n",
    "e_vqe_act_beta = eigenspectrum(Qubit_Hamiltonian_beta)[0]\n",
    "\n",
    "print(f\"{e_vqe_act_alpha=}\")\n",
    "print(f\"{e_vqe_act_beta=}\")"
   ]
  },
  {
   "cell_type": "markdown",
   "metadata": {},
   "source": [
    "### Add up parts without running VQE\n",
    "\n",
    "e_act_emb : $\\epsilon[\\gamma^{A, \\{\\alpha, \\beta\\}}_{emb}]$\n",
    ">energy of the embedded region\n",
    "\n",
    "e_env : $E[\\gamma^B]$ \n",
    ">energy of the environment\n",
    "\n",
    "two_e_cross : $g[\\gamma^A, \\gamma^B]$\n",
    ">non-additive two electron term\n",
    "\n",
    "embed.nre\n",
    ">The Coulomb energy from nuclear repulsion.\n",
    "\n",
    "correction : $tr[(\\gamma^A_{emb} - \\gamma^A)(h^{A in B} - h)]$ (or $tr[\\gamma^A(h^{A in B} - h)]$ )\n",
    "> Correction for embedding"
   ]
  },
  {
   "cell_type": "code",
   "execution_count": null,
   "metadata": {},
   "outputs": [],
   "source": [
    "e_nuc = mol.energy_nuc()\n",
    "\n",
    "e_vqe_emb = e_vqe_act_alpha + e_vqe_act_beta + e_env + two_e_cross + e_nuc - wf_correction_alpha - wf_correction_beta\n",
    "e_wf_emb = e_wf_act_alpha + e_wf_act_beta + e_env + two_e_cross + e_nuc - wf_correction_alpha -  wf_correction_beta\n",
    "print(\"Component contributions\")\n",
    "print(f\"{e_vqe_act_alpha=}, {e_vqe_act_beta=}\")\n",
    "print(f\"{e_wf_act_alpha=}, {e_wf_act_beta=}\")\n",
    "print(f\"{e_env=}, {two_e_cross=}, {wf_correction=}, {dm_correction=}, {e_nuc=}\")\n",
    "print(f\"{occupied_indices_alpha=}, {occupied_indices_beta=}\")\n",
    "print(f\"{active_indices_alpha=}, {active_indices_beta=}\")\n",
    "print(f\"Total usable MOs:\\t\\t{len(ks.mo_occ[0])+len(ks.mo_occ[1])-n_env_mos_alpha- n_env_mos_beta:.4f}\")\n",
    "\n",
    "# Print out the final value.\n",
    "print(f\"FCI Energy:\\t\\t{expected_energy:.4f}\")\n",
    "\n",
    "print(f\"DFT Energy:\\t\\t{e_initial:.4f}\")\n",
    "print(f\"Error:\\t\\t\\t{(expected_energy-e_initial)*100/expected_energy:.2f}%\")\n",
    "\n",
    "print(f\"WF Embedding Energy:\\t{e_wf_emb:.4f}\")\n",
    "print(f\"Error:\\t\\t\\t{(expected_energy-e_wf_emb)*100/expected_energy:.2f}%\")\n",
    "print(f\"VQE Embedding Energy:\\t{e_vqe_emb:.4f}\")\n",
    "print(f\"Error:\\t\\t\\t{(expected_energy-e_vqe_emb)*100/expected_energy:.2f}%\")"
   ]
  },
  {
   "cell_type": "markdown",
   "metadata": {},
   "source": []
  },
  {
   "cell_type": "code",
   "execution_count": null,
   "metadata": {},
   "outputs": [],
   "source": []
  },
  {
   "cell_type": "markdown",
   "metadata": {},
   "source": [
    "### Pennylane VQE\n",
    "\n",
    "Taking the qubit operator we defined with open fermion, we can perform VQE using the CCSD ansatz."
   ]
  },
  {
   "cell_type": "code",
   "execution_count": null,
   "metadata": {},
   "outputs": [],
   "source": [
    "import pennylane as qml\n",
    "from pennylane import qchem\n",
    "from pennylane.templates import UCCSD, ParticleConservingU2\n",
    "from functools import partial\n",
    "\n",
    "h_alpha = qchem.convert_observable(Qubit_Hamiltonian_alpha)\n",
    "h_beta = qchem.convert_observable(Qubit_Hamiltonian_beta)\n",
    "\n",
    "qubits_alpha = len(h_alpha.wires)\n",
    "qubits_beta = len(h_beta.wires)\n",
    "qubits = qubits_alpha + qubits_beta\n",
    "print(f\"{qubits=}\")\n",
    "\n",
    "electrons = n_act_mos_alpha + n_act_mos_beta\n",
    "\n",
    "ref_state = qchem.hf_state(electrons, qubits)\n",
    "\n",
    "# Generate single and double excitations\n",
    "singles, doubles = qchem.excitations(electrons, qubits)\n",
    "\n",
    "# Map excitations to the wires the UCCSD circuit will act on\n",
    "s_wires, d_wires = qchem.excitations_to_wires(singles, doubles)\n",
    "\n",
    "# Define the device\n",
    "#dev = qml.device('default.qubit', wires=qubits)\n",
    "dev = qml.device('default.qubit', wires=qubits)\n",
    "\n",
    "\n",
    "# Define the UCCSD ansatz\n",
    "#ansatz = partial(UCCSD, init_state=ref_state, s_wires=s_wires, d_wires=d_wires)\n",
    "ansatz = partial(ParticleConservingU2, init_state=ref_state)\n",
    "\n",
    "# Define the cost function\n",
    "cost_fn = qml.ExpvalCost(ansatz, h, dev)\n",
    "\n",
    "opt = qml.GradientDescentOptimizer(stepsize=1)\n",
    "\n",
    "# Compute the expectation value of 'h' for given set of parameters 'params'\n",
    "layers = 1\n"
   ]
  },
  {
   "cell_type": "code",
   "execution_count": null,
   "metadata": {},
   "outputs": [],
   "source": [
    "#UCCSD Params\n",
    "#params = np.random.normal(0, np.pi, len(singles) + len(doubles))\n",
    "\n",
    "params = qml.init.particle_conserving_u2_normal(layers, qubits)\n",
    "explicit_e_vqe_act = None\n",
    "\n",
    "if run_vqe:\n",
    "    max_iterations = 100\n",
    "    conv_tol = keywords[\"e_convergence\"]\n",
    "    energy = [cost_fn(params)]\n",
    "    param_vals = [params]\n",
    "\n",
    "    print(\"Beginning Iterations\")\n",
    "    print(f\"Step = 0,  Energy = {energy[-1]:.8f} Ha\")\n",
    "    for n in range(max_iterations):\n",
    "        params, prev_energy = opt.step_and_cost(cost_fn, params)\n",
    "\n",
    "        energy.append(cost_fn(params))\n",
    "        param_vals.append(params)\n",
    "\n",
    "        conv = np.abs(energy[-1] - prev_energy)\n",
    "\n",
    "        # if n % 2 == 0:\n",
    "        print(f\"Step = {n+1},  Energy = {energy[-1]:.8f} Ha\")\n",
    "\n",
    "        if conv <= conv_tol and conv != 0:\n",
    "            break\n",
    "\n",
    "    explicit_e_vqe_act = energy[-1]\n",
    "\n",
    "    print(\"\\n\" f\"Final value of the ground-state energy = {explicit_e_vqe_act:.8f} Ha\")\n",
    "    print(\"\\n\" f\"Optimal value of the circuit parameter = {param_vals[-1]}\")"
   ]
  },
  {
   "cell_type": "markdown",
   "metadata": {},
   "source": [
    "# 8. Add all the parts up with VQE\n",
    "\n",
    "e_act_emb : $\\epsilon[\\gamma^A_{emb}]$\n",
    ">energy of the embedded region\n",
    "\n",
    "e_env : $E[\\gamma^B]$ \n",
    ">energy of the environment\n",
    "\n",
    "two_e_cross : $g[\\gamma^A, \\gamma^B]$\n",
    ">non-additive two electron term\n",
    "\n",
    "embed.nre\n",
    ">The Coulomb energy from nuclear repulsion.\n",
    "\n",
    "correction : $tr[(\\gamma^A_{emb} - \\gamma^A)(h^{A in B} - h)]$ (or $tr[\\gamma^A(h^{A in B} - h)]$ )\n",
    "> Correction for embedding"
   ]
  },
  {
   "cell_type": "code",
   "execution_count": null,
   "metadata": {},
   "outputs": [],
   "source": [
    "e_nuc = mol.energy_nuc()\n",
    "\n",
    "e_vqe_emb = e_vqe_act + e_env + two_e_cross + e_nuc - wf_correction \n",
    "e_wf_emb = e_wf_act + e_env + two_e_cross + e_nuc - wf_correction \n",
    "print(\"Component contributions\")\n",
    "print(f\"{e_vqe_act=}, {e_wf_act=}\")\n",
    "print(f\"{e_env=}, {two_e_cross=}, {wf_correction=}, {dm_correction=}, {e_nuc=}\\n\")\n",
    "# Print out the final value.\n",
    "print(f\"FCI Energy:\\t\\t\\t{expected_energy:.4f}\")\n",
    "\n",
    "print(f\"Used MOs={len(active_indices_alpha) + len(active_indices_beta)}\")\n",
    "print(f\"Act MOs alpha={n_act_mos_alpha}\")\n",
    "print(f\"Act MOs beta={n_act_mos_beta}\")\n",
    "print(f\"Env MOs alpha={n_env_mos_alpha}\")\n",
    "print(f\"Env MOs beta={n_env_mos_beta}\")\n",
    "print(f\"Total MOs={len(ks.mo_occ[0])+len(ks.mo_occ[1])}\\n\")\n",
    "\n",
    "print(f\"DFT Energy:\\t\\t\\t{e_initial:.4f}\")\n",
    "print(f\"Error:\\t\\t\\t\\t{(expected_energy-e_initial)*100/expected_energy:.2f}%\\n\")\n",
    "\n",
    "print(f\"WF Embedding Energy:\\t\\t{e_wf_emb:.4f}\")\n",
    "print(f\"Error:\\t\\t\\t\\t{(expected_energy-e_wf_emb)*100/expected_energy:.2f}%\\n\")\n",
    "\n",
    "print(f\"VQE Embedding Energy:\\t\\t{e_vqe_emb:.4f}\")\n",
    "print(f\"Error:\\t\\t\\t\\t{(expected_energy-e_vqe_emb)*100/expected_energy:.2f}%\\n\")\n",
    "\n",
    "if explicit_e_vqe_act:\n",
    "    explicit_e_vqe_emb = explicit_e_vqe_act + e_env + two_e_cross + e_nuc - wf_correction \n",
    "    print(f\"Explicit VQE Embedding Energy:\\t{explicit_e_vqe_emb:.4f}\")\n",
    "    print(f\"Error:\\t\\t\\t\\t{(expected_energy-explicit_e_vqe_emb)*100/expected_energy:.2f}%\")\n"
   ]
  }
 ],
 "metadata": {
  "kernelspec": {
   "display_name": "Python 3.9.7 ('nbed-V87YptuY-py3.9')",
   "language": "python",
   "name": "python3"
  },
  "language_info": {
   "codemirror_mode": {
    "name": "ipython",
    "version": 3
   },
   "file_extension": ".py",
   "mimetype": "text/x-python",
   "name": "python",
   "nbconvert_exporter": "python",
   "pygments_lexer": "ipython3",
   "version": "3.9.7"
  },
  "vscode": {
   "interpreter": {
    "hash": "ae986fb31872ace7076cd74a59795e28546f9d770f9fb6d74ca2c6f300a7e99b"
   }
  }
 },
 "nbformat": 4,
 "nbformat_minor": 4
}
