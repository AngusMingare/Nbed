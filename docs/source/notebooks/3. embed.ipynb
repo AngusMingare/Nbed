{
 "cells": [
  {
   "cell_type": "code",
   "execution_count": 1,
   "metadata": {},
   "outputs": [],
   "source": [
    "# ## inputs\n",
    "water_xyz = water = \"\"\"3\n",
    "\n",
    "H\\t0.7493682\\t0.0\\t0.4424329\n",
    "O\\t0.0\\t0.0\\t-0.1653507\n",
    "H\\t-0.7493682\\t0.0\\t0.4424329     \n",
    "\"\"\"\n",
    "# geometry = water_xyz[3=]\n",
    "\n",
    "methane = [\n",
    "['C', (0.0000, 0.0000, 0.0000)],\n",
    "['H', (0.5288, 0.1610, 0.9359)],\n",
    "['H', (0.2051, 0.8240, -0.6786)],\n",
    "['H', (0.3345, -0.9314, -0.4496)],\n",
    "['H', (-1.0685, -0.0537, 0.1921)]\n",
    "]\n",
    "\n",
    "geometry = methane"
   ]
  },
  {
   "cell_type": "code",
   "execution_count": 2,
   "metadata": {},
   "outputs": [
    {
     "name": "stderr",
     "output_type": "stream",
     "text": [
      "/home/mwilliams/anaconda3/envs/nbed/lib/python3.8/site-packages/pyscf/lib/misc.py:46: H5pyDeprecationWarning: Using default_file_mode other than 'r' is deprecated. Pass the mode to h5py.File() instead.\n",
      "  h5py.get_config().default_file_mode = 'a'\n",
      "/home/mwilliams/anaconda3/envs/nbed/lib/python3.8/site-packages/_distutils_hack/__init__.py:30: UserWarning: Setuptools is replacing distutils.\n",
      "  warnings.warn(\"Setuptools is replacing distutils.\")\n"
     ]
    },
    {
     "ename": "AttributeError",
     "evalue": "'SPADELocalizer' object has no attribute '_local_basis_transform'",
     "output_type": "error",
     "traceback": [
      "\u001b[0;31m---------------------------------------------------------------------------\u001b[0m",
      "\u001b[0;31mAttributeError\u001b[0m                            Traceback (most recent call last)",
      "\u001b[0;32m/tmp/ipykernel_122018/2209041159.py\u001b[0m in \u001b[0;36m<module>\u001b[0;34m\u001b[0m\n\u001b[1;32m     13\u001b[0m \u001b[0;34m\u001b[0m\u001b[0m\n\u001b[1;32m     14\u001b[0m \u001b[0;34m\u001b[0m\u001b[0m\n\u001b[0;32m---> 15\u001b[0;31m exp_obj = nbed(\n\u001b[0m\u001b[1;32m     16\u001b[0m     \u001b[0mgeometry\u001b[0m\u001b[0;34m=\u001b[0m\u001b[0mgeometry\u001b[0m \u001b[0;34m,\u001b[0m\u001b[0;34m\u001b[0m\u001b[0;34m\u001b[0m\u001b[0m\n\u001b[1;32m     17\u001b[0m     \u001b[0mn_active_atoms\u001b[0m\u001b[0;34m=\u001b[0m\u001b[0mn_active_atoms\u001b[0m\u001b[0;34m,\u001b[0m\u001b[0;34m\u001b[0m\u001b[0;34m\u001b[0m\u001b[0m\n",
      "\u001b[0;32m~/anaconda3/envs/nbed/lib/python3.8/site-packages/nbed/embed.py\u001b[0m in \u001b[0;36mnbed\u001b[0;34m(geometry, n_active_atoms, basis, xc_functional, projector, output, transform, qubits, localization, convergence, charge, mu_level_shift, run_ccsd_emb, run_fci_emb, max_ram_memory, pyscf_print_level, savefile, unit, occupied_threshold, virtual_threshold, max_hf_cycles, max_dft_cycles)\u001b[0m\n\u001b[1;32m     70\u001b[0m         \u001b[0;32mraise\u001b[0m \u001b[0mNbedConfigError\u001b[0m\u001b[0;34m(\u001b[0m\u001b[0;34m\"Cannot use 'both' as value of projector.\"\u001b[0m\u001b[0;34m)\u001b[0m\u001b[0;34m\u001b[0m\u001b[0;34m\u001b[0m\u001b[0m\n\u001b[1;32m     71\u001b[0m \u001b[0;34m\u001b[0m\u001b[0m\n\u001b[0;32m---> 72\u001b[0;31m     driver = NbedDriver(\n\u001b[0m\u001b[1;32m     73\u001b[0m         \u001b[0mgeometry\u001b[0m\u001b[0;34m=\u001b[0m\u001b[0mgeometry\u001b[0m\u001b[0;34m,\u001b[0m\u001b[0;34m\u001b[0m\u001b[0;34m\u001b[0m\u001b[0m\n\u001b[1;32m     74\u001b[0m         \u001b[0mn_active_atoms\u001b[0m\u001b[0;34m=\u001b[0m\u001b[0mn_active_atoms\u001b[0m\u001b[0;34m,\u001b[0m\u001b[0;34m\u001b[0m\u001b[0;34m\u001b[0m\u001b[0m\n",
      "\u001b[0;32m~/anaconda3/envs/nbed/lib/python3.8/site-packages/nbed/driver.py\u001b[0m in \u001b[0;36m__init__\u001b[0;34m(self, geometry, n_active_atoms, basis, xc_functional, projector, localization, convergence, charge, mu_level_shift, run_ccsd_emb, run_fci_emb, run_virtual_localization, max_ram_memory, pyscf_print_level, savefile, unit, occupied_threshold, virtual_threshold, init_huzinaga_rhf_with_mu, max_hf_cycles, max_dft_cycles)\u001b[0m\n\u001b[1;32m    157\u001b[0m         \u001b[0mself\u001b[0m\u001b[0;34m.\u001b[0m\u001b[0m_dft_potential\u001b[0m \u001b[0;34m=\u001b[0m \u001b[0;32mNone\u001b[0m\u001b[0;34m\u001b[0m\u001b[0;34m\u001b[0m\u001b[0m\n\u001b[1;32m    158\u001b[0m \u001b[0;34m\u001b[0m\u001b[0m\n\u001b[0;32m--> 159\u001b[0;31m         \u001b[0mself\u001b[0m\u001b[0;34m.\u001b[0m\u001b[0membed\u001b[0m\u001b[0;34m(\u001b[0m\u001b[0minit_huzinaga_rhf_with_mu\u001b[0m\u001b[0;34m=\u001b[0m\u001b[0minit_huzinaga_rhf_with_mu\u001b[0m\u001b[0;34m)\u001b[0m\u001b[0;34m\u001b[0m\u001b[0;34m\u001b[0m\u001b[0m\n\u001b[0m\u001b[1;32m    160\u001b[0m \u001b[0;34m\u001b[0m\u001b[0m\n\u001b[1;32m    161\u001b[0m     \u001b[0;32mdef\u001b[0m \u001b[0m_build_mol\u001b[0m\u001b[0;34m(\u001b[0m\u001b[0mself\u001b[0m\u001b[0;34m)\u001b[0m \u001b[0;34m->\u001b[0m \u001b[0mgto\u001b[0m\u001b[0;34m.\u001b[0m\u001b[0mmole\u001b[0m\u001b[0;34m:\u001b[0m\u001b[0;34m\u001b[0m\u001b[0;34m\u001b[0m\u001b[0m\n",
      "\u001b[0;32m~/anaconda3/envs/nbed/lib/python3.8/site-packages/nbed/driver.py\u001b[0m in \u001b[0;36membed\u001b[0;34m(self, init_huzinaga_rhf_with_mu)\u001b[0m\n\u001b[1;32m    657\u001b[0m                 )\n\u001b[1;32m    658\u001b[0m             \u001b[0;32melse\u001b[0m\u001b[0;34m:\u001b[0m\u001b[0;34m\u001b[0m\u001b[0;34m\u001b[0m\u001b[0m\n\u001b[0;32m--> 659\u001b[0;31m                 \u001b[0mresult\u001b[0m\u001b[0;34m[\u001b[0m\u001b[0;34m\"v_emb\"\u001b[0m\u001b[0;34m]\u001b[0m\u001b[0;34m,\u001b[0m \u001b[0mresult\u001b[0m\u001b[0;34m[\u001b[0m\u001b[0;34m\"scf\"\u001b[0m\u001b[0;34m]\u001b[0m \u001b[0;34m=\u001b[0m \u001b[0membedding_method\u001b[0m\u001b[0;34m(\u001b[0m\u001b[0mlocal_rhf\u001b[0m\u001b[0;34m)\u001b[0m\u001b[0;34m\u001b[0m\u001b[0;34m\u001b[0m\u001b[0m\n\u001b[0m\u001b[1;32m    660\u001b[0m \u001b[0;34m\u001b[0m\u001b[0m\n\u001b[1;32m    661\u001b[0m             \u001b[0mresult\u001b[0m\u001b[0;34m[\u001b[0m\u001b[0;34m\"mo_energies_emb_pre_del\"\u001b[0m\u001b[0;34m]\u001b[0m \u001b[0;34m=\u001b[0m \u001b[0mlocal_rhf\u001b[0m\u001b[0;34m.\u001b[0m\u001b[0mmo_energy\u001b[0m\u001b[0;34m\u001b[0m\u001b[0;34m\u001b[0m\u001b[0m\n",
      "\u001b[0;32m~/anaconda3/envs/nbed/lib/python3.8/site-packages/nbed/driver.py\u001b[0m in \u001b[0;36m_huzinaga_embed\u001b[0;34m(self, localized_rhf, dmat_initial_guess)\u001b[0m\n\u001b[1;32m    525\u001b[0m             \u001b[0mhuzinaga_op_std\u001b[0m\u001b[0;34m,\u001b[0m\u001b[0;34m\u001b[0m\u001b[0;34m\u001b[0m\u001b[0m\n\u001b[1;32m    526\u001b[0m             \u001b[0mhuz_rhf_conv_flag\u001b[0m\u001b[0;34m,\u001b[0m\u001b[0;34m\u001b[0m\u001b[0;34m\u001b[0m\u001b[0m\n\u001b[0;32m--> 527\u001b[0;31m         \u001b[0;34m)\u001b[0m \u001b[0;34m=\u001b[0m \u001b[0mhuzinaga_RHF\u001b[0m\u001b[0;34m(\u001b[0m\u001b[0;34m\u001b[0m\u001b[0;34m\u001b[0m\u001b[0m\n\u001b[0m\u001b[1;32m    528\u001b[0m             \u001b[0mlocalized_rhf\u001b[0m\u001b[0;34m,\u001b[0m\u001b[0;34m\u001b[0m\u001b[0;34m\u001b[0m\u001b[0m\n\u001b[1;32m    529\u001b[0m             \u001b[0mself\u001b[0m\u001b[0;34m.\u001b[0m\u001b[0m_dft_potential\u001b[0m\u001b[0;34m,\u001b[0m\u001b[0;34m\u001b[0m\u001b[0;34m\u001b[0m\u001b[0m\n",
      "\u001b[0;32m~/anaconda3/envs/nbed/lib/python3.8/site-packages/nbed/scf/huzinaga_rhf.py\u001b[0m in \u001b[0;36mhuzinaga_RHF\u001b[0;34m(scf_method, dft_potential, dm_enviroment, dm_conv_tol, dm_initial_guess, use_DIIS)\u001b[0m\n\u001b[1;32m     50\u001b[0m     \u001b[0;31m# Create an initial dm if needed.\u001b[0m\u001b[0;34m\u001b[0m\u001b[0;34m\u001b[0m\u001b[0;34m\u001b[0m\u001b[0m\n\u001b[1;32m     51\u001b[0m     \u001b[0;32mif\u001b[0m \u001b[0mdm_initial_guess\u001b[0m \u001b[0;32mis\u001b[0m \u001b[0;32mNone\u001b[0m\u001b[0;34m:\u001b[0m\u001b[0;34m\u001b[0m\u001b[0;34m\u001b[0m\u001b[0m\n\u001b[0;32m---> 52\u001b[0;31m         \u001b[0mfock\u001b[0m \u001b[0;34m=\u001b[0m \u001b[0mscf_method\u001b[0m\u001b[0;34m.\u001b[0m\u001b[0mget_hcore\u001b[0m\u001b[0;34m(\u001b[0m\u001b[0;34m)\u001b[0m \u001b[0;34m+\u001b[0m \u001b[0mdft_potential\u001b[0m\u001b[0;34m\u001b[0m\u001b[0;34m\u001b[0m\u001b[0m\n\u001b[0m\u001b[1;32m     53\u001b[0m \u001b[0;34m\u001b[0m\u001b[0m\n\u001b[1;32m     54\u001b[0m         \u001b[0mfds\u001b[0m \u001b[0;34m=\u001b[0m \u001b[0mfock\u001b[0m \u001b[0;34m@\u001b[0m \u001b[0mdm_env_S\u001b[0m\u001b[0;34m\u001b[0m\u001b[0;34m\u001b[0m\u001b[0m\n",
      "\u001b[0;32m~/anaconda3/envs/nbed/lib/python3.8/site-packages/nbed/driver.py\u001b[0m in \u001b[0;36m<lambda>\u001b[0;34m(*args)\u001b[0m\n\u001b[1;32m    280\u001b[0m \u001b[0;34m\u001b[0m\u001b[0m\n\u001b[1;32m    281\u001b[0m         local_rhf.get_hcore = (\n\u001b[0;32m--> 282\u001b[0;31m             \u001b[0;32mlambda\u001b[0m \u001b[0;34m*\u001b[0m\u001b[0margs\u001b[0m\u001b[0;34m:\u001b[0m \u001b[0mself\u001b[0m\u001b[0;34m.\u001b[0m\u001b[0mlocalized_system\u001b[0m\u001b[0;34m.\u001b[0m\u001b[0m_local_basis_transform\u001b[0m\u001b[0;34m.\u001b[0m\u001b[0mconj\u001b[0m\u001b[0;34m(\u001b[0m\u001b[0;34m)\u001b[0m\u001b[0;34m.\u001b[0m\u001b[0mT\u001b[0m\u001b[0;34m\u001b[0m\u001b[0;34m\u001b[0m\u001b[0m\n\u001b[0m\u001b[1;32m    283\u001b[0m             \u001b[0;34m@\u001b[0m \u001b[0mh_core\u001b[0m\u001b[0;34m\u001b[0m\u001b[0;34m\u001b[0m\u001b[0m\n\u001b[1;32m    284\u001b[0m             \u001b[0;34m@\u001b[0m \u001b[0mself\u001b[0m\u001b[0;34m.\u001b[0m\u001b[0mlocalized_system\u001b[0m\u001b[0;34m.\u001b[0m\u001b[0m_local_basis_transform\u001b[0m\u001b[0;34m\u001b[0m\u001b[0;34m\u001b[0m\u001b[0m\n",
      "\u001b[0;31mAttributeError\u001b[0m: 'SPADELocalizer' object has no attribute '_local_basis_transform'"
     ]
    }
   ],
   "source": [
    "from nbed import nbed\n",
    "from pathlib import Path\n",
    "\n",
    "geometry= str(Path('water.xyz').absolute())\n",
    "n_active_atoms= 2\n",
    "basis= 'STO-3G'\n",
    "xc_functional= 'b3lyp'\n",
    "output= 'openfermion'\n",
    "projector= 'huzinaga'\n",
    "localization= 'spade'\n",
    "convergence= 1e-9\n",
    "transform= 'jordan_wigner'\n",
    "\n",
    "\n",
    "driver = nbed(\n",
    "    geometry=geometry ,\n",
    "    n_active_atoms=n_active_atoms,\n",
    "    basis=basis,\n",
    "    xc_functional=xc_functional,\n",
    "    output=output,\n",
    "    projector=projector,\n",
    "    convergence=convergence,\n",
    "    localization= localization,\n",
    "    transform=transform,\n",
    "    )\n"
   ]
  },
  {
   "cell_type": "code",
   "execution_count": null,
   "metadata": {},
   "outputs": [],
   "source": [
    "from nbed.ham_builder import HamiltonianBuilder\n",
    "\n",
    "qham = HamiltonianBuilder(\n",
    "    scf_method=driver.embedded_scf,\n",
    "    constant_e_shift=driver.classical_energy,\n",
    "    transform=transform,\n",
    ").build(n_qubits=qubits)\n",
    "\n",
    "converter = HamiltonianConverter(qham)\n",
    "hamiltonians = getattr(converter, output.lower())\n",
    "\n",
    "print_summary(hamiltonians, driver, transform, full_system=False)"
   ]
  },
  {
   "cell_type": "code",
   "execution_count": null,
   "metadata": {},
   "outputs": [],
   "source": [
    "from nbed.embed import get_qubit_hamiltonian\n",
    "\n",
    "qubit_H_mu = get_qubit_hamiltonian(exp_obj.molecular_ham_MU, 'jordan_wigner')\n",
    "qubit_H_huz = get_qubit_hamiltonian(exp_obj.molecular_ham_HUZ, 'jordan_wigner')"
   ]
  },
  {
   "cell_type": "code",
   "execution_count": null,
   "metadata": {},
   "outputs": [],
   "source": [
    "mu_classical_E =  exp_obj.classical_energy_MU\n",
    "huz_classical_E =  exp_obj.classical_energy_HUZ"
   ]
  },
  {
   "cell_type": "code",
   "execution_count": null,
   "metadata": {},
   "outputs": [],
   "source": [
    "from openfermion.linalg import get_sparse_operator\n",
    "H_sparse_mu = get_sparse_operator(qubit_H_mu)\n",
    "H_sparse_huz = get_sparse_operator(qubit_H_huz)"
   ]
  },
  {
   "cell_type": "code",
   "execution_count": null,
   "metadata": {},
   "outputs": [],
   "source": [
    "import scipy as sp\n",
    "eig_vals_emb_mu, eig_vecs_emb_mu = sp.sparse.linalg.eigsh(H_sparse_mu,\n",
    "                                                   which='SA',\n",
    "                                                   k=1)\n",
    "del H_sparse_mu\n",
    "\n",
    "eig_vals_emb_huz, eig_vecs_emb_huz = sp.sparse.linalg.eigsh(H_sparse_huz,\n",
    "                                                   which='SA',\n",
    "                                                   k=1)\n",
    "del H_sparse_huz"
   ]
  },
  {
   "cell_type": "code",
   "execution_count": null,
   "metadata": {},
   "outputs": [],
   "source": [
    "import numpy as np\n",
    "mu_full_quantum = eig_vals_emb_mu[0] + mu_classical_E\n",
    "huz_full_quantum = eig_vals_emb_huz[0] + huz_classical_E\n",
    "\n",
    "print(mu_full_quantum)\n",
    "print(huz_full_quantum)\n",
    "\n",
    "print(np.abs(huz_full_quantum-mu_full_quantum))"
   ]
  },
  {
   "cell_type": "code",
   "execution_count": null,
   "metadata": {},
   "outputs": [],
   "source": [
    "N_elec_qubit_state = np.binary_repr(\n",
    "                                    np.where(np.abs(eig_vecs_emb_huz)>1e-2)[0][0]\n",
    "                                    ).count('1')\n",
    "N_elec_qubit_state"
   ]
  }
 ],
 "metadata": {
  "interpreter": {
   "hash": "fe514aa320be100644bbd958a3f38aa9f15de9075cf36cc4d239ea0f19dcd868"
  },
  "kernelspec": {
   "display_name": "Python 3 (ipykernel)",
   "language": "python",
   "name": "python3"
  },
  "language_info": {
   "codemirror_mode": {
    "name": "ipython",
    "version": 3
   },
   "file_extension": ".py",
   "mimetype": "text/x-python",
   "name": "python",
   "nbconvert_exporter": "python",
   "pygments_lexer": "ipython3",
   "version": "3.8.12"
  }
 },
 "nbformat": 4,
 "nbformat_minor": 4
}
