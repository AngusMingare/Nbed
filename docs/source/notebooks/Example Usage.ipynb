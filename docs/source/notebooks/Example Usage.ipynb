{
 "cells": [
  {
   "cell_type": "markdown",
   "metadata": {},
   "source": [
    "# Example Usage\n",
    "\n",
    "It's very simple to use this pacakge. You can either import it directly into a python script with `from nbed import nbed`, or run the command `nbed` from the terminal.\n",
    "\n",
    "## Importing\n",
    "Here's an example where we've imported the package and pointed it at a `.xyz` file."
   ]
  },
  {
   "cell_type": "code",
   "execution_count": 1,
   "metadata": {},
   "outputs": [
    {
     "name": "stderr",
     "output_type": "stream",
     "text": [
      "/usr/local/lib/python3.9/site-packages/pyscf/lib/misc.py:46: H5pyDeprecationWarning: Using default_file_mode other than 'r' is deprecated. Pass the mode to h5py.File() instead.\n",
      "  h5py.get_config().default_file_mode = 'a'\n"
     ]
    }
   ],
   "source": [
    "from nbed import nbed\n",
    "from nbed.driver import NbedDriver\n",
    "from openfermion import count_qubits\n",
    "from pathlib import Path\n",
    "import json\n",
    "from openfermion import get_sparse_operator, get_ground_state"
   ]
  },
  {
   "cell_type": "code",
   "execution_count": 2,
   "metadata": {},
   "outputs": [
    {
     "name": "stdout",
     "output_type": "stream",
     "text": [
      "3\n",
      "\n",
      "O   0.0000  0.0000  0.0000\n",
      "H   0.9525  0.0000  0.0000\n",
      "H   -0.2465  0.9200  0.0000\n",
      "\n"
     ]
    }
   ],
   "source": [
    "#Define all the variables of the molecule\n",
    "geometry= str(Path('/Users/mac/Desktop/Master/Project/Nbed/tests/molecules/water.xyz').absolute())\n",
    "n_active_atoms= 1\n",
    "basis= 'STO-3G'\n",
    "xc_functional= 'b3lyp'\n",
    "output= 'openfermion'\n",
    "projector= 'both'\n",
    "localization= 'spade'\n",
    "convergence= 1e-9\n",
    "transform= 'jordan_wigner'\n",
    "name = 'water_OS'\n",
    "\n",
    "with open(geometry, 'r') as infile:\n",
    "    xyz_string = infile.read()\n",
    "print(xyz_string)\n",
    "\n",
    "run_virtual_localization = False\n",
    "run_fci_emb = True\n",
    "run_ccsd_emb = True\n",
    "run_dft_in_dft= False\n",
    "max_ram_memory = 8_000\n",
    "\n",
    "max_hf_cycles=5000\n",
    "\n",
    "charge= 1\n",
    "spin = 1\n",
    "\n",
    "occupied_threshold = 0.99\n",
    "virtual_threshold = 0.95"
   ]
  },
  {
   "cell_type": "code",
   "execution_count": 3,
   "metadata": {},
   "outputs": [
    {
     "name": "stderr",
     "output_type": "stream",
     "text": [
      "1970-01-01 00:00:19,948: nbed.driver: WARNING: Outputting both mu and huzinaga embedding results as tuple.\n"
     ]
    },
    {
     "ename": "NbedConfigError",
     "evalue": "Cannot use 'both' as value of projector.",
     "output_type": "error",
     "traceback": [
      "\u001b[0;31m---------------------------------------------------------------------------\u001b[0m",
      "\u001b[0;31mNbedConfigError\u001b[0m                           Traceback (most recent call last)",
      "\u001b[0;32m/var/folders/m_/ny0b3t9s6_bfxv36277px02r0000gp/T/ipykernel_1512/2445550430.py\u001b[0m in \u001b[0;36m<module>\u001b[0;34m\u001b[0m\n\u001b[1;32m     17\u001b[0m                     return_dict = True)\n\u001b[1;32m     18\u001b[0m \u001b[0;34m\u001b[0m\u001b[0m\n\u001b[0;32m---> 19\u001b[0;31m qham = nbed(\n\u001b[0m\u001b[1;32m     20\u001b[0m     \u001b[0mgeometry\u001b[0m\u001b[0;34m=\u001b[0m\u001b[0mxyz_string\u001b[0m \u001b[0;34m,\u001b[0m\u001b[0;34m\u001b[0m\u001b[0;34m\u001b[0m\u001b[0m\n\u001b[1;32m     21\u001b[0m     \u001b[0mn_active_atoms\u001b[0m\u001b[0;34m=\u001b[0m\u001b[0mn_active_atoms\u001b[0m\u001b[0;34m,\u001b[0m\u001b[0;34m\u001b[0m\u001b[0;34m\u001b[0m\u001b[0m\n",
      "\u001b[0;32m/usr/local/lib/python3.9/site-packages/nbed/embed.py\u001b[0m in \u001b[0;36mnbed\u001b[0;34m(geometry, n_active_atoms, basis, xc_functional, projector, output, transform, qubits, localization, convergence, charge, mu_level_shift, run_ccsd_emb, run_fci_emb, max_ram_memory, pyscf_print_level, savefile, file_name, unit, occupied_threshold, virtual_threshold, max_hf_cycles, max_dft_cycles)\u001b[0m\n\u001b[1;32m     77\u001b[0m     \"\"\"\n\u001b[1;32m     78\u001b[0m     \u001b[0;32mif\u001b[0m \u001b[0mprojector\u001b[0m \u001b[0;34m==\u001b[0m \u001b[0;34m\"both\"\u001b[0m\u001b[0;34m:\u001b[0m\u001b[0;34m\u001b[0m\u001b[0;34m\u001b[0m\u001b[0m\n\u001b[0;32m---> 79\u001b[0;31m         \u001b[0;32mraise\u001b[0m \u001b[0mNbedConfigError\u001b[0m\u001b[0;34m(\u001b[0m\u001b[0;34m\"Cannot use 'both' as value of projector.\"\u001b[0m\u001b[0;34m)\u001b[0m\u001b[0;34m\u001b[0m\u001b[0;34m\u001b[0m\u001b[0m\n\u001b[0m\u001b[1;32m     80\u001b[0m \u001b[0;34m\u001b[0m\u001b[0m\n\u001b[1;32m     81\u001b[0m     driver = NbedDriver(\n",
      "\u001b[0;31mNbedConfigError\u001b[0m: Cannot use 'both' as value of projector."
     ]
    }
   ],
   "source": [
    "#Run the NbedDriver class to get the energies and the nbed class to get the qubit hamiltonian\n",
    "driver = NbedDriver(geometry = xyz_string,\n",
    "                    n_active_atoms=n_active_atoms,\n",
    "                    basis = basis,\n",
    "                    charge = charge,\n",
    "                    spin = spin,\n",
    "                    xc_functional = xc_functional,\n",
    "                    run_virtual_localization = run_virtual_localization,\n",
    "                    run_fci_emb = run_fci_emb,\n",
    "                    run_ccsd_emb = run_ccsd_emb,\n",
    "                    run_dft_in_dft = run_dft_in_dft,\n",
    "                    max_ram_memory = max_ram_memory,\n",
    "                    max_hf_cycles=max_hf_cycles,\n",
    "                    occupied_threshold=occupied_threshold,\n",
    "                    projector = projector,\n",
    "                    localization = localization,\n",
    "                    return_dict = True)\n",
    "\n",
    "qham = nbed(\n",
    "    geometry=xyz_string ,\n",
    "    n_active_atoms=n_active_atoms,\n",
    "    basis=basis,\n",
    "    xc_functional=xc_functional,\n",
    "    output=output,\n",
    "    projector=projector,\n",
    "    convergence=convergence,\n",
    "    localization= localization,\n",
    "    transform=transform,\n",
    "    )"
   ]
  },
  {
   "cell_type": "code",
   "execution_count": null,
   "metadata": {},
   "outputs": [],
   "source": [
    "#delete pyscf objects and transform numpy arrays to list\n",
    "#to make it JSON serializable\n",
    "molecule = driver.molecule_info\n",
    "for key, val in zip(list(molecule.keys()), list(molecule.values())):\n",
    "    if str(type(val)) == \"<class 'pyscf.scf.hf.RHF'>\":\n",
    "        molecule.pop(key)\n",
    "    elif str(type(val)) ==  \"<class 'pyscf.scf.uhf.UHF'>\":\n",
    "        molecule.pop(key)\n",
    "    elif str(type(val)) == \"<class 'numpy.ndarray'>\":\n",
    "            molecule[key] = val.tolist()\n",
    "\n",
    "for i in range(len(molecule['mo_energies_emb_post_del'])):\n",
    "    if str(type(molecule['mo_energies_emb_post_del'][i])) == \"<class 'numpy.ndarray'>\":\n",
    "        molecule['mo_energies_emb_post_del'][i] = molecule['mo_energies_emb_post_del'][i].tolist()"
   ]
  },
  {
   "cell_type": "markdown",
   "metadata": {},
   "source": []
  },
  {
   "cell_type": "code",
   "execution_count": null,
   "metadata": {},
   "outputs": [],
   "source": [
    "#transform QubitHamiltonian object into a dictionary\n",
    "ham_dict = {}\n",
    "n_qubits = count_qubits(qham)\n",
    "molecule['qubits'] = n_qubits\n",
    "\n",
    "for term, coeff in qham.terms.items():\n",
    "    I = list(\"I\"*n_qubits)\n",
    "    for index, pauli in term:\n",
    "        I[index] = pauli\n",
    "    ham_dict[''.join(I)] = coeff\n",
    "molecule['hamiltonian'] = ham_dict"
   ]
  },
  {
   "cell_type": "code",
   "execution_count": null,
   "metadata": {},
   "outputs": [],
   "source": [
    "#save as a JSON file\n",
    "with open('/Users/mac/Desktop/Master/Project/Nbed/tests/hamiltonians/' + name + '_' + projector + '.json', 'w') as fp:\n",
    "    json.dump(molecule, fp)"
   ]
  },
  {
   "cell_type": "code",
   "execution_count": null,
   "metadata": {},
   "outputs": [
    {
     "data": {
      "text/plain": [
       "(-75.11651719312968,\n",
       " array([ 1.79339653e-16+4.22602431e-19j, -2.56389411e-17-2.71587509e-17j,\n",
       "         2.40520658e-19-7.95643017e-18j, ...,\n",
       "         4.62265295e-16+2.89139256e-16j, -3.79881224e-16+8.98913448e-17j,\n",
       "         3.28004061e-15+1.52605345e-15j]))"
      ]
     },
     "execution_count": 7,
     "metadata": {},
     "output_type": "execute_result"
    }
   ],
   "source": [
    "#diagonalise the hamiltonian to get the eigenenergies\n",
    "sparse_op = get_sparse_operator(qham)\n",
    "get_ground_state(sparse_op)"
   ]
  }
 ],
 "metadata": {
  "interpreter": {
   "hash": "aee8b7b246df8f9039afb4144a1f6fd8d2ca17a180786b69acc140d282b71a49"
  },
  "kernelspec": {
   "display_name": "Python 3.9.7 64-bit",
   "language": "python",
   "name": "python3"
  },
  "language_info": {
   "codemirror_mode": {
    "name": "ipython",
    "version": 3
   },
   "file_extension": ".py",
   "mimetype": "text/x-python",
   "name": "python",
   "nbconvert_exporter": "python",
   "pygments_lexer": "ipython3",
   "version": "3.9.7"
  }
 },
 "nbformat": 4,
 "nbformat_minor": 4
}
