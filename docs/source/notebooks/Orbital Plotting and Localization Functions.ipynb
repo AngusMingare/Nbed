{
 "cells": [
  {
   "cell_type": "markdown",
   "metadata": {},
   "source": [
    "Note requires py3Dmol:\n",
    "\n",
    "```pip install py3Dmol```"
   ]
  },
  {
   "cell_type": "code",
   "execution_count": 27,
   "metadata": {},
   "outputs": [],
   "source": [
    "import os"
   ]
  },
  {
   "cell_type": "code",
   "execution_count": 28,
   "metadata": {},
   "outputs": [],
   "source": [
    "# get xyz file for water\n",
    "\n",
    "notebook_dir = os.getcwd()\n",
    "NBed_dir = os.path.dirname(notebook_dir)\n",
    "Test_dir = os.path.join(NBed_dir, 'tests')\n",
    "mol_dir = os.path.join(Test_dir, 'molecules')\n",
    "\n",
    "water_xyz_path = os.path.join(mol_dir, 'water.xyz')"
   ]
  },
  {
   "cell_type": "code",
   "execution_count": 29,
   "metadata": {},
   "outputs": [],
   "source": [
    "from pathlib import Path\n",
    "import pathlib\n",
    "\n",
    "water_xyz_path = Path(\"molecular_structures/water.xyz\")"
   ]
  },
  {
   "cell_type": "code",
   "execution_count": 30,
   "metadata": {},
   "outputs": [
    {
     "name": "stdout",
     "output_type": "stream",
     "text": [
      "3\n",
      " \n",
      "O\t0.0000\t0.0000\t0.0000\n",
      "H\t0.2774\t0.8929\t0.2544\n",
      "H\t0.6068\t-0.2383\t-0.7169\n",
      "\n"
     ]
    }
   ],
   "source": [
    "with open(water_xyz_path, 'r') as infile:\n",
    "    water_xyz = infile.read()\n",
    "    \n",
    "print(water_xyz)"
   ]
  },
  {
   "cell_type": "code",
   "execution_count": 31,
   "metadata": {},
   "outputs": [
    {
     "name": "stderr",
     "output_type": "stream",
     "text": [
      "/home/mwilliams/anaconda3/envs/nbed/lib/python3.8/site-packages/pyscf/lib/misc.py:46: H5pyDeprecationWarning: Using default_file_mode other than 'r' is deprecated. Pass the mode to h5py.File() instead.\n",
      "  h5py.get_config().default_file_mode = 'a'\n",
      "/home/mwilliams/anaconda3/envs/nbed/lib/python3.8/site-packages/_distutils_hack/__init__.py:30: UserWarning: Setuptools is replacing distutils.\n",
      "  warnings.warn(\"Setuptools is replacing distutils.\")\n"
     ]
    },
    {
     "data": {
      "application/3dmoljs_load.v0": "<div id=\"3dmolviewer_150430520223112\"  style=\"position: relative; width: 400px; height: 400px\">\n        <p id=\"3dmolwarning_150430520223112\" style=\"background-color:#ffcccc;color:black\">You appear to be running in JupyterLab (or JavaScript failed to load for some other reason).  You need to install the 3dmol extension: <br>\n        <tt>jupyter labextension install jupyterlab_3dmol</tt></p>\n        </div>\n<script>\n\nvar loadScriptAsync = function(uri){\n  return new Promise((resolve, reject) => {\n    var tag = document.createElement('script');\n    tag.src = uri;\n    tag.async = true;\n    tag.onload = () => {\n      resolve();\n    };\n  var firstScriptTag = document.getElementsByTagName('script')[0];\n  firstScriptTag.parentNode.insertBefore(tag, firstScriptTag);\n});\n};\n\nif(typeof $3Dmolpromise === 'undefined') {\n$3Dmolpromise = null;\n  $3Dmolpromise = loadScriptAsync('https://3dmol.org/build/3Dmol.js');\n}\n\nvar viewer_150430520223112 = null;\nvar warn = document.getElementById(\"3dmolwarning_150430520223112\");\nif(warn) {\n    warn.parentNode.removeChild(warn);\n}\n$3Dmolpromise.then(function() {\nviewer_150430520223112 = $3Dmol.createViewer($(\"#3dmolviewer_150430520223112\"),{backgroundColor:\"white\"});\nviewer_150430520223112.addModel(\"3\\n \\nO\\t0.0000\\t0.0000\\t0.0000\\nH\\t0.2774\\t0.8929\\t0.2544\\nH\\t0.6068\\t-0.2383\\t-0.7169\\n\");\nviewer_150430520223112.setStyle({\"sphere\": {\"radius\": 0.2}});\nviewer_150430520223112.zoomTo();\n\tviewer_150430520223112.zoomTo();\nviewer_150430520223112.render();\n});\n</script>",
      "text/html": [
       "<div id=\"3dmolviewer_150430520223112\"  style=\"position: relative; width: 400px; height: 400px\">\n",
       "        <p id=\"3dmolwarning_150430520223112\" style=\"background-color:#ffcccc;color:black\">You appear to be running in JupyterLab (or JavaScript failed to load for some other reason).  You need to install the 3dmol extension: <br>\n",
       "        <tt>jupyter labextension install jupyterlab_3dmol</tt></p>\n",
       "        </div>\n",
       "<script>\n",
       "\n",
       "var loadScriptAsync = function(uri){\n",
       "  return new Promise((resolve, reject) => {\n",
       "    var tag = document.createElement('script');\n",
       "    tag.src = uri;\n",
       "    tag.async = true;\n",
       "    tag.onload = () => {\n",
       "      resolve();\n",
       "    };\n",
       "  var firstScriptTag = document.getElementsByTagName('script')[0];\n",
       "  firstScriptTag.parentNode.insertBefore(tag, firstScriptTag);\n",
       "});\n",
       "};\n",
       "\n",
       "if(typeof $3Dmolpromise === 'undefined') {\n",
       "$3Dmolpromise = null;\n",
       "  $3Dmolpromise = loadScriptAsync('https://3dmol.org/build/3Dmol.js');\n",
       "}\n",
       "\n",
       "var viewer_150430520223112 = null;\n",
       "var warn = document.getElementById(\"3dmolwarning_150430520223112\");\n",
       "if(warn) {\n",
       "    warn.parentNode.removeChild(warn);\n",
       "}\n",
       "$3Dmolpromise.then(function() {\n",
       "viewer_150430520223112 = $3Dmol.createViewer($(\"#3dmolviewer_150430520223112\"),{backgroundColor:\"white\"});\n",
       "viewer_150430520223112.addModel(\"3\\n \\nO\\t0.0000\\t0.0000\\t0.0000\\nH\\t0.2774\\t0.8929\\t0.2544\\nH\\t0.6068\\t-0.2383\\t-0.7169\\n\");\n",
       "viewer_150430520223112.setStyle({\"sphere\": {\"radius\": 0.2}});\n",
       "viewer_150430520223112.zoomTo();\n",
       "\tviewer_150430520223112.zoomTo();\n",
       "viewer_150430520223112.render();\n",
       "});\n",
       "</script>"
      ]
     },
     "metadata": {},
     "output_type": "display_data"
    }
   ],
   "source": [
    "from nbed.mol_plot import Draw_molecule\n",
    "##### \n",
    "\n",
    "mol_viewer = Draw_molecule(water_xyz,\n",
    "                           width=400,\n",
    "                           height=400,\n",
    "                           style='sphere') # <--- sphere style\n",
    "\n",
    "mol_viewer.show()"
   ]
  },
  {
   "cell_type": "code",
   "execution_count": 32,
   "metadata": {},
   "outputs": [
    {
     "data": {
      "application/3dmoljs_load.v0": "<div id=\"3dmolviewer_150430569071496\"  style=\"position: relative; width: 400px; height: 400px\">\n        <p id=\"3dmolwarning_150430569071496\" style=\"background-color:#ffcccc;color:black\">You appear to be running in JupyterLab (or JavaScript failed to load for some other reason).  You need to install the 3dmol extension: <br>\n        <tt>jupyter labextension install jupyterlab_3dmol</tt></p>\n        </div>\n<script>\n\nvar loadScriptAsync = function(uri){\n  return new Promise((resolve, reject) => {\n    var tag = document.createElement('script');\n    tag.src = uri;\n    tag.async = true;\n    tag.onload = () => {\n      resolve();\n    };\n  var firstScriptTag = document.getElementsByTagName('script')[0];\n  firstScriptTag.parentNode.insertBefore(tag, firstScriptTag);\n});\n};\n\nif(typeof $3Dmolpromise === 'undefined') {\n$3Dmolpromise = null;\n  $3Dmolpromise = loadScriptAsync('https://3dmol.org/build/3Dmol.js');\n}\n\nvar viewer_150430569071496 = null;\nvar warn = document.getElementById(\"3dmolwarning_150430569071496\");\nif(warn) {\n    warn.parentNode.removeChild(warn);\n}\n$3Dmolpromise.then(function() {\nviewer_150430569071496 = $3Dmol.createViewer($(\"#3dmolviewer_150430569071496\"),{backgroundColor:\"white\"});\nviewer_150430569071496.addModel(\"3\\n \\nO\\t0.0000\\t0.0000\\t0.0000\\nH\\t0.2774\\t0.8929\\t0.2544\\nH\\t0.6068\\t-0.2383\\t-0.7169\\n\");\nviewer_150430569071496.setStyle({\"stick\": {}});\nviewer_150430569071496.zoomTo();\n\tviewer_150430569071496.zoomTo();\nviewer_150430569071496.render();\n});\n</script>",
      "text/html": [
       "<div id=\"3dmolviewer_150430569071496\"  style=\"position: relative; width: 400px; height: 400px\">\n",
       "        <p id=\"3dmolwarning_150430569071496\" style=\"background-color:#ffcccc;color:black\">You appear to be running in JupyterLab (or JavaScript failed to load for some other reason).  You need to install the 3dmol extension: <br>\n",
       "        <tt>jupyter labextension install jupyterlab_3dmol</tt></p>\n",
       "        </div>\n",
       "<script>\n",
       "\n",
       "var loadScriptAsync = function(uri){\n",
       "  return new Promise((resolve, reject) => {\n",
       "    var tag = document.createElement('script');\n",
       "    tag.src = uri;\n",
       "    tag.async = true;\n",
       "    tag.onload = () => {\n",
       "      resolve();\n",
       "    };\n",
       "  var firstScriptTag = document.getElementsByTagName('script')[0];\n",
       "  firstScriptTag.parentNode.insertBefore(tag, firstScriptTag);\n",
       "});\n",
       "};\n",
       "\n",
       "if(typeof $3Dmolpromise === 'undefined') {\n",
       "$3Dmolpromise = null;\n",
       "  $3Dmolpromise = loadScriptAsync('https://3dmol.org/build/3Dmol.js');\n",
       "}\n",
       "\n",
       "var viewer_150430569071496 = null;\n",
       "var warn = document.getElementById(\"3dmolwarning_150430569071496\");\n",
       "if(warn) {\n",
       "    warn.parentNode.removeChild(warn);\n",
       "}\n",
       "$3Dmolpromise.then(function() {\n",
       "viewer_150430569071496 = $3Dmol.createViewer($(\"#3dmolviewer_150430569071496\"),{backgroundColor:\"white\"});\n",
       "viewer_150430569071496.addModel(\"3\\n \\nO\\t0.0000\\t0.0000\\t0.0000\\nH\\t0.2774\\t0.8929\\t0.2544\\nH\\t0.6068\\t-0.2383\\t-0.7169\\n\");\n",
       "viewer_150430569071496.setStyle({\"stick\": {}});\n",
       "viewer_150430569071496.zoomTo();\n",
       "\tviewer_150430569071496.zoomTo();\n",
       "viewer_150430569071496.render();\n",
       "});\n",
       "</script>"
      ]
     },
     "metadata": {},
     "output_type": "display_data"
    }
   ],
   "source": [
    "mol_viewer = Draw_molecule(water_xyz,\n",
    "                           width=400,\n",
    "                           height=400,\n",
    "                           style='stick') # <--- stick style\n",
    "\n",
    "mol_viewer.show()"
   ]
  },
  {
   "cell_type": "code",
   "execution_count": 34,
   "metadata": {},
   "outputs": [],
   "source": [
    "from nbed.mol_plot import Draw_cube_orbital\n",
    "from pyscf import gto, scf\n",
    "\n",
    "### inputs\n",
    "basis = 'STO-3G'\n",
    "charge=0\n",
    "spin=0\n",
    "full_system_mol = gto.Mole(atom=str(water_xyz_path),\n",
    "                      basis=basis,\n",
    "                       charge=charge,\n",
    "                       spin=spin,\n",
    "                      )\n",
    "full_system_mol.build()\n",
    "\n",
    "HF_scf = scf.RHF(full_system_mol)\n",
    "HF_scf.verbose=1\n",
    "HF_scf.conv_tol = 1e-6\n",
    "HF_scf.kernel()\n",
    "\n",
    "\n",
    "C_matrix = HF_scf.mo_coeff\n",
    "index_list = list(range(C_matrix.shape[1]))\n",
    "###\n",
    "\n",
    "orbital_list = Draw_cube_orbital(full_system_mol,\n",
    "                  water_xyz,\n",
    "                  C_matrix,\n",
    "                  index_list,\n",
    "                  width=400,\n",
    "                  height=400,\n",
    "                  style='sphere')"
   ]
  },
  {
   "cell_type": "code",
   "execution_count": null,
   "metadata": {},
   "outputs": [],
   "source": [
    "orbital_list = Draw_cube_orbital(full_system_mol,\n",
    "                  water_xyz,\n",
    "                  C_matrix,\n",
    "                  index_list,\n",
    "                  width=400,\n",
    "                  height=400,\n",
    "                  style='sphere')\n",
    "\n",
    "orbital_list[0].show()"
   ]
  },
  {
   "cell_type": "code",
   "execution_count": null,
   "metadata": {},
   "outputs": [],
   "source": [
    "orbital_list = Draw_cube_orbital(full_system_mol,\n",
    "                  water_xyz,\n",
    "                  C_matrix,\n",
    "                  index_list,\n",
    "                  width=400,\n",
    "                  height=400,\n",
    "                  style='stick')\n",
    "\n",
    "orbital_list[0].show()"
   ]
  },
  {
   "cell_type": "code",
   "execution_count": null,
   "metadata": {},
   "outputs": [],
   "source": [
    "## run to plot each orbital in list!\n",
    "\n",
    "# for MO in orbital_list:\n",
    "#     MO.show()"
   ]
  },
  {
   "cell_type": "markdown",
   "metadata": {},
   "source": [
    "# Edge case - unreal molecules (like H4)"
   ]
  },
  {
   "cell_type": "code",
   "execution_count": null,
   "metadata": {},
   "outputs": [],
   "source": [
    "H4_xyz = '4\\n \\nH\\t0.0\\t0.0\\t0.0\\nH\\t2.45366053071732\\t0.0\\t0.0\\nH\\t2.45366053071732\\t2.45366053071732\\t0.0\\nH\\t0.0\\t2.45366053071732\\t0.0\\n'\n",
    "\n",
    "mol_viewer = Draw_molecule(H4_xyz,\n",
    "                           width=400,\n",
    "                           height=400,\n",
    "                           style='sphere') # <--- sphere style\n",
    "\n",
    "mol_viewer.show()"
   ]
  },
  {
   "cell_type": "code",
   "execution_count": null,
   "metadata": {},
   "outputs": [],
   "source": [
    "# stick will not work - as H4 cannot have bonding shown\n",
    "\n",
    "mol_viewer = Draw_molecule(H4_xyz,\n",
    "                           width=400,\n",
    "                           height=400,\n",
    "                           style='stick') # <--- stick style\n",
    "\n",
    "mol_viewer.show()"
   ]
  }
 ],
 "metadata": {
  "kernelspec": {
   "display_name": "Python 3 (ipykernel)",
   "language": "python",
   "name": "python3"
  },
  "language_info": {
   "codemirror_mode": {
    "name": "ipython",
    "version": 3
   },
   "file_extension": ".py",
   "mimetype": "text/x-python",
   "name": "python",
   "nbconvert_exporter": "python",
   "pygments_lexer": "ipython3",
   "version": "3.8.12"
  }
 },
 "nbformat": 4,
 "nbformat_minor": 4
}
