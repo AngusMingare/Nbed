{
 "cells": [
  {
   "cell_type": "markdown",
   "metadata": {},
   "source": [
    "# Open Shell Code tests\n",
    "\n",
    "\n",
    "Broadly, there are three things we need to do make sure of before we can include the open shell code into the main repo.\n",
    "1. Closed shell code is not affected in any way by the implementation of open shell.\n",
    "2. Open shell code replicates closed shell results accurately.\n",
    "3. Open shell results are accurate."
   ]
  },
  {
   "cell_type": "markdown",
   "metadata": {},
   "source": []
  },
  {
   "cell_type": "markdown",
   "metadata": {},
   "source": []
  },
  {
   "cell_type": "markdown",
   "metadata": {},
   "source": [
    "## 1.\n",
    "\n",
    "We can check this using the existing tests for closed shell code."
   ]
  },
  {
   "cell_type": "code",
   "execution_count": null,
   "metadata": {},
   "outputs": [],
   "source": []
  },
  {
   "cell_type": "markdown",
   "metadata": {},
   "source": [
    "## 2.\n",
    "\n",
    "Overall\n",
    "- Run closed shell experiemnts with both open and closed shell methods.\n",
    "- Hamiltonians are numerically close\n",
    "\n",
    "Localizers\n",
    "- Active MOs should be consistent across un/restricted for closed shells.\n",
    "- "
   ]
  },
  {
   "cell_type": "code",
   "execution_count": 68,
   "metadata": {},
   "outputs": [],
   "source": [
    "from nbed.driver import NbedDriver\n",
    "from pathlib import Path\n",
    "\n",
    "water_filepath = Path(\"molecules/water.xyz\").absolute()\n",
    "\n",
    "args = {\n",
    "    \"geometry\": str(water_filepath),\n",
    "    \"n_active_atoms\": 1,\n",
    "    \"basis\": \"STO-3G\",\n",
    "    \"xc_functional\": \"b3lyp\",\n",
    "    \"projector\": \"mu\",\n",
    "    \"localization\": \"spade\",\n",
    "    \"convergence\": 1e-6,\n",
    "    \"savefile\": None,\n",
    "    \"run_ccsd_emb\": False,\n",
    "    \"run_fci_emb\": False,\n",
    "}\n",
    "\n",
    "restric_driver = NbedDriver(\n",
    "    geometry=args[\"geometry\"],\n",
    "    n_active_atoms=args[\"n_active_atoms\"],\n",
    "    basis=args[\"basis\"],\n",
    "    xc_functional=args[\"xc_functional\"],\n",
    "    projector=args[\"projector\"],\n",
    "    localization=args[\"localization\"],\n",
    "    convergence=args[\"convergence\"],\n",
    "    savefile=args[\"savefile\"],\n",
    "    run_ccsd_emb=args[\"run_ccsd_emb\"],\n",
    "    run_fci_emb=args[\"run_fci_emb\"],\n",
    "    force_unrestricted=False,\n",
    ")\n",
    "\n",
    "unrestric_driver = NbedDriver(\n",
    "    geometry=args[\"geometry\"],\n",
    "    n_active_atoms=args[\"n_active_atoms\"],\n",
    "    basis=args[\"basis\"],\n",
    "    xc_functional=args[\"xc_functional\"],\n",
    "    projector=args[\"projector\"],\n",
    "    localization=args[\"localization\"],\n",
    "    convergence=args[\"convergence\"],\n",
    "    savefile=args[\"savefile\"],\n",
    "    run_ccsd_emb=args[\"run_ccsd_emb\"],\n",
    "    run_fci_emb=args[\"run_fci_emb\"],\n",
    "    force_unrestricted=True,\n",
    ")\n",
    "\n"
   ]
  },
  {
   "cell_type": "code",
   "execution_count": 69,
   "metadata": {},
   "outputs": [
    {
     "name": "stdout",
     "output_type": "stream",
     "text": [
      "_global_ks\n",
      "_restricted_scf\n",
      "enviro_selection_condition\n",
      "c_active\n",
      "c_enviro\n",
      "_c_loc_occ\n",
      "dm_active\n",
      "dm_enviro\n",
      "beta_active_MO_inds\n",
      "beta_enviro_MO_inds\n",
      "beta_c_active\n",
      "beta_c_enviro\n",
      "_beta_c_loc_occ\n",
      "beta_dm_active\n",
      "beta_dm_enviro\n"
     ]
    }
   ],
   "source": [
    "from numpy import all, allclose\n",
    "for k in restric_driver.localized_system.__dict__.keys():\n",
    "    rk = getattr(restric_driver.localized_system, k, 0)\n",
    "    uk = getattr(unrestric_driver.localized_system, k, 1)\n",
    "    if not all(rk == uk):\n",
    "        print(k)"
   ]
  },
  {
   "cell_type": "code",
   "execution_count": 86,
   "metadata": {},
   "outputs": [
    {
     "data": {
      "text/plain": [
       "False"
      ]
     },
     "execution_count": 86,
     "metadata": {},
     "output_type": "execute_result"
    }
   ],
   "source": [
    "rls = restric_driver.localized_system\n",
    "uls = unrestric_driver.localized_system\n",
    "\n",
    "# print(allclose(uls.dm_active+uls.beta_dm_active, rls.dm_active))\n",
    "# print(uls.dm_active+uls.beta_dm_active - rls.dm_active)\n",
    "\n",
    "# Why would spin up and down coeffs be different?\n",
    "allclose(uls._global_ks.mo_coeff[0], uls._global_ks.mo_coeff[1], 1e-4)\n",
    "\n"
   ]
  },
  {
   "cell_type": "markdown",
   "metadata": {},
   "source": [
    "\n",
    "## 3.\n",
    "\n",
    "This is the trickiest bit\n",
    "- We can first check that the general behaviour is correct, what do we expect for the +1 and -1 ions of a molecule?\n",
    "- Check results against physical limits, for instance if any are below the ground state these need to be explained.\n",
    "- Find published energies of some example ions and compare to these."
   ]
  },
  {
   "cell_type": "code",
   "execution_count": null,
   "metadata": {},
   "outputs": [],
   "source": []
  }
 ],
 "metadata": {
  "kernelspec": {
   "display_name": "Python 3.8.10 ('nbed-T5bcl2YH-py3.8')",
   "language": "python",
   "name": "python3"
  },
  "language_info": {
   "codemirror_mode": {
    "name": "ipython",
    "version": 3
   },
   "file_extension": ".py",
   "mimetype": "text/x-python",
   "name": "python",
   "nbconvert_exporter": "python",
   "pygments_lexer": "ipython3",
   "version": "3.8.10"
  },
  "orig_nbformat": 4,
  "vscode": {
   "interpreter": {
    "hash": "265e836fea1d3f8479d91a6507322b63cd366a23b5027f69b05ce92fc1864b0e"
   }
  }
 },
 "nbformat": 4,
 "nbformat_minor": 2
}
