{
 "cells": [
  {
   "cell_type": "markdown",
   "metadata": {},
   "source": [
    "# Open Shell Code tests\n",
    "\n",
    "\n",
    "Broadly, there are three things we need to do make sure of before we can include the open shell code into the main repo.\n",
    "1. Closed shell code is not affected in any way by the implementation of open shell.\n",
    "2. Open shell code replicates closed shell results accurately.\n",
    "3. Open shell results are accurate."
   ]
  },
  {
   "cell_type": "markdown",
   "metadata": {},
   "source": []
  },
  {
   "cell_type": "markdown",
   "metadata": {},
   "source": []
  },
  {
   "cell_type": "markdown",
   "metadata": {},
   "source": [
    "## 1.\n",
    "\n",
    "We can check this using the existing tests for closed shell code."
   ]
  },
  {
   "cell_type": "code",
   "execution_count": null,
   "metadata": {},
   "outputs": [],
   "source": []
  },
  {
   "cell_type": "markdown",
   "metadata": {},
   "source": [
    "## 2.\n",
    "\n",
    "Overall\n",
    "- Run closed shell experiemnts with both open and closed shell methods.\n",
    "- Hamiltonians are numerically close\n",
    "\n",
    "Localizers\n",
    "- Active MOs should be consistent across un/restricted for closed shells.\n",
    "- "
   ]
  },
  {
   "cell_type": "code",
   "execution_count": 1,
   "metadata": {},
   "outputs": [
    {
     "name": "stderr",
     "output_type": "stream",
     "text": [
      "/home/mwilliams/.cache/pypoetry/virtualenvs/nbed-T5bcl2YH-py3.8/lib/python3.8/site-packages/pyscf/lib/misc.py:46: H5pyDeprecationWarning: Using default_file_mode other than 'r' is deprecated. Pass the mode to h5py.File() instead.\n",
      "  h5py.get_config().default_file_mode = 'a'\n",
      "/home/mwilliams/.cache/pypoetry/virtualenvs/nbed-T5bcl2YH-py3.8/lib/python3.8/site-packages/_distutils_hack/__init__.py:30: UserWarning: Setuptools is replacing distutils.\n",
      "  warnings.warn(\"Setuptools is replacing distutils.\")\n"
     ]
    }
   ],
   "source": [
    "from nbed.driver import NbedDriver\n",
    "from pathlib import Path\n",
    "\n",
    "mol_filepath = Path(\"molecules/water.xyz\").absolute()\n",
    "\n",
    "args = {\n",
    "    \"geometry\": str(mol_filepath),\n",
    "    \"n_active_atoms\": 1,\n",
    "    \"basis\": \"STO-3G\",\n",
    "    \"xc_functional\": \"b3lyp\",\n",
    "    \"projector\": \"mu\",\n",
    "    \"localization\": \"spade\",\n",
    "    \"convergence\": 1e-6,\n",
    "    \"savefile\": None,\n",
    "    \"run_ccsd_emb\": False,\n",
    "    \"run_fci_emb\": False,\n",
    "}\n",
    "\n",
    "restric_driver = NbedDriver(\n",
    "    geometry=args[\"geometry\"],\n",
    "    n_active_atoms=args[\"n_active_atoms\"],\n",
    "    basis=args[\"basis\"],\n",
    "    xc_functional=args[\"xc_functional\"],\n",
    "    projector=args[\"projector\"],\n",
    "    localization=args[\"localization\"],\n",
    "    convergence=args[\"convergence\"],\n",
    "    savefile=args[\"savefile\"],\n",
    "    run_ccsd_emb=args[\"run_ccsd_emb\"],\n",
    "    run_fci_emb=args[\"run_fci_emb\"],\n",
    "    force_unrestricted=False,\n",
    ")\n",
    "\n",
    "unrestric_driver = NbedDriver(\n",
    "    geometry=args[\"geometry\"],\n",
    "    n_active_atoms=args[\"n_active_atoms\"],\n",
    "    basis=args[\"basis\"],\n",
    "    xc_functional=args[\"xc_functional\"],\n",
    "    projector=args[\"projector\"],\n",
    "    localization=args[\"localization\"],\n",
    "    convergence=args[\"convergence\"],\n",
    "    savefile=args[\"savefile\"],\n",
    "    run_ccsd_emb=args[\"run_ccsd_emb\"],\n",
    "    run_fci_emb=args[\"run_fci_emb\"],\n",
    "    force_unrestricted=True,\n",
    ")\n",
    "\n"
   ]
  },
  {
   "cell_type": "code",
   "execution_count": 2,
   "metadata": {},
   "outputs": [
    {
     "name": "stdout",
     "output_type": "stream",
     "text": [
      "_global_ks\n",
      "_restricted_scf\n",
      "enviro_selection_condition\n",
      "c_active\n",
      "c_enviro\n",
      "_c_loc_occ\n",
      "dm_active\n",
      "dm_enviro\n",
      "beta_active_MO_inds\n",
      "beta_enviro_MO_inds\n",
      "beta_c_active\n",
      "beta_c_enviro\n",
      "_beta_c_loc_occ\n",
      "beta_dm_active\n",
      "beta_dm_enviro\n"
     ]
    }
   ],
   "source": [
    "# Check which attributes of localized systems are different\n",
    "from numpy import all, allclose\n",
    "for k in restric_driver.localized_system.__dict__.keys():\n",
    "    rk = getattr(restric_driver.localized_system, k, 0)\n",
    "    uk = getattr(unrestric_driver.localized_system, k, 1)\n",
    "    if not all(rk == uk):\n",
    "        print(k)"
   ]
  },
  {
   "cell_type": "code",
   "execution_count": 7,
   "metadata": {},
   "outputs": [
    {
     "name": "stdout",
     "output_type": "stream",
     "text": [
      "-84.29484027481674\n",
      "-84.29484027481719\n"
     ]
    }
   ],
   "source": [
    "import numpy as np\n",
    "\n",
    "rls = restric_driver.localized_system\n",
    "uls = unrestric_driver.localized_system\n",
    "\n",
    "# print(allclose(uls.dm_active+uls.beta_dm_active, rls.dm_active))\n",
    "# print(uls.dm_active+uls.beta_dm_active - rls.dm_active)\n",
    "\n",
    "# Check that Hamiltonian building of full system \n",
    "rfci = restric_driver._global_fci.e_tot - restric_driver._global_ks.energy_nuc()\n",
    "print(rfci)\n",
    "ufci = unrestric_driver._global_fci.e_tot - restric_driver._global_ks.energy_nuc()\n",
    "print(ufci)"
   ]
  },
  {
   "cell_type": "markdown",
   "metadata": {},
   "source": [
    "## Full system Hamiltonians should match global FCI."
   ]
  },
  {
   "cell_type": "code",
   "execution_count": 8,
   "metadata": {},
   "outputs": [
    {
     "name": "stdout",
     "output_type": "stream",
     "text": [
      "14\n"
     ]
    },
    {
     "ename": "IndexError",
     "evalue": "tuple index out of range",
     "output_type": "error",
     "traceback": [
      "\u001b[0;31m---------------------------------------------------------------------------\u001b[0m",
      "\u001b[0;31mIndexError\u001b[0m                                Traceback (most recent call last)",
      "\u001b[0;32m/tmp/ipykernel_779634/4127807708.py\u001b[0m in \u001b[0;36m<module>\u001b[0;34m\u001b[0m\n\u001b[1;32m     13\u001b[0m \u001b[0;34m\u001b[0m\u001b[0m\n\u001b[1;32m     14\u001b[0m \u001b[0;34m\u001b[0m\u001b[0m\n\u001b[0;32m---> 15\u001b[0;31m \u001b[0muham\u001b[0m \u001b[0;34m=\u001b[0m \u001b[0mHamiltonianBuilder\u001b[0m\u001b[0;34m(\u001b[0m\u001b[0munrestric_driver\u001b[0m\u001b[0;34m.\u001b[0m\u001b[0m_global_ks\u001b[0m\u001b[0;34m,\u001b[0m \u001b[0;36m0\u001b[0m\u001b[0;34m,\u001b[0m \u001b[0;34m\"jordan_wigner\"\u001b[0m\u001b[0;34m)\u001b[0m\u001b[0;34m.\u001b[0m\u001b[0mbuild\u001b[0m\u001b[0;34m(\u001b[0m\u001b[0;34m)\u001b[0m\u001b[0;34m\u001b[0m\u001b[0;34m\u001b[0m\u001b[0m\n\u001b[0m\u001b[1;32m     16\u001b[0m \u001b[0mprint\u001b[0m\u001b[0;34m(\u001b[0m\u001b[0mcount_qubits\u001b[0m\u001b[0;34m(\u001b[0m\u001b[0muham\u001b[0m\u001b[0;34m)\u001b[0m\u001b[0;34m)\u001b[0m\u001b[0;34m\u001b[0m\u001b[0;34m\u001b[0m\u001b[0m\n\u001b[1;32m     17\u001b[0m \u001b[0;34m\u001b[0m\u001b[0m\n",
      "\u001b[0;32m~/Code/Nbed-Juan/Nbed/nbed/ham_builder.py\u001b[0m in \u001b[0;36mbuild\u001b[0;34m(self, n_qubits, taper)\u001b[0m\n\u001b[1;32m    273\u001b[0m \u001b[0;34m\u001b[0m\u001b[0m\n\u001b[1;32m    274\u001b[0m             \u001b[0;32mif\u001b[0m \u001b[0misinstance\u001b[0m\u001b[0;34m(\u001b[0m\u001b[0mself\u001b[0m\u001b[0;34m.\u001b[0m\u001b[0mscf_method\u001b[0m\u001b[0;34m,\u001b[0m \u001b[0;34m(\u001b[0m\u001b[0mscf\u001b[0m\u001b[0;34m.\u001b[0m\u001b[0muhf\u001b[0m\u001b[0;34m.\u001b[0m\u001b[0mUHF\u001b[0m\u001b[0;34m,\u001b[0m \u001b[0mdft\u001b[0m\u001b[0;34m.\u001b[0m\u001b[0muks\u001b[0m\u001b[0;34m.\u001b[0m\u001b[0mUKS\u001b[0m\u001b[0;34m)\u001b[0m\u001b[0;34m)\u001b[0m\u001b[0;34m:\u001b[0m\u001b[0;34m\u001b[0m\u001b[0;34m\u001b[0m\u001b[0m\n\u001b[0;32m--> 275\u001b[0;31m                 one_body_coefficients, two_body_coefficients = _spinorb_from_spatial(\n\u001b[0m\u001b[1;32m    276\u001b[0m                     \u001b[0mself\u001b[0m\u001b[0;34m.\u001b[0m\u001b[0m_one_body_integrals\u001b[0m\u001b[0;34m,\u001b[0m \u001b[0mself\u001b[0m\u001b[0;34m.\u001b[0m\u001b[0m_two_body_integrals\u001b[0m\u001b[0;34m\u001b[0m\u001b[0;34m\u001b[0m\u001b[0m\n\u001b[1;32m    277\u001b[0m                 )\n",
      "\u001b[0;32m~/Code/Nbed-Juan/Nbed/nbed/ham_builder.py\u001b[0m in \u001b[0;36m_spinorb_from_spatial\u001b[0;34m(one_body_integrals, two_body_integrals)\u001b[0m\n\u001b[1;32m    310\u001b[0m \u001b[0;34m\u001b[0m\u001b[0m\n\u001b[1;32m    311\u001b[0m \u001b[0;32mdef\u001b[0m \u001b[0m_spinorb_from_spatial\u001b[0m\u001b[0;34m(\u001b[0m\u001b[0mone_body_integrals\u001b[0m\u001b[0;34m,\u001b[0m \u001b[0mtwo_body_integrals\u001b[0m\u001b[0;34m)\u001b[0m\u001b[0;34m:\u001b[0m\u001b[0;34m\u001b[0m\u001b[0;34m\u001b[0m\u001b[0m\n\u001b[0;32m--> 312\u001b[0;31m     \u001b[0mn_qubits\u001b[0m \u001b[0;34m=\u001b[0m \u001b[0mone_body_integrals\u001b[0m\u001b[0;34m[\u001b[0m\u001b[0;36m0\u001b[0m\u001b[0;34m]\u001b[0m\u001b[0;34m.\u001b[0m\u001b[0mshape\u001b[0m\u001b[0;34m[\u001b[0m\u001b[0;36m0\u001b[0m\u001b[0;34m]\u001b[0m \u001b[0;34m+\u001b[0m \u001b[0mone_body_integrals\u001b[0m\u001b[0;34m[\u001b[0m\u001b[0;36m1\u001b[0m\u001b[0;34m]\u001b[0m\u001b[0;34m.\u001b[0m\u001b[0mshape\u001b[0m\u001b[0;34m[\u001b[0m\u001b[0;36m1\u001b[0m\u001b[0;34m]\u001b[0m\u001b[0;34m\u001b[0m\u001b[0;34m\u001b[0m\u001b[0m\n\u001b[0m\u001b[1;32m    313\u001b[0m \u001b[0;34m\u001b[0m\u001b[0m\n\u001b[1;32m    314\u001b[0m     \u001b[0;31m# Initialize Hamiltonian coefficients.\u001b[0m\u001b[0;34m\u001b[0m\u001b[0;34m\u001b[0m\u001b[0;34m\u001b[0m\u001b[0m\n",
      "\u001b[0;31mIndexError\u001b[0m: tuple index out of range"
     ]
    }
   ],
   "source": [
    "from inspect import isclass\n",
    "from nbed.ham_builder import HamiltonianBuilder\n",
    "from openfermion import QubitOperator, get_sparse_operator, count_qubits\n",
    "import scipy as sp\n",
    "\n",
    "rham = HamiltonianBuilder(restric_driver._global_ks, 0, \"jordan_wigner\").build()\n",
    "rdiag, _ = sp.sparse.linalg.eigsh(get_sparse_operator(rham), k=1, which=\"SA\")\n",
    "assert np.isclose(rdiag[0], rfci)\n",
    "print(rham, rdiag)\n",
    "\n",
    "\n",
    "uham = HamiltonianBuilder(unrestric_driver._global_ks, 0, \"jordan_wigner\").build()\n",
    "udiag, _ = sp.sparse.linalg.eigsh(get_sparse_operator(uham), k=1, which=\"SA\")\n",
    "assert np.isclose(udiag[0], ufci)\n",
    "print(uham, udiag)"
   ]
  },
  {
   "cell_type": "markdown",
   "metadata": {},
   "source": [
    "## Are the 1e and 2e integrals defined correctly in HamBuilder?"
   ]
  },
  {
   "cell_type": "code",
   "execution_count": null,
   "metadata": {},
   "outputs": [],
   "source": []
  },
  {
   "cell_type": "markdown",
   "metadata": {},
   "source": [
    "\n",
    "## 3.\n",
    "\n",
    "This is the trickiest bit\n",
    "- We can first check that the general behaviour is correct, what do we expect for the +1 and -1 ions of a molecule?\n",
    "- Check results against physical limits, for instance if any are below the ground state these need to be explained.\n",
    "- Find published energies of some example ions and compare to these."
   ]
  },
  {
   "cell_type": "code",
   "execution_count": null,
   "metadata": {},
   "outputs": [],
   "source": []
  }
 ],
 "metadata": {
  "kernelspec": {
   "display_name": "Python 3.8.10 ('nbed-T5bcl2YH-py3.8')",
   "language": "python",
   "name": "python3"
  },
  "language_info": {
   "codemirror_mode": {
    "name": "ipython",
    "version": 3
   },
   "file_extension": ".py",
   "mimetype": "text/x-python",
   "name": "python",
   "nbconvert_exporter": "python",
   "pygments_lexer": "ipython3",
   "version": "3.8.10"
  },
  "orig_nbformat": 4,
  "vscode": {
   "interpreter": {
    "hash": "265e836fea1d3f8479d91a6507322b63cd366a23b5027f69b05ce92fc1864b0e"
   }
  }
 },
 "nbformat": 4,
 "nbformat_minor": 2
}
