{
 "cells": [
  {
   "cell_type": "markdown",
   "metadata": {},
   "source": [
    "# Open Shell Code tests\n",
    "\n",
    "\n",
    "Broadly, there are three things we need to do make sure of before we can include the open shell code into the main repo.\n",
    "1. Closed shell code is not affected in any way by the implementation of open shell.\n",
    "2. Open shell code replicates closed shell results accurately.\n",
    "3. Open shell results are accurate."
   ]
  },
  {
   "cell_type": "markdown",
   "metadata": {},
   "source": []
  },
  {
   "cell_type": "markdown",
   "metadata": {},
   "source": []
  },
  {
   "cell_type": "markdown",
   "metadata": {},
   "source": []
  },
  {
   "cell_type": "markdown",
   "metadata": {},
   "source": [
    "## 1.\n",
    "\n",
    "We can check this using the existing tests for closed shell code."
   ]
  },
  {
   "cell_type": "markdown",
   "metadata": {},
   "source": [
    "## 2.\n",
    "\n",
    "Overall\n",
    "- Run closed shell experiemnts with both open and closed shell methods.\n",
    "- Hamiltonians are numerically close\n",
    "\n",
    "Localizers\n",
    "- Active MOs should be consistent across un/restricted for closed shells.\n",
    "- "
   ]
  },
  {
   "cell_type": "code",
   "execution_count": 1,
   "metadata": {},
   "outputs": [
    {
     "name": "stderr",
     "output_type": "stream",
     "text": [
      "/home/mwilliams/anaconda3/envs/nbed/lib/python3.8/site-packages/pyscf/lib/misc.py:46: H5pyDeprecationWarning: Using default_file_mode other than 'r' is deprecated. Pass the mode to h5py.File() instead.\n",
      "  h5py.get_config().default_file_mode = 'a'\n",
      "/home/mwilliams/anaconda3/envs/nbed/lib/python3.8/site-packages/_distutils_hack/__init__.py:30: UserWarning: Setuptools is replacing distutils.\n",
      "  warnings.warn(\"Setuptools is replacing distutils.\")\n"
     ]
    }
   ],
   "source": [
    "from nbed.driver import NbedDriver\n",
    "from pathlib import Path\n",
    "\n",
    "mol_filepath = Path(\"molecules/water.xyz\").absolute()\n",
    "\n",
    "args = {\n",
    "    \"geometry\": str(mol_filepath),\n",
    "    \"n_active_atoms\": 1,\n",
    "    \"basis\": \"STO-3G\",\n",
    "    \"xc_functional\": \"b3lyp\",\n",
    "    \"projector\": \"mu\",\n",
    "    \"localization\": \"spade\",\n",
    "    \"convergence\": 1e-8,\n",
    "    \"savefile\": None,\n",
    "    \"run_ccsd_emb\": False,\n",
    "    \"run_fci_emb\": False,\n",
    "}\n",
    "\n",
    "restric_driver = NbedDriver(\n",
    "    geometry=args[\"geometry\"],\n",
    "    n_active_atoms=args[\"n_active_atoms\"],\n",
    "    basis=args[\"basis\"],\n",
    "    xc_functional=args[\"xc_functional\"],\n",
    "    projector=args[\"projector\"],\n",
    "    localization=args[\"localization\"],\n",
    "    convergence=args[\"convergence\"],\n",
    "    savefile=args[\"savefile\"],\n",
    "    run_ccsd_emb=args[\"run_ccsd_emb\"],\n",
    "    run_fci_emb=args[\"run_fci_emb\"],\n",
    "    force_unrestricted=False,\n",
    ")\n",
    "\n",
    "unrestric_driver = NbedDriver(\n",
    "    geometry=args[\"geometry\"],\n",
    "    n_active_atoms=args[\"n_active_atoms\"],\n",
    "    basis=args[\"basis\"],\n",
    "    xc_functional=args[\"xc_functional\"],\n",
    "    projector=args[\"projector\"],\n",
    "    localization=args[\"localization\"],\n",
    "    convergence=args[\"convergence\"],\n",
    "    savefile=args[\"savefile\"],\n",
    "    run_ccsd_emb=args[\"run_ccsd_emb\"],\n",
    "    run_fci_emb=args[\"run_fci_emb\"],\n",
    "    force_unrestricted=True,\n",
    ")"
   ]
  },
  {
   "cell_type": "markdown",
   "metadata": {},
   "source": [
    "# q=0 S=0\n",
    "## Full system Hamiltonians should match global FCI energy.\n",
    "\n",
    "Note that we use the energy from the global fci and the Molecular Orbital coefficients from the KS. The fci object does not have the correct structure for us to make a hamiltonian from it but the underlying HF object which both the FCI and KS objects use to construct MOs should give very similar orbitals, such that our two methods of exact solution match."
   ]
  },
  {
   "cell_type": "code",
   "execution_count": 2,
   "metadata": {},
   "outputs": [
    {
     "name": "stdout",
     "output_type": "stream",
     "text": [
      "-84.29484027700336\n",
      "-84.29484027704291\n"
     ]
    }
   ],
   "source": [
    "from nbed.ham_builder import HamiltonianBuilder\n",
    "from openfermion import QubitOperator, get_sparse_operator, count_qubits\n",
    "import scipy as sp\n",
    "\n",
    "# First check restricted\n",
    "# This uses the spinorb_from_spatial function defined by openfermion\n",
    "# Get FCI energy\n",
    "rks = restric_driver._global_fci.e_tot - restric_driver._global_ks.energy_nuc()\n",
    "print(rks)\n",
    "\n",
    "# Get the Hamiltonian and diagonalize it\n",
    "rbuilder = HamiltonianBuilder(restric_driver._global_ks, 0, \"jordan_wigner\")\n",
    "rham = rbuilder.build()\n",
    "rdiag, _ = sp.sparse.linalg.eigsh(get_sparse_operator(rham), k=1, which=\"SA\")\n",
    "print(rdiag[0])\n",
    "# print(rham, rdiag)"
   ]
  },
  {
   "cell_type": "markdown",
   "metadata": {},
   "source": [
    "The driver requires two h_core matrices, one for each spin, but there is only one in the KS object, so we need to double this!"
   ]
  },
  {
   "cell_type": "code",
   "execution_count": 3,
   "metadata": {},
   "outputs": [
    {
     "name": "stdout",
     "output_type": "stream",
     "text": [
      "-84.2948402770033\n",
      "-84.2948402770551\n"
     ]
    }
   ],
   "source": [
    "# Second check unrestricted\n",
    "# FCI energy\n",
    "import numpy as np\n",
    "\n",
    "uks = unrestric_driver._global_fci.e_tot - unrestric_driver._global_ks.energy_nuc()\n",
    "print(uks)\n",
    "\n",
    "# Create hamiltonian and diagonalize\n",
    "old_hcore = unrestric_driver._global_ks.get_hcore()\n",
    "unrestric_driver._global_ks.get_hcore = lambda *args: np.array([old_hcore, old_hcore])\n",
    "\n",
    "ubuilder = HamiltonianBuilder(unrestric_driver._global_ks, 0, \"jordan_wigner\")\n",
    "\n",
    "uham = ubuilder.build()\n",
    "udiag, _ = sp.sparse.linalg.eigsh(get_sparse_operator(uham), k=1, which=\"SA\")\n",
    "print(udiag[0])"
   ]
  },
  {
   "cell_type": "markdown",
   "metadata": {},
   "source": [
    "Now lets check with charge and spin not equal to zero!"
   ]
  },
  {
   "cell_type": "markdown",
   "metadata": {},
   "source": [
    "## Charge = $\\pm1$ and Spin = 1"
   ]
  },
  {
   "cell_type": "code",
   "execution_count": 4,
   "metadata": {},
   "outputs": [
    {
     "name": "stdout",
     "output_type": "stream",
     "text": [
      "-83.97614236525206\n",
      "-84.5711511116487\n",
      "-83.68394377786765\n",
      "-84.29840643100366\n"
     ]
    }
   ],
   "source": [
    "# First lets do one with an electron missing.\n",
    "driver = NbedDriver(\n",
    "    geometry=args[\"geometry\"],\n",
    "    n_active_atoms=args[\"n_active_atoms\"],\n",
    "    basis=args[\"basis\"],\n",
    "    xc_functional=args[\"xc_functional\"],\n",
    "    projector=args[\"projector\"],\n",
    "    localization=args[\"localization\"],\n",
    "    convergence=args[\"convergence\"],\n",
    "    savefile=args[\"savefile\"],\n",
    "    run_ccsd_emb=args[\"run_ccsd_emb\"],\n",
    "    run_fci_emb=args[\"run_fci_emb\"],\n",
    "    force_unrestricted=True,\n",
    "    charge=1,\n",
    "    spin=1,\n",
    ")\n",
    "\n",
    "fci = driver._global_fci.e_tot - driver._global_ks.energy_nuc()\n",
    "print(fci)\n",
    "\n",
    "old_hcore = driver._global_ks.get_hcore()\n",
    "driver._global_ks.get_hcore = lambda *args: np.array([old_hcore, old_hcore])\n",
    "\n",
    "builder = HamiltonianBuilder(driver._global_ks, 0, \"jordan_wigner\")\n",
    "ham = builder.build()\n",
    "diag, _ = sp.sparse.linalg.eigsh(get_sparse_operator(ham), k=1, which=\"SA\")\n",
    "print(diag[0])\n",
    "\n",
    "driver = NbedDriver(\n",
    "    geometry=args[\"geometry\"],\n",
    "    n_active_atoms=args[\"n_active_atoms\"],\n",
    "    basis=args[\"basis\"],\n",
    "    xc_functional=args[\"xc_functional\"],\n",
    "    projector=args[\"projector\"],\n",
    "    localization=args[\"localization\"],\n",
    "    convergence=args[\"convergence\"],\n",
    "    savefile=args[\"savefile\"],\n",
    "    run_ccsd_emb=args[\"run_ccsd_emb\"],\n",
    "    run_fci_emb=args[\"run_fci_emb\"],\n",
    "    force_unrestricted=True,\n",
    "    charge=-1,\n",
    "    spin=1,\n",
    ")\n",
    "\n",
    "fci = driver._global_fci.e_tot - driver._global_ks.energy_nuc()\n",
    "print(fci)\n",
    "\n",
    "old_hcore = driver._global_ks.get_hcore()\n",
    "driver._global_ks.get_hcore = lambda *args: np.array([old_hcore, old_hcore])\n",
    "\n",
    "builder = HamiltonianBuilder(driver._global_ks, 0, \"jordan_wigner\")\n",
    "ham = builder.build()\n",
    "diag, _ = sp.sparse.linalg.eigsh(get_sparse_operator(ham), k=1, which=\"SA\")\n",
    "print(diag[0])"
   ]
  },
  {
   "cell_type": "markdown",
   "metadata": {},
   "source": [
    "### FCI and diagonalisation results match for systems with closed shells and no spin, however the results __don't match for charge and spin $\\ne$ 0__"
   ]
  },
  {
   "cell_type": "markdown",
   "metadata": {},
   "source": [
    "## Charge = $\\pm2$ and spin = 0"
   ]
  },
  {
   "cell_type": "code",
   "execution_count": 5,
   "metadata": {},
   "outputs": [
    {
     "name": "stdout",
     "output_type": "stream",
     "text": [
      "-82.49664870547343\n",
      "-85.67134914280695\n",
      "-83.01046980051932\n",
      "-84.98385690428752\n"
     ]
    }
   ],
   "source": [
    "# Here's another one with an extra electron\n",
    "driver = NbedDriver(\n",
    "    geometry=args[\"geometry\"],\n",
    "    n_active_atoms=args[\"n_active_atoms\"],\n",
    "    basis=args[\"basis\"],\n",
    "    xc_functional=args[\"xc_functional\"],\n",
    "    projector=args[\"projector\"],\n",
    "    localization=args[\"localization\"],\n",
    "    convergence=args[\"convergence\"],\n",
    "    savefile=args[\"savefile\"],\n",
    "    run_ccsd_emb=args[\"run_ccsd_emb\"],\n",
    "    run_fci_emb=args[\"run_fci_emb\"],\n",
    "    force_unrestricted=True,\n",
    "    charge=-2,\n",
    "    spin=0,\n",
    ")\n",
    "\n",
    "fci = driver._global_fci.e_tot - driver._global_ks.energy_nuc()\n",
    "print(fci)\n",
    "\n",
    "old_hcore = driver._global_ks.get_hcore()\n",
    "driver._global_ks.get_hcore = lambda *args: np.array([old_hcore, old_hcore])\n",
    "\n",
    "builder = HamiltonianBuilder(driver._global_ks, 0, \"jordan_wigner\")\n",
    "ham = builder.build()\n",
    "diag, _ = sp.sparse.linalg.eigsh(get_sparse_operator(ham), k=1, which=\"SA\")\n",
    "print(diag[0])\n",
    "\n",
    "# Here's another one with an extra electron\n",
    "driver = NbedDriver(\n",
    "    geometry=args[\"geometry\"],\n",
    "    n_active_atoms=args[\"n_active_atoms\"],\n",
    "    basis=args[\"basis\"],\n",
    "    xc_functional=args[\"xc_functional\"],\n",
    "    projector=args[\"projector\"],\n",
    "    localization=args[\"localization\"],\n",
    "    convergence=args[\"convergence\"],\n",
    "    savefile=args[\"savefile\"],\n",
    "    run_ccsd_emb=args[\"run_ccsd_emb\"],\n",
    "    run_fci_emb=args[\"run_fci_emb\"],\n",
    "    force_unrestricted=True,\n",
    "    charge=2,\n",
    "    spin=0,\n",
    ")\n",
    "\n",
    "fci = driver._global_fci.e_tot - driver._global_ks.energy_nuc()\n",
    "print(fci)\n",
    "\n",
    "old_hcore = driver._global_ks.get_hcore()\n",
    "driver._global_ks.get_hcore = lambda *args: np.array([old_hcore, old_hcore])\n",
    "\n",
    "builder = HamiltonianBuilder(driver._global_ks, 0, \"jordan_wigner\")\n",
    "ham = builder.build()\n",
    "diag, _ = sp.sparse.linalg.eigsh(get_sparse_operator(ham), k=1, which=\"SA\")\n",
    "print(diag[0])"
   ]
  },
  {
   "cell_type": "markdown",
   "metadata": {},
   "source": [
    "From the above result we can see that the addition of a non-zero spin results in a significant increase (1E-4) in system energy according to our code, whereas the FCI result gives only 3E-11 change."
   ]
  },
  {
   "cell_type": "markdown",
   "metadata": {},
   "source": [
    "## First lets fix for q=2, S=0 so that only one factor has to be accounted for."
   ]
  },
  {
   "cell_type": "markdown",
   "metadata": {},
   "source": [
    "One body is straightforward, so let's check the two body.\n",
    "\n",
    "$$\\mathbb{1^{\\sigma}_{pq}} = \\bra{p}h_{pq}\\ket{q}$$\n",
    "\n",
    "$$\\mathbb{2^{\\sigma}_{pqrs}} = $$"
   ]
  },
  {
   "cell_type": "code",
   "execution_count": 6,
   "metadata": {},
   "outputs": [],
   "source": [
    "from pyscf import ao2mo, scf, dft\n",
    "\n",
    "\n",
    "def _two_body_integrals(c_matrix_active, scf_method) -> np.ndarray:\n",
    "    \"\"\"Get the two electron integrals.\"\"\"\n",
    "\n",
    "    if isinstance(scf_method, (scf.uhf.UHF, dft.uks.UKS)):\n",
    "        n_orbs_alpha = c_matrix_active[0].shape[1]\n",
    "        n_orbs_beta = c_matrix_active[1].shape[1]\n",
    "\n",
    "        two_body_compressed_alpha = ao2mo.kernel(scf_method.mol, c_matrix_active[0])\n",
    "        two_body_compressed_beta = ao2mo.kernel(scf_method.mol, c_matrix_active[1])\n",
    "\n",
    "        # get electron repulsion integrals\n",
    "        eri_alpha = ao2mo.restore(\n",
    "            1, two_body_compressed_alpha, n_orbs_alpha\n",
    "        )  # no permutation symmetry\n",
    "        eri_beta = ao2mo.restore(1, two_body_compressed_beta, n_orbs_beta)\n",
    "\n",
    "        # Openfermion uses physicist notation whereas pyscf uses chemists\n",
    "        two_body_integrals_alpha = np.asarray(\n",
    "            eri_alpha.transpose(0, 2, 3, 1), order=\"C\"\n",
    "        )\n",
    "        two_body_integrals_beta = np.asarray(eri_beta.transpose(0, 2, 3, 1), order=\"C\")\n",
    "\n",
    "        two_body_integrals = np.array(\n",
    "            [two_body_integrals_alpha, two_body_integrals_beta]\n",
    "        )\n",
    "\n",
    "    else:\n",
    "        n_orbs = c_matrix_active.shape[1]\n",
    "\n",
    "        two_body_compressed = ao2mo.kernel(scf_method.mol, c_matrix_active)\n",
    "\n",
    "        # get electron repulsion integrals\n",
    "        eri = ao2mo.restore(1, two_body_compressed, n_orbs)  # no permutation symmetry\n",
    "\n",
    "        # Openfermion uses physicist notation whereas pyscf uses chemists\n",
    "        two_body_integrals = np.asarray(eri.transpose(0, 2, 3, 1), order=\"C\")\n",
    "\n",
    "    return two_body_integrals"
   ]
  },
  {
   "cell_type": "markdown",
   "metadata": {},
   "source": [
    "# Plan\n",
    "- [] Recreate the correct results for [q=0 S=0](#q0-s0) explicitly\n",
    "- [] Show extend to charge =2 and spin = 0"
   ]
  },
  {
   "cell_type": "code",
   "execution_count": 7,
   "metadata": {},
   "outputs": [],
   "source": [
    "new_coeffs = np.array(\n",
    "    [unrestric_driver._global_ks.mo_coeff[0], unrestric_driver._global_ks.mo_coeff[1]]\n",
    ")"
   ]
  },
  {
   "cell_type": "code",
   "execution_count": 8,
   "metadata": {},
   "outputs": [
    {
     "name": "stdout",
     "output_type": "stream",
     "text": [
      "n_orbs_alpha=7 n_orbs_beta=7\n"
     ]
    }
   ],
   "source": [
    "from pyscf import ao2mo\n",
    "\n",
    "n_orbs_alpha = new_coeffs[0].shape[1]\n",
    "n_orbs_beta = new_coeffs[1].shape[1]\n",
    "print(f\"{n_orbs_alpha=} {n_orbs_beta=}\")\n",
    "\n",
    "one_body_alpha = (\n",
    "    new_coeffs[0].T @ unrestric_driver._global_ks.get_hcore()[0] @ new_coeffs[0]\n",
    ")\n",
    "one_body_beta = (\n",
    "    new_coeffs[1].T @ unrestric_driver._global_ks.get_hcore()[1] @ new_coeffs[1]\n",
    ")\n",
    "\n",
    "# Whats the correct thing to do when n_orbs_alpha != n_orbs_beta?\n",
    "# It will be possible, especially for spade if the gradient does not change quickly\n",
    "eri_aaaa = ao2mo.restore(\n",
    "    1,\n",
    "    ao2mo.kernel(\n",
    "        unrestric_driver._global_ks.mol,\n",
    "        (new_coeffs[0], new_coeffs[0], new_coeffs[0], new_coeffs[0]),\n",
    "    ),\n",
    "    n_orbs_alpha,\n",
    ")\n",
    "eri_bbbb = ao2mo.restore(\n",
    "    1,\n",
    "    ao2mo.kernel(\n",
    "        unrestric_driver._global_ks.mol,\n",
    "        (new_coeffs[1], new_coeffs[1], new_coeffs[1], new_coeffs[1]),\n",
    "    ),\n",
    "    n_orbs_beta,\n",
    ")\n",
    "eri_abba = ao2mo.restore(\n",
    "    1,\n",
    "    ao2mo.kernel(\n",
    "        unrestric_driver._global_ks.mol,\n",
    "        (new_coeffs[0], new_coeffs[1], new_coeffs[1], new_coeffs[0]),\n",
    "    ),\n",
    "    n_orbs_alpha,\n",
    ")\n",
    "eri_baab = ao2mo.restore(\n",
    "    1,\n",
    "    ao2mo.kernel(\n",
    "        unrestric_driver._global_ks.mol,\n",
    "        (new_coeffs[1], new_coeffs[0], new_coeffs[0], new_coeffs[1]),\n",
    "    ),\n",
    "    n_orbs_beta,\n",
    ")\n",
    "eri_abab = ao2mo.restore(\n",
    "    1,\n",
    "    ao2mo.kernel(\n",
    "        unrestric_driver._global_ks.mol,\n",
    "        (new_coeffs[0], new_coeffs[1], new_coeffs[0], new_coeffs[1]),\n",
    "    ),\n",
    "    n_orbs_alpha,\n",
    ")\n",
    "eri_baba = ao2mo.restore(\n",
    "    1,\n",
    "    ao2mo.kernel(\n",
    "        unrestric_driver._global_ks.mol,\n",
    "        (new_coeffs[1], new_coeffs[0], new_coeffs[1], new_coeffs[0]),\n",
    "    ),\n",
    "    n_orbs_beta,\n",
    ")\n",
    "\n",
    "eri_aaaa = np.einsum(\"ijkl -> iklj\", eri_aaaa)\n",
    "eri_bbbb = np.einsum(\"ijkl -> iklj\", eri_bbbb)\n",
    "eri_abba = np.einsum(\"ijkl -> iklj\", eri_abba)\n",
    "eri_baab = np.einsum(\"ijkl -> iklj\", eri_baab)\n",
    "eri_abab = np.einsum(\"ijkl -> iklj\", eri_abab)\n",
    "eri_baba = np.einsum(\"ijkl -> iklj\", eri_baba)\n",
    "\n",
    "\n",
    "# eri_aaaa = np.asarray(\n",
    "#                 eri_aaaa.transpose(0, 2, 3, 1), order=\"C\"\n",
    "#             )\n",
    "# eri_bbbb = np.asarray(\n",
    "#                 eri_bbbb.transpose(0, 2, 3, 1), order=\"C\"\n",
    "#             )\n",
    "# eri_abba = np.asarray(\n",
    "#                 eri_abba.transpose(0, 2, 3, 1), order=\"C\"\n",
    "#             )\n",
    "# eri_baab = np.asarray(\n",
    "#                 eri_baab.transpose(0, 2, 3, 1), order=\"C\"\n",
    "#             )\n",
    "# eri_abab = np.asarray(\n",
    "#                 eri_abab.transpose(0, 2, 3, 1), order=\"C\"\n",
    "#             )\n",
    "# eri_baba = np.asarray(\n",
    "#                 eri_baba.transpose(0, 2, 3, 1), order=\"C\"\n",
    "#             )"
   ]
  },
  {
   "cell_type": "code",
   "execution_count": 9,
   "metadata": {},
   "outputs": [],
   "source": [
    "eri_alpha = ao2mo.restore(\n",
    "    1, ao2mo.kernel(unrestric_driver._global_ks.mol, new_coeffs[0]), n_orbs_alpha\n",
    ")\n",
    "eri_beta = ao2mo.restore(\n",
    "    1, ao2mo.kernel(unrestric_driver._global_ks.mol, new_coeffs[1]), n_orbs_beta\n",
    ")\n",
    "eri_alpha = np.asarray(eri_alpha.transpose(0, 2, 3, 1), order=\"C\")\n",
    "eri_beta = np.asarray(eri_beta.transpose(0, 2, 3, 1), order=\"C\")"
   ]
  },
  {
   "cell_type": "markdown",
   "metadata": {},
   "source": [
    "The one and two body integrals between nbed code and explicit should match"
   ]
  },
  {
   "cell_type": "code",
   "execution_count": 10,
   "metadata": {},
   "outputs": [
    {
     "data": {
      "text/plain": [
       "(True, True, True, True, True, True)"
      ]
     },
     "execution_count": 10,
     "metadata": {},
     "output_type": "execute_result"
    }
   ],
   "source": [
    "(\n",
    "    np.allclose(ubuilder._one_body_integrals[0], one_body_alpha),\n",
    "    np.allclose(ubuilder._two_body_integrals[0], eri_alpha),\n",
    "    np.allclose(ubuilder._one_body_integrals[1], one_body_beta),\n",
    "    np.allclose(ubuilder._two_body_integrals[1], eri_beta),\n",
    "    np.allclose(eri_aaaa, eri_alpha),\n",
    "    np.allclose(eri_bbbb, eri_beta),\n",
    ")"
   ]
  },
  {
   "cell_type": "markdown",
   "metadata": {},
   "source": [
    "This code replicates the results of the closed shell code correctly\n",
    "\n",
    "For molecular orbitals $p,q,r,s$, there are 16 coefficients corresponding to spins. Thankfully only 4 of them are non-zero:\n",
    "$\\braket{p_\\alpha q_\\beta|r_\\gamma s_\\delta} \\ne 0$ only when $\\alpha =\\delta$ and $\\beta = \\gamma$"
   ]
  },
  {
   "cell_type": "code",
   "execution_count": 11,
   "metadata": {},
   "outputs": [],
   "source": [
    "from openfermion.config import EQ_TOLERANCE\n",
    "\n",
    "n_spin_orbs = n_orbs_alpha + n_orbs_beta\n",
    "eri_mo_basis = np.zeros((n_spin_orbs, n_spin_orbs, n_spin_orbs, n_spin_orbs))\n",
    "one_body_tensor = np.zeros((n_spin_orbs, n_spin_orbs))\n",
    "for p in range(n_orbs_alpha):\n",
    "    for q in range(n_orbs_alpha):\n",
    "        # up,up\n",
    "        one_body_tensor[2 * p, 2 * q] = one_body_alpha[p, q]\n",
    "\n",
    "        # down,down\n",
    "        one_body_tensor[2 * p + 1, 2 * q + 1] = one_body_beta[p, q]\n",
    "\n",
    "        for r in range(n_orbs_alpha):\n",
    "            for s in range(n_orbs_alpha):\n",
    "                # pg 82 Szabo\n",
    "                #  up down up down (physics notation)\n",
    "                eri_mo_basis[2 * p, 2 * q + 1, 2 * r, 2 * s + 1] = eri_abab[p, q, r, s]\n",
    "                # down up down up  (physics notation)\n",
    "                eri_mo_basis[2 * p + 1, 2 * q, 2 * r + 1, 2 * s] = eri_baba[p, q, r, s]\n",
    "\n",
    "                # up,up,up,up\n",
    "                eri_mo_basis[2 * p, 2 * q, 2 * r, 2 * s] = eri_aaaa[p, q, r, s]\n",
    "                # down,down, down, down\n",
    "                eri_mo_basis[2 * p + 1, 2 * q + 1, 2 * r + 1, 2 * s + 1] = eri_bbbb[\n",
    "                    p, q, r, s\n",
    "                ]\n",
    "\n",
    "one_body_tensor[np.absolute(one_body_tensor) < EQ_TOLERANCE] = 0.0\n",
    "eri_mo_basis[np.absolute(eri_mo_basis) < EQ_TOLERANCE] = 0.0"
   ]
  },
  {
   "cell_type": "code",
   "execution_count": 12,
   "metadata": {},
   "outputs": [
    {
     "name": "stdout",
     "output_type": "stream",
     "text": [
      "[-122.60810052]\n"
     ]
    }
   ],
   "source": [
    "from openfermion import InteractionOperator\n",
    "\n",
    "fermionic_ham = InteractionOperator(0, one_body_tensor, 0.5 * eri_mo_basis)\n",
    "explicit_ham = ubuilder._qubit_transform(\"jordan_wigner\", fermionic_ham)\n",
    "len(explicit_ham.terms), len(uham.terms)\n",
    "diag, _ = sp.sparse.linalg.eigsh(get_sparse_operator(explicit_ham), k=1, which=\"SA\")\n",
    "print(diag)"
   ]
  },
  {
   "cell_type": "code",
   "execution_count": 13,
   "metadata": {},
   "outputs": [],
   "source": [
    "one_e, two_e = ubuilder._unrestricted_spinorb_from_spatial(\n",
    "    np.array([one_body_alpha, one_body_beta]), np.array([eri_aaaa, eri_bbbb])\n",
    ")"
   ]
  },
  {
   "cell_type": "code",
   "execution_count": 126,
   "metadata": {},
   "outputs": [
    {
     "data": {
      "text/plain": [
       "((14, 14, 14, 14), (14, 14, 14, 14))"
      ]
     },
     "execution_count": 126,
     "metadata": {},
     "output_type": "execute_result"
    }
   ],
   "source": [
    "np.allclose(one_e, one_body_tensor), np.allclose(two_e, eri_mo_basis)"
   ]
  },
  {
   "cell_type": "code",
   "execution_count": null,
   "metadata": {},
   "outputs": [],
   "source": [
    "from openfermion.chem.molecular_data import spinorb_from_spatial"
   ]
  },
  {
   "cell_type": "markdown",
   "metadata": {},
   "source": []
  },
  {
   "cell_type": "markdown",
   "metadata": {},
   "source": [
    "\n",
    "## 3.\n",
    "\n",
    "This is the trickiest bit\n",
    "- We can first check that the general behaviour is correct, what do we expect for the +1 and -1 ions of a molecule?\n",
    "- Check results against physical limits, for instance if any are below the ground state these need to be explained.\n",
    "- Find published energies of some example ions and compare to these."
   ]
  },
  {
   "cell_type": "code",
   "execution_count": null,
   "metadata": {},
   "outputs": [],
   "source": []
  }
 ],
 "metadata": {
  "kernelspec": {
   "display_name": "nbed",
   "language": "python",
   "name": "python3"
  },
  "language_info": {
   "codemirror_mode": {
    "name": "ipython",
    "version": 3
   },
   "file_extension": ".py",
   "mimetype": "text/x-python",
   "name": "python",
   "nbconvert_exporter": "python",
   "pygments_lexer": "ipython3",
   "version": "3.8.12"
  },
  "orig_nbformat": 4,
  "vscode": {
   "interpreter": {
    "hash": "fe514aa320be100644bbd958a3f38aa9f15de9075cf36cc4d239ea0f19dcd868"
   }
  }
 },
 "nbformat": 4,
 "nbformat_minor": 2
}
