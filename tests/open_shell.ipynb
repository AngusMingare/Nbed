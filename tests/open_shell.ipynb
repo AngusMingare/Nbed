{
 "cells": [
  {
   "cell_type": "markdown",
   "metadata": {},
   "source": [
    "# Open Shell Code tests\n",
    "\n",
    "\n",
    "Broadly, there are three things we need to do make sure of before we can include the open shell code into the main repo.\n",
    "1. Closed shell code is not affected in any way by the implementation of open shell.\n",
    "2. Open shell code replicates closed shell results accurately.\n",
    "3. Open shell results are accurate."
   ]
  },
  {
   "cell_type": "markdown",
   "metadata": {},
   "source": []
  },
  {
   "cell_type": "markdown",
   "metadata": {},
   "source": []
  },
  {
   "cell_type": "markdown",
   "metadata": {},
   "source": []
  },
  {
   "cell_type": "markdown",
   "metadata": {},
   "source": [
    "## 1.\n",
    "\n",
    "We can check this using the existing tests for closed shell code."
   ]
  },
  {
   "cell_type": "markdown",
   "metadata": {},
   "source": [
    "## 2.\n",
    "\n",
    "Overall\n",
    "- Run closed shell experiemnts with both open and closed shell methods.\n",
    "- Hamiltonians are numerically close\n",
    "\n",
    "Localizers\n",
    "- Active MOs should be consistent across un/restricted for closed shells.\n",
    "- "
   ]
  },
  {
   "cell_type": "code",
   "execution_count": 1,
   "metadata": {},
   "outputs": [
    {
     "name": "stderr",
     "output_type": "stream",
     "text": [
      "/home/mwilliams/.cache/pypoetry/virtualenvs/nbed-T5bcl2YH-py3.8/lib/python3.8/site-packages/pyscf/lib/misc.py:46: H5pyDeprecationWarning: Using default_file_mode other than 'r' is deprecated. Pass the mode to h5py.File() instead.\n",
      "  h5py.get_config().default_file_mode = 'a'\n",
      "/home/mwilliams/.cache/pypoetry/virtualenvs/nbed-T5bcl2YH-py3.8/lib/python3.8/site-packages/_distutils_hack/__init__.py:30: UserWarning: Setuptools is replacing distutils.\n",
      "  warnings.warn(\"Setuptools is replacing distutils.\")\n"
     ]
    }
   ],
   "source": [
    "from nbed.driver import NbedDriver\n",
    "from pathlib import Path\n",
    "\n",
    "mol_filepath = Path(\"molecules/water.xyz\").absolute()\n",
    "\n",
    "args = {\n",
    "    \"geometry\": str(mol_filepath),\n",
    "    \"n_active_atoms\": 1,\n",
    "    \"basis\": \"STO-3G\",\n",
    "    \"xc_functional\": \"b3lyp\",\n",
    "    \"projector\": \"mu\",\n",
    "    \"localization\": \"spade\",\n",
    "    \"convergence\": 1e-8,\n",
    "    \"savefile\": None,\n",
    "    \"run_ccsd_emb\": False,\n",
    "    \"run_fci_emb\": False,\n",
    "}\n",
    "\n",
    "restric_driver = NbedDriver(\n",
    "    geometry=args[\"geometry\"],\n",
    "    n_active_atoms=args[\"n_active_atoms\"],\n",
    "    basis=args[\"basis\"],\n",
    "    xc_functional=args[\"xc_functional\"],\n",
    "    projector=args[\"projector\"],\n",
    "    localization=args[\"localization\"],\n",
    "    convergence=args[\"convergence\"],\n",
    "    savefile=args[\"savefile\"],\n",
    "    run_ccsd_emb=args[\"run_ccsd_emb\"],\n",
    "    run_fci_emb=args[\"run_fci_emb\"],\n",
    "    force_unrestricted=False,\n",
    ")\n",
    "\n",
    "unrestric_driver = NbedDriver(\n",
    "    geometry=args[\"geometry\"],\n",
    "    n_active_atoms=args[\"n_active_atoms\"],\n",
    "    basis=args[\"basis\"],\n",
    "    xc_functional=args[\"xc_functional\"],\n",
    "    projector=args[\"projector\"],\n",
    "    localization=args[\"localization\"],\n",
    "    convergence=args[\"convergence\"],\n",
    "    savefile=args[\"savefile\"],\n",
    "    run_ccsd_emb=args[\"run_ccsd_emb\"],\n",
    "    run_fci_emb=args[\"run_fci_emb\"],\n",
    "    force_unrestricted=True,\n",
    ")\n",
    "\n"
   ]
  },
  {
   "cell_type": "markdown",
   "metadata": {},
   "source": [
    "## Full system Hamiltonians should match global FCI energy.\n",
    "\n",
    "Note that we use the energy from the global fci and the Molecular Orbital coefficients from the KS. The fci object does not have the correct structure for us to make a hamiltonian from it but the underlying HF object which both the FCI and KS objects use to construct MOs should give very similar orbitals, such that our two methods of exact solution match."
   ]
  },
  {
   "cell_type": "code",
   "execution_count": 2,
   "metadata": {},
   "outputs": [
    {
     "name": "stdout",
     "output_type": "stream",
     "text": [
      "-84.29484027700339\n",
      "-84.2948402770431\n"
     ]
    }
   ],
   "source": [
    "from nbed.ham_builder import HamiltonianBuilder\n",
    "from openfermion import QubitOperator, get_sparse_operator, count_qubits\n",
    "import scipy as sp\n",
    "\n",
    "# First check restricted\n",
    "# This uses the spinorb_from_spatial function defined by openfermion\n",
    "rks = restric_driver._global_fci.e_tot - restric_driver._global_ks.energy_nuc()\n",
    "print(rks)\n",
    "rbuilder = HamiltonianBuilder(restric_driver._global_ks, 0, \"jordan_wigner\")\n",
    "rham = rbuilder.build()\n",
    "rdiag, _ = sp.sparse.linalg.eigsh(get_sparse_operator(rham), k=1, which=\"SA\")\n",
    "print(rdiag[0])\n",
    "# print(rham, rdiag)"
   ]
  },
  {
   "cell_type": "markdown",
   "metadata": {},
   "source": [
    "The driver requires two h_core matrices, one for each spin, but there is only one in the KS object, so we need to double this!"
   ]
  },
  {
   "cell_type": "code",
   "execution_count": 3,
   "metadata": {},
   "outputs": [
    {
     "name": "stdout",
     "output_type": "stream",
     "text": [
      "-84.29484027700333\n",
      "-84.29484027705551\n"
     ]
    }
   ],
   "source": [
    "# Sectond check unrestricted\n",
    "import numpy as np\n",
    "uks = unrestric_driver._global_fci.e_tot - unrestric_driver._global_ks.energy_nuc()\n",
    "print(uks)\n",
    "\n",
    "old_hcore = unrestric_driver._global_ks.get_hcore()\n",
    "unrestric_driver._global_ks.get_hcore = lambda *args: np.array([old_hcore, old_hcore])\n",
    "\n",
    "ubuilder = HamiltonianBuilder(unrestric_driver._global_ks, 0, \"jordan_wigner\")\n",
    "u_one_body = ubuilder._one_body_integrals\n",
    "\n",
    "uham = ubuilder.build()\n",
    "udiag, _ = sp.sparse.linalg.eigsh(get_sparse_operator(uham), k=1, which=\"SA\")\n",
    "print(udiag[0])"
   ]
  },
  {
   "cell_type": "markdown",
   "metadata": {},
   "source": [
    "Now lets check with charge and spin not equal to zero!"
   ]
  },
  {
   "cell_type": "code",
   "execution_count": 5,
   "metadata": {},
   "outputs": [
    {
     "name": "stdout",
     "output_type": "stream",
     "text": [
      "-83.97614236525206\n",
      "-84.57115111164894\n"
     ]
    }
   ],
   "source": [
    "driver = NbedDriver(\n",
    "    geometry=args[\"geometry\"],\n",
    "    n_active_atoms=args[\"n_active_atoms\"],\n",
    "    basis=args[\"basis\"],\n",
    "    xc_functional=args[\"xc_functional\"],\n",
    "    projector=args[\"projector\"],\n",
    "    localization=args[\"localization\"],\n",
    "    convergence=args[\"convergence\"],\n",
    "    savefile=args[\"savefile\"],\n",
    "    run_ccsd_emb=args[\"run_ccsd_emb\"],\n",
    "    run_fci_emb=args[\"run_fci_emb\"],\n",
    "    force_unrestricted=True,\n",
    "    charge=1,\n",
    "    spin=1,\n",
    ")\n",
    "\n",
    "ks = driver._global_fci.e_tot - driver._global_ks.energy_nuc()\n",
    "print(ks)\n",
    "\n",
    "old_hcore = driver._global_ks.get_hcore()\n",
    "driver._global_ks.get_hcore = lambda *args: np.array([old_hcore, old_hcore])\n",
    "\n",
    "builder = HamiltonianBuilder(driver._global_ks, 0, \"jordan_wigner\")\n",
    "ham = builder.build()\n",
    "diag, _ = sp.sparse.linalg.eigsh(get_sparse_operator(ham), k=1, which=\"SA\")\n",
    "print(diag[0])"
   ]
  },
  {
   "cell_type": "code",
   "execution_count": null,
   "metadata": {},
   "outputs": [],
   "source": [
    "def _unrestricted_spinorb_from_spatial(one_body_integrals, two_body_integrals):\n",
    "    n_qubits = one_body_integrals[0].shape[0] * 2\n",
    "    \n",
    "    # Initialize Hamiltonian coefficients.\n",
    "    one_body_coefficients = np.zeros((n_qubits, n_qubits))\n",
    "    two_body_coefficients = np.zeros((n_qubits, n_qubits, n_qubits, n_qubits))\n",
    "\n",
    "    # Loop through integrals.\n",
    "    for p in range(n_p):\n",
    "        for q in range(n_q):\n",
    "\n",
    "            # Populate 1-body coefficients. Require p and q have same spin.\n",
    "            one_body_coefficients[2 * p, 2 * q] = one_body_integrals[0, p, q]\n",
    "            # one_body_coefficients[2 * p, 2 * q] = one_body_integrals[1, p, q]\n",
    "\n",
    "            # one_body_coefficients[2 * p + 1, 2 * q + 1] = one_body_integrals[0, p, q]\n",
    "            one_body_coefficients[2 * p + 1, 2 * q + 1] = one_body_integrals[1, p, q]\n",
    "\n",
    "            # Continue looping to prepare 2-body coefficients.\n",
    "            for r in range(n_qubits // 2):\n",
    "                for s in range(n_qubits // 2):\n",
    "\n",
    "                    # Mixed spin\n",
    "                    two_body_coefficients[\n",
    "                        2 * p, \n",
    "                        2 * q + 1, \n",
    "                        2 * r + 1, \n",
    "                        2 * s\n",
    "                    ] = two_body_integrals[0][p, q, r, s]\n",
    "\n",
    "                    two_body_coefficients[\n",
    "                        2 * p + 1, \n",
    "                        2 * q, \n",
    "                        2 * r, \n",
    "                        2 * s + 1\n",
    "                    ] = two_body_integrals[1][p, q, r, s]\n",
    "\n",
    "                    # Same spin\n",
    "                    two_body_coefficients[\n",
    "                        2 * p, \n",
    "                        2 * q, \n",
    "                        2 * r, \n",
    "                        2 * s\n",
    "                    ] = two_body_integrals[0][p, q, r, s]\n",
    "\n",
    "                    two_body_coefficients[\n",
    "                        2 * p + 1, \n",
    "                        2 * q + 1, \n",
    "                        2 * r + 1, \n",
    "                        2 * s + 1\n",
    "                    ] = two_body_integrals[1][p, q, r, s]\n",
    "\n",
    "    # Truncate.\n",
    "    one_body_coefficients[np.absolute(one_body_coefficients) < EQ_TOLERANCE] = 0.0\n",
    "    two_body_coefficients[np.absolute(two_body_coefficients) < EQ_TOLERANCE] = 0.0\n",
    "\n",
    "    return one_body_coefficients, two_body_coefficients"
   ]
  },
  {
   "cell_type": "code",
   "execution_count": 9,
   "metadata": {},
   "outputs": [
    {
     "name": "stdout",
     "output_type": "stream",
     "text": [
      "(2, 7, 7)\n",
      "(2, 7, 7, 7, 7)\n"
     ]
    },
    {
     "ename": "ValueError",
     "evalue": "setting an array element with a sequence.",
     "output_type": "error",
     "traceback": [
      "\u001b[0;31m---------------------------------------------------------------------------\u001b[0m",
      "\u001b[0;31mTypeError\u001b[0m                                 Traceback (most recent call last)",
      "\u001b[0;31mTypeError\u001b[0m: only size-1 arrays can be converted to Python scalars",
      "\nThe above exception was the direct cause of the following exception:\n",
      "\u001b[0;31mValueError\u001b[0m                                Traceback (most recent call last)",
      "\u001b[0;32m/tmp/ipykernel_121613/645909537.py\u001b[0m in \u001b[0;36m<module>\u001b[0;34m\u001b[0m\n\u001b[1;32m      7\u001b[0m \u001b[0mprint\u001b[0m\u001b[0;34m(\u001b[0m\u001b[0mtbi\u001b[0m\u001b[0;34m.\u001b[0m\u001b[0mshape\u001b[0m\u001b[0;34m)\u001b[0m\u001b[0;34m\u001b[0m\u001b[0;34m\u001b[0m\u001b[0m\n\u001b[1;32m      8\u001b[0m \u001b[0;34m\u001b[0m\u001b[0m\n\u001b[0;32m----> 9\u001b[0;31m \u001b[0mspinorb_from_spatial\u001b[0m\u001b[0;34m(\u001b[0m\u001b[0mobi\u001b[0m\u001b[0;34m,\u001b[0m \u001b[0mtbi\u001b[0m\u001b[0;34m)\u001b[0m\u001b[0;34m\u001b[0m\u001b[0;34m\u001b[0m\u001b[0m\n\u001b[0m",
      "\u001b[0;32m~/.cache/pypoetry/virtualenvs/nbed-T5bcl2YH-py3.8/lib/python3.8/site-packages/openfermion/chem/molecular_data.py\u001b[0m in \u001b[0;36mspinorb_from_spatial\u001b[0;34m(one_body_integrals, two_body_integrals)\u001b[0m\n\u001b[1;32m    232\u001b[0m \u001b[0;34m\u001b[0m\u001b[0m\n\u001b[1;32m    233\u001b[0m             \u001b[0;31m# Populate 1-body coefficients. Require p and q have same spin.\u001b[0m\u001b[0;34m\u001b[0m\u001b[0;34m\u001b[0m\u001b[0;34m\u001b[0m\u001b[0m\n\u001b[0;32m--> 234\u001b[0;31m             \u001b[0mone_body_coefficients\u001b[0m\u001b[0;34m[\u001b[0m\u001b[0;36m2\u001b[0m \u001b[0;34m*\u001b[0m \u001b[0mp\u001b[0m\u001b[0;34m,\u001b[0m \u001b[0;36m2\u001b[0m \u001b[0;34m*\u001b[0m \u001b[0mq\u001b[0m\u001b[0;34m]\u001b[0m \u001b[0;34m=\u001b[0m \u001b[0mone_body_integrals\u001b[0m\u001b[0;34m[\u001b[0m\u001b[0mp\u001b[0m\u001b[0;34m,\u001b[0m \u001b[0mq\u001b[0m\u001b[0;34m]\u001b[0m\u001b[0;34m\u001b[0m\u001b[0;34m\u001b[0m\u001b[0m\n\u001b[0m\u001b[1;32m    235\u001b[0m             one_body_coefficients[2 * p + 1, 2 * q +\n\u001b[1;32m    236\u001b[0m                                   1] = one_body_integrals[p, q]\n",
      "\u001b[0;31mValueError\u001b[0m: setting an array element with a sequence."
     ]
    }
   ],
   "source": [
    "from openfermion.chem.molecular_data import spinorb_from_spatial\n",
    "\n",
    "obi = builder._one_body_integrals\n",
    "tbi = builder._two_body_integrals\n",
    "\n",
    "print(obi.shape)\n",
    "print(tbi.shape)\n",
    "\n",
    "spinorb_from_spatial(obi, tbi)"
   ]
  },
  {
   "cell_type": "markdown",
   "metadata": {},
   "source": [
    "### FCI and diagonalisation results match for systems with closed shells and no spin, however the results __don't match for charge and spin = 1__"
   ]
  },
  {
   "cell_type": "markdown",
   "metadata": {},
   "source": [
    "\n",
    "## 3.\n",
    "\n",
    "This is the trickiest bit\n",
    "- We can first check that the general behaviour is correct, what do we expect for the +1 and -1 ions of a molecule?\n",
    "- Check results against physical limits, for instance if any are below the ground state these need to be explained.\n",
    "- Find published energies of some example ions and compare to these."
   ]
  },
  {
   "cell_type": "code",
   "execution_count": null,
   "metadata": {},
   "outputs": [],
   "source": []
  }
 ],
 "metadata": {
  "kernelspec": {
   "display_name": "Python 3.8.10 ('nbed-T5bcl2YH-py3.8')",
   "language": "python",
   "name": "python3"
  },
  "language_info": {
   "codemirror_mode": {
    "name": "ipython",
    "version": 3
   },
   "file_extension": ".py",
   "mimetype": "text/x-python",
   "name": "python",
   "nbconvert_exporter": "python",
   "pygments_lexer": "ipython3",
   "version": "3.8.10"
  },
  "orig_nbformat": 4,
  "vscode": {
   "interpreter": {
    "hash": "265e836fea1d3f8479d91a6507322b63cd366a23b5027f69b05ce92fc1864b0e"
   }
  }
 },
 "nbformat": 4,
 "nbformat_minor": 2
}
